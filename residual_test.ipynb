{
 "cells": [
  {
   "cell_type": "code",
   "execution_count": 1,
   "metadata": {},
   "outputs": [],
   "source": [
    "import numpy as np\n",
    "import matplotlib.pyplot as plt\n",
    "import json\n",
    "import pickle\n",
    "\n",
    "import torch\n",
    "from torch.nn import CrossEntropyLoss, NLLLoss\n",
    "import torch.optim as optim\n",
    "\n",
    "import torchvision\n",
    "import torchvision.transforms as transforms\n",
    "\n",
    "from torchinfo import summary\n",
    "\n",
    "from os.path import exists\n",
    "\n",
    "from util import test_loss, train_NN, inference_time, loadCIFAR10, plot_loss, plot_acc, plot_shifts, ASL_plot_acc, ASL_plot_loss\n",
    "\n",
    "plt.rcParams['figure.dpi'] = 100"
   ]
  },
  {
   "cell_type": "code",
   "execution_count": 2,
   "metadata": {},
   "outputs": [
    {
     "name": "stdout",
     "output_type": "stream",
     "text": [
      "cuda\n"
     ]
    }
   ],
   "source": [
    "if torch.cuda.is_available():\n",
    "    device = 'cuda'\n",
    "else:\n",
    "    device = 'cpu'\n",
    "print(device)"
   ]
  },
  {
   "cell_type": "code",
   "execution_count": 3,
   "metadata": {},
   "outputs": [
    {
     "name": "stdout",
     "output_type": "stream",
     "text": [
      "Files already downloaded and verified\n",
      "Files already downloaded and verified\n"
     ]
    }
   ],
   "source": [
    "batch_size = 100\n",
    "input_shape = (batch_size, 3, 32, 32)\n",
    "num_labels = 10\n",
    "\n",
    "train_dataset, train_dataloader, test_dataset, test_dataloader, classes = loadCIFAR10(batch_size)"
   ]
  },
  {
   "cell_type": "markdown",
   "metadata": {},
   "source": [
    "## ASL VGG"
   ]
  },
  {
   "cell_type": "code",
   "execution_count": 4,
   "metadata": {},
   "outputs": [
    {
     "name": "stdout",
     "output_type": "stream",
     "text": [
      "[{'acc': 82.592, 'lr': 0.05224609375, 'momentum': 0.78564453125, 'p_randomTransform': 0.0107421875}, {'acc': 79.078, 'lr': 0.08947506874612457, 'momentum': 0.5519628906250001, 'p_randomTransform': 0.6442425579588916}, {'acc': 78.9, 'lr': 0.10085937499999999, 'momentum': 0.6542951899242178, 'p_randomTransform': 0.5951562499999999}]\n"
     ]
    }
   ],
   "source": [
    "# mock train_function of Optimizer to load the optimizer\n",
    "train_function = None\n",
    "\n",
    "with open('models/VGG/ASL_VGG_optimizer.pkl', 'rb') as file:\n",
    "    ASL_VGG_optim = pickle.load(file)\n",
    "\n",
    "best_parameters = ASL_VGG_optim.get_best_parameters(3)\n",
    "print(best_parameters)\n",
    "parameters = best_parameters[1]"
   ]
  },
  {
   "cell_type": "code",
   "execution_count": 5,
   "metadata": {},
   "outputs": [
    {
     "data": {
      "text/plain": [
       "==========================================================================================\n",
       "Layer (type:depth-idx)                   Output Shape              Param #\n",
       "==========================================================================================\n",
       "ASL_VGGNet                               [100, 10]                 --\n",
       "├─Sequential: 1-1                        --                        --\n",
       "│    └─Conv2d: 2-1                       [100, 32, 32, 32]         896\n",
       "│    └─ReLU: 2-2                         [100, 32, 32, 32]         --\n",
       "│    └─CSC_block: 2-3                    [100, 32, 32, 32]         --\n",
       "│    │    └─Sequential: 3-1              --                        2,240\n",
       "│    │    └─Identity: 3-2                [100, 32, 32, 32]         --\n",
       "│    └─ReLU: 2-4                         [100, 32, 32, 32]         --\n",
       "│    └─MaxPool2d: 2-5                    [100, 32, 16, 16]         --\n",
       "│    └─Dropout2d: 2-6                    [100, 32, 16, 16]         --\n",
       "│    └─CSC_block: 2-7                    [100, 64, 16, 16]         --\n",
       "│    │    └─Sequential: 3-3              --                        2,240\n",
       "│    │    └─Conv2d: 3-4                  [100, 64, 16, 16]         2,112\n",
       "│    └─ReLU: 2-8                         [100, 64, 16, 16]         --\n",
       "│    └─CSC_block: 2-9                    [100, 64, 16, 16]         --\n",
       "│    │    └─Sequential: 3-5              --                        8,576\n",
       "│    │    └─Identity: 3-6                [100, 64, 16, 16]         --\n",
       "│    └─ReLU: 2-10                        [100, 64, 16, 16]         --\n",
       "│    └─MaxPool2d: 2-11                   [100, 64, 8, 8]           --\n",
       "│    └─Dropout2d: 2-12                   [100, 64, 8, 8]           --\n",
       "│    └─CSC_block: 2-13                   [100, 128, 8, 8]          --\n",
       "│    │    └─Sequential: 3-7              --                        8,576\n",
       "│    │    └─Conv2d: 3-8                  [100, 128, 8, 8]          8,320\n",
       "│    └─ReLU: 2-14                        [100, 128, 8, 8]          --\n",
       "│    └─CSC_block: 2-15                   [100, 128, 8, 8]          --\n",
       "│    │    └─Sequential: 3-9              --                        33,536\n",
       "│    │    └─Identity: 3-10               [100, 128, 8, 8]          --\n",
       "│    └─ReLU: 2-16                        [100, 128, 8, 8]          --\n",
       "│    └─MaxPool2d: 2-17                   [100, 128, 4, 4]          --\n",
       "│    └─Dropout2d: 2-18                   [100, 128, 4, 4]          --\n",
       "│    └─Flatten: 2-19                     [100, 2048]               --\n",
       "│    └─Linear: 2-20                      [100, 128]                262,272\n",
       "│    └─ReLU: 2-21                        [100, 128]                --\n",
       "│    └─Dropout: 2-22                     [100, 128]                --\n",
       "│    └─Linear: 2-23                      [100, 10]                 1,290\n",
       "==========================================================================================\n",
       "Total params: 330,058\n",
       "Trainable params: 330,058\n",
       "Non-trainable params: 0\n",
       "Total mult-adds (M): 973.42\n",
       "==========================================================================================\n",
       "Input size (MB): 1.23\n",
       "Forward/backward pass size (MB): 268.81\n",
       "Params size (MB): 1.32\n",
       "Estimated Total Size (MB): 271.36\n",
       "=========================================================================================="
      ]
     },
     "execution_count": 5,
     "metadata": {},
     "output_type": "execute_result"
    }
   ],
   "source": [
    "from Models import ASL_VGGNet\n",
    "\n",
    "ASL_VGGNN = ASL_VGGNet(input_shape, num_labels, initial_lr=parameters[\"lr\"], momentum=parameters[\"momentum\"], weight_decay=0, device=device, p_drop=0.2, expansion_rate=1)\n",
    "\n",
    "summary(ASL_VGGNN, input_shape)"
   ]
  },
  {
   "cell_type": "code",
   "execution_count": 10,
   "metadata": {},
   "outputs": [],
   "source": [
    "PATH = \"models/VGG/ASL_VGGNet.pth\"\n",
    "\n",
    "if exists(PATH):\n",
    "    ASL_VGGNN = torch.load(PATH)\n",
    "    ASL_VGGNN.eval()"
   ]
  },
  {
   "cell_type": "code",
   "execution_count": 6,
   "metadata": {},
   "outputs": [
    {
     "name": "stdout",
     "output_type": "stream",
     "text": [
      "[1,   100] train_loss: 2.031\n",
      "test_loss: 1.742, test_accuracy: 34.33\n",
      "[1,   200] train_loss: 1.760\n",
      "test_loss: 1.609, test_accuracy: 38.84\n",
      "[1,   300] train_loss: 1.672\n",
      "test_loss: 1.578, test_accuracy: 40.73\n",
      "[1,   400] train_loss: 1.601\n",
      "test_loss: 1.479, test_accuracy: 45.06\n",
      "[1,   500] train_loss: 1.566\n",
      "test_loss: 1.437, test_accuracy: 46.52\n",
      "[2,   100] train_loss: 1.506\n",
      "test_loss: 1.424, test_accuracy: 47.71\n",
      "[2,   200] train_loss: 1.508\n",
      "test_loss: 1.389, test_accuracy: 49.55\n",
      "[2,   300] train_loss: 1.443\n",
      "test_loss: 1.286, test_accuracy: 52.77\n",
      "[2,   400] train_loss: 1.431\n",
      "test_loss: 1.255, test_accuracy: 53.94\n",
      "[2,   500] train_loss: 1.407\n",
      "test_loss: 1.237, test_accuracy: 55.31\n",
      "[3,   100] train_loss: 1.363\n",
      "test_loss: 1.205, test_accuracy: 55.92\n",
      "[3,   200] train_loss: 1.340\n",
      "test_loss: 1.245, test_accuracy: 55.14\n",
      "[3,   300] train_loss: 1.328\n",
      "test_loss: 1.172, test_accuracy: 58.06\n",
      "[3,   400] train_loss: 1.316\n",
      "test_loss: 1.126, test_accuracy: 59.53\n",
      "[3,   500] train_loss: 1.292\n",
      "test_loss: 1.116, test_accuracy: 59.93\n",
      "[4,   100] train_loss: 1.256\n",
      "test_loss: 1.094, test_accuracy: 59.8\n",
      "[4,   200] train_loss: 1.245\n",
      "test_loss: 1.093, test_accuracy: 61.1\n",
      "[4,   300] train_loss: 1.248\n",
      "test_loss: 1.058, test_accuracy: 62.32\n",
      "[4,   400] train_loss: 1.232\n",
      "test_loss: 1.060, test_accuracy: 62.82\n",
      "[4,   500] train_loss: 1.187\n",
      "test_loss: 1.062, test_accuracy: 61.12\n",
      "[5,   100] train_loss: 1.177\n",
      "test_loss: 1.088, test_accuracy: 61.85\n",
      "[5,   200] train_loss: 1.173\n",
      "test_loss: 0.990, test_accuracy: 64.85\n",
      "[5,   300] train_loss: 1.152\n",
      "test_loss: 1.000, test_accuracy: 63.99\n",
      "[5,   400] train_loss: 1.150\n",
      "test_loss: 0.983, test_accuracy: 65.36\n",
      "[5,   500] train_loss: 1.138\n",
      "test_loss: 0.978, test_accuracy: 64.62\n",
      "[6,   100] train_loss: 1.107\n",
      "test_loss: 1.001, test_accuracy: 64.59\n",
      "[6,   200] train_loss: 1.108\n",
      "test_loss: 0.949, test_accuracy: 66.78\n",
      "[6,   300] train_loss: 1.084\n",
      "test_loss: 0.961, test_accuracy: 65.8\n",
      "[6,   400] train_loss: 1.094\n",
      "test_loss: 0.913, test_accuracy: 67.44\n",
      "[6,   500] train_loss: 1.082\n",
      "test_loss: 0.904, test_accuracy: 68.2\n",
      "[7,   100] train_loss: 1.036\n",
      "test_loss: 1.014, test_accuracy: 64.13\n",
      "[7,   200] train_loss: 1.080\n",
      "test_loss: 0.900, test_accuracy: 68.23\n",
      "[7,   300] train_loss: 1.049\n",
      "test_loss: 0.942, test_accuracy: 67.06\n",
      "[7,   400] train_loss: 1.031\n",
      "test_loss: 0.884, test_accuracy: 68.97\n",
      "[7,   500] train_loss: 1.043\n",
      "test_loss: 0.874, test_accuracy: 68.9\n",
      "[8,   100] train_loss: 1.002\n",
      "test_loss: 0.880, test_accuracy: 68.75\n",
      "[8,   200] train_loss: 1.014\n",
      "test_loss: 0.920, test_accuracy: 67.59\n",
      "[8,   300] train_loss: 0.997\n",
      "test_loss: 0.884, test_accuracy: 68.62\n",
      "[8,   400] train_loss: 0.988\n",
      "test_loss: 0.915, test_accuracy: 67.08\n",
      "[8,   500] train_loss: 1.009\n",
      "test_loss: 0.823, test_accuracy: 71.18\n",
      "[9,   100] train_loss: 0.978\n",
      "test_loss: 0.838, test_accuracy: 70.9\n",
      "[9,   200] train_loss: 0.982\n",
      "test_loss: 0.828, test_accuracy: 70.42\n",
      "[9,   300] train_loss: 0.975\n",
      "test_loss: 0.815, test_accuracy: 71.03\n",
      "[9,   400] train_loss: 0.961\n",
      "test_loss: 0.930, test_accuracy: 67.81\n",
      "[9,   500] train_loss: 0.961\n",
      "test_loss: 0.825, test_accuracy: 71.11\n",
      "[10,   100] train_loss: 0.910\n",
      "test_loss: 0.813, test_accuracy: 71.45\n",
      "[10,   200] train_loss: 0.985\n",
      "test_loss: 0.812, test_accuracy: 71.97\n",
      "[10,   300] train_loss: 0.950\n",
      "test_loss: 0.802, test_accuracy: 71.85\n",
      "[10,   400] train_loss: 0.934\n",
      "test_loss: 0.829, test_accuracy: 70.46\n",
      "Epoch 00049: reducing learning rate of group 0 to 4.4738e-02.\n",
      "[10,   500] train_loss: 0.903\n",
      "test_loss: 0.754, test_accuracy: 73.69\n",
      "[11,   100] train_loss: 0.842\n",
      "test_loss: 0.743, test_accuracy: 74.12\n",
      "[11,   200] train_loss: 0.851\n",
      "test_loss: 0.756, test_accuracy: 73.35\n",
      "[11,   300] train_loss: 0.858\n",
      "test_loss: 0.767, test_accuracy: 72.82\n",
      "[11,   400] train_loss: 0.839\n",
      "test_loss: 0.753, test_accuracy: 73.61\n",
      "[11,   500] train_loss: 0.842\n",
      "test_loss: 0.749, test_accuracy: 73.25\n",
      "[12,   100] train_loss: 0.834\n",
      "test_loss: 0.761, test_accuracy: 73.38\n",
      "[12,   200] train_loss: 0.833\n",
      "test_loss: 0.758, test_accuracy: 73.44\n",
      "[12,   300] train_loss: 0.834\n",
      "test_loss: 0.737, test_accuracy: 74.57\n",
      "[12,   400] train_loss: 0.824\n",
      "test_loss: 0.716, test_accuracy: 74.62\n",
      "[12,   500] train_loss: 0.834\n",
      "test_loss: 0.734, test_accuracy: 74.16\n",
      "[13,   100] train_loss: 0.813\n",
      "test_loss: 0.731, test_accuracy: 74.46\n",
      "[13,   200] train_loss: 0.833\n",
      "test_loss: 0.732, test_accuracy: 74.21\n",
      "[13,   300] train_loss: 0.797\n",
      "test_loss: 0.718, test_accuracy: 74.79\n",
      "[13,   400] train_loss: 0.816\n",
      "test_loss: 0.714, test_accuracy: 74.76\n",
      "[13,   500] train_loss: 0.792\n",
      "test_loss: 0.713, test_accuracy: 74.55\n",
      "[14,   100] train_loss: 0.806\n",
      "test_loss: 0.746, test_accuracy: 73.87\n",
      "[14,   200] train_loss: 0.772\n",
      "test_loss: 0.729, test_accuracy: 74.24\n",
      "[14,   300] train_loss: 0.827\n",
      "test_loss: 0.730, test_accuracy: 74.19\n",
      "[14,   400] train_loss: 0.795\n",
      "test_loss: 0.697, test_accuracy: 75.55\n",
      "[14,   500] train_loss: 0.795\n",
      "test_loss: 0.696, test_accuracy: 75.76\n",
      "Epoch 00070: reducing learning rate of group 0 to 2.2369e-02.\n",
      "[15,   100] train_loss: 0.766\n",
      "test_loss: 0.705, test_accuracy: 75.38\n",
      "[15,   200] train_loss: 0.754\n",
      "test_loss: 0.681, test_accuracy: 76.48\n",
      "[15,   300] train_loss: 0.751\n",
      "test_loss: 0.687, test_accuracy: 75.82\n",
      "[15,   400] train_loss: 0.768\n",
      "test_loss: 0.698, test_accuracy: 75.73\n",
      "[15,   500] train_loss: 0.752\n",
      "test_loss: 0.686, test_accuracy: 75.83\n",
      "[16,   100] train_loss: 0.730\n",
      "test_loss: 0.688, test_accuracy: 75.99\n",
      "[16,   200] train_loss: 0.743\n",
      "test_loss: 0.706, test_accuracy: 75.46\n",
      "[16,   300] train_loss: 0.727\n",
      "test_loss: 0.682, test_accuracy: 76.26\n",
      "[16,   400] train_loss: 0.743\n",
      "test_loss: 0.684, test_accuracy: 75.97\n",
      "[16,   500] train_loss: 0.737\n",
      "test_loss: 0.686, test_accuracy: 75.96\n",
      "[17,   100] train_loss: 0.738\n",
      "test_loss: 0.703, test_accuracy: 75.36\n",
      "Epoch 00081: reducing learning rate of group 0 to 1.1184e-02.\n",
      "[17,   200] train_loss: 0.736\n",
      "test_loss: 0.665, test_accuracy: 76.75\n",
      "[17,   300] train_loss: 0.716\n",
      "test_loss: 0.667, test_accuracy: 76.49\n",
      "[17,   400] train_loss: 0.721\n",
      "test_loss: 0.667, test_accuracy: 76.5\n",
      "[17,   500] train_loss: 0.708\n",
      "test_loss: 0.665, test_accuracy: 76.62\n",
      "[18,   100] train_loss: 0.709\n",
      "test_loss: 0.667, test_accuracy: 76.79\n",
      "[18,   200] train_loss: 0.720\n",
      "test_loss: 0.669, test_accuracy: 76.35\n",
      "[18,   300] train_loss: 0.697\n",
      "test_loss: 0.653, test_accuracy: 77.13\n",
      "[18,   400] train_loss: 0.720\n",
      "test_loss: 0.650, test_accuracy: 77.38\n",
      "[18,   500] train_loss: 0.705\n",
      "test_loss: 0.667, test_accuracy: 76.51\n",
      "[19,   100] train_loss: 0.708\n",
      "test_loss: 0.666, test_accuracy: 76.58\n",
      "Epoch 00091: reducing learning rate of group 0 to 5.5922e-03.\n",
      "[19,   200] train_loss: 0.706\n",
      "test_loss: 0.661, test_accuracy: 76.84\n",
      "[19,   300] train_loss: 0.689\n",
      "test_loss: 0.671, test_accuracy: 76.65\n",
      "[19,   400] train_loss: 0.697\n",
      "test_loss: 0.660, test_accuracy: 76.88\n",
      "[19,   500] train_loss: 0.682\n",
      "test_loss: 0.659, test_accuracy: 76.93\n",
      "[20,   100] train_loss: 0.704\n",
      "test_loss: 0.671, test_accuracy: 76.43\n",
      "[20,   200] train_loss: 0.669\n",
      "test_loss: 0.656, test_accuracy: 76.93\n",
      "[20,   300] train_loss: 0.678\n",
      "test_loss: 0.655, test_accuracy: 77.13\n",
      "[20,   400] train_loss: 0.693\n",
      "test_loss: 0.654, test_accuracy: 77.06\n",
      "[20,   500] train_loss: 0.695\n",
      "test_loss: 0.650, test_accuracy: 77.23\n",
      "Epoch 00100: reducing learning rate of group 0 to 2.7961e-03.\n"
     ]
    }
   ],
   "source": [
    "criterion = CrossEntropyLoss()\n",
    "epochs = 20\n",
    "\n",
    "train_NN(ASL_VGGNN, criterion, train_dataloader, test_dataloader, epochs=epochs, batches_to_test=100,\n",
    "        patience=2, device=device, print_test=True, verbose=True, p_randomTransform=parameters[\"p_randomTransform\"])"
   ]
  },
  {
   "cell_type": "code",
   "execution_count": 12,
   "metadata": {},
   "outputs": [],
   "source": [
    "torch.save(ASL_VGGNN, \"./models/VGG/ASL_VGGNet.pth\")"
   ]
  },
  {
   "cell_type": "code",
   "execution_count": 4,
   "metadata": {},
   "outputs": [],
   "source": [
    "ASL_VGGNN = torch.load(\"./models/VGG/ASL_VGGNet.pth\")"
   ]
  },
  {
   "cell_type": "code",
   "execution_count": 9,
   "metadata": {},
   "outputs": [
    {
     "data": {
      "image/png": "[encoded data removed]",
      "text/plain": [
       "<Figure size 600x400 with 1 Axes>"
      ]
     },
     "metadata": {
      "needs_background": "light"
     },
     "output_type": "display_data"
    },
    {
     "data": {
      "image/png": "[encoded data removed]",
      "text/plain": [
       "<Figure size 600x400 with 1 Axes>"
      ]
     },
     "metadata": {
      "needs_background": "light"
     },
     "output_type": "display_data"
    }
   ],
   "source": [
    "plot_loss(ASL_VGGNN, y_lim=(0.4, 2))\n",
    "plot_acc(ASL_VGGNN, y_lim=(40, 85))"
   ]
  },
  {
   "cell_type": "code",
   "execution_count": 5,
   "metadata": {},
   "outputs": [
    {
     "name": "stdout",
     "output_type": "stream",
     "text": [
      "Training time (s):\n",
      "mean: 6.924\n",
      "std: 0.4\n"
     ]
    }
   ],
   "source": [
    "print(\"Training time (s):\")\n",
    "print(f\"mean: {round(np.mean(ASL_VGGNN.train_time), 3)}\")\n",
    "print(f\"std: {round(np.std(ASL_VGGNN.train_time), 3)}\")"
   ]
  },
  {
   "cell_type": "markdown",
   "metadata": {},
   "source": [
    "## ASL VGG RES2"
   ]
  },
  {
   "cell_type": "code",
   "execution_count": 4,
   "metadata": {},
   "outputs": [
    {
     "name": "stdout",
     "output_type": "stream",
     "text": [
      "[{'acc': 82.592, 'lr': 0.05224609375, 'momentum': 0.78564453125, 'p_randomTransform': 0.0107421875}, {'acc': 79.078, 'lr': 0.08947506874612457, 'momentum': 0.5519628906250001, 'p_randomTransform': 0.6442425579588916}, {'acc': 78.9, 'lr': 0.10085937499999999, 'momentum': 0.6542951899242178, 'p_randomTransform': 0.5951562499999999}]\n"
     ]
    }
   ],
   "source": [
    "# mock train_function of Optimizer to load the optimizer\n",
    "train_function = None\n",
    "\n",
    "with open('models/VGG/ASL_VGG_optimizer.pkl', 'rb') as file:\n",
    "    ASL_VGG_optim = pickle.load(file)\n",
    "\n",
    "best_parameters = ASL_VGG_optim.get_best_parameters(3)\n",
    "print(best_parameters)\n",
    "parameters = best_parameters[1]"
   ]
  },
  {
   "cell_type": "code",
   "execution_count": 5,
   "metadata": {},
   "outputs": [
    {
     "data": {
      "text/plain": [
       "==========================================================================================\n",
       "Layer (type:depth-idx)                   Output Shape              Param #\n",
       "==========================================================================================\n",
       "ASL_VGGNet                               [100, 10]                 --\n",
       "├─Sequential: 1-1                        --                        --\n",
       "│    └─Conv2d: 2-1                       [100, 32, 32, 32]         896\n",
       "│    └─ReLU: 2-2                         [100, 32, 32, 32]         --\n",
       "│    └─CSC_block: 2-3                    [100, 32, 32, 32]         --\n",
       "│    │    └─Sequential: 3-1              --                        2,240\n",
       "│    │    └─Conv2d: 3-2                  [100, 32, 32, 32]         2,080\n",
       "│    └─ReLU: 2-4                         [100, 32, 32, 32]         --\n",
       "│    └─MaxPool2d: 2-5                    [100, 32, 16, 16]         --\n",
       "│    └─Dropout2d: 2-6                    [100, 32, 16, 16]         --\n",
       "│    └─CSC_block: 2-7                    [100, 64, 16, 16]         --\n",
       "│    │    └─Sequential: 3-3              --                        3,296\n",
       "│    │    └─Conv2d: 3-4                  [100, 64, 16, 16]         6,208\n",
       "│    └─ReLU: 2-8                         [100, 64, 16, 16]         --\n",
       "│    └─CSC_block: 2-9                    [100, 64, 16, 16]         --\n",
       "│    │    └─Sequential: 3-5              --                        8,576\n",
       "│    │    └─Conv2d: 3-6                  [100, 64, 16, 16]         8,256\n",
       "│    └─ReLU: 2-10                        [100, 64, 16, 16]         --\n",
       "│    └─MaxPool2d: 2-11                   [100, 64, 8, 8]           --\n",
       "│    └─Dropout2d: 2-12                   [100, 64, 8, 8]           --\n",
       "│    └─CSC_block: 2-13                   [100, 128, 8, 8]          --\n",
       "│    │    └─Sequential: 3-7              --                        12,736\n",
       "│    │    └─Conv2d: 3-8                  [100, 128, 8, 8]          24,704\n",
       "│    └─ReLU: 2-14                        [100, 128, 8, 8]          --\n",
       "│    └─CSC_block: 2-15                   [100, 128, 8, 8]          --\n",
       "│    │    └─Sequential: 3-9              --                        33,536\n",
       "│    │    └─Conv2d: 3-10                 [100, 128, 8, 8]          32,896\n",
       "│    └─ReLU: 2-16                        [100, 128, 8, 8]          --\n",
       "│    └─MaxPool2d: 2-17                   [100, 128, 4, 4]          --\n",
       "│    └─Dropout2d: 2-18                   [100, 128, 4, 4]          --\n",
       "│    └─Flatten: 2-19                     [100, 2048]               --\n",
       "│    └─Linear: 2-20                      [100, 128]                262,272\n",
       "│    └─ReLU: 2-21                        [100, 128]                --\n",
       "│    └─Dropout: 2-22                     [100, 128]                --\n",
       "│    └─Linear: 2-23                      [100, 10]                 1,290\n",
       "==========================================================================================\n",
       "Total params: 398,986\n",
       "Trainable params: 398,986\n",
       "Non-trainable params: 0\n",
       "Total mult-adds (G): 1.87\n",
       "==========================================================================================\n",
       "Input size (MB): 1.23\n",
       "Forward/backward pass size (MB): 324.51\n",
       "Params size (MB): 1.60\n",
       "Estimated Total Size (MB): 327.34\n",
       "=========================================================================================="
      ]
     },
     "execution_count": 5,
     "metadata": {},
     "output_type": "execute_result"
    }
   ],
   "source": [
    "from Models import ASL_VGGNet\n",
    "\n",
    "ASL_VGGNN = ASL_VGGNet(input_shape, num_labels, initial_lr=parameters[\"lr\"], momentum=parameters[\"momentum\"], weight_decay=0, device=device, p_drop=0.2, expansion_rate=1)\n",
    "\n",
    "summary(ASL_VGGNN, input_shape)"
   ]
  },
  {
   "cell_type": "code",
   "execution_count": 6,
   "metadata": {},
   "outputs": [],
   "source": [
    "PATH = \"models/VGG/ASL_VGGNet_res2.pth\"\n",
    "\n",
    "if exists(PATH):\n",
    "    ASL_VGGNN = torch.load(PATH)\n",
    "    ASL_VGGNN.eval()"
   ]
  },
  {
   "cell_type": "code",
   "execution_count": 7,
   "metadata": {},
   "outputs": [
    {
     "name": "stdout",
     "output_type": "stream",
     "text": [
      "[1,   100] train_loss: 2.139\n",
      "test_loss: 1.930, test_accuracy: 27.77\n",
      "[1,   200] train_loss: 1.851\n",
      "test_loss: 1.676, test_accuracy: 37.96\n",
      "[1,   300] train_loss: 1.724\n",
      "test_loss: 1.619, test_accuracy: 38.95\n",
      "[1,   400] train_loss: 1.652\n",
      "test_loss: 1.551, test_accuracy: 41.54\n",
      "[1,   500] train_loss: 1.574\n",
      "test_loss: 1.421, test_accuracy: 46.11\n",
      "[2,   100] train_loss: 1.530\n",
      "test_loss: 1.450, test_accuracy: 46.37\n",
      "[2,   200] train_loss: 1.485\n",
      "test_loss: 1.350, test_accuracy: 50.31\n",
      "[2,   300] train_loss: 1.481\n",
      "test_loss: 1.390, test_accuracy: 48.74\n",
      "[2,   400] train_loss: 1.462\n",
      "test_loss: 1.341, test_accuracy: 50.75\n",
      "[2,   500] train_loss: 1.411\n",
      "test_loss: 1.292, test_accuracy: 52.93\n",
      "[3,   100] train_loss: 1.393\n",
      "test_loss: 1.243, test_accuracy: 54.92\n",
      "[3,   200] train_loss: 1.378\n",
      "test_loss: 1.254, test_accuracy: 54.79\n",
      "[3,   300] train_loss: 1.334\n",
      "test_loss: 1.286, test_accuracy: 52.92\n",
      "[3,   400] train_loss: 1.311\n",
      "test_loss: 1.225, test_accuracy: 55.65\n",
      "[3,   500] train_loss: 1.307\n",
      "test_loss: 1.221, test_accuracy: 55.94\n",
      "[4,   100] train_loss: 1.276\n",
      "test_loss: 1.119, test_accuracy: 59.78\n",
      "[4,   200] train_loss: 1.267\n",
      "test_loss: 1.098, test_accuracy: 61.12\n",
      "[4,   300] train_loss: 1.228\n",
      "test_loss: 1.273, test_accuracy: 54.63\n",
      "[4,   400] train_loss: 1.236\n",
      "test_loss: 1.144, test_accuracy: 58.75\n",
      "[4,   500] train_loss: 1.234\n",
      "test_loss: 1.068, test_accuracy: 61.28\n",
      "[5,   100] train_loss: 1.180\n",
      "test_loss: 1.056, test_accuracy: 61.74\n",
      "[5,   200] train_loss: 1.171\n",
      "test_loss: 1.096, test_accuracy: 60.73\n",
      "[5,   300] train_loss: 1.168\n",
      "test_loss: 1.062, test_accuracy: 62.1\n",
      "[5,   400] train_loss: 1.154\n",
      "test_loss: 1.112, test_accuracy: 60.57\n",
      "[5,   500] train_loss: 1.150\n",
      "test_loss: 1.033, test_accuracy: 63.08\n",
      "[6,   100] train_loss: 1.117\n",
      "test_loss: 1.000, test_accuracy: 64.25\n",
      "[6,   200] train_loss: 1.103\n",
      "test_loss: 0.996, test_accuracy: 64.48\n",
      "[6,   300] train_loss: 1.109\n",
      "test_loss: 0.994, test_accuracy: 64.31\n",
      "[6,   400] train_loss: 1.117\n",
      "test_loss: 1.121, test_accuracy: 60.36\n",
      "[6,   500] train_loss: 1.086\n",
      "test_loss: 0.999, test_accuracy: 64.68\n",
      "[7,   100] train_loss: 1.049\n",
      "test_loss: 0.986, test_accuracy: 64.81\n",
      "[7,   200] train_loss: 1.075\n",
      "test_loss: 0.981, test_accuracy: 64.43\n",
      "[7,   300] train_loss: 1.043\n",
      "test_loss: 0.934, test_accuracy: 66.85\n",
      "[7,   400] train_loss: 1.049\n",
      "test_loss: 0.993, test_accuracy: 64.95\n",
      "[7,   500] train_loss: 1.060\n",
      "test_loss: 0.914, test_accuracy: 67.28\n",
      "[8,   100] train_loss: 1.002\n",
      "test_loss: 0.938, test_accuracy: 66.48\n",
      "[8,   200] train_loss: 1.008\n",
      "test_loss: 1.001, test_accuracy: 65.07\n",
      "[8,   300] train_loss: 1.042\n",
      "test_loss: 1.024, test_accuracy: 62.81\n",
      "[8,   400] train_loss: 1.014\n",
      "test_loss: 0.910, test_accuracy: 67.61\n",
      "Epoch 00039: reducing learning rate of group 0 to 4.4738e-02.\n",
      "[8,   500] train_loss: 0.957\n",
      "test_loss: 0.863, test_accuracy: 69.41\n",
      "[9,   100] train_loss: 0.906\n",
      "test_loss: 0.839, test_accuracy: 70.1\n",
      "[9,   200] train_loss: 0.927\n",
      "test_loss: 0.843, test_accuracy: 70.06\n",
      "[9,   300] train_loss: 0.931\n",
      "test_loss: 0.817, test_accuracy: 71.12\n",
      "[9,   400] train_loss: 0.912\n",
      "test_loss: 0.905, test_accuracy: 67.9\n",
      "Epoch 00044: reducing learning rate of group 0 to 2.2369e-02.\n",
      "[9,   500] train_loss: 0.897\n",
      "test_loss: 0.825, test_accuracy: 70.47\n",
      "[10,   100] train_loss: 0.861\n",
      "test_loss: 0.798, test_accuracy: 72.11\n",
      "[10,   200] train_loss: 0.865\n",
      "test_loss: 0.796, test_accuracy: 71.69\n",
      "[10,   300] train_loss: 0.868\n",
      "test_loss: 0.811, test_accuracy: 71.06\n",
      "[10,   400] train_loss: 0.841\n",
      "test_loss: 0.818, test_accuracy: 71.34\n",
      "[10,   500] train_loss: 0.869\n",
      "test_loss: 0.780, test_accuracy: 72.38\n",
      "[11,   100] train_loss: 0.858\n",
      "test_loss: 0.794, test_accuracy: 71.34\n",
      "[11,   200] train_loss: 0.846\n",
      "test_loss: 0.773, test_accuracy: 72.84\n",
      "Epoch 00052: reducing learning rate of group 0 to 1.1184e-02.\n",
      "[11,   300] train_loss: 0.851\n",
      "test_loss: 0.782, test_accuracy: 72.48\n",
      "[11,   400] train_loss: 0.821\n",
      "test_loss: 0.789, test_accuracy: 72.12\n",
      "[11,   500] train_loss: 0.828\n",
      "test_loss: 0.769, test_accuracy: 72.62\n",
      "[12,   100] train_loss: 0.802\n",
      "test_loss: 0.791, test_accuracy: 72.02\n",
      "[12,   200] train_loss: 0.816\n",
      "test_loss: 0.779, test_accuracy: 72.18\n",
      "[12,   300] train_loss: 0.816\n",
      "test_loss: 0.771, test_accuracy: 72.68\n",
      "[12,   400] train_loss: 0.823\n",
      "test_loss: 0.762, test_accuracy: 73.15\n",
      "Epoch 00059: reducing learning rate of group 0 to 5.5922e-03.\n",
      "[12,   500] train_loss: 0.831\n",
      "test_loss: 0.768, test_accuracy: 73.02\n",
      "[13,   100] train_loss: 0.788\n",
      "test_loss: 0.758, test_accuracy: 72.93\n",
      "[13,   200] train_loss: 0.797\n",
      "test_loss: 0.761, test_accuracy: 73.01\n",
      "[13,   300] train_loss: 0.814\n",
      "test_loss: 0.759, test_accuracy: 73.04\n",
      "[13,   400] train_loss: 0.826\n",
      "test_loss: 0.771, test_accuracy: 72.63\n",
      "Epoch 00064: reducing learning rate of group 0 to 2.7961e-03.\n",
      "[13,   500] train_loss: 0.787\n",
      "test_loss: 0.751, test_accuracy: 73.38\n",
      "[14,   100] train_loss: 0.810\n",
      "test_loss: 0.758, test_accuracy: 73.08\n",
      "[14,   200] train_loss: 0.812\n",
      "test_loss: 0.758, test_accuracy: 73.19\n",
      "[14,   300] train_loss: 0.797\n",
      "test_loss: 0.754, test_accuracy: 73.15\n",
      "Epoch 00068: reducing learning rate of group 0 to 1.3980e-03.\n",
      "[14,   400] train_loss: 0.787\n",
      "test_loss: 0.749, test_accuracy: 73.39\n",
      "[14,   500] train_loss: 0.797\n",
      "test_loss: 0.760, test_accuracy: 73.12\n",
      "[15,   100] train_loss: 0.801\n",
      "test_loss: 0.756, test_accuracy: 73.16\n",
      "[15,   200] train_loss: 0.804\n",
      "test_loss: 0.746, test_accuracy: 73.56\n",
      "Epoch 00072: reducing learning rate of group 0 to 6.9902e-04.\n",
      "[15,   300] train_loss: 0.794\n",
      "test_loss: 0.756, test_accuracy: 73.2\n",
      "[15,   400] train_loss: 0.794\n",
      "test_loss: 0.748, test_accuracy: 73.57\n",
      "[15,   500] train_loss: 0.801\n",
      "test_loss: 0.755, test_accuracy: 73.2\n",
      "Epoch 00075: reducing learning rate of group 0 to 3.4951e-04.\n"
     ]
    }
   ],
   "source": [
    "criterion = CrossEntropyLoss()\n",
    "epochs = 15\n",
    "\n",
    "train_NN(ASL_VGGNN, criterion, train_dataloader, test_dataloader, epochs=epochs, batches_to_test=100,\n",
    "        patience=2, device=device, print_test=True, verbose=True, p_randomTransform=parameters[\"p_randomTransform\"])"
   ]
  },
  {
   "cell_type": "code",
   "execution_count": 8,
   "metadata": {},
   "outputs": [],
   "source": [
    "torch.save(ASL_VGGNN, \"./models/VGG/ASL_VGGNet_res2.pth\")"
   ]
  },
  {
   "cell_type": "code",
   "execution_count": 26,
   "metadata": {},
   "outputs": [],
   "source": [
    "ASL_VGGNN = torch.load(\"./models/VGG/ASL_VGGNet_res2.pth\")"
   ]
  },
  {
   "cell_type": "code",
   "execution_count": 16,
   "metadata": {},
   "outputs": [
    {
     "data": {
      "image/png": "[encoded data removed]",
      "text/plain": [
       "<Figure size 600x400 with 1 Axes>"
      ]
     },
     "metadata": {
      "needs_background": "light"
     },
     "output_type": "display_data"
    },
    {
     "data": {
      "image/png": "[encoded data removed]",
      "text/plain": [
       "<Figure size 600x400 with 1 Axes>"
      ]
     },
     "metadata": {
      "needs_background": "light"
     },
     "output_type": "display_data"
    }
   ],
   "source": [
    "plot_loss(ASL_VGGNN, y_lim=(0.4, 2))\n",
    "plot_acc(ASL_VGGNN, y_lim=(40, 85))"
   ]
  },
  {
   "cell_type": "code",
   "execution_count": 27,
   "metadata": {},
   "outputs": [
    {
     "name": "stdout",
     "output_type": "stream",
     "text": [
      "Training time (s):\n",
      "mean: 8.628\n",
      "std: 0.396\n"
     ]
    }
   ],
   "source": [
    "print(\"Training time (s):\")\n",
    "print(f\"mean: {round(np.mean(ASL_VGGNN.train_time), 3)}\")\n",
    "print(f\"std: {round(np.std(ASL_VGGNN.train_time), 3)}\")"
   ]
  },
  {
   "cell_type": "code",
   "execution_count": 28,
   "metadata": {},
   "outputs": [
    {
     "name": "stdout",
     "output_type": "stream",
     "text": [
      "Inference time GPU (ms):\n",
      "2.798e+01\n",
      "3.0e-01\n"
     ]
    }
   ],
   "source": [
    "inference_times = inference_time(ASL_VGGNN, input_shape=(100, 3, 32, 32), repetitions=10000, device=\"cuda\")\n",
    "print(\"Inference time GPU (ms):\")\n",
    "print(format(np.mean(inference_times), \".3e\"))\n",
    "print(format(np.std(inference_times), \".1e\"))"
   ]
  },
  {
   "cell_type": "markdown",
   "metadata": {},
   "source": [
    "## ASL VGG res 3"
   ]
  },
  {
   "cell_type": "code",
   "execution_count": 4,
   "metadata": {},
   "outputs": [
    {
     "name": "stdout",
     "output_type": "stream",
     "text": [
      "[{'acc': 82.592, 'lr': 0.05224609375, 'momentum': 0.78564453125, 'p_randomTransform': 0.0107421875}, {'acc': 79.078, 'lr': 0.08947506874612457, 'momentum': 0.5519628906250001, 'p_randomTransform': 0.6442425579588916}, {'acc': 78.9, 'lr': 0.10085937499999999, 'momentum': 0.6542951899242178, 'p_randomTransform': 0.5951562499999999}]\n"
     ]
    }
   ],
   "source": [
    "# mock train_function of Optimizer to load the optimizer\n",
    "train_function = None\n",
    "\n",
    "with open('models/VGG/ASL_VGG_optimizer.pkl', 'rb') as file:\n",
    "    ASL_VGG_optim = pickle.load(file)\n",
    "\n",
    "best_parameters = ASL_VGG_optim.get_best_parameters(3)\n",
    "print(best_parameters)\n",
    "parameters = best_parameters[1]"
   ]
  },
  {
   "cell_type": "code",
   "execution_count": 7,
   "metadata": {},
   "outputs": [
    {
     "data": {
      "text/plain": [
       "==========================================================================================\n",
       "Layer (type:depth-idx)                   Output Shape              Param #\n",
       "==========================================================================================\n",
       "ASL_VGGNet                               [100, 10]                 --\n",
       "├─Sequential: 1-1                        --                        --\n",
       "│    └─Conv2d: 2-1                       [100, 32, 32, 32]         896\n",
       "│    └─ReLU: 2-2                         [100, 32, 32, 32]         --\n",
       "│    └─CSC_block: 2-3                    [100, 32, 32, 32]         --\n",
       "│    │    └─Sequential: 3-1              --                        1,184\n",
       "│    │    └─Conv2d: 3-2                  [100, 32, 32, 32]         2,080\n",
       "│    └─ReLU: 2-4                         [100, 32, 32, 32]         --\n",
       "│    └─MaxPool2d: 2-5                    [100, 32, 16, 16]         --\n",
       "│    └─Dropout2d: 2-6                    [100, 32, 16, 16]         --\n",
       "│    └─CSC_block: 2-7                    [100, 64, 16, 16]         --\n",
       "│    │    └─Sequential: 3-3              --                        1,184\n",
       "│    │    └─Conv2d: 3-4                  [100, 64, 16, 16]         4,160\n",
       "│    └─ReLU: 2-8                         [100, 64, 16, 16]         --\n",
       "│    └─CSC_block: 2-9                    [100, 64, 16, 16]         --\n",
       "│    │    └─Sequential: 3-5              --                        4,416\n",
       "│    │    └─Conv2d: 3-6                  [100, 64, 16, 16]         8,256\n",
       "│    └─ReLU: 2-10                        [100, 64, 16, 16]         --\n",
       "│    └─MaxPool2d: 2-11                   [100, 64, 8, 8]           --\n",
       "│    └─Dropout2d: 2-12                   [100, 64, 8, 8]           --\n",
       "│    └─CSC_block: 2-13                   [100, 128, 8, 8]          --\n",
       "│    │    └─Sequential: 3-7              --                        4,416\n",
       "│    │    └─Conv2d: 3-8                  [100, 128, 8, 8]          16,512\n",
       "│    └─ReLU: 2-14                        [100, 128, 8, 8]          --\n",
       "│    └─CSC_block: 2-15                   [100, 128, 8, 8]          --\n",
       "│    │    └─Sequential: 3-9              --                        17,024\n",
       "│    │    └─Conv2d: 3-10                 [100, 128, 8, 8]          32,896\n",
       "│    └─ReLU: 2-16                        [100, 128, 8, 8]          --\n",
       "│    └─MaxPool2d: 2-17                   [100, 128, 4, 4]          --\n",
       "│    └─Dropout2d: 2-18                   [100, 128, 4, 4]          --\n",
       "│    └─Flatten: 2-19                     [100, 2048]               --\n",
       "│    └─Linear: 2-20                      [100, 128]                262,272\n",
       "│    └─ReLU: 2-21                        [100, 128]                --\n",
       "│    └─Dropout: 2-22                     [100, 128]                --\n",
       "│    └─Linear: 2-23                      [100, 10]                 1,290\n",
       "==========================================================================================\n",
       "Total params: 356,586\n",
       "Trainable params: 356,586\n",
       "Non-trainable params: 0\n",
       "Total mult-adds (G): 1.34\n",
       "==========================================================================================\n",
       "Input size (MB): 1.23\n",
       "Forward/backward pass size (MB): 258.98\n",
       "Params size (MB): 1.43\n",
       "Estimated Total Size (MB): 261.63\n",
       "=========================================================================================="
      ]
     },
     "execution_count": 7,
     "metadata": {},
     "output_type": "execute_result"
    }
   ],
   "source": [
    "from Models import ASL_VGGNet\n",
    "\n",
    "ASL_VGGNN = ASL_VGGNet(input_shape, num_labels, initial_lr=parameters[\"lr\"], momentum=parameters[\"momentum\"], weight_decay=0, device=device, p_drop=0.2, expansion_rate=1)\n",
    "\n",
    "summary(ASL_VGGNN, input_shape)"
   ]
  },
  {
   "cell_type": "code",
   "execution_count": 6,
   "metadata": {},
   "outputs": [],
   "source": [
    "PATH = \"models/VGG/ASL_VGGNet_res3.pth\"\n",
    "\n",
    "if exists(PATH):\n",
    "    ASL_VGGNN = torch.load(PATH)\n",
    "    ASL_VGGNN.eval()"
   ]
  },
  {
   "cell_type": "code",
   "execution_count": 8,
   "metadata": {},
   "outputs": [
    {
     "name": "stdout",
     "output_type": "stream",
     "text": [
      "[1,   100] train_loss: 2.049\n",
      "test_loss: 1.864, test_accuracy: 28.13\n",
      "[1,   200] train_loss: 1.779\n",
      "test_loss: 1.660, test_accuracy: 39.59\n",
      "[1,   300] train_loss: 1.668\n",
      "test_loss: 1.542, test_accuracy: 42.57\n",
      "[1,   400] train_loss: 1.611\n",
      "test_loss: 1.603, test_accuracy: 40.87\n",
      "[1,   500] train_loss: 1.537\n",
      "test_loss: 1.418, test_accuracy: 46.98\n",
      "[2,   100] train_loss: 1.503\n",
      "test_loss: 1.372, test_accuracy: 50.41\n",
      "[2,   200] train_loss: 1.484\n",
      "test_loss: 1.308, test_accuracy: 52.21\n",
      "[2,   300] train_loss: 1.432\n",
      "test_loss: 1.328, test_accuracy: 51.36\n",
      "[2,   400] train_loss: 1.391\n",
      "test_loss: 1.262, test_accuracy: 53.51\n",
      "[2,   500] train_loss: 1.389\n",
      "test_loss: 1.259, test_accuracy: 54.11\n",
      "[3,   100] train_loss: 1.350\n",
      "test_loss: 1.201, test_accuracy: 56.56\n",
      "[3,   200] train_loss: 1.332\n",
      "test_loss: 1.202, test_accuracy: 56.49\n",
      "[3,   300] train_loss: 1.292\n",
      "test_loss: 1.122, test_accuracy: 59.82\n",
      "[3,   400] train_loss: 1.273\n",
      "test_loss: 1.154, test_accuracy: 58.49\n",
      "[3,   500] train_loss: 1.260\n",
      "test_loss: 1.120, test_accuracy: 59.29\n",
      "[4,   100] train_loss: 1.216\n",
      "test_loss: 1.145, test_accuracy: 58.05\n",
      "[4,   200] train_loss: 1.207\n",
      "test_loss: 1.110, test_accuracy: 59.71\n",
      "[4,   300] train_loss: 1.185\n",
      "test_loss: 1.054, test_accuracy: 61.86\n",
      "[4,   400] train_loss: 1.172\n",
      "test_loss: 1.049, test_accuracy: 62.57\n",
      "[4,   500] train_loss: 1.175\n",
      "test_loss: 1.011, test_accuracy: 64.23\n",
      "[5,   100] train_loss: 1.133\n",
      "test_loss: 1.061, test_accuracy: 61.81\n",
      "[5,   200] train_loss: 1.126\n",
      "test_loss: 1.013, test_accuracy: 64.08\n",
      "[5,   300] train_loss: 1.123\n",
      "test_loss: 0.994, test_accuracy: 63.99\n",
      "[5,   400] train_loss: 1.100\n",
      "test_loss: 0.972, test_accuracy: 65.24\n",
      "[5,   500] train_loss: 1.096\n",
      "test_loss: 0.974, test_accuracy: 65.5\n",
      "[6,   100] train_loss: 1.092\n",
      "test_loss: 0.968, test_accuracy: 65.55\n",
      "[6,   200] train_loss: 1.068\n",
      "test_loss: 0.930, test_accuracy: 67.52\n",
      "[6,   300] train_loss: 1.064\n",
      "test_loss: 1.046, test_accuracy: 63.6\n",
      "[6,   400] train_loss: 1.047\n",
      "test_loss: 0.939, test_accuracy: 66.2\n",
      "[6,   500] train_loss: 1.037\n",
      "test_loss: 0.915, test_accuracy: 67.34\n",
      "[7,   100] train_loss: 1.025\n",
      "test_loss: 0.921, test_accuracy: 67.22\n",
      "[7,   200] train_loss: 1.015\n",
      "test_loss: 0.898, test_accuracy: 67.74\n",
      "[7,   300] train_loss: 1.015\n",
      "test_loss: 0.895, test_accuracy: 68.05\n",
      "[7,   400] train_loss: 1.015\n",
      "test_loss: 0.924, test_accuracy: 67.34\n",
      "[7,   500] train_loss: 1.004\n",
      "test_loss: 0.968, test_accuracy: 66.2\n",
      "[8,   100] train_loss: 0.991\n",
      "test_loss: 0.879, test_accuracy: 68.85\n",
      "[8,   200] train_loss: 0.999\n",
      "test_loss: 0.875, test_accuracy: 69.05\n",
      "[8,   300] train_loss: 0.977\n",
      "test_loss: 0.924, test_accuracy: 66.85\n",
      "[8,   400] train_loss: 0.969\n",
      "test_loss: 0.850, test_accuracy: 69.96\n",
      "[8,   500] train_loss: 0.954\n",
      "test_loss: 1.014, test_accuracy: 65.25\n",
      "[9,   100] train_loss: 0.952\n",
      "test_loss: 0.918, test_accuracy: 67.48\n",
      "[9,   200] train_loss: 0.926\n",
      "test_loss: 0.861, test_accuracy: 69.42\n",
      "[9,   300] train_loss: 0.930\n",
      "test_loss: 0.835, test_accuracy: 70.22\n",
      "[9,   400] train_loss: 0.921\n",
      "test_loss: 0.846, test_accuracy: 70.27\n",
      "[9,   500] train_loss: 0.935\n",
      "test_loss: 0.835, test_accuracy: 70.38\n",
      "[10,   100] train_loss: 0.911\n",
      "test_loss: 0.808, test_accuracy: 71.31\n",
      "[10,   200] train_loss: 0.921\n",
      "test_loss: 0.854, test_accuracy: 70.01\n",
      "[10,   300] train_loss: 0.929\n",
      "test_loss: 0.810, test_accuracy: 71.09\n",
      "[10,   400] train_loss: 0.909\n",
      "test_loss: 0.855, test_accuracy: 69.95\n",
      "[10,   500] train_loss: 0.908\n",
      "test_loss: 0.783, test_accuracy: 72.67\n",
      "[11,   100] train_loss: 0.864\n",
      "test_loss: 0.795, test_accuracy: 72.08\n",
      "[11,   200] train_loss: 0.888\n",
      "test_loss: 0.768, test_accuracy: 72.97\n",
      "[11,   300] train_loss: 0.861\n",
      "test_loss: 0.809, test_accuracy: 71.71\n",
      "[11,   400] train_loss: 0.879\n",
      "test_loss: 0.799, test_accuracy: 71.96\n",
      "[11,   500] train_loss: 0.912\n",
      "test_loss: 0.776, test_accuracy: 72.22\n",
      "[12,   100] train_loss: 0.856\n",
      "test_loss: 0.817, test_accuracy: 71.61\n",
      "[12,   200] train_loss: 0.861\n",
      "test_loss: 0.808, test_accuracy: 71.66\n",
      "[12,   300] train_loss: 0.827\n",
      "test_loss: 0.750, test_accuracy: 73.37\n",
      "[12,   400] train_loss: 0.887\n",
      "test_loss: 0.812, test_accuracy: 71.05\n",
      "[12,   500] train_loss: 0.871\n",
      "test_loss: 0.761, test_accuracy: 73.47\n",
      "[13,   100] train_loss: 0.860\n",
      "test_loss: 0.788, test_accuracy: 72.14\n",
      "Epoch 00061: reducing learning rate of group 0 to 4.4738e-02.\n",
      "[13,   200] train_loss: 0.782\n",
      "test_loss: 0.707, test_accuracy: 75.12\n",
      "[13,   300] train_loss: 0.795\n",
      "test_loss: 0.755, test_accuracy: 73.87\n",
      "[13,   400] train_loss: 0.783\n",
      "test_loss: 0.712, test_accuracy: 75.38\n",
      "[13,   500] train_loss: 0.769\n",
      "test_loss: 0.708, test_accuracy: 74.86\n",
      "[14,   100] train_loss: 0.766\n",
      "test_loss: 0.721, test_accuracy: 74.82\n",
      "[14,   200] train_loss: 0.769\n",
      "test_loss: 0.692, test_accuracy: 75.71\n",
      "[14,   300] train_loss: 0.737\n",
      "test_loss: 0.680, test_accuracy: 76.24\n",
      "[14,   400] train_loss: 0.740\n",
      "test_loss: 0.726, test_accuracy: 74.43\n",
      "[14,   500] train_loss: 0.765\n",
      "test_loss: 0.696, test_accuracy: 76.03\n",
      "[15,   100] train_loss: 0.734\n",
      "test_loss: 0.674, test_accuracy: 76.58\n",
      "[15,   200] train_loss: 0.723\n",
      "test_loss: 0.664, test_accuracy: 76.68\n",
      "[15,   300] train_loss: 0.731\n",
      "test_loss: 0.738, test_accuracy: 74.07\n",
      "[15,   400] train_loss: 0.732\n",
      "test_loss: 0.696, test_accuracy: 75.95\n",
      "[15,   500] train_loss: 0.717\n",
      "test_loss: 0.718, test_accuracy: 75.13\n"
     ]
    }
   ],
   "source": [
    "criterion = CrossEntropyLoss()\n",
    "epochs = 15\n",
    "\n",
    "train_NN(ASL_VGGNN, criterion, train_dataloader, test_dataloader, epochs=epochs, batches_to_test=100,\n",
    "        patience=2, device=device, print_test=True, verbose=True, p_randomTransform=parameters[\"p_randomTransform\"])"
   ]
  },
  {
   "cell_type": "code",
   "execution_count": 10,
   "metadata": {},
   "outputs": [],
   "source": [
    "torch.save(ASL_VGGNN, \"./models/VGG/ASL_VGGNet_res3.pth\")"
   ]
  },
  {
   "cell_type": "code",
   "execution_count": 11,
   "metadata": {},
   "outputs": [],
   "source": [
    "ASL_VGGNN = torch.load(\"./models/VGG/ASL_VGGNet_res3.pth\")"
   ]
  },
  {
   "cell_type": "code",
   "execution_count": 12,
   "metadata": {},
   "outputs": [
    {
     "data": {
      "image/png": "[encoded data removed]",
      "text/plain": [
       "<Figure size 600x400 with 1 Axes>"
      ]
     },
     "metadata": {
      "needs_background": "light"
     },
     "output_type": "display_data"
    },
    {
     "data": {
      "image/png": "[encoded data removed]",
      "text/plain": [
       "<Figure size 600x400 with 1 Axes>"
      ]
     },
     "metadata": {
      "needs_background": "light"
     },
     "output_type": "display_data"
    }
   ],
   "source": [
    "plot_loss(ASL_VGGNN, y_lim=(0.4, 2))\n",
    "plot_acc(ASL_VGGNN, y_lim=(40, 85))"
   ]
  },
  {
   "cell_type": "code",
   "execution_count": 13,
   "metadata": {},
   "outputs": [
    {
     "name": "stdout",
     "output_type": "stream",
     "text": [
      "Training time (s):\n",
      "mean: 7.112\n",
      "std: 0.398\n"
     ]
    }
   ],
   "source": [
    "print(\"Training time (s):\")\n",
    "print(f\"mean: {round(np.mean(ASL_VGGNN.train_time), 3)}\")\n",
    "print(f\"std: {round(np.std(ASL_VGGNN.train_time), 3)}\")"
   ]
  },
  {
   "cell_type": "code",
   "execution_count": 14,
   "metadata": {},
   "outputs": [
    {
     "name": "stdout",
     "output_type": "stream",
     "text": [
      "Inference time GPU (ms):\n",
      "2.459e+01\n",
      "6.0e-01\n"
     ]
    }
   ],
   "source": [
    "inference_times = inference_time(ASL_VGGNN, input_shape=(100, 3, 32, 32), repetitions=10000, device=\"cuda\")\n",
    "print(\"Inference time GPU (ms):\")\n",
    "print(format(np.mean(inference_times), \".3e\"))\n",
    "print(format(np.std(inference_times), \".1e\"))"
   ]
  }
 ],
 "metadata": {
  "kernelspec": {
   "display_name": "Python 3.9.12 ('base')",
   "language": "python",
   "name": "python3"
  },
  "language_info": {
   "codemirror_mode": {
    "name": "ipython",
    "version": 3
   },
   "file_extension": ".py",
   "mimetype": "text/x-python",
   "name": "python",
   "nbconvert_exporter": "python",
   "pygments_lexer": "ipython3",
   "version": "3.9.12"
  },
  "orig_nbformat": 4,
  "vscode": {
   "interpreter": {
    "hash": "4632010a9e13d22e5db6181f606bb74cee322bdf2be96a9f982ade689500be32"
   }
  }
 },
 "nbformat": 4,
 "nbformat_minor": 2
}
