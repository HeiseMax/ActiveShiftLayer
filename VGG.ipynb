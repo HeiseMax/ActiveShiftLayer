{
 "cells": [
  {
   "cell_type": "code",
   "execution_count": 1,
   "metadata": {},
   "outputs": [],
   "source": [
    "import numpy as np\n",
    "import matplotlib.pyplot as plt\n",
    "import json\n",
    "import pickle\n",
    "\n",
    "import torch\n",
    "from torch.nn import CrossEntropyLoss, NLLLoss\n",
    "import torch.optim as optim\n",
    "\n",
    "import torchvision\n",
    "import torchvision.transforms as transforms\n",
    "\n",
    "from torchinfo import summary\n",
    "\n",
    "from os.path import exists\n",
    "\n",
    "from util import test_loss, train_NN, inference_time, loadCIFAR10, plot_loss, plot_acc, plot_shifts"
   ]
  },
  {
   "cell_type": "code",
   "execution_count": 7,
   "metadata": {},
   "outputs": [
    {
     "name": "stdout",
     "output_type": "stream",
     "text": [
      "cuda\n"
     ]
    }
   ],
   "source": [
    "if torch.cuda.is_available():\n",
    "    device = 'cuda'\n",
    "else:\n",
    "    device = 'cpu'\n",
    "#device = \"cpu\"\n",
    "print(device)"
   ]
  },
  {
   "cell_type": "code",
   "execution_count": 3,
   "metadata": {},
   "outputs": [
    {
     "name": "stdout",
     "output_type": "stream",
     "text": [
      "Files already downloaded and verified\n",
      "Files already downloaded and verified\n"
     ]
    }
   ],
   "source": [
    "batch_size = 100\n",
    "input_shape = (batch_size, 3, 32, 32)\n",
    "num_labels = 10\n",
    "\n",
    "train_dataset, train_dataloader, test_dataset, test_dataloader, classes = loadCIFAR10(batch_size)"
   ]
  },
  {
   "cell_type": "markdown",
   "metadata": {},
   "source": [
    "## VGG"
   ]
  },
  {
   "cell_type": "code",
   "execution_count": 7,
   "metadata": {},
   "outputs": [
    {
     "name": "stdout",
     "output_type": "stream",
     "text": [
      "[{'acc': 74.252, 'lr': 0.09375, 'momentum': 0.65625, 'p_randomTransform': 0.3125}, {'acc': 72.152, 'lr': 0.08378864744949828, 'momentum': 0.7315053974289858, 'p_randomTransform': 0.7782211507973548}, {'acc': 71.808, 'lr': 0.018873064116434416, 'momentum': 0.9292819279334161, 'p_randomTransform': 0.7836328125}]\n"
     ]
    }
   ],
   "source": [
    "# mock train_function of Optimizer to load the optimizer\n",
    "train_function = None\n",
    "\n",
    "with open('models/VGG/VGG_optimizer.pkl', 'rb') as file:\n",
    "    VGG_optim = pickle.load(file)\n",
    "\n",
    "best_parameters = VGG_optim.get_best_parameters(3)\n",
    "print(best_parameters)\n",
    "parameters = best_parameters[0]"
   ]
  },
  {
   "cell_type": "code",
   "execution_count": 8,
   "metadata": {},
   "outputs": [
    {
     "data": {
      "text/plain": [
       "==========================================================================================\n",
       "Layer (type:depth-idx)                   Output Shape              Param #\n",
       "==========================================================================================\n",
       "VGGNet                                   [100, 10]                 --\n",
       "├─Sequential: 1-1                        --                        --\n",
       "│    └─Conv2d: 2-1                       [100, 32, 32, 32]         896\n",
       "│    └─ReLU: 2-2                         [100, 32, 32, 32]         --\n",
       "│    └─Conv2d: 2-3                       [100, 32, 32, 32]         9,248\n",
       "│    └─ReLU: 2-4                         [100, 32, 32, 32]         --\n",
       "│    └─MaxPool2d: 2-5                    [100, 32, 16, 16]         --\n",
       "│    └─Dropout2d: 2-6                    [100, 32, 16, 16]         --\n",
       "│    └─Conv2d: 2-7                       [100, 64, 16, 16]         18,496\n",
       "│    └─ReLU: 2-8                         [100, 64, 16, 16]         --\n",
       "│    └─Conv2d: 2-9                       [100, 64, 16, 16]         36,928\n",
       "│    └─ReLU: 2-10                        [100, 64, 16, 16]         --\n",
       "│    └─MaxPool2d: 2-11                   [100, 64, 8, 8]           --\n",
       "│    └─Dropout2d: 2-12                   [100, 64, 8, 8]           --\n",
       "│    └─Conv2d: 2-13                      [100, 128, 8, 8]          73,856\n",
       "│    └─ReLU: 2-14                        [100, 128, 8, 8]          --\n",
       "│    └─Conv2d: 2-15                      [100, 128, 8, 8]          147,584\n",
       "│    └─ReLU: 2-16                        [100, 128, 8, 8]          --\n",
       "│    └─MaxPool2d: 2-17                   [100, 128, 4, 4]          --\n",
       "│    └─Dropout2d: 2-18                   [100, 128, 4, 4]          --\n",
       "│    └─Flatten: 2-19                     [100, 2048]               --\n",
       "│    └─Linear: 2-20                      [100, 128]                262,272\n",
       "│    └─ReLU: 2-21                        [100, 128]                --\n",
       "│    └─Dropout: 2-22                     [100, 128]                --\n",
       "│    └─Linear: 2-23                      [100, 10]                 1,290\n",
       "==========================================================================================\n",
       "Total params: 550,570\n",
       "Trainable params: 550,570\n",
       "Non-trainable params: 0\n",
       "Total mult-adds (G): 3.90\n",
       "==========================================================================================\n",
       "Input size (MB): 1.23\n",
       "Forward/backward pass size (MB): 91.86\n",
       "Params size (MB): 2.20\n",
       "Estimated Total Size (MB): 95.29\n",
       "=========================================================================================="
      ]
     },
     "execution_count": 8,
     "metadata": {},
     "output_type": "execute_result"
    }
   ],
   "source": [
    "from Models import VGGNet\n",
    "\n",
    "VGGNN = VGGNet(input_shape, num_labels, initial_lr=parameters[\"lr\"], momentum=parameters[\"momentum\"], weight_decay=0, p_drop=0.2)\n",
    "\n",
    "summary(VGGNN, input_shape)"
   ]
  },
  {
   "cell_type": "code",
   "execution_count": 9,
   "metadata": {},
   "outputs": [],
   "source": [
    "PATH = \"models/VGG/VGGNet.pth\"\n",
    "\n",
    "if exists(PATH):\n",
    "    VGGNN = torch.load(PATH)\n",
    "    VGGNN.eval()"
   ]
  },
  {
   "cell_type": "code",
   "execution_count": 10,
   "metadata": {},
   "outputs": [
    {
     "name": "stdout",
     "output_type": "stream",
     "text": [
      "[1,   100] train_loss: 2.303\n",
      "test_loss: 2.304, test_accuracy: 10.0\n",
      "[1,   200] train_loss: 2.303\n",
      "test_loss: 2.296, test_accuracy: 12.11\n",
      "[1,   300] train_loss: 2.160\n",
      "test_loss: 2.003, test_accuracy: 27.96\n",
      "[1,   400] train_loss: 1.952\n",
      "test_loss: 1.851, test_accuracy: 31.26\n",
      "[1,   500] train_loss: 1.838\n",
      "test_loss: 1.698, test_accuracy: 38.71\n",
      "[2,   100] train_loss: 1.715\n",
      "test_loss: 1.595, test_accuracy: 40.7\n",
      "[2,   200] train_loss: 1.647\n",
      "test_loss: 1.507, test_accuracy: 44.67\n",
      "[2,   300] train_loss: 1.591\n",
      "test_loss: 1.425, test_accuracy: 47.76\n",
      "[2,   400] train_loss: 1.535\n",
      "test_loss: 1.399, test_accuracy: 48.73\n",
      "[2,   500] train_loss: 1.496\n",
      "test_loss: 1.486, test_accuracy: 47.38\n",
      "[3,   100] train_loss: 1.427\n",
      "test_loss: 1.277, test_accuracy: 53.67\n",
      "[3,   200] train_loss: 1.382\n",
      "test_loss: 1.251, test_accuracy: 54.75\n",
      "[3,   300] train_loss: 1.314\n",
      "test_loss: 1.166, test_accuracy: 57.86\n",
      "[3,   400] train_loss: 1.286\n",
      "test_loss: 1.139, test_accuracy: 58.84\n",
      "[3,   500] train_loss: 1.296\n",
      "test_loss: 1.090, test_accuracy: 60.51\n",
      "[4,   100] train_loss: 1.188\n",
      "test_loss: 1.090, test_accuracy: 60.92\n",
      "[4,   200] train_loss: 1.175\n",
      "test_loss: 1.054, test_accuracy: 62.05\n",
      "[4,   300] train_loss: 1.178\n",
      "test_loss: 1.020, test_accuracy: 64.13\n",
      "[4,   400] train_loss: 1.149\n",
      "test_loss: 0.986, test_accuracy: 64.56\n",
      "[4,   500] train_loss: 1.134\n",
      "test_loss: 0.942, test_accuracy: 66.72\n",
      "[5,   100] train_loss: 1.077\n",
      "test_loss: 0.980, test_accuracy: 65.59\n",
      "[5,   200] train_loss: 1.054\n",
      "test_loss: 0.924, test_accuracy: 67.85\n",
      "[5,   300] train_loss: 1.045\n",
      "test_loss: 0.905, test_accuracy: 67.55\n",
      "[5,   400] train_loss: 1.044\n",
      "test_loss: 0.916, test_accuracy: 67.72\n",
      "[5,   500] train_loss: 1.006\n",
      "test_loss: 0.902, test_accuracy: 68.55\n",
      "[6,   100] train_loss: 0.981\n",
      "test_loss: 0.920, test_accuracy: 67.73\n",
      "[6,   200] train_loss: 0.970\n",
      "test_loss: 0.847, test_accuracy: 70.48\n",
      "[6,   300] train_loss: 0.967\n",
      "test_loss: 0.815, test_accuracy: 71.81\n",
      "[6,   400] train_loss: 0.963\n",
      "test_loss: 0.818, test_accuracy: 71.35\n",
      "[6,   500] train_loss: 0.937\n",
      "test_loss: 0.782, test_accuracy: 73.24\n",
      "[7,   100] train_loss: 0.914\n",
      "test_loss: 0.843, test_accuracy: 70.95\n",
      "[7,   200] train_loss: 0.918\n",
      "test_loss: 0.782, test_accuracy: 73.33\n",
      "[7,   300] train_loss: 0.897\n",
      "test_loss: 0.804, test_accuracy: 71.83\n",
      "[7,   400] train_loss: 0.890\n",
      "test_loss: 0.768, test_accuracy: 73.41\n",
      "[7,   500] train_loss: 0.904\n",
      "test_loss: 0.765, test_accuracy: 73.35\n",
      "[8,   100] train_loss: 0.868\n",
      "test_loss: 0.769, test_accuracy: 73.67\n",
      "[8,   200] train_loss: 0.891\n",
      "test_loss: 0.749, test_accuracy: 74.14\n",
      "[8,   300] train_loss: 0.880\n",
      "test_loss: 0.754, test_accuracy: 73.8\n",
      "[8,   400] train_loss: 0.846\n",
      "test_loss: 0.757, test_accuracy: 74.4\n",
      "[8,   500] train_loss: 0.848\n",
      "test_loss: 0.771, test_accuracy: 73.49\n",
      "[9,   100] train_loss: 0.816\n",
      "test_loss: 0.722, test_accuracy: 75.45\n",
      "[9,   200] train_loss: 0.836\n",
      "test_loss: 0.737, test_accuracy: 74.03\n",
      "[9,   300] train_loss: 0.815\n",
      "test_loss: 0.722, test_accuracy: 75.02\n",
      "[9,   400] train_loss: 0.809\n",
      "test_loss: 0.707, test_accuracy: 75.64\n",
      "[9,   500] train_loss: 0.847\n",
      "test_loss: 0.745, test_accuracy: 74.12\n",
      "[10,   100] train_loss: 0.786\n",
      "test_loss: 0.746, test_accuracy: 74.55\n",
      "[10,   200] train_loss: 0.796\n",
      "test_loss: 0.731, test_accuracy: 75.2\n",
      "[10,   300] train_loss: 0.781\n",
      "test_loss: 0.727, test_accuracy: 75.05\n",
      "[10,   400] train_loss: 0.809\n",
      "test_loss: 0.696, test_accuracy: 76.61\n",
      "[10,   500] train_loss: 0.784\n",
      "test_loss: 0.742, test_accuracy: 74.24\n",
      "[11,   100] train_loss: 0.740\n",
      "test_loss: 0.705, test_accuracy: 76.1\n",
      "[11,   200] train_loss: 0.767\n",
      "test_loss: 0.735, test_accuracy: 74.94\n",
      "[11,   300] train_loss: 0.787\n",
      "test_loss: 0.681, test_accuracy: 76.91\n",
      "[11,   400] train_loss: 0.782\n",
      "test_loss: 0.699, test_accuracy: 75.45\n",
      "Epoch 00054: reducing learning rate of group 0 to 4.6875e-02.\n",
      "[11,   500] train_loss: 0.717\n",
      "test_loss: 0.641, test_accuracy: 77.89\n",
      "[12,   100] train_loss: 0.674\n",
      "test_loss: 0.626, test_accuracy: 78.77\n",
      "[12,   200] train_loss: 0.634\n",
      "test_loss: 0.637, test_accuracy: 78.31\n",
      "[12,   300] train_loss: 0.618\n",
      "test_loss: 0.626, test_accuracy: 78.57\n",
      "[12,   400] train_loss: 0.646\n",
      "test_loss: 0.635, test_accuracy: 78.43\n",
      "[12,   500] train_loss: 0.651\n",
      "test_loss: 0.615, test_accuracy: 78.74\n",
      "[13,   100] train_loss: 0.596\n",
      "test_loss: 0.627, test_accuracy: 78.79\n",
      "[13,   200] train_loss: 0.624\n",
      "test_loss: 0.612, test_accuracy: 79.22\n",
      "[13,   300] train_loss: 0.636\n",
      "test_loss: 0.609, test_accuracy: 79.36\n",
      "[13,   400] train_loss: 0.657\n",
      "test_loss: 0.613, test_accuracy: 79.27\n",
      "Epoch 00064: reducing learning rate of group 0 to 2.3438e-02.\n",
      "[13,   500] train_loss: 0.599\n",
      "test_loss: 0.593, test_accuracy: 80.1\n",
      "[14,   100] train_loss: 0.555\n",
      "test_loss: 0.599, test_accuracy: 79.95\n",
      "[14,   200] train_loss: 0.577\n",
      "test_loss: 0.582, test_accuracy: 80.36\n",
      "[14,   300] train_loss: 0.579\n",
      "test_loss: 0.579, test_accuracy: 80.49\n",
      "[14,   400] train_loss: 0.545\n",
      "test_loss: 0.585, test_accuracy: 80.24\n",
      "[14,   500] train_loss: 0.562\n",
      "test_loss: 0.593, test_accuracy: 80.03\n",
      "[15,   100] train_loss: 0.541\n",
      "test_loss: 0.582, test_accuracy: 80.15\n",
      "[15,   200] train_loss: 0.523\n",
      "test_loss: 0.575, test_accuracy: 80.81\n",
      "[15,   300] train_loss: 0.549\n",
      "test_loss: 0.575, test_accuracy: 80.7\n",
      "[15,   400] train_loss: 0.569\n",
      "test_loss: 0.583, test_accuracy: 80.42\n",
      "[15,   500] train_loss: 0.563\n",
      "test_loss: 0.574, test_accuracy: 80.48\n",
      "Epoch 00075: reducing learning rate of group 0 to 1.1719e-02.\n",
      "[16,   100] train_loss: 0.532\n",
      "test_loss: 0.572, test_accuracy: 80.93\n",
      "[16,   200] train_loss: 0.506\n",
      "test_loss: 0.572, test_accuracy: 80.73\n",
      "[16,   300] train_loss: 0.534\n",
      "test_loss: 0.568, test_accuracy: 81.25\n",
      "[16,   400] train_loss: 0.531\n",
      "test_loss: 0.562, test_accuracy: 81.12\n",
      "[16,   500] train_loss: 0.494\n",
      "test_loss: 0.559, test_accuracy: 81.41\n",
      "[17,   100] train_loss: 0.492\n",
      "test_loss: 0.561, test_accuracy: 81.19\n",
      "[17,   200] train_loss: 0.512\n",
      "test_loss: 0.561, test_accuracy: 81.3\n",
      "[17,   300] train_loss: 0.500\n",
      "test_loss: 0.558, test_accuracy: 81.53\n",
      "[17,   400] train_loss: 0.514\n",
      "test_loss: 0.564, test_accuracy: 81.38\n",
      "Epoch 00084: reducing learning rate of group 0 to 5.8594e-03.\n",
      "[17,   500] train_loss: 0.483\n",
      "test_loss: 0.556, test_accuracy: 81.7\n",
      "[18,   100] train_loss: 0.478\n",
      "test_loss: 0.561, test_accuracy: 81.57\n",
      "[18,   200] train_loss: 0.497\n",
      "test_loss: 0.554, test_accuracy: 81.7\n",
      "[18,   300] train_loss: 0.518\n",
      "test_loss: 0.554, test_accuracy: 81.79\n",
      "[18,   400] train_loss: 0.506\n",
      "test_loss: 0.558, test_accuracy: 81.47\n",
      "Epoch 00089: reducing learning rate of group 0 to 2.9297e-03.\n",
      "[18,   500] train_loss: 0.457\n",
      "test_loss: 0.557, test_accuracy: 81.53\n",
      "[19,   100] train_loss: 0.468\n",
      "test_loss: 0.553, test_accuracy: 81.73\n",
      "[19,   200] train_loss: 0.468\n",
      "test_loss: 0.553, test_accuracy: 81.68\n",
      "[19,   300] train_loss: 0.474\n",
      "test_loss: 0.557, test_accuracy: 81.72\n",
      "Epoch 00093: reducing learning rate of group 0 to 1.4648e-03.\n",
      "[19,   400] train_loss: 0.471\n",
      "test_loss: 0.551, test_accuracy: 81.68\n",
      "[19,   500] train_loss: 0.495\n",
      "test_loss: 0.550, test_accuracy: 81.86\n",
      "[20,   100] train_loss: 0.496\n",
      "test_loss: 0.550, test_accuracy: 81.79\n",
      "Epoch 00096: reducing learning rate of group 0 to 7.3242e-04.\n",
      "[20,   200] train_loss: 0.467\n",
      "test_loss: 0.550, test_accuracy: 81.82\n",
      "[20,   300] train_loss: 0.479\n",
      "test_loss: 0.550, test_accuracy: 81.78\n",
      "[20,   400] train_loss: 0.435\n",
      "test_loss: 0.551, test_accuracy: 81.85\n",
      "[20,   500] train_loss: 0.488\n",
      "test_loss: 0.550, test_accuracy: 81.88\n",
      "[21,   100] train_loss: 0.460\n",
      "test_loss: 0.552, test_accuracy: 81.89\n",
      "[21,   200] train_loss: 0.474\n",
      "test_loss: 0.551, test_accuracy: 81.89\n",
      "Epoch 00102: reducing learning rate of group 0 to 3.6621e-04.\n",
      "[21,   300] train_loss: 0.483\n",
      "test_loss: 0.550, test_accuracy: 81.89\n",
      "[21,   400] train_loss: 0.458\n",
      "test_loss: 0.551, test_accuracy: 81.91\n",
      "[21,   500] train_loss: 0.504\n",
      "test_loss: 0.551, test_accuracy: 81.87\n",
      "Epoch 00105: reducing learning rate of group 0 to 1.8311e-04.\n",
      "[22,   100] train_loss: 0.475\n",
      "test_loss: 0.551, test_accuracy: 81.89\n",
      "[22,   200] train_loss: 0.483\n",
      "test_loss: 0.551, test_accuracy: 81.87\n",
      "[22,   300] train_loss: 0.455\n",
      "test_loss: 0.551, test_accuracy: 81.82\n",
      "Epoch 00108: reducing learning rate of group 0 to 9.1553e-05.\n",
      "[22,   400] train_loss: 0.489\n",
      "test_loss: 0.551, test_accuracy: 81.82\n",
      "[22,   500] train_loss: 0.460\n",
      "test_loss: 0.551, test_accuracy: 81.86\n",
      "[23,   100] train_loss: 0.505\n",
      "test_loss: 0.551, test_accuracy: 81.85\n",
      "Epoch 00111: reducing learning rate of group 0 to 4.5776e-05.\n",
      "[23,   200] train_loss: 0.451\n",
      "test_loss: 0.551, test_accuracy: 81.83\n",
      "[23,   300] train_loss: 0.468\n",
      "test_loss: 0.551, test_accuracy: 81.84\n",
      "[23,   400] train_loss: 0.463\n",
      "test_loss: 0.551, test_accuracy: 81.85\n",
      "Epoch 00114: reducing learning rate of group 0 to 2.2888e-05.\n",
      "[23,   500] train_loss: 0.463\n",
      "test_loss: 0.551, test_accuracy: 81.88\n",
      "[24,   100] train_loss: 0.482\n",
      "test_loss: 0.551, test_accuracy: 81.89\n",
      "[24,   200] train_loss: 0.464\n",
      "test_loss: 0.551, test_accuracy: 81.88\n",
      "Epoch 00117: reducing learning rate of group 0 to 1.1444e-05.\n",
      "[24,   300] train_loss: 0.466\n",
      "test_loss: 0.551, test_accuracy: 81.88\n",
      "[24,   400] train_loss: 0.448\n",
      "test_loss: 0.551, test_accuracy: 81.89\n",
      "[24,   500] train_loss: 0.463\n",
      "test_loss: 0.551, test_accuracy: 81.88\n",
      "Epoch 00120: reducing learning rate of group 0 to 5.7220e-06.\n",
      "[25,   100] train_loss: 0.472\n",
      "test_loss: 0.551, test_accuracy: 81.88\n",
      "[25,   200] train_loss: 0.467\n",
      "test_loss: 0.551, test_accuracy: 81.88\n",
      "[25,   300] train_loss: 0.475\n",
      "test_loss: 0.551, test_accuracy: 81.88\n",
      "Epoch 00123: reducing learning rate of group 0 to 2.8610e-06.\n",
      "[25,   400] train_loss: 0.465\n",
      "test_loss: 0.551, test_accuracy: 81.88\n",
      "[25,   500] train_loss: 0.430\n",
      "test_loss: 0.551, test_accuracy: 81.88\n",
      "[26,   100] train_loss: 0.454\n",
      "test_loss: 0.551, test_accuracy: 81.88\n",
      "[26,   200] train_loss: 0.473\n",
      "test_loss: 0.551, test_accuracy: 81.88\n",
      "[26,   300] train_loss: 0.465\n",
      "test_loss: 0.551, test_accuracy: 81.88\n",
      "Epoch 00128: reducing learning rate of group 0 to 1.4305e-06.\n",
      "[26,   400] train_loss: 0.479\n",
      "test_loss: 0.551, test_accuracy: 81.88\n",
      "[26,   500] train_loss: 0.454\n",
      "test_loss: 0.551, test_accuracy: 81.88\n",
      "[27,   100] train_loss: 0.455\n",
      "test_loss: 0.551, test_accuracy: 81.88\n",
      "Epoch 00131: reducing learning rate of group 0 to 7.1526e-07.\n",
      "[27,   200] train_loss: 0.482\n",
      "test_loss: 0.551, test_accuracy: 81.88\n",
      "[27,   300] train_loss: 0.487\n",
      "test_loss: 0.551, test_accuracy: 81.88\n",
      "[27,   400] train_loss: 0.477\n",
      "test_loss: 0.551, test_accuracy: 81.88\n",
      "Epoch 00134: reducing learning rate of group 0 to 3.5763e-07.\n",
      "[27,   500] train_loss: 0.468\n",
      "test_loss: 0.551, test_accuracy: 81.88\n",
      "[28,   100] train_loss: 0.464\n",
      "test_loss: 0.551, test_accuracy: 81.88\n",
      "[28,   200] train_loss: 0.457\n",
      "test_loss: 0.551, test_accuracy: 81.88\n",
      "Epoch 00137: reducing learning rate of group 0 to 1.7881e-07.\n",
      "[28,   300] train_loss: 0.479\n",
      "test_loss: 0.551, test_accuracy: 81.88\n",
      "[28,   400] train_loss: 0.446\n",
      "test_loss: 0.551, test_accuracy: 81.88\n",
      "[28,   500] train_loss: 0.475\n",
      "test_loss: 0.551, test_accuracy: 81.88\n",
      "Epoch 00140: reducing learning rate of group 0 to 8.9407e-08.\n",
      "[29,   100] train_loss: 0.475\n",
      "test_loss: 0.551, test_accuracy: 81.88\n",
      "[29,   200] train_loss: 0.471\n",
      "test_loss: 0.551, test_accuracy: 81.88\n",
      "[29,   300] train_loss: 0.472\n",
      "test_loss: 0.551, test_accuracy: 81.88\n",
      "Epoch 00143: reducing learning rate of group 0 to 4.4703e-08.\n",
      "[29,   400] train_loss: 0.464\n",
      "test_loss: 0.551, test_accuracy: 81.88\n",
      "[29,   500] train_loss: 0.441\n",
      "test_loss: 0.551, test_accuracy: 81.88\n",
      "[30,   100] train_loss: 0.498\n",
      "test_loss: 0.551, test_accuracy: 81.88\n",
      "Epoch 00146: reducing learning rate of group 0 to 2.2352e-08.\n",
      "[30,   200] train_loss: 0.450\n",
      "test_loss: 0.551, test_accuracy: 81.88\n",
      "[30,   300] train_loss: 0.446\n",
      "test_loss: 0.551, test_accuracy: 81.88\n",
      "[30,   400] train_loss: 0.453\n",
      "test_loss: 0.551, test_accuracy: 81.88\n",
      "Epoch 00149: reducing learning rate of group 0 to 1.1176e-08.\n",
      "[30,   500] train_loss: 0.447\n",
      "test_loss: 0.551, test_accuracy: 81.88\n"
     ]
    }
   ],
   "source": [
    "criterion = CrossEntropyLoss()\n",
    "epochs = 30\n",
    "\n",
    "train_NN(VGGNN, criterion, train_dataloader, test_dataloader, epochs=epochs, batches_to_test=100,\n",
    "        patience=2, device=device, print_test=True, verbose=True, p_randomTransform=parameters[\"p_randomTransform\"])"
   ]
  },
  {
   "cell_type": "code",
   "execution_count": 11,
   "metadata": {},
   "outputs": [],
   "source": [
    "torch.save(VGGNN, \"./models/VGG/VGGNet.pth\")"
   ]
  },
  {
   "cell_type": "code",
   "execution_count": 8,
   "metadata": {},
   "outputs": [],
   "source": [
    "VGGNN = torch.load(\"./models/VGG/VGGNet.pth\")"
   ]
  },
  {
   "cell_type": "code",
   "execution_count": 9,
   "metadata": {},
   "outputs": [
    {
     "data": {
      "image/png": "[encoded data removed]",
      "text/plain": [
       "<Figure size 432x288 with 1 Axes>"
      ]
     },
     "metadata": {
      "needs_background": "light"
     },
     "output_type": "display_data"
    },
    {
     "data": {
      "image/png": "[encoded data removed]",
      "text/plain": [
       "<Figure size 432x288 with 1 Axes>"
      ]
     },
     "metadata": {
      "needs_background": "light"
     },
     "output_type": "display_data"
    }
   ],
   "source": [
    "plot_loss(VGGNN)\n",
    "plot_acc(VGGNN)"
   ]
  },
  {
   "cell_type": "code",
   "execution_count": 5,
   "metadata": {},
   "outputs": [
    {
     "name": "stdout",
     "output_type": "stream",
     "text": [
      "Training time (s):\n",
      "mean: 6.193\n",
      "std: 0.388\n"
     ]
    }
   ],
   "source": [
    "print(\"Training time (s):\")\n",
    "print(f\"mean: {round(np.mean(VGGNN.train_time), 3)}\")\n",
    "print(f\"std: {round(np.std(VGGNN.train_time), 3)}\")"
   ]
  },
  {
   "cell_type": "code",
   "execution_count": 9,
   "metadata": {},
   "outputs": [
    {
     "name": "stdout",
     "output_type": "stream",
     "text": [
      "0\n",
      "2965349400\n",
      "1\n",
      "1983400\n",
      "2\n",
      "2297700\n",
      "3\n",
      "1431500\n",
      "4\n",
      "2116700\n",
      "5\n",
      "2145300\n",
      "6\n",
      "1874200\n",
      "7\n",
      "1369200\n",
      "8\n",
      "2166600\n",
      "9\n",
      "2002400\n",
      "10\n",
      "5108400\n",
      "11\n",
      "2049800\n",
      "12\n",
      "1617700\n",
      "13\n",
      "1544400\n",
      "14\n",
      "2309000\n",
      "15\n",
      "2087300\n",
      "16\n",
      "1578300\n",
      "17\n",
      "1961000\n",
      "18\n",
      "1535900\n",
      "19\n",
      "1949600\n",
      "20\n",
      "1919600\n",
      "21\n",
      "2240900\n",
      "22\n",
      "1348100\n",
      "23\n",
      "2028000\n",
      "24\n",
      "2146300\n",
      "25\n",
      "1338300\n",
      "26\n",
      "1784600\n",
      "27\n",
      "1618800\n",
      "28\n",
      "1353500\n",
      "29\n",
      "1968600\n",
      "30\n",
      "1524600\n",
      "31\n",
      "1913800\n",
      "32\n",
      "1357100\n",
      "33\n",
      "1895500\n",
      "34\n",
      "1989400\n",
      "35\n",
      "1427200\n",
      "36\n",
      "1623800\n",
      "37\n",
      "2202400\n",
      "38\n",
      "1612100\n",
      "39\n",
      "1557000\n",
      "40\n",
      "2696800\n",
      "41\n",
      "1934100\n",
      "42\n",
      "2250100\n",
      "43\n",
      "1606300\n",
      "44\n",
      "1607200\n",
      "45\n",
      "1506100\n",
      "46\n",
      "1789200\n",
      "47\n",
      "1490700\n",
      "48\n",
      "1621300\n",
      "49\n",
      "2225000\n",
      "50\n",
      "2343200\n",
      "51\n",
      "1626800\n",
      "52\n",
      "2493200\n",
      "53\n",
      "2649500\n",
      "54\n",
      "1457100\n",
      "55\n",
      "2106600\n",
      "56\n",
      "1934900\n",
      "57\n",
      "2158000\n",
      "58\n",
      "2234500\n",
      "59\n",
      "2271600\n",
      "60\n",
      "2743500\n",
      "61\n",
      "2511100\n",
      "62\n",
      "1999500\n",
      "63\n",
      "2286900\n",
      "64\n",
      "2425300\n",
      "65\n",
      "1684500\n",
      "66\n",
      "1881600\n",
      "67\n",
      "2012400\n",
      "68\n",
      "2042300\n",
      "69\n",
      "2018700\n",
      "70\n",
      "2207300\n",
      "71\n",
      "1997800\n",
      "72\n",
      "2617300\n",
      "73\n",
      "2339400\n",
      "74\n",
      "2220900\n",
      "75\n",
      "2066100\n",
      "76\n",
      "1609200\n",
      "77\n",
      "1397600\n",
      "78\n",
      "1759900\n",
      "79\n",
      "1382100\n",
      "80\n",
      "1433800\n",
      "81\n",
      "2004300\n",
      "82\n",
      "2336000\n",
      "83\n",
      "1385500\n",
      "84\n",
      "2300100\n",
      "85\n",
      "1916300\n",
      "86\n",
      "2038400\n",
      "87\n",
      "1984200\n",
      "88\n",
      "2226200\n",
      "89\n",
      "1645700\n",
      "90\n",
      "2492900\n",
      "91\n",
      "2139600\n",
      "92\n",
      "1988000\n",
      "93\n",
      "1662500\n",
      "94\n",
      "1500300\n",
      "95\n",
      "1377400\n",
      "96\n",
      "2789400\n",
      "97\n",
      "1957300\n",
      "98\n",
      "1602000\n",
      "99\n",
      "1865800\n",
      "Inference time (ns)\n",
      "3.159e+07\n",
      "2.9e+08\n"
     ]
    }
   ],
   "source": [
    "inference_times = inference_time(VGGNN, test_dataloader, device)\n",
    "print(\"Inference time (ns)\")\n",
    "print(format(np.mean(inference_times), \".3e\"))\n",
    "print(format(np.std(inference_times), \".1e\"))"
   ]
  },
  {
   "cell_type": "markdown",
   "metadata": {},
   "source": [
    "## ASL VGG"
   ]
  },
  {
   "cell_type": "code",
   "execution_count": 4,
   "metadata": {},
   "outputs": [
    {
     "name": "stdout",
     "output_type": "stream",
     "text": [
      "[{'acc': 82.592, 'lr': 0.05224609375, 'momentum': 0.78564453125, 'p_randomTransform': 0.0107421875}, {'acc': 79.078, 'lr': 0.08947506874612457, 'momentum': 0.5519628906250001, 'p_randomTransform': 0.6442425579588916}, {'acc': 78.9, 'lr': 0.10085937499999999, 'momentum': 0.6542951899242178, 'p_randomTransform': 0.5951562499999999}]\n"
     ]
    }
   ],
   "source": [
    "# mock train_function of Optimizer to load the optimizer\n",
    "train_function = None\n",
    "\n",
    "with open('models/VGG/ASL_VGG_optimizer.pkl', 'rb') as file:\n",
    "    ASL_VGG_optim = pickle.load(file)\n",
    "\n",
    "best_parameters = ASL_VGG_optim.get_best_parameters(3)\n",
    "print(best_parameters)\n",
    "parameters = best_parameters[1]"
   ]
  },
  {
   "cell_type": "code",
   "execution_count": 5,
   "metadata": {},
   "outputs": [
    {
     "data": {
      "text/plain": [
       "==========================================================================================\n",
       "Layer (type:depth-idx)                   Output Shape              Param #\n",
       "==========================================================================================\n",
       "ASL_VGGNet                               [100, 10]                 --\n",
       "├─Sequential: 1-1                        --                        --\n",
       "│    └─Conv2d: 2-1                       [100, 32, 32, 32]         896\n",
       "│    └─ReLU: 2-2                         [100, 32, 32, 32]         --\n",
       "│    └─CSC_block: 2-3                    [100, 32, 32, 32]         --\n",
       "│    │    └─Sequential: 3-1              --                        2,240\n",
       "│    │    └─Identity: 3-2                [100, 32, 32, 32]         --\n",
       "│    └─ReLU: 2-4                         [100, 32, 32, 32]         --\n",
       "│    └─MaxPool2d: 2-5                    [100, 32, 16, 16]         --\n",
       "│    └─Dropout2d: 2-6                    [100, 32, 16, 16]         --\n",
       "│    └─CSC_block: 2-7                    [100, 64, 16, 16]         --\n",
       "│    │    └─Sequential: 3-3              --                        2,240\n",
       "│    │    └─Conv2d: 3-4                  [100, 64, 16, 16]         2,112\n",
       "│    └─ReLU: 2-8                         [100, 64, 16, 16]         --\n",
       "│    └─CSC_block: 2-9                    [100, 64, 16, 16]         --\n",
       "│    │    └─Sequential: 3-5              --                        8,576\n",
       "│    │    └─Identity: 3-6                [100, 64, 16, 16]         --\n",
       "│    └─ReLU: 2-10                        [100, 64, 16, 16]         --\n",
       "│    └─MaxPool2d: 2-11                   [100, 64, 8, 8]           --\n",
       "│    └─Dropout2d: 2-12                   [100, 64, 8, 8]           --\n",
       "│    └─CSC_block: 2-13                   [100, 128, 8, 8]          --\n",
       "│    │    └─Sequential: 3-7              --                        8,576\n",
       "│    │    └─Conv2d: 3-8                  [100, 128, 8, 8]          8,320\n",
       "│    └─ReLU: 2-14                        [100, 128, 8, 8]          --\n",
       "│    └─CSC_block: 2-15                   [100, 128, 8, 8]          --\n",
       "│    │    └─Sequential: 3-9              --                        33,536\n",
       "│    │    └─Identity: 3-10               [100, 128, 8, 8]          --\n",
       "│    └─ReLU: 2-16                        [100, 128, 8, 8]          --\n",
       "│    └─MaxPool2d: 2-17                   [100, 128, 4, 4]          --\n",
       "│    └─Dropout2d: 2-18                   [100, 128, 4, 4]          --\n",
       "│    └─Flatten: 2-19                     [100, 2048]               --\n",
       "│    └─Linear: 2-20                      [100, 128]                262,272\n",
       "│    └─ReLU: 2-21                        [100, 128]                --\n",
       "│    └─Dropout: 2-22                     [100, 128]                --\n",
       "│    └─Linear: 2-23                      [100, 10]                 1,290\n",
       "==========================================================================================\n",
       "Total params: 330,058\n",
       "Trainable params: 330,058\n",
       "Non-trainable params: 0\n",
       "Total mult-adds (M): 973.42\n",
       "==========================================================================================\n",
       "Input size (MB): 1.23\n",
       "Forward/backward pass size (MB): 268.81\n",
       "Params size (MB): 1.32\n",
       "Estimated Total Size (MB): 271.36\n",
       "=========================================================================================="
      ]
     },
     "execution_count": 5,
     "metadata": {},
     "output_type": "execute_result"
    }
   ],
   "source": [
    "from Models import ASL_VGGNet\n",
    "\n",
    "ASL_VGGNN = ASL_VGGNet(input_shape, num_labels, initial_lr=parameters[\"lr\"], momentum=parameters[\"momentum\"], weight_decay=0, device=device, p_drop=0.2, expansion_rate=1)\n",
    "\n",
    "summary(ASL_VGGNN, input_shape)"
   ]
  },
  {
   "cell_type": "code",
   "execution_count": 10,
   "metadata": {},
   "outputs": [],
   "source": [
    "PATH = \"models/VGG/ASL_VGGNet.pth\"\n",
    "\n",
    "if exists(PATH):\n",
    "    ASL_VGGNN = torch.load(PATH)\n",
    "    ASL_VGGNN.eval()"
   ]
  },
  {
   "cell_type": "code",
   "execution_count": 6,
   "metadata": {},
   "outputs": [
    {
     "name": "stdout",
     "output_type": "stream",
     "text": [
      "[1,   100] train_loss: 2.031\n",
      "test_loss: 1.742, test_accuracy: 34.33\n",
      "[1,   200] train_loss: 1.760\n",
      "test_loss: 1.609, test_accuracy: 38.84\n",
      "[1,   300] train_loss: 1.672\n",
      "test_loss: 1.578, test_accuracy: 40.73\n",
      "[1,   400] train_loss: 1.601\n",
      "test_loss: 1.479, test_accuracy: 45.06\n",
      "[1,   500] train_loss: 1.566\n",
      "test_loss: 1.437, test_accuracy: 46.52\n",
      "[2,   100] train_loss: 1.506\n",
      "test_loss: 1.424, test_accuracy: 47.71\n",
      "[2,   200] train_loss: 1.508\n",
      "test_loss: 1.389, test_accuracy: 49.55\n",
      "[2,   300] train_loss: 1.443\n",
      "test_loss: 1.286, test_accuracy: 52.77\n",
      "[2,   400] train_loss: 1.431\n",
      "test_loss: 1.255, test_accuracy: 53.94\n",
      "[2,   500] train_loss: 1.407\n",
      "test_loss: 1.237, test_accuracy: 55.31\n",
      "[3,   100] train_loss: 1.363\n",
      "test_loss: 1.205, test_accuracy: 55.92\n",
      "[3,   200] train_loss: 1.340\n",
      "test_loss: 1.245, test_accuracy: 55.14\n",
      "[3,   300] train_loss: 1.328\n",
      "test_loss: 1.172, test_accuracy: 58.06\n",
      "[3,   400] train_loss: 1.316\n",
      "test_loss: 1.126, test_accuracy: 59.53\n",
      "[3,   500] train_loss: 1.292\n",
      "test_loss: 1.116, test_accuracy: 59.93\n",
      "[4,   100] train_loss: 1.256\n",
      "test_loss: 1.094, test_accuracy: 59.8\n",
      "[4,   200] train_loss: 1.245\n",
      "test_loss: 1.093, test_accuracy: 61.1\n",
      "[4,   300] train_loss: 1.248\n",
      "test_loss: 1.058, test_accuracy: 62.32\n",
      "[4,   400] train_loss: 1.232\n",
      "test_loss: 1.060, test_accuracy: 62.82\n",
      "[4,   500] train_loss: 1.187\n",
      "test_loss: 1.062, test_accuracy: 61.12\n",
      "[5,   100] train_loss: 1.177\n",
      "test_loss: 1.088, test_accuracy: 61.85\n",
      "[5,   200] train_loss: 1.173\n",
      "test_loss: 0.990, test_accuracy: 64.85\n",
      "[5,   300] train_loss: 1.152\n",
      "test_loss: 1.000, test_accuracy: 63.99\n",
      "[5,   400] train_loss: 1.150\n",
      "test_loss: 0.983, test_accuracy: 65.36\n",
      "[5,   500] train_loss: 1.138\n",
      "test_loss: 0.978, test_accuracy: 64.62\n",
      "[6,   100] train_loss: 1.107\n",
      "test_loss: 1.001, test_accuracy: 64.59\n",
      "[6,   200] train_loss: 1.108\n",
      "test_loss: 0.949, test_accuracy: 66.78\n",
      "[6,   300] train_loss: 1.084\n",
      "test_loss: 0.961, test_accuracy: 65.8\n",
      "[6,   400] train_loss: 1.094\n",
      "test_loss: 0.913, test_accuracy: 67.44\n",
      "[6,   500] train_loss: 1.082\n",
      "test_loss: 0.904, test_accuracy: 68.2\n",
      "[7,   100] train_loss: 1.036\n",
      "test_loss: 1.014, test_accuracy: 64.13\n",
      "[7,   200] train_loss: 1.080\n",
      "test_loss: 0.900, test_accuracy: 68.23\n",
      "[7,   300] train_loss: 1.049\n",
      "test_loss: 0.942, test_accuracy: 67.06\n",
      "[7,   400] train_loss: 1.031\n",
      "test_loss: 0.884, test_accuracy: 68.97\n",
      "[7,   500] train_loss: 1.043\n",
      "test_loss: 0.874, test_accuracy: 68.9\n",
      "[8,   100] train_loss: 1.002\n",
      "test_loss: 0.880, test_accuracy: 68.75\n",
      "[8,   200] train_loss: 1.014\n",
      "test_loss: 0.920, test_accuracy: 67.59\n",
      "[8,   300] train_loss: 0.997\n",
      "test_loss: 0.884, test_accuracy: 68.62\n",
      "[8,   400] train_loss: 0.988\n",
      "test_loss: 0.915, test_accuracy: 67.08\n",
      "[8,   500] train_loss: 1.009\n",
      "test_loss: 0.823, test_accuracy: 71.18\n",
      "[9,   100] train_loss: 0.978\n",
      "test_loss: 0.838, test_accuracy: 70.9\n",
      "[9,   200] train_loss: 0.982\n",
      "test_loss: 0.828, test_accuracy: 70.42\n",
      "[9,   300] train_loss: 0.975\n",
      "test_loss: 0.815, test_accuracy: 71.03\n",
      "[9,   400] train_loss: 0.961\n",
      "test_loss: 0.930, test_accuracy: 67.81\n",
      "[9,   500] train_loss: 0.961\n",
      "test_loss: 0.825, test_accuracy: 71.11\n",
      "[10,   100] train_loss: 0.910\n",
      "test_loss: 0.813, test_accuracy: 71.45\n",
      "[10,   200] train_loss: 0.985\n",
      "test_loss: 0.812, test_accuracy: 71.97\n",
      "[10,   300] train_loss: 0.950\n",
      "test_loss: 0.802, test_accuracy: 71.85\n",
      "[10,   400] train_loss: 0.934\n",
      "test_loss: 0.829, test_accuracy: 70.46\n",
      "Epoch 00049: reducing learning rate of group 0 to 4.4738e-02.\n",
      "[10,   500] train_loss: 0.903\n",
      "test_loss: 0.754, test_accuracy: 73.69\n",
      "[11,   100] train_loss: 0.842\n",
      "test_loss: 0.743, test_accuracy: 74.12\n",
      "[11,   200] train_loss: 0.851\n",
      "test_loss: 0.756, test_accuracy: 73.35\n",
      "[11,   300] train_loss: 0.858\n",
      "test_loss: 0.767, test_accuracy: 72.82\n",
      "[11,   400] train_loss: 0.839\n",
      "test_loss: 0.753, test_accuracy: 73.61\n",
      "[11,   500] train_loss: 0.842\n",
      "test_loss: 0.749, test_accuracy: 73.25\n",
      "[12,   100] train_loss: 0.834\n",
      "test_loss: 0.761, test_accuracy: 73.38\n",
      "[12,   200] train_loss: 0.833\n",
      "test_loss: 0.758, test_accuracy: 73.44\n",
      "[12,   300] train_loss: 0.834\n",
      "test_loss: 0.737, test_accuracy: 74.57\n",
      "[12,   400] train_loss: 0.824\n",
      "test_loss: 0.716, test_accuracy: 74.62\n",
      "[12,   500] train_loss: 0.834\n",
      "test_loss: 0.734, test_accuracy: 74.16\n",
      "[13,   100] train_loss: 0.813\n",
      "test_loss: 0.731, test_accuracy: 74.46\n",
      "[13,   200] train_loss: 0.833\n",
      "test_loss: 0.732, test_accuracy: 74.21\n",
      "[13,   300] train_loss: 0.797\n",
      "test_loss: 0.718, test_accuracy: 74.79\n",
      "[13,   400] train_loss: 0.816\n",
      "test_loss: 0.714, test_accuracy: 74.76\n",
      "[13,   500] train_loss: 0.792\n",
      "test_loss: 0.713, test_accuracy: 74.55\n",
      "[14,   100] train_loss: 0.806\n",
      "test_loss: 0.746, test_accuracy: 73.87\n",
      "[14,   200] train_loss: 0.772\n",
      "test_loss: 0.729, test_accuracy: 74.24\n",
      "[14,   300] train_loss: 0.827\n",
      "test_loss: 0.730, test_accuracy: 74.19\n",
      "[14,   400] train_loss: 0.795\n",
      "test_loss: 0.697, test_accuracy: 75.55\n",
      "[14,   500] train_loss: 0.795\n",
      "test_loss: 0.696, test_accuracy: 75.76\n",
      "Epoch 00070: reducing learning rate of group 0 to 2.2369e-02.\n",
      "[15,   100] train_loss: 0.766\n",
      "test_loss: 0.705, test_accuracy: 75.38\n",
      "[15,   200] train_loss: 0.754\n",
      "test_loss: 0.681, test_accuracy: 76.48\n",
      "[15,   300] train_loss: 0.751\n",
      "test_loss: 0.687, test_accuracy: 75.82\n",
      "[15,   400] train_loss: 0.768\n",
      "test_loss: 0.698, test_accuracy: 75.73\n",
      "[15,   500] train_loss: 0.752\n",
      "test_loss: 0.686, test_accuracy: 75.83\n",
      "[16,   100] train_loss: 0.730\n",
      "test_loss: 0.688, test_accuracy: 75.99\n",
      "[16,   200] train_loss: 0.743\n",
      "test_loss: 0.706, test_accuracy: 75.46\n",
      "[16,   300] train_loss: 0.727\n",
      "test_loss: 0.682, test_accuracy: 76.26\n",
      "[16,   400] train_loss: 0.743\n",
      "test_loss: 0.684, test_accuracy: 75.97\n",
      "[16,   500] train_loss: 0.737\n",
      "test_loss: 0.686, test_accuracy: 75.96\n",
      "[17,   100] train_loss: 0.738\n",
      "test_loss: 0.703, test_accuracy: 75.36\n",
      "Epoch 00081: reducing learning rate of group 0 to 1.1184e-02.\n",
      "[17,   200] train_loss: 0.736\n",
      "test_loss: 0.665, test_accuracy: 76.75\n",
      "[17,   300] train_loss: 0.716\n",
      "test_loss: 0.667, test_accuracy: 76.49\n",
      "[17,   400] train_loss: 0.721\n",
      "test_loss: 0.667, test_accuracy: 76.5\n",
      "[17,   500] train_loss: 0.708\n",
      "test_loss: 0.665, test_accuracy: 76.62\n",
      "[18,   100] train_loss: 0.709\n",
      "test_loss: 0.667, test_accuracy: 76.79\n",
      "[18,   200] train_loss: 0.720\n",
      "test_loss: 0.669, test_accuracy: 76.35\n",
      "[18,   300] train_loss: 0.697\n",
      "test_loss: 0.653, test_accuracy: 77.13\n",
      "[18,   400] train_loss: 0.720\n",
      "test_loss: 0.650, test_accuracy: 77.38\n",
      "[18,   500] train_loss: 0.705\n",
      "test_loss: 0.667, test_accuracy: 76.51\n",
      "[19,   100] train_loss: 0.708\n",
      "test_loss: 0.666, test_accuracy: 76.58\n",
      "Epoch 00091: reducing learning rate of group 0 to 5.5922e-03.\n",
      "[19,   200] train_loss: 0.706\n",
      "test_loss: 0.661, test_accuracy: 76.84\n",
      "[19,   300] train_loss: 0.689\n",
      "test_loss: 0.671, test_accuracy: 76.65\n",
      "[19,   400] train_loss: 0.697\n",
      "test_loss: 0.660, test_accuracy: 76.88\n",
      "[19,   500] train_loss: 0.682\n",
      "test_loss: 0.659, test_accuracy: 76.93\n",
      "[20,   100] train_loss: 0.704\n",
      "test_loss: 0.671, test_accuracy: 76.43\n",
      "[20,   200] train_loss: 0.669\n",
      "test_loss: 0.656, test_accuracy: 76.93\n",
      "[20,   300] train_loss: 0.678\n",
      "test_loss: 0.655, test_accuracy: 77.13\n",
      "[20,   400] train_loss: 0.693\n",
      "test_loss: 0.654, test_accuracy: 77.06\n",
      "[20,   500] train_loss: 0.695\n",
      "test_loss: 0.650, test_accuracy: 77.23\n",
      "Epoch 00100: reducing learning rate of group 0 to 2.7961e-03.\n"
     ]
    }
   ],
   "source": [
    "criterion = CrossEntropyLoss()\n",
    "epochs = 20\n",
    "\n",
    "train_NN(ASL_VGGNN, criterion, train_dataloader, test_dataloader, epochs=epochs, batches_to_test=100,\n",
    "        patience=2, device=device, print_test=True, verbose=True, p_randomTransform=parameters[\"p_randomTransform\"])"
   ]
  },
  {
   "cell_type": "code",
   "execution_count": 12,
   "metadata": {},
   "outputs": [],
   "source": [
    "torch.save(ASL_VGGNN, \"./models/VGG/ASL_VGGNet.pth\")"
   ]
  },
  {
   "cell_type": "code",
   "execution_count": 7,
   "metadata": {},
   "outputs": [],
   "source": [
    "ASL_VGGNN = torch.load(\"./models/VGG/ASL_VGGNet.pth\")"
   ]
  },
  {
   "cell_type": "code",
   "execution_count": 8,
   "metadata": {},
   "outputs": [
    {
     "data": {
      "image/png": "[encoded data removed]",
      "text/plain": [
       "<Figure size 432x288 with 1 Axes>"
      ]
     },
     "metadata": {
      "needs_background": "light"
     },
     "output_type": "display_data"
    },
    {
     "data": {
      "image/png": "[encoded data removed]",
      "text/plain": [
       "<Figure size 432x288 with 1 Axes>"
      ]
     },
     "metadata": {
      "needs_background": "light"
     },
     "output_type": "display_data"
    }
   ],
   "source": [
    "plot_loss(ASL_VGGNN)\n",
    "plot_acc(ASL_VGGNN)"
   ]
  },
  {
   "cell_type": "code",
   "execution_count": 10,
   "metadata": {},
   "outputs": [
    {
     "name": "stdout",
     "output_type": "stream",
     "text": [
      "Training time (s):\n",
      "mean: 6.924\n",
      "std: 0.4\n"
     ]
    }
   ],
   "source": [
    "print(\"Training time (s):\")\n",
    "print(f\"mean: {round(np.mean(ASL_VGGNN.train_time), 3)}\")\n",
    "print(f\"std: {round(np.std(ASL_VGGNN.train_time), 3)}\")"
   ]
  },
  {
   "cell_type": "code",
   "execution_count": null,
   "metadata": {},
   "outputs": [],
   "source": [
    "inference_times = inference_time(ASL_VGGNN, test_dataloader, device)\n",
    "print(\"Inference time (ns)\")\n",
    "print(format(np.mean(inference_times), \".3e\"))\n",
    "print(format(np.std(inference_times), \".1e\"))"
   ]
  },
  {
   "cell_type": "code",
   "execution_count": 8,
   "metadata": {},
   "outputs": [
    {
     "data": {
      "image/png": "[encoded data removed]",
      "text/plain": [
       "<Figure size 432x288 with 1 Axes>"
      ]
     },
     "metadata": {
      "needs_background": "light"
     },
     "output_type": "display_data"
    },
    {
     "data": {
      "image/png": "[encoded data removed]",
      "text/plain": [
       "<Figure size 432x288 with 1 Axes>"
      ]
     },
     "metadata": {
      "needs_background": "light"
     },
     "output_type": "display_data"
    },
    {
     "data": {
      "image/png": "[encoded data removed]",
      "text/plain": [
       "<Figure size 432x288 with 1 Axes>"
      ]
     },
     "metadata": {
      "needs_background": "light"
     },
     "output_type": "display_data"
    },
    {
     "data": {
      "image/png": "[encoded data removed]",
      "text/plain": [
       "<Figure size 432x288 with 1 Axes>"
      ]
     },
     "metadata": {
      "needs_background": "light"
     },
     "output_type": "display_data"
    },
    {
     "data": {
      "image/png": "[encoded data removed]",
      "text/plain": [
       "<Figure size 432x288 with 1 Axes>"
      ]
     },
     "metadata": {
      "needs_background": "light"
     },
     "output_type": "display_data"
    },
    {
     "data": {
      "image/png": "[encoded data removed]",
      "text/plain": [
       "<Figure size 432x288 with 1 Axes>"
      ]
     },
     "metadata": {
      "needs_background": "light"
     },
     "output_type": "display_data"
    },
    {
     "data": {
      "image/png": "[encoded data removed]",
      "text/plain": [
       "<Figure size 432x288 with 1 Axes>"
      ]
     },
     "metadata": {
      "needs_background": "light"
     },
     "output_type": "display_data"
    },
    {
     "data": {
      "image/png": "[encoded data removed]",
      "text/plain": [
       "<Figure size 432x288 with 1 Axes>"
      ]
     },
     "metadata": {
      "needs_background": "light"
     },
     "output_type": "display_data"
    },
    {
     "data": {
      "image/png": "[encoded data removed]",
      "text/plain": [
       "<Figure size 432x288 with 1 Axes>"
      ]
     },
     "metadata": {
      "needs_background": "light"
     },
     "output_type": "display_data"
    },
    {
     "data": {
      "image/png": "[encoded data removed]",
      "text/plain": [
       "<Figure size 432x288 with 1 Axes>"
      ]
     },
     "metadata": {
      "needs_background": "light"
     },
     "output_type": "display_data"
    }
   ],
   "source": [
    "plot_shifts(ASL_VGGNN)"
   ]
  },
  {
   "cell_type": "code",
   "execution_count": null,
   "metadata": {},
   "outputs": [],
   "source": []
  }
 ],
 "metadata": {
  "kernelspec": {
   "display_name": "Python 3.8.8 ('base')",
   "language": "python",
   "name": "python3"
  },
  "language_info": {
   "codemirror_mode": {
    "name": "ipython",
    "version": 3
   },
   "file_extension": ".py",
   "mimetype": "text/x-python",
   "name": "python",
   "nbconvert_exporter": "python",
   "pygments_lexer": "ipython3",
   "version": "3.8.8"
  },
  "orig_nbformat": 4,
  "vscode": {
   "interpreter": {
    "hash": "2b5850efbbab6f342097c97db2dac05ad70ca6a924e3beae5b3fd144137f4509"
   }
  }
 },
 "nbformat": 4,
 "nbformat_minor": 2
}
