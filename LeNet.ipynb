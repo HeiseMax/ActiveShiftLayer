{
 "cells": [
  {
   "cell_type": "code",
   "execution_count": 1,
   "metadata": {},
   "outputs": [],
   "source": [
    "import time\n",
    "import numpy as np\n",
    "import matplotlib.pyplot as plt\n",
    "from os.path import exists\n",
    "import json\n",
    "import pickle\n",
    "\n",
    "import torch\n",
    "import torch.optim as optim\n",
    "from torch.nn import CrossEntropyLoss, Conv2d, Sequential, BatchNorm2d\n",
    "from torch.utils.data import DataLoader\n",
    "\n",
    "import torchvision\n",
    "import torchvision.datasets as datasets\n",
    "import torchvision.transforms as transforms\n",
    "\n",
    "from torchinfo import summary\n",
    "\n",
    "from ActiveShiftLayer import ASL\n",
    "from util import test_loss, train_NN, loadMNIST, inference_time, plot_loss, plot_acc, plot_shifts\n",
    "\n",
    "plt.rcParams['figure.dpi'] = 100"
   ]
  },
  {
   "cell_type": "code",
   "execution_count": 2,
   "metadata": {},
   "outputs": [
    {
     "name": "stdout",
     "output_type": "stream",
     "text": [
      "cuda\n"
     ]
    }
   ],
   "source": [
    "if torch.cuda.is_available():\n",
    "    device = 'cuda'\n",
    "else:\n",
    "    device = 'cpu'\n",
    "print(device)"
   ]
  },
  {
   "cell_type": "markdown",
   "metadata": {},
   "source": [
    "## MNIST LeNet"
   ]
  },
  {
   "cell_type": "code",
   "execution_count": 3,
   "metadata": {},
   "outputs": [],
   "source": [
    "batch_size = 100\n",
    "input_shape = (batch_size, 1, 28, 28)\n",
    "num_labels = 10\n",
    "\n",
    "train_dataset, train_dataloader, test_dataset, test_dataloader, classes = loadMNIST(batch_size)"
   ]
  },
  {
   "cell_type": "code",
   "execution_count": 4,
   "metadata": {},
   "outputs": [
    {
     "name": "stdout",
     "output_type": "stream",
     "text": [
      "[{'acc': 99.70666666666666, 'lr': 0.21875, 'momentum': 0.78125, 'p_randomTransform': 0.0625}, {'acc': 99.645, 'lr': 0.09375, 'momentum': 0.65625, 'p_randomTransform': 0.3125}, {'acc': 99.625, 'lr': 0.491943359375, 'momentum': 0.589599609375, 'p_randomTransform': 0.04345703125}]\n"
     ]
    }
   ],
   "source": [
    "# mock train_function of Optimizer to load the optimizer\n",
    "train_function = None\n",
    "\n",
    "with open('models/LeNet/LeNet_optimizer.pkl', 'rb') as file:\n",
    "    LeNet_optim = pickle.load(file)\n",
    "\n",
    "best_parameters = LeNet_optim.get_best_parameters(3)\n",
    "print(best_parameters)\n",
    "parameters = best_parameters[1]"
   ]
  },
  {
   "cell_type": "code",
   "execution_count": 5,
   "metadata": {},
   "outputs": [
    {
     "data": {
      "text/plain": [
       "==========================================================================================\n",
       "Layer (type:depth-idx)                   Output Shape              Param #\n",
       "==========================================================================================\n",
       "LeNet                                    [100, 10]                 --\n",
       "├─Sequential: 1-1                        --                        --\n",
       "│    └─Conv2d: 2-1                       [100, 6, 28, 28]          156\n",
       "│    └─BatchNorm2d: 2-2                  [100, 6, 28, 28]          12\n",
       "│    └─Tanh: 2-3                         [100, 6, 28, 28]          --\n",
       "│    └─AvgPool2d: 2-4                    [100, 6, 14, 14]          --\n",
       "│    └─Conv2d: 2-5                       [100, 16, 14, 14]         2,416\n",
       "│    └─BatchNorm2d: 2-6                  [100, 16, 14, 14]         32\n",
       "│    └─Tanh: 2-7                         [100, 16, 14, 14]         --\n",
       "│    └─AvgPool2d: 2-8                    [100, 16, 7, 7]           --\n",
       "│    └─Flatten: 2-9                      [100, 784]                --\n",
       "│    └─Linear: 2-10                      [100, 120]                94,200\n",
       "│    └─Tanh: 2-11                        [100, 120]                --\n",
       "│    └─Linear: 2-12                      [100, 84]                 10,164\n",
       "│    └─Tanh: 2-13                        [100, 84]                 --\n",
       "│    └─Linear: 2-14                      [100, 10]                 850\n",
       "==========================================================================================\n",
       "Total params: 107,830\n",
       "Trainable params: 107,830\n",
       "Non-trainable params: 0\n",
       "Total mult-adds (M): 70.11\n",
       "==========================================================================================\n",
       "Input size (MB): 0.31\n",
       "Forward/backward pass size (MB): 12.72\n",
       "Params size (MB): 0.43\n",
       "Estimated Total Size (MB): 13.46\n",
       "=========================================================================================="
      ]
     },
     "execution_count": 5,
     "metadata": {},
     "output_type": "execute_result"
    }
   ],
   "source": [
    "from Models import LeNet\n",
    "\n",
    "LeNN = LeNet(input_shape, num_labels=num_labels, initial_lr=parameters[\"lr\"], momentum=parameters[\"momentum\"], weight_decay=0)\n",
    "\n",
    "summary(LeNN, input_shape)"
   ]
  },
  {
   "cell_type": "code",
   "execution_count": 6,
   "metadata": {},
   "outputs": [],
   "source": [
    "PATH = \"models/LeNet/LeNet.pth\"\n",
    "\n",
    "if exists(PATH):\n",
    "    LeNN = torch.load(PATH)\n",
    "    LeNN.eval()"
   ]
  },
  {
   "cell_type": "code",
   "execution_count": 6,
   "metadata": {},
   "outputs": [
    {
     "name": "stdout",
     "output_type": "stream",
     "text": [
      "[1,   100] train_loss: 0.778\n",
      "test_loss: 2.185, test_accuracy: 56.24\n",
      "[1,   200] train_loss: 0.361\n",
      "test_loss: 0.431, test_accuracy: 86.88\n",
      "[1,   300] train_loss: 0.206\n",
      "test_loss: 0.560, test_accuracy: 82.81\n",
      "[1,   400] train_loss: 0.201\n",
      "test_loss: 0.302, test_accuracy: 90.99\n",
      "[1,   500] train_loss: 0.149\n",
      "test_loss: 0.353, test_accuracy: 88.09\n",
      "[1,   600] train_loss: 0.232\n",
      "test_loss: 0.266, test_accuracy: 92.0\n",
      "[2,   100] train_loss: 0.133\n",
      "test_loss: 0.624, test_accuracy: 80.97\n",
      "[2,   200] train_loss: 0.154\n",
      "test_loss: 0.109, test_accuracy: 96.66\n",
      "[2,   300] train_loss: 0.109\n",
      "test_loss: 0.084, test_accuracy: 97.19\n",
      "[2,   400] train_loss: 0.107\n",
      "test_loss: 0.067, test_accuracy: 97.98\n",
      "[2,   500] train_loss: 0.088\n",
      "test_loss: 0.061, test_accuracy: 98.01\n",
      "[2,   600] train_loss: 0.081\n",
      "test_loss: 0.076, test_accuracy: 97.73\n",
      "[3,   100] train_loss: 0.068\n",
      "test_loss: 0.284, test_accuracy: 91.28\n",
      "[3,   200] train_loss: 0.087\n",
      "test_loss: 0.103, test_accuracy: 96.78\n",
      "[3,   300] train_loss: 0.066\n",
      "test_loss: 0.074, test_accuracy: 97.73\n",
      "[3,   400] train_loss: 0.075\n",
      "test_loss: 0.062, test_accuracy: 98.11\n",
      "[3,   500] train_loss: 0.052\n",
      "test_loss: 0.074, test_accuracy: 97.64\n",
      "[3,   600] train_loss: 0.070\n",
      "test_loss: 0.068, test_accuracy: 97.79\n",
      "[4,   100] train_loss: 0.051\n",
      "test_loss: 0.072, test_accuracy: 97.69\n",
      "[4,   200] train_loss: 0.048\n",
      "test_loss: 0.047, test_accuracy: 98.58\n",
      "[4,   300] train_loss: 0.046\n",
      "test_loss: 0.061, test_accuracy: 98.11\n",
      "[4,   400] train_loss: 0.059\n",
      "test_loss: 0.089, test_accuracy: 97.34\n",
      "[4,   500] train_loss: 0.058\n",
      "test_loss: 0.047, test_accuracy: 98.43\n",
      "[4,   600] train_loss: 0.059\n",
      "test_loss: 0.051, test_accuracy: 98.31\n",
      "Epoch 00024: reducing learning rate of group 0 to 1.0938e-01.\n",
      "[5,   100] train_loss: 0.034\n",
      "test_loss: 0.034, test_accuracy: 98.93\n",
      "[5,   200] train_loss: 0.027\n",
      "test_loss: 0.034, test_accuracy: 98.94\n",
      "[5,   300] train_loss: 0.037\n",
      "test_loss: 0.043, test_accuracy: 98.61\n",
      "[5,   400] train_loss: 0.030\n",
      "test_loss: 0.034, test_accuracy: 98.89\n",
      "[5,   500] train_loss: 0.043\n",
      "test_loss: 0.043, test_accuracy: 98.56\n",
      "Epoch 00029: reducing learning rate of group 0 to 5.4688e-02.\n",
      "[5,   600] train_loss: 0.034\n",
      "test_loss: 0.031, test_accuracy: 98.99\n",
      "[6,   100] train_loss: 0.022\n",
      "test_loss: 0.036, test_accuracy: 98.77\n",
      "[6,   200] train_loss: 0.020\n",
      "test_loss: 0.030, test_accuracy: 99.03\n",
      "[6,   300] train_loss: 0.024\n",
      "test_loss: 0.031, test_accuracy: 98.95\n",
      "[6,   400] train_loss: 0.019\n",
      "test_loss: 0.031, test_accuracy: 98.98\n",
      "[6,   500] train_loss: 0.019\n",
      "test_loss: 0.031, test_accuracy: 99.02\n",
      "[6,   600] train_loss: 0.021\n",
      "test_loss: 0.036, test_accuracy: 98.87\n",
      "[7,   100] train_loss: 0.022\n",
      "test_loss: 0.036, test_accuracy: 98.83\n",
      "[7,   200] train_loss: 0.021\n",
      "test_loss: 0.034, test_accuracy: 98.88\n",
      "Epoch 00038: reducing learning rate of group 0 to 2.7344e-02.\n",
      "[7,   300] train_loss: 0.019\n",
      "test_loss: 0.028, test_accuracy: 99.14\n",
      "[7,   400] train_loss: 0.018\n",
      "test_loss: 0.027, test_accuracy: 99.12\n",
      "[7,   500] train_loss: 0.016\n",
      "test_loss: 0.027, test_accuracy: 99.13\n",
      "[7,   600] train_loss: 0.014\n",
      "test_loss: 0.027, test_accuracy: 99.15\n",
      "[8,   100] train_loss: 0.015\n",
      "test_loss: 0.027, test_accuracy: 99.1\n",
      "[8,   200] train_loss: 0.018\n",
      "test_loss: 0.027, test_accuracy: 99.11\n",
      "[8,   300] train_loss: 0.012\n",
      "test_loss: 0.028, test_accuracy: 99.07\n",
      "[8,   400] train_loss: 0.016\n",
      "test_loss: 0.027, test_accuracy: 99.1\n",
      "[8,   500] train_loss: 0.017\n",
      "test_loss: 0.027, test_accuracy: 99.07\n",
      "[8,   600] train_loss: 0.016\n",
      "test_loss: 0.027, test_accuracy: 99.14\n",
      "Epoch 00048: reducing learning rate of group 0 to 1.3672e-02.\n",
      "[9,   100] train_loss: 0.012\n",
      "test_loss: 0.027, test_accuracy: 99.16\n",
      "[9,   200] train_loss: 0.014\n",
      "test_loss: 0.027, test_accuracy: 99.2\n",
      "[9,   300] train_loss: 0.012\n",
      "test_loss: 0.027, test_accuracy: 99.15\n",
      "[9,   400] train_loss: 0.015\n",
      "test_loss: 0.027, test_accuracy: 99.11\n",
      "[9,   500] train_loss: 0.018\n",
      "test_loss: 0.027, test_accuracy: 99.16\n",
      "[9,   600] train_loss: 0.019\n",
      "test_loss: 0.026, test_accuracy: 99.09\n",
      "Epoch 00054: reducing learning rate of group 0 to 6.8359e-03.\n",
      "[10,   100] train_loss: 0.012\n",
      "test_loss: 0.026, test_accuracy: 99.16\n",
      "[10,   200] train_loss: 0.022\n",
      "test_loss: 0.026, test_accuracy: 99.14\n",
      "[10,   300] train_loss: 0.021\n",
      "test_loss: 0.026, test_accuracy: 99.17\n",
      "[10,   400] train_loss: 0.013\n",
      "test_loss: 0.026, test_accuracy: 99.16\n",
      "Epoch 00058: reducing learning rate of group 0 to 3.4180e-03.\n",
      "[10,   500] train_loss: 0.012\n",
      "test_loss: 0.026, test_accuracy: 99.16\n",
      "[10,   600] train_loss: 0.016\n",
      "test_loss: 0.026, test_accuracy: 99.16\n",
      "[11,   100] train_loss: 0.012\n",
      "test_loss: 0.026, test_accuracy: 99.14\n",
      "Epoch 00061: reducing learning rate of group 0 to 1.7090e-03.\n",
      "[11,   200] train_loss: 0.013\n",
      "test_loss: 0.026, test_accuracy: 99.16\n",
      "[11,   300] train_loss: 0.018\n",
      "test_loss: 0.026, test_accuracy: 99.15\n",
      "[11,   400] train_loss: 0.020\n",
      "test_loss: 0.027, test_accuracy: 99.14\n",
      "Epoch 00064: reducing learning rate of group 0 to 8.5449e-04.\n",
      "[11,   500] train_loss: 0.010\n",
      "test_loss: 0.026, test_accuracy: 99.15\n",
      "[11,   600] train_loss: 0.012\n",
      "test_loss: 0.026, test_accuracy: 99.15\n",
      "[12,   100] train_loss: 0.011\n",
      "test_loss: 0.026, test_accuracy: 99.16\n",
      "[12,   200] train_loss: 0.013\n",
      "test_loss: 0.027, test_accuracy: 99.14\n",
      "Epoch 00068: reducing learning rate of group 0 to 4.2725e-04.\n",
      "[12,   300] train_loss: 0.019\n",
      "test_loss: 0.026, test_accuracy: 99.17\n",
      "[12,   400] train_loss: 0.014\n",
      "test_loss: 0.027, test_accuracy: 99.14\n",
      "[12,   500] train_loss: 0.016\n",
      "test_loss: 0.026, test_accuracy: 99.16\n",
      "Epoch 00071: reducing learning rate of group 0 to 2.1362e-04.\n",
      "[12,   600] train_loss: 0.017\n",
      "test_loss: 0.026, test_accuracy: 99.14\n",
      "[13,   100] train_loss: 0.010\n",
      "test_loss: 0.026, test_accuracy: 99.16\n",
      "[13,   200] train_loss: 0.014\n",
      "test_loss: 0.026, test_accuracy: 99.14\n",
      "Epoch 00074: reducing learning rate of group 0 to 1.0681e-04.\n",
      "[13,   300] train_loss: 0.011\n",
      "test_loss: 0.027, test_accuracy: 99.13\n",
      "[13,   400] train_loss: 0.014\n",
      "test_loss: 0.026, test_accuracy: 99.16\n",
      "[13,   500] train_loss: 0.012\n",
      "test_loss: 0.026, test_accuracy: 99.14\n",
      "Epoch 00077: reducing learning rate of group 0 to 5.3406e-05.\n",
      "[13,   600] train_loss: 0.013\n",
      "test_loss: 0.026, test_accuracy: 99.15\n",
      "[14,   100] train_loss: 0.013\n",
      "test_loss: 0.026, test_accuracy: 99.16\n",
      "[14,   200] train_loss: 0.016\n",
      "test_loss: 0.026, test_accuracy: 99.15\n",
      "Epoch 00080: reducing learning rate of group 0 to 2.6703e-05.\n",
      "[14,   300] train_loss: 0.014\n",
      "test_loss: 0.027, test_accuracy: 99.13\n",
      "[14,   400] train_loss: 0.012\n",
      "test_loss: 0.026, test_accuracy: 99.15\n",
      "[14,   500] train_loss: 0.014\n",
      "test_loss: 0.026, test_accuracy: 99.16\n",
      "Epoch 00083: reducing learning rate of group 0 to 1.3351e-05.\n",
      "[14,   600] train_loss: 0.019\n",
      "test_loss: 0.026, test_accuracy: 99.16\n",
      "[15,   100] train_loss: 0.018\n",
      "test_loss: 0.026, test_accuracy: 99.15\n",
      "[15,   200] train_loss: 0.010\n",
      "test_loss: 0.026, test_accuracy: 99.15\n",
      "[15,   300] train_loss: 0.013\n",
      "test_loss: 0.026, test_accuracy: 99.13\n",
      "[15,   400] train_loss: 0.015\n",
      "test_loss: 0.027, test_accuracy: 99.15\n",
      "[15,   500] train_loss: 0.017\n",
      "test_loss: 0.026, test_accuracy: 99.14\n",
      "Epoch 00089: reducing learning rate of group 0 to 6.6757e-06.\n",
      "[15,   600] train_loss: 0.016\n",
      "test_loss: 0.026, test_accuracy: 99.15\n"
     ]
    }
   ],
   "source": [
    "criterion = CrossEntropyLoss()\n",
    "epochs = 15\n",
    "\n",
    "train_NN(LeNN, criterion, train_dataloader, test_dataloader, epochs=epochs, batches_to_test=100,\n",
    "        patience=2, device=device, print_test=True, verbose=True, p_randomTransform=parameters[\"p_randomTransform\"])"
   ]
  },
  {
   "cell_type": "code",
   "execution_count": 8,
   "metadata": {},
   "outputs": [],
   "source": [
    "torch.save(LeNN, \"./models/LeNet/LeNet.pth\")"
   ]
  },
  {
   "cell_type": "code",
   "execution_count": 3,
   "metadata": {},
   "outputs": [],
   "source": [
    "LeNN = torch.load(\"./models/LeNet/LeNet.pth\")"
   ]
  },
  {
   "cell_type": "code",
   "execution_count": 4,
   "metadata": {},
   "outputs": [
    {
     "data": {
      "image/png": "[encoded data removed]",
      "text/plain": [
       "<Figure size 600x400 with 1 Axes>"
      ]
     },
     "metadata": {
      "needs_background": "light"
     },
     "output_type": "display_data"
    },
    {
     "data": {
      "image/png": "[encoded data removed]",
      "text/plain": [
       "<Figure size 600x400 with 1 Axes>"
      ]
     },
     "metadata": {
      "needs_background": "light"
     },
     "output_type": "display_data"
    }
   ],
   "source": [
    "plot_loss(LeNN)\n",
    "plot_acc(LeNN)"
   ]
  },
  {
   "cell_type": "code",
   "execution_count": 8,
   "metadata": {},
   "outputs": [
    {
     "name": "stdout",
     "output_type": "stream",
     "text": [
      "Training time (s):\n",
      "mean: 0.703\n",
      "std: 0.138\n"
     ]
    }
   ],
   "source": [
    "print(\"Training time (s):\")\n",
    "print(f\"mean: {round(np.mean(LeNN.train_time), 3)}\")\n",
    "print(f\"std: {round(np.std(LeNN.train_time), 3)}\")"
   ]
  },
  {
   "cell_type": "code",
   "execution_count": 13,
   "metadata": {},
   "outputs": [
    {
     "name": "stdout",
     "output_type": "stream",
     "text": [
      "Inference time (ns)\n",
      "6.064e+05\n",
      "1.1e+05\n"
     ]
    }
   ],
   "source": [
    "inference_times = inference_time(LeNN, test_dataloader, device)\n",
    "print(\"Inference time (ns)\")\n",
    "print(format(np.mean(inference_times), \".3e\"))\n",
    "print(format(np.std(inference_times), \".1e\"))"
   ]
  },
  {
   "cell_type": "markdown",
   "metadata": {},
   "source": [
    "## MNIST LeASLNet"
   ]
  },
  {
   "cell_type": "code",
   "execution_count": 11,
   "metadata": {},
   "outputs": [
    {
     "name": "stdout",
     "output_type": "stream",
     "text": [
      "[{'acc': 99.64666666666666, 'lr': 0.4318430270465593, 'momentum': 0.5504980468750001, 'p_randomTransform': 0.00041015625000001554}, {'acc': 99.52166666666666, 'lr': 0.47607421875, 'momentum': 0.51025390625, 'p_randomTransform': 0.0224609375}, {'acc': 99.27666666666667, 'lr': 0.031142578125000014, 'momentum': 0.9078222656249999, 'p_randomTransform': 0.5410533338955021}]\n"
     ]
    }
   ],
   "source": [
    "# mock train_function of Optimizer to load the optimizer\n",
    "ASL_train_function = None\n",
    "\n",
    "with open('models/LeNet/LeASLNet_optimizer.pkl', 'rb') as file:\n",
    "    LeASLNet_optim = pickle.load(file)\n",
    "\n",
    "best_parameters = LeASLNet_optim.get_best_parameters(3)\n",
    "print(best_parameters)\n",
    "parameters = best_parameters[0]"
   ]
  },
  {
   "cell_type": "code",
   "execution_count": 12,
   "metadata": {},
   "outputs": [
    {
     "data": {
      "text/plain": [
       "==========================================================================================\n",
       "Layer (type:depth-idx)                   Output Shape              Param #\n",
       "==========================================================================================\n",
       "LeASLNet                                 [100, 10]                 --\n",
       "├─Sequential: 1-1                        --                        --\n",
       "│    └─Conv2d: 2-1                       [100, 6, 28, 28]          156\n",
       "│    └─BatchNorm2d: 2-2                  [100, 6, 28, 28]          12\n",
       "│    └─Tanh: 2-3                         [100, 6, 28, 28]          --\n",
       "│    └─AvgPool2d: 2-4                    [100, 6, 14, 14]          --\n",
       "│    └─CSC_block: 2-5                    [100, 16, 14, 14]         --\n",
       "│    │    └─Sequential: 3-1              --                        108\n",
       "│    │    └─Conv2d: 3-2                  [100, 16, 14, 14]         112\n",
       "│    └─Tanh: 2-6                         [100, 16, 14, 14]         --\n",
       "│    └─AvgPool2d: 2-7                    [100, 16, 7, 7]           --\n",
       "│    └─Flatten: 2-8                      [100, 784]                --\n",
       "│    └─Linear: 2-9                       [100, 120]                94,200\n",
       "│    └─Tanh: 2-10                        [100, 120]                --\n",
       "│    └─Linear: 2-11                      [100, 84]                 10,164\n",
       "│    └─Tanh: 2-12                        [100, 84]                 --\n",
       "│    └─Linear: 2-13                      [100, 10]                 850\n",
       "==========================================================================================\n",
       "Total params: 105,602\n",
       "Trainable params: 105,602\n",
       "Non-trainable params: 0\n",
       "Total mult-adds (M): 26.60\n",
       "==========================================================================================\n",
       "Input size (MB): 0.31\n",
       "Forward/backward pass size (MB): 13.97\n",
       "Params size (MB): 0.42\n",
       "Estimated Total Size (MB): 14.71\n",
       "=========================================================================================="
      ]
     },
     "execution_count": 12,
     "metadata": {},
     "output_type": "execute_result"
    }
   ],
   "source": [
    "from Models import LeASLNet\n",
    "\n",
    "LeASLNN = LeASLNet(input_shape, num_labels, initial_lr=parameters[\"lr\"], momentum=parameters[\"momentum\"], weight_decay=0, device=device, expansion_rate=1)\n",
    "\n",
    "summary(LeASLNN, input_shape)"
   ]
  },
  {
   "cell_type": "code",
   "execution_count": 16,
   "metadata": {},
   "outputs": [],
   "source": [
    "PATH = \"models/LeNet/LeASLNet.pth\"\n",
    "\n",
    "if exists(PATH):\n",
    "    LeASLNN = torch.load(PATH)\n",
    "    LeASLNN.eval()"
   ]
  },
  {
   "cell_type": "code",
   "execution_count": 17,
   "metadata": {},
   "outputs": [
    {
     "name": "stdout",
     "output_type": "stream",
     "text": [
      "[1,   100] train_loss: 0.009\n",
      "test_loss: 0.034, test_accuracy: 98.98\n",
      "[1,   200] train_loss: 0.012\n",
      "test_loss: 0.034, test_accuracy: 98.98\n",
      "[1,   300] train_loss: 0.013\n",
      "test_loss: 0.034, test_accuracy: 98.98\n",
      "[1,   400] train_loss: 0.012\n",
      "test_loss: 0.034, test_accuracy: 98.98\n",
      "Epoch 00004: reducing learning rate of group 0 to 1.6474e-06.\n",
      "[1,   500] train_loss: 0.012\n",
      "test_loss: 0.034, test_accuracy: 98.98\n",
      "[1,   600] train_loss: 0.012\n",
      "test_loss: 0.034, test_accuracy: 98.98\n",
      "[2,   100] train_loss: 0.013\n",
      "test_loss: 0.034, test_accuracy: 98.97\n",
      "Epoch 00007: reducing learning rate of group 0 to 8.2368e-07.\n",
      "[2,   200] train_loss: 0.011\n",
      "test_loss: 0.034, test_accuracy: 98.98\n",
      "[2,   300] train_loss: 0.012\n",
      "test_loss: 0.034, test_accuracy: 98.98\n",
      "[2,   400] train_loss: 0.011\n",
      "test_loss: 0.034, test_accuracy: 98.98\n",
      "Epoch 00010: reducing learning rate of group 0 to 4.1184e-07.\n",
      "[2,   500] train_loss: 0.012\n",
      "test_loss: 0.034, test_accuracy: 98.98\n",
      "[2,   600] train_loss: 0.011\n",
      "test_loss: 0.034, test_accuracy: 98.98\n",
      "[3,   100] train_loss: 0.012\n",
      "test_loss: 0.034, test_accuracy: 98.98\n",
      "Epoch 00013: reducing learning rate of group 0 to 2.0592e-07.\n",
      "[3,   200] train_loss: 0.012\n",
      "test_loss: 0.034, test_accuracy: 98.98\n",
      "[3,   300] train_loss: 0.012\n",
      "test_loss: 0.034, test_accuracy: 98.98\n",
      "[3,   400] train_loss: 0.014\n",
      "test_loss: 0.034, test_accuracy: 98.98\n",
      "Epoch 00016: reducing learning rate of group 0 to 1.0296e-07.\n",
      "[3,   500] train_loss: 0.012\n",
      "test_loss: 0.034, test_accuracy: 98.98\n",
      "[3,   600] train_loss: 0.011\n",
      "test_loss: 0.034, test_accuracy: 98.98\n",
      "[4,   100] train_loss: 0.010\n",
      "test_loss: 0.034, test_accuracy: 98.98\n",
      "Epoch 00019: reducing learning rate of group 0 to 5.1480e-08.\n",
      "[4,   200] train_loss: 0.011\n",
      "test_loss: 0.034, test_accuracy: 98.98\n",
      "[4,   300] train_loss: 0.014\n",
      "test_loss: 0.034, test_accuracy: 98.97\n",
      "[4,   400] train_loss: 0.012\n",
      "test_loss: 0.034, test_accuracy: 98.98\n",
      "Epoch 00022: reducing learning rate of group 0 to 2.5740e-08.\n",
      "[4,   500] train_loss: 0.010\n",
      "test_loss: 0.034, test_accuracy: 98.97\n",
      "[4,   600] train_loss: 0.014\n",
      "test_loss: 0.034, test_accuracy: 98.97\n",
      "[5,   100] train_loss: 0.011\n",
      "test_loss: 0.034, test_accuracy: 98.98\n",
      "Epoch 00025: reducing learning rate of group 0 to 1.2870e-08.\n",
      "[5,   200] train_loss: 0.011\n",
      "test_loss: 0.034, test_accuracy: 98.97\n",
      "[5,   300] train_loss: 0.012\n",
      "test_loss: 0.034, test_accuracy: 98.98\n",
      "[5,   400] train_loss: 0.012\n",
      "test_loss: 0.034, test_accuracy: 98.98\n",
      "[5,   500] train_loss: 0.011\n",
      "test_loss: 0.034, test_accuracy: 98.98\n",
      "[5,   600] train_loss: 0.013\n",
      "test_loss: 0.034, test_accuracy: 98.98\n",
      "[6,   100] train_loss: 0.013\n",
      "test_loss: 0.034, test_accuracy: 98.97\n",
      "[6,   200] train_loss: 0.012\n",
      "test_loss: 0.034, test_accuracy: 98.97\n",
      "[6,   300] train_loss: 0.011\n",
      "test_loss: 0.034, test_accuracy: 98.98\n",
      "[6,   400] train_loss: 0.013\n",
      "test_loss: 0.034, test_accuracy: 98.98\n",
      "[6,   500] train_loss: 0.013\n",
      "test_loss: 0.034, test_accuracy: 98.97\n",
      "[6,   600] train_loss: 0.011\n",
      "test_loss: 0.034, test_accuracy: 98.98\n",
      "[7,   100] train_loss: 0.011\n",
      "test_loss: 0.034, test_accuracy: 98.98\n",
      "[7,   200] train_loss: 0.012\n",
      "test_loss: 0.034, test_accuracy: 98.97\n",
      "[7,   300] train_loss: 0.011\n",
      "test_loss: 0.034, test_accuracy: 98.97\n",
      "[7,   400] train_loss: 0.013\n",
      "test_loss: 0.034, test_accuracy: 98.98\n",
      "[7,   500] train_loss: 0.012\n",
      "test_loss: 0.034, test_accuracy: 98.99\n",
      "[7,   600] train_loss: 0.011\n",
      "test_loss: 0.034, test_accuracy: 98.98\n",
      "[8,   100] train_loss: 0.011\n",
      "test_loss: 0.034, test_accuracy: 98.97\n",
      "[8,   200] train_loss: 0.013\n",
      "test_loss: 0.033, test_accuracy: 98.98\n",
      "[8,   300] train_loss: 0.011\n",
      "test_loss: 0.034, test_accuracy: 98.97\n",
      "[8,   400] train_loss: 0.013\n",
      "test_loss: 0.034, test_accuracy: 98.98\n",
      "[8,   500] train_loss: 0.010\n",
      "test_loss: 0.033, test_accuracy: 98.97\n",
      "[8,   600] train_loss: 0.012\n",
      "test_loss: 0.034, test_accuracy: 98.98\n",
      "[9,   100] train_loss: 0.012\n",
      "test_loss: 0.034, test_accuracy: 98.99\n",
      "[9,   200] train_loss: 0.011\n",
      "test_loss: 0.034, test_accuracy: 98.98\n",
      "[9,   300] train_loss: 0.012\n",
      "test_loss: 0.034, test_accuracy: 98.98\n",
      "[9,   400] train_loss: 0.012\n",
      "test_loss: 0.034, test_accuracy: 98.97\n",
      "[9,   500] train_loss: 0.012\n",
      "test_loss: 0.034, test_accuracy: 98.98\n",
      "[9,   600] train_loss: 0.012\n",
      "test_loss: 0.034, test_accuracy: 98.98\n",
      "[10,   100] train_loss: 0.012\n",
      "test_loss: 0.034, test_accuracy: 98.98\n",
      "[10,   200] train_loss: 0.011\n",
      "test_loss: 0.034, test_accuracy: 98.98\n",
      "[10,   300] train_loss: 0.009\n",
      "test_loss: 0.034, test_accuracy: 98.97\n",
      "[10,   400] train_loss: 0.012\n",
      "test_loss: 0.034, test_accuracy: 98.98\n",
      "[10,   500] train_loss: 0.014\n",
      "test_loss: 0.034, test_accuracy: 98.97\n",
      "[10,   600] train_loss: 0.012\n",
      "test_loss: 0.034, test_accuracy: 98.98\n",
      "[11,   100] train_loss: 0.013\n",
      "test_loss: 0.033, test_accuracy: 98.98\n",
      "[11,   200] train_loss: 0.009\n",
      "test_loss: 0.034, test_accuracy: 98.97\n",
      "[11,   300] train_loss: 0.013\n",
      "test_loss: 0.034, test_accuracy: 98.98\n",
      "[11,   400] train_loss: 0.012\n",
      "test_loss: 0.034, test_accuracy: 98.98\n",
      "[11,   500] train_loss: 0.010\n",
      "test_loss: 0.034, test_accuracy: 98.98\n",
      "[11,   600] train_loss: 0.012\n",
      "test_loss: 0.034, test_accuracy: 98.97\n",
      "[12,   100] train_loss: 0.012\n",
      "test_loss: 0.034, test_accuracy: 98.98\n",
      "[12,   200] train_loss: 0.010\n",
      "test_loss: 0.034, test_accuracy: 98.98\n",
      "[12,   300] train_loss: 0.011\n",
      "test_loss: 0.034, test_accuracy: 98.98\n",
      "[12,   400] train_loss: 0.014\n",
      "test_loss: 0.034, test_accuracy: 98.98\n",
      "[12,   500] train_loss: 0.011\n",
      "test_loss: 0.034, test_accuracy: 98.98\n",
      "[12,   600] train_loss: 0.013\n",
      "test_loss: 0.033, test_accuracy: 98.98\n",
      "[13,   100] train_loss: 0.012\n",
      "test_loss: 0.034, test_accuracy: 98.98\n",
      "[13,   200] train_loss: 0.013\n",
      "test_loss: 0.034, test_accuracy: 98.97\n",
      "[13,   300] train_loss: 0.012\n",
      "test_loss: 0.034, test_accuracy: 98.98\n",
      "[13,   400] train_loss: 0.010\n",
      "test_loss: 0.034, test_accuracy: 98.98\n",
      "[13,   500] train_loss: 0.011\n",
      "test_loss: 0.034, test_accuracy: 98.98\n",
      "[13,   600] train_loss: 0.012\n",
      "test_loss: 0.034, test_accuracy: 98.98\n",
      "[14,   100] train_loss: 0.012\n",
      "test_loss: 0.034, test_accuracy: 98.98\n",
      "[14,   200] train_loss: 0.013\n",
      "test_loss: 0.034, test_accuracy: 98.98\n",
      "[14,   300] train_loss: 0.011\n",
      "test_loss: 0.034, test_accuracy: 98.98\n",
      "[14,   400] train_loss: 0.011\n",
      "test_loss: 0.034, test_accuracy: 98.97\n",
      "[14,   500] train_loss: 0.014\n",
      "test_loss: 0.034, test_accuracy: 98.97\n",
      "[14,   600] train_loss: 0.009\n",
      "test_loss: 0.034, test_accuracy: 98.97\n",
      "[15,   100] train_loss: 0.013\n",
      "test_loss: 0.034, test_accuracy: 98.98\n",
      "[15,   200] train_loss: 0.011\n",
      "test_loss: 0.034, test_accuracy: 98.98\n",
      "[15,   300] train_loss: 0.013\n",
      "test_loss: 0.034, test_accuracy: 98.97\n",
      "[15,   400] train_loss: 0.010\n",
      "test_loss: 0.034, test_accuracy: 98.98\n",
      "[15,   500] train_loss: 0.012\n",
      "test_loss: 0.034, test_accuracy: 98.98\n",
      "[15,   600] train_loss: 0.011\n",
      "test_loss: 0.034, test_accuracy: 98.97\n"
     ]
    }
   ],
   "source": [
    "criterion = CrossEntropyLoss()\n",
    "epochs = 15\n",
    "\n",
    "train_NN(LeASLNN, criterion, train_dataloader, test_dataloader, epochs=epochs, batches_to_test=100,\n",
    "        patience=2,device=device, print_test=True, verbose=True, p_randomTransform=parameters[\"p_randomTransform\"])"
   ]
  },
  {
   "cell_type": "code",
   "execution_count": 18,
   "metadata": {},
   "outputs": [],
   "source": [
    "torch.save(LeASLNN, \"./models/LeNet/LeASLNet.pth\")"
   ]
  },
  {
   "cell_type": "code",
   "execution_count": 5,
   "metadata": {},
   "outputs": [],
   "source": [
    "LeASLNN = torch.load(\"./models/LeNet/LeASLNet.pth\")"
   ]
  },
  {
   "cell_type": "code",
   "execution_count": 6,
   "metadata": {},
   "outputs": [
    {
     "data": {
      "image/png": "[encoded data removed]",
      "text/plain": [
       "<Figure size 600x400 with 1 Axes>"
      ]
     },
     "metadata": {
      "needs_background": "light"
     },
     "output_type": "display_data"
    },
    {
     "data": {
      "image/png": "[encoded data removed]",
      "text/plain": [
       "<Figure size 600x400 with 1 Axes>"
      ]
     },
     "metadata": {
      "needs_background": "light"
     },
     "output_type": "display_data"
    }
   ],
   "source": [
    "plot_loss(LeASLNN)\n",
    "plot_acc(LeASLNN)"
   ]
  },
  {
   "cell_type": "code",
   "execution_count": 17,
   "metadata": {},
   "outputs": [
    {
     "name": "stdout",
     "output_type": "stream",
     "text": [
      "Training time (s):\n",
      "mean: 0.661\n",
      "std: 0.128\n"
     ]
    }
   ],
   "source": [
    "print(\"Training time (s):\")\n",
    "print(f\"mean: {round(np.mean(LeASLNN.train_time), 3)}\")\n",
    "print(f\"std: {round(np.std(LeASLNN.train_time), 3)}\")"
   ]
  },
  {
   "cell_type": "code",
   "execution_count": 20,
   "metadata": {},
   "outputs": [
    {
     "name": "stdout",
     "output_type": "stream",
     "text": [
      "Inference time (ns)\n",
      "2.009e+06\n",
      "1.4e+05\n"
     ]
    }
   ],
   "source": [
    "inference_times = inference_time(LeASLNN, test_dataloader, device)\n",
    "print(\"Inference time (ns)\")\n",
    "print(format(np.mean(inference_times), \".3e\"))\n",
    "print(format(np.std(inference_times), \".1e\"))"
   ]
  },
  {
   "cell_type": "code",
   "execution_count": 7,
   "metadata": {},
   "outputs": [
    {
     "data": {
      "image/png": "[encoded data removed]",
      "text/plain": [
       "<Figure size 600x400 with 1 Axes>"
      ]
     },
     "metadata": {
      "needs_background": "light"
     },
     "output_type": "display_data"
    },
    {
     "data": {
      "image/png": "[encoded data removed]",
      "text/plain": [
       "<Figure size 600x400 with 1 Axes>"
      ]
     },
     "metadata": {
      "needs_background": "light"
     },
     "output_type": "display_data"
    }
   ],
   "source": [
    "plot_shifts(LeASLNN)"
   ]
  },
  {
   "cell_type": "markdown",
   "metadata": {},
   "source": [
    "## MNIST LeDepthNet"
   ]
  },
  {
   "cell_type": "code",
   "execution_count": 20,
   "metadata": {},
   "outputs": [
    {
     "name": "stdout",
     "output_type": "stream",
     "text": [
      "[{'acc': 99.40833333333333, 'lr': 0.385712890625, 'momentum': 0.5377679553024513, 'p_randomTransform': 0.017723451102000187}, {'acc': 99.36833333333334, 'lr': 0.3125, 'momentum': 0.5625, 'p_randomTransform': 0.375}, {'acc': 99.35666666666667, 'lr': 0.09375, 'momentum': 0.65625, 'p_randomTransform': 0.3125}]\n"
     ]
    }
   ],
   "source": [
    "# mock train_function of Optimizer to load the optimizer\n",
    "train_function = None\n",
    "\n",
    "with open('models/LeNet/LeDepthNet_optimizer.pkl', 'rb') as file:\n",
    "    LeDepthNet_optim = pickle.load(file)\n",
    "\n",
    "best_parameters = LeDepthNet_optim.get_best_parameters(3)\n",
    "print(best_parameters)\n",
    "parameters = best_parameters[0]"
   ]
  },
  {
   "cell_type": "code",
   "execution_count": 21,
   "metadata": {},
   "outputs": [
    {
     "data": {
      "text/plain": [
       "==========================================================================================\n",
       "Layer (type:depth-idx)                   Output Shape              Param #\n",
       "==========================================================================================\n",
       "LeDepthNet                               [100, 10]                 --\n",
       "├─Sequential: 1-1                        --                        --\n",
       "│    └─Conv2d: 2-1                       [100, 6, 28, 28]          156\n",
       "│    └─BatchNorm2d: 2-2                  [100, 6, 28, 28]          12\n",
       "│    └─Tanh: 2-3                         [100, 6, 28, 28]          --\n",
       "│    └─AvgPool2d: 2-4                    [100, 6, 14, 14]          --\n",
       "│    └─Depth_wise_block: 2-5             [100, 16, 14, 14]         --\n",
       "│    │    └─Sequential: 3-1              --                        226\n",
       "│    └─Tanh: 2-6                         [100, 16, 14, 14]         --\n",
       "│    └─AvgPool2d: 2-7                    [100, 16, 7, 7]           --\n",
       "│    └─Flatten: 2-8                      [100, 784]                --\n",
       "│    └─Linear: 2-9                       [100, 120]                94,200\n",
       "│    └─Tanh: 2-10                        [100, 120]                --\n",
       "│    └─Linear: 2-11                      [100, 84]                 10,164\n",
       "│    └─Tanh: 2-12                        [100, 84]                 --\n",
       "│    └─Linear: 2-13                      [100, 10]                 850\n",
       "==========================================================================================\n",
       "Total params: 105,608\n",
       "Trainable params: 105,608\n",
       "Non-trainable params: 0\n",
       "Total mult-adds (M): 26.95\n",
       "==========================================================================================\n",
       "Input size (MB): 0.31\n",
       "Forward/backward pass size (MB): 13.03\n",
       "Params size (MB): 0.42\n",
       "Estimated Total Size (MB): 13.76\n",
       "=========================================================================================="
      ]
     },
     "execution_count": 21,
     "metadata": {},
     "output_type": "execute_result"
    }
   ],
   "source": [
    "from Models import LeDepthNet\n",
    "\n",
    "LeDepthNN = LeDepthNet(input_shape, num_labels, initial_lr=parameters[\"lr\"], momentum=parameters[\"momentum\"], weight_decay=0)\n",
    "\n",
    "summary(LeDepthNN, input_shape)"
   ]
  },
  {
   "cell_type": "code",
   "execution_count": 7,
   "metadata": {},
   "outputs": [],
   "source": [
    "PATH = \"models/LeNet/LeDepthNet.pth\"\n",
    "\n",
    "if exists(PATH):\n",
    "    LeDepthNN = torch.load(PATH)\n",
    "    LeDepthNN.eval()"
   ]
  },
  {
   "cell_type": "code",
   "execution_count": 8,
   "metadata": {},
   "outputs": [
    {
     "name": "stdout",
     "output_type": "stream",
     "text": [
      "[1,   100] train_loss: 0.675\n",
      "test_loss: 0.294, test_accuracy: 90.35\n",
      "[1,   200] train_loss: 0.232\n",
      "test_loss: 0.150, test_accuracy: 95.23\n",
      "[1,   300] train_loss: 0.214\n",
      "test_loss: 0.149, test_accuracy: 95.28\n",
      "[1,   400] train_loss: 0.156\n",
      "test_loss: 0.172, test_accuracy: 94.45\n",
      "[1,   500] train_loss: 0.196\n",
      "test_loss: 0.254, test_accuracy: 91.96\n",
      "[1,   600] train_loss: 0.192\n",
      "test_loss: 0.184, test_accuracy: 94.35\n",
      "[2,   100] train_loss: 0.186\n",
      "test_loss: 0.149, test_accuracy: 95.44\n",
      "Epoch 00007: reducing learning rate of group 0 to 1.9286e-01.\n",
      "[2,   200] train_loss: 0.167\n",
      "test_loss: 0.108, test_accuracy: 96.85\n",
      "[2,   300] train_loss: 0.107\n",
      "test_loss: 0.084, test_accuracy: 97.48\n",
      "[2,   400] train_loss: 0.092\n",
      "test_loss: 0.109, test_accuracy: 96.67\n",
      "[2,   500] train_loss: 0.108\n",
      "test_loss: 0.099, test_accuracy: 96.98\n",
      "[2,   600] train_loss: 0.078\n",
      "test_loss: 0.065, test_accuracy: 98.05\n",
      "[3,   100] train_loss: 0.109\n",
      "test_loss: 0.070, test_accuracy: 97.95\n",
      "[3,   200] train_loss: 0.060\n",
      "test_loss: 0.062, test_accuracy: 98.21\n",
      "[3,   300] train_loss: 0.092\n",
      "test_loss: 0.068, test_accuracy: 97.99\n",
      "[3,   400] train_loss: 0.059\n",
      "test_loss: 0.063, test_accuracy: 98.06\n",
      "[3,   500] train_loss: 0.061\n",
      "test_loss: 0.058, test_accuracy: 98.28\n",
      "[3,   600] train_loss: 0.070\n",
      "test_loss: 0.068, test_accuracy: 98.02\n",
      "[4,   100] train_loss: 0.082\n",
      "test_loss: 0.074, test_accuracy: 97.65\n",
      "Epoch 00019: reducing learning rate of group 0 to 9.6428e-02.\n",
      "[4,   200] train_loss: 0.046\n",
      "test_loss: 0.054, test_accuracy: 98.46\n",
      "[4,   300] train_loss: 0.042\n",
      "test_loss: 0.052, test_accuracy: 98.4\n",
      "[4,   400] train_loss: 0.046\n",
      "test_loss: 0.063, test_accuracy: 98.2\n",
      "[4,   500] train_loss: 0.046\n",
      "test_loss: 0.051, test_accuracy: 98.38\n",
      "[4,   600] train_loss: 0.048\n",
      "test_loss: 0.050, test_accuracy: 98.46\n",
      "Epoch 00024: reducing learning rate of group 0 to 4.8214e-02.\n",
      "[5,   100] train_loss: 0.040\n",
      "test_loss: 0.049, test_accuracy: 98.48\n",
      "[5,   200] train_loss: 0.032\n",
      "test_loss: 0.049, test_accuracy: 98.57\n",
      "[5,   300] train_loss: 0.036\n",
      "test_loss: 0.049, test_accuracy: 98.45\n",
      "[5,   400] train_loss: 0.037\n",
      "test_loss: 0.050, test_accuracy: 98.41\n",
      "[5,   500] train_loss: 0.031\n",
      "test_loss: 0.048, test_accuracy: 98.49\n",
      "[5,   600] train_loss: 0.039\n",
      "test_loss: 0.049, test_accuracy: 98.48\n",
      "[6,   100] train_loss: 0.030\n",
      "test_loss: 0.047, test_accuracy: 98.54\n",
      "[6,   200] train_loss: 0.029\n",
      "test_loss: 0.047, test_accuracy: 98.57\n",
      "[6,   300] train_loss: 0.031\n",
      "test_loss: 0.047, test_accuracy: 98.5\n",
      "[6,   400] train_loss: 0.039\n",
      "test_loss: 0.047, test_accuracy: 98.49\n",
      "[6,   500] train_loss: 0.032\n",
      "test_loss: 0.047, test_accuracy: 98.55\n",
      "Epoch 00035: reducing learning rate of group 0 to 2.4107e-02.\n",
      "[6,   600] train_loss: 0.051\n",
      "test_loss: 0.046, test_accuracy: 98.54\n",
      "[7,   100] train_loss: 0.025\n",
      "test_loss: 0.046, test_accuracy: 98.59\n",
      "[7,   200] train_loss: 0.030\n",
      "test_loss: 0.046, test_accuracy: 98.61\n",
      "[7,   300] train_loss: 0.028\n",
      "test_loss: 0.046, test_accuracy: 98.57\n",
      "[7,   400] train_loss: 0.028\n",
      "test_loss: 0.046, test_accuracy: 98.53\n",
      "Epoch 00040: reducing learning rate of group 0 to 1.2054e-02.\n",
      "[7,   500] train_loss: 0.030\n",
      "test_loss: 0.046, test_accuracy: 98.59\n",
      "[7,   600] train_loss: 0.023\n",
      "test_loss: 0.045, test_accuracy: 98.59\n",
      "[8,   100] train_loss: 0.024\n",
      "test_loss: 0.046, test_accuracy: 98.56\n",
      "[8,   200] train_loss: 0.023\n",
      "test_loss: 0.046, test_accuracy: 98.58\n",
      "[8,   300] train_loss: 0.028\n",
      "test_loss: 0.046, test_accuracy: 98.55\n",
      "Epoch 00045: reducing learning rate of group 0 to 6.0268e-03.\n",
      "[8,   400] train_loss: 0.022\n",
      "test_loss: 0.046, test_accuracy: 98.56\n",
      "[8,   500] train_loss: 0.031\n",
      "test_loss: 0.045, test_accuracy: 98.57\n",
      "[8,   600] train_loss: 0.036\n",
      "test_loss: 0.045, test_accuracy: 98.61\n",
      "[9,   100] train_loss: 0.028\n",
      "test_loss: 0.045, test_accuracy: 98.59\n",
      "Epoch 00049: reducing learning rate of group 0 to 3.0134e-03.\n",
      "[9,   200] train_loss: 0.027\n",
      "test_loss: 0.045, test_accuracy: 98.57\n",
      "[9,   300] train_loss: 0.028\n",
      "test_loss: 0.045, test_accuracy: 98.58\n",
      "[9,   400] train_loss: 0.027\n",
      "test_loss: 0.045, test_accuracy: 98.59\n",
      "Epoch 00052: reducing learning rate of group 0 to 1.5067e-03.\n",
      "[9,   500] train_loss: 0.025\n",
      "test_loss: 0.045, test_accuracy: 98.59\n",
      "[9,   600] train_loss: 0.023\n",
      "test_loss: 0.045, test_accuracy: 98.59\n",
      "[10,   100] train_loss: 0.027\n",
      "test_loss: 0.045, test_accuracy: 98.58\n",
      "Epoch 00055: reducing learning rate of group 0 to 7.5335e-04.\n",
      "[10,   200] train_loss: 0.023\n",
      "test_loss: 0.045, test_accuracy: 98.57\n",
      "[10,   300] train_loss: 0.029\n",
      "test_loss: 0.045, test_accuracy: 98.57\n",
      "[10,   400] train_loss: 0.022\n",
      "test_loss: 0.045, test_accuracy: 98.57\n",
      "[10,   500] train_loss: 0.026\n",
      "test_loss: 0.045, test_accuracy: 98.57\n",
      "[10,   600] train_loss: 0.032\n",
      "test_loss: 0.045, test_accuracy: 98.57\n",
      "[11,   100] train_loss: 0.028\n",
      "test_loss: 0.045, test_accuracy: 98.58\n",
      "Epoch 00061: reducing learning rate of group 0 to 3.7667e-04.\n",
      "[11,   200] train_loss: 0.023\n",
      "test_loss: 0.045, test_accuracy: 98.57\n",
      "[11,   300] train_loss: 0.027\n",
      "test_loss: 0.045, test_accuracy: 98.58\n",
      "[11,   400] train_loss: 0.029\n",
      "test_loss: 0.045, test_accuracy: 98.57\n",
      "Epoch 00064: reducing learning rate of group 0 to 1.8834e-04.\n",
      "[11,   500] train_loss: 0.027\n",
      "test_loss: 0.045, test_accuracy: 98.58\n",
      "[11,   600] train_loss: 0.028\n",
      "test_loss: 0.045, test_accuracy: 98.56\n",
      "[12,   100] train_loss: 0.024\n",
      "test_loss: 0.045, test_accuracy: 98.6\n",
      "Epoch 00067: reducing learning rate of group 0 to 9.4168e-05.\n",
      "[12,   200] train_loss: 0.026\n",
      "test_loss: 0.045, test_accuracy: 98.57\n",
      "[12,   300] train_loss: 0.032\n",
      "test_loss: 0.045, test_accuracy: 98.58\n",
      "[12,   400] train_loss: 0.027\n",
      "test_loss: 0.045, test_accuracy: 98.58\n",
      "Epoch 00070: reducing learning rate of group 0 to 4.7084e-05.\n",
      "[12,   500] train_loss: 0.027\n",
      "test_loss: 0.045, test_accuracy: 98.57\n",
      "[12,   600] train_loss: 0.029\n",
      "test_loss: 0.045, test_accuracy: 98.59\n",
      "[13,   100] train_loss: 0.027\n",
      "test_loss: 0.045, test_accuracy: 98.58\n",
      "Epoch 00073: reducing learning rate of group 0 to 2.3542e-05.\n",
      "[13,   200] train_loss: 0.028\n",
      "test_loss: 0.045, test_accuracy: 98.58\n",
      "[13,   300] train_loss: 0.031\n",
      "test_loss: 0.045, test_accuracy: 98.59\n",
      "[13,   400] train_loss: 0.038\n",
      "test_loss: 0.045, test_accuracy: 98.6\n",
      "Epoch 00076: reducing learning rate of group 0 to 1.1771e-05.\n",
      "[13,   500] train_loss: 0.025\n",
      "test_loss: 0.045, test_accuracy: 98.56\n",
      "[13,   600] train_loss: 0.023\n",
      "test_loss: 0.045, test_accuracy: 98.58\n",
      "[14,   100] train_loss: 0.029\n",
      "test_loss: 0.045, test_accuracy: 98.57\n",
      "Epoch 00079: reducing learning rate of group 0 to 5.8855e-06.\n",
      "[14,   200] train_loss: 0.028\n",
      "test_loss: 0.045, test_accuracy: 98.57\n",
      "[14,   300] train_loss: 0.025\n",
      "test_loss: 0.045, test_accuracy: 98.57\n",
      "[14,   400] train_loss: 0.025\n",
      "test_loss: 0.045, test_accuracy: 98.58\n",
      "Epoch 00082: reducing learning rate of group 0 to 2.9428e-06.\n",
      "[14,   500] train_loss: 0.026\n",
      "test_loss: 0.045, test_accuracy: 98.59\n",
      "[14,   600] train_loss: 0.027\n",
      "test_loss: 0.045, test_accuracy: 98.57\n",
      "[15,   100] train_loss: 0.022\n",
      "test_loss: 0.045, test_accuracy: 98.57\n",
      "Epoch 00085: reducing learning rate of group 0 to 1.4714e-06.\n",
      "[15,   200] train_loss: 0.025\n",
      "test_loss: 0.045, test_accuracy: 98.58\n",
      "[15,   300] train_loss: 0.028\n",
      "test_loss: 0.045, test_accuracy: 98.57\n",
      "[15,   400] train_loss: 0.020\n",
      "test_loss: 0.045, test_accuracy: 98.57\n",
      "[15,   500] train_loss: 0.031\n",
      "test_loss: 0.045, test_accuracy: 98.57\n",
      "[15,   600] train_loss: 0.025\n",
      "test_loss: 0.045, test_accuracy: 98.56\n"
     ]
    }
   ],
   "source": [
    "criterion = CrossEntropyLoss()\n",
    "epochs = 15\n",
    "\n",
    "train_NN(LeDepthNN, criterion, train_dataloader, test_dataloader, epochs=epochs, batches_to_test=100,\n",
    "        patience=2,device=device, print_test=True, verbose=True, p_randomTransform=parameters[\"p_randomTransform\"])"
   ]
  },
  {
   "cell_type": "code",
   "execution_count": 12,
   "metadata": {},
   "outputs": [],
   "source": [
    "torch.save(LeDepthNN, \"./models/LeNet/LeDepthNet.pth\")"
   ]
  },
  {
   "cell_type": "code",
   "execution_count": 8,
   "metadata": {},
   "outputs": [],
   "source": [
    "LeDepthNN = torch.load(\"./models/LeNet/LeDepthNet.pth\")"
   ]
  },
  {
   "cell_type": "code",
   "execution_count": 9,
   "metadata": {},
   "outputs": [
    {
     "data": {
      "image/png": "[encoded data removed]",
      "text/plain": [
       "<Figure size 600x400 with 1 Axes>"
      ]
     },
     "metadata": {
      "needs_background": "light"
     },
     "output_type": "display_data"
    },
    {
     "data": {
      "image/png": "[encoded data removed]",
      "text/plain": [
       "<Figure size 600x400 with 1 Axes>"
      ]
     },
     "metadata": {
      "needs_background": "light"
     },
     "output_type": "display_data"
    }
   ],
   "source": [
    "plot_loss(LeDepthNN)\n",
    "plot_acc(LeDepthNN)"
   ]
  },
  {
   "cell_type": "code",
   "execution_count": 23,
   "metadata": {},
   "outputs": [
    {
     "name": "stdout",
     "output_type": "stream",
     "text": [
      "Training time (s):\n",
      "mean: 0.557\n",
      "std: 0.123\n"
     ]
    }
   ],
   "source": [
    "print(\"Training time (s):\")\n",
    "print(f\"mean: {round(np.mean(LeDepthNN.train_time), 3)}\")\n",
    "print(f\"std: {round(np.std(LeDepthNN.train_time), 3)}\")"
   ]
  },
  {
   "cell_type": "code",
   "execution_count": 26,
   "metadata": {},
   "outputs": [
    {
     "name": "stdout",
     "output_type": "stream",
     "text": [
      "Inference time (ns)\n",
      "6.266e+05\n",
      "1.1e+05\n"
     ]
    }
   ],
   "source": [
    "inference_times = inference_time(LeDepthNN, test_dataloader, device)\n",
    "print(\"Inference time (ns)\")\n",
    "print(format(np.mean(inference_times), \".3e\"))\n",
    "print(format(np.std(inference_times), \".1e\"))"
   ]
  }
 ],
 "metadata": {
  "kernelspec": {
   "display_name": "Python 3.9.12 ('base')",
   "language": "python",
   "name": "python3"
  },
  "language_info": {
   "codemirror_mode": {
    "name": "ipython",
    "version": 3
   },
   "file_extension": ".py",
   "mimetype": "text/x-python",
   "name": "python",
   "nbconvert_exporter": "python",
   "pygments_lexer": "ipython3",
   "version": "3.9.12"
  },
  "orig_nbformat": 4,
  "vscode": {
   "interpreter": {
    "hash": "4632010a9e13d22e5db6181f606bb74cee322bdf2be96a9f982ade689500be32"
   }
  }
 },
 "nbformat": 4,
 "nbformat_minor": 2
}
