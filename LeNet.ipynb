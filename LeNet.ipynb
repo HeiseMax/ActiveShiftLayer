{
 "cells": [
  {
   "cell_type": "code",
   "execution_count": 1,
   "metadata": {},
   "outputs": [],
   "source": [
    "import time\n",
    "import numpy as np\n",
    "import matplotlib.pyplot as plt\n",
    "from os.path import exists\n",
    "import json\n",
    "import pickle\n",
    "\n",
    "import torch\n",
    "import torch.optim as optim\n",
    "from torch.nn import CrossEntropyLoss, Conv2d, Sequential, BatchNorm2d\n",
    "from torch.utils.data import DataLoader\n",
    "\n",
    "import torchvision\n",
    "import torchvision.datasets as datasets\n",
    "import torchvision.transforms as transforms\n",
    "\n",
    "from torchinfo import summary\n",
    "\n",
    "from ActiveShiftLayer import ASL\n",
    "from util import test_loss, train_NN, loadMNIST, inference_time, plot_loss, plot_acc, plot_shifts, ASL_plot_acc, ASL_plot_loss\n",
    "\n",
    "plt.rcParams['figure.dpi'] = 100"
   ]
  },
  {
   "cell_type": "code",
   "execution_count": 2,
   "metadata": {},
   "outputs": [
    {
     "name": "stdout",
     "output_type": "stream",
     "text": [
      "cuda\n"
     ]
    }
   ],
   "source": [
    "if torch.cuda.is_available():\n",
    "    device = 'cuda'\n",
    "else:\n",
    "    device = 'cpu'\n",
    "print(device)"
   ]
  },
  {
   "cell_type": "code",
   "execution_count": 3,
   "metadata": {},
   "outputs": [],
   "source": [
    "batch_size = 100\n",
    "input_shape = (batch_size, 1, 28, 28)\n",
    "num_labels = 10\n",
    "\n",
    "train_dataset, train_dataloader, test_dataset, test_dataloader, classes = loadMNIST(batch_size)"
   ]
  },
  {
   "cell_type": "markdown",
   "metadata": {},
   "source": [
    "## MNIST LeNet"
   ]
  },
  {
   "cell_type": "code",
   "execution_count": 4,
   "metadata": {},
   "outputs": [
    {
     "name": "stdout",
     "output_type": "stream",
     "text": [
      "[{'acc': 99.70666666666666, 'lr': 0.21875, 'momentum': 0.78125, 'p_randomTransform': 0.0625}, {'acc': 99.645, 'lr': 0.09375, 'momentum': 0.65625, 'p_randomTransform': 0.3125}, {'acc': 99.625, 'lr': 0.491943359375, 'momentum': 0.589599609375, 'p_randomTransform': 0.04345703125}]\n"
     ]
    }
   ],
   "source": [
    "# mock train_function of Optimizer to load the optimizer\n",
    "train_function = None\n",
    "\n",
    "with open('models/LeNet/LeNet_optimizer.pkl', 'rb') as file:\n",
    "    LeNet_optim = pickle.load(file)\n",
    "\n",
    "best_parameters = LeNet_optim.get_best_parameters(3)\n",
    "print(best_parameters)\n",
    "parameters = best_parameters[1]"
   ]
  },
  {
   "cell_type": "code",
   "execution_count": 5,
   "metadata": {},
   "outputs": [
    {
     "data": {
      "text/plain": [
       "==========================================================================================\n",
       "Layer (type:depth-idx)                   Output Shape              Param #\n",
       "==========================================================================================\n",
       "LeNet                                    [100, 10]                 --\n",
       "├─Sequential: 1-1                        --                        --\n",
       "│    └─Conv2d: 2-1                       [100, 6, 28, 28]          156\n",
       "│    └─BatchNorm2d: 2-2                  [100, 6, 28, 28]          12\n",
       "│    └─Tanh: 2-3                         [100, 6, 28, 28]          --\n",
       "│    └─AvgPool2d: 2-4                    [100, 6, 14, 14]          --\n",
       "│    └─Conv2d: 2-5                       [100, 16, 14, 14]         2,416\n",
       "│    └─BatchNorm2d: 2-6                  [100, 16, 14, 14]         32\n",
       "│    └─Tanh: 2-7                         [100, 16, 14, 14]         --\n",
       "│    └─AvgPool2d: 2-8                    [100, 16, 7, 7]           --\n",
       "│    └─Flatten: 2-9                      [100, 784]                --\n",
       "│    └─Linear: 2-10                      [100, 120]                94,200\n",
       "│    └─Tanh: 2-11                        [100, 120]                --\n",
       "│    └─Linear: 2-12                      [100, 84]                 10,164\n",
       "│    └─Tanh: 2-13                        [100, 84]                 --\n",
       "│    └─Linear: 2-14                      [100, 10]                 850\n",
       "==========================================================================================\n",
       "Total params: 107,830\n",
       "Trainable params: 107,830\n",
       "Non-trainable params: 0\n",
       "Total mult-adds (M): 70.11\n",
       "==========================================================================================\n",
       "Input size (MB): 0.31\n",
       "Forward/backward pass size (MB): 12.72\n",
       "Params size (MB): 0.43\n",
       "Estimated Total Size (MB): 13.46\n",
       "=========================================================================================="
      ]
     },
     "execution_count": 5,
     "metadata": {},
     "output_type": "execute_result"
    }
   ],
   "source": [
    "from Models import LeNet\n",
    "\n",
    "LeNN = LeNet(input_shape, num_labels=num_labels, initial_lr=parameters[\"lr\"], momentum=parameters[\"momentum\"], weight_decay=0)\n",
    "\n",
    "summary(LeNN, input_shape)"
   ]
  },
  {
   "cell_type": "code",
   "execution_count": 6,
   "metadata": {},
   "outputs": [],
   "source": [
    "PATH = \"models/LeNet/LeNet.pth\"\n",
    "\n",
    "if exists(PATH):\n",
    "    LeNN = torch.load(PATH)\n",
    "    LeNN.eval()"
   ]
  },
  {
   "cell_type": "code",
   "execution_count": 6,
   "metadata": {},
   "outputs": [
    {
     "name": "stdout",
     "output_type": "stream",
     "text": [
      "[1,   100] train_loss: 0.924\n",
      "test_loss: 0.365, test_accuracy: 89.75\n",
      "[1,   200] train_loss: 0.405\n",
      "test_loss: 0.254, test_accuracy: 92.47\n",
      "[1,   300] train_loss: 0.316\n",
      "test_loss: 0.377, test_accuracy: 87.98\n",
      "[1,   400] train_loss: 0.225\n",
      "test_loss: 0.203, test_accuracy: 93.75\n",
      "[1,   500] train_loss: 0.168\n",
      "test_loss: 0.202, test_accuracy: 93.57\n",
      "[1,   600] train_loss: 0.134\n",
      "test_loss: 0.197, test_accuracy: 93.88\n",
      "[2,   100] train_loss: 0.135\n",
      "test_loss: 0.106, test_accuracy: 96.65\n",
      "[2,   200] train_loss: 0.139\n",
      "test_loss: 0.178, test_accuracy: 94.47\n",
      "[2,   300] train_loss: 0.111\n",
      "test_loss: 0.085, test_accuracy: 97.32\n",
      "[2,   400] train_loss: 0.084\n",
      "test_loss: 0.300, test_accuracy: 90.05\n",
      "[2,   500] train_loss: 0.089\n",
      "test_loss: 0.129, test_accuracy: 95.95\n",
      "[2,   600] train_loss: 0.090\n",
      "test_loss: 0.070, test_accuracy: 97.7\n",
      "[3,   100] train_loss: 0.073\n",
      "test_loss: 0.201, test_accuracy: 93.48\n",
      "[3,   200] train_loss: 0.082\n",
      "test_loss: 0.129, test_accuracy: 96.08\n",
      "[3,   300] train_loss: 0.091\n",
      "test_loss: 0.084, test_accuracy: 97.17\n",
      "[3,   400] train_loss: 0.076\n",
      "test_loss: 0.076, test_accuracy: 97.62\n",
      "Epoch 00016: reducing learning rate of group 0 to 4.6875e-02.\n",
      "[3,   500] train_loss: 0.055\n",
      "test_loss: 0.041, test_accuracy: 98.65\n",
      "[3,   600] train_loss: 0.057\n",
      "test_loss: 0.111, test_accuracy: 96.73\n",
      "[4,   100] train_loss: 0.050\n",
      "test_loss: 0.104, test_accuracy: 96.81\n",
      "[4,   200] train_loss: 0.053\n",
      "test_loss: 0.071, test_accuracy: 97.84\n",
      "[4,   300] train_loss: 0.049\n",
      "test_loss: 0.031, test_accuracy: 99.0\n",
      "[4,   400] train_loss: 0.053\n",
      "test_loss: 0.065, test_accuracy: 98.12\n",
      "[4,   500] train_loss: 0.051\n",
      "test_loss: 0.038, test_accuracy: 98.85\n",
      "[4,   600] train_loss: 0.045\n",
      "test_loss: 0.029, test_accuracy: 99.11\n",
      "[5,   100] train_loss: 0.047\n",
      "test_loss: 0.038, test_accuracy: 98.82\n",
      "[5,   200] train_loss: 0.047\n",
      "test_loss: 0.043, test_accuracy: 98.64\n",
      "[5,   300] train_loss: 0.038\n",
      "test_loss: 0.109, test_accuracy: 96.24\n",
      "[5,   400] train_loss: 0.042\n",
      "test_loss: 0.039, test_accuracy: 98.77\n",
      "[5,   500] train_loss: 0.050\n",
      "test_loss: 0.117, test_accuracy: 96.53\n",
      "[5,   600] train_loss: 0.041\n",
      "test_loss: 0.039, test_accuracy: 98.63\n",
      "Epoch 00030: reducing learning rate of group 0 to 2.3438e-02.\n",
      "[6,   100] train_loss: 0.040\n",
      "test_loss: 0.045, test_accuracy: 98.59\n",
      "[6,   200] train_loss: 0.034\n",
      "test_loss: 0.026, test_accuracy: 99.13\n",
      "[6,   300] train_loss: 0.038\n",
      "test_loss: 0.030, test_accuracy: 99.11\n",
      "[6,   400] train_loss: 0.036\n",
      "test_loss: 0.029, test_accuracy: 99.14\n",
      "[6,   500] train_loss: 0.037\n",
      "test_loss: 0.025, test_accuracy: 99.15\n",
      "Epoch 00035: reducing learning rate of group 0 to 1.1719e-02.\n",
      "[6,   600] train_loss: 0.031\n",
      "test_loss: 0.025, test_accuracy: 99.2\n",
      "[7,   100] train_loss: 0.030\n",
      "test_loss: 0.024, test_accuracy: 99.24\n",
      "[7,   200] train_loss: 0.034\n",
      "test_loss: 0.027, test_accuracy: 99.1\n",
      "[7,   300] train_loss: 0.032\n",
      "test_loss: 0.024, test_accuracy: 99.21\n",
      "[7,   400] train_loss: 0.036\n",
      "test_loss: 0.032, test_accuracy: 98.98\n",
      "Epoch 00040: reducing learning rate of group 0 to 5.8594e-03.\n",
      "[7,   500] train_loss: 0.036\n",
      "test_loss: 0.025, test_accuracy: 99.22\n",
      "[7,   600] train_loss: 0.035\n",
      "test_loss: 0.024, test_accuracy: 99.25\n",
      "[8,   100] train_loss: 0.025\n",
      "test_loss: 0.024, test_accuracy: 99.24\n",
      "[8,   200] train_loss: 0.034\n",
      "test_loss: 0.025, test_accuracy: 99.21\n",
      "[8,   300] train_loss: 0.034\n",
      "test_loss: 0.028, test_accuracy: 99.14\n",
      "[8,   400] train_loss: 0.036\n",
      "test_loss: 0.029, test_accuracy: 99.11\n",
      "Epoch 00046: reducing learning rate of group 0 to 2.9297e-03.\n",
      "[8,   500] train_loss: 0.033\n",
      "test_loss: 0.023, test_accuracy: 99.29\n",
      "[8,   600] train_loss: 0.027\n",
      "test_loss: 0.026, test_accuracy: 99.25\n",
      "[9,   100] train_loss: 0.030\n",
      "test_loss: 0.023, test_accuracy: 99.31\n",
      "Epoch 00049: reducing learning rate of group 0 to 1.4648e-03.\n",
      "[9,   200] train_loss: 0.026\n",
      "test_loss: 0.023, test_accuracy: 99.26\n",
      "[9,   300] train_loss: 0.032\n",
      "test_loss: 0.031, test_accuracy: 99.01\n",
      "[9,   400] train_loss: 0.033\n",
      "test_loss: 0.023, test_accuracy: 99.25\n",
      "Epoch 00052: reducing learning rate of group 0 to 7.3242e-04.\n",
      "[9,   500] train_loss: 0.032\n",
      "test_loss: 0.027, test_accuracy: 99.2\n",
      "[9,   600] train_loss: 0.035\n",
      "test_loss: 0.027, test_accuracy: 99.16\n",
      "[10,   100] train_loss: 0.028\n",
      "test_loss: 0.024, test_accuracy: 99.28\n",
      "Epoch 00055: reducing learning rate of group 0 to 3.6621e-04.\n",
      "[10,   200] train_loss: 0.032\n",
      "test_loss: 0.025, test_accuracy: 99.24\n",
      "[10,   300] train_loss: 0.033\n",
      "test_loss: 0.024, test_accuracy: 99.28\n",
      "[10,   400] train_loss: 0.035\n",
      "test_loss: 0.024, test_accuracy: 99.27\n",
      "Epoch 00058: reducing learning rate of group 0 to 1.8311e-04.\n",
      "[10,   500] train_loss: 0.029\n",
      "test_loss: 0.023, test_accuracy: 99.28\n",
      "[10,   600] train_loss: 0.026\n",
      "test_loss: 0.026, test_accuracy: 99.23\n",
      "[11,   100] train_loss: 0.032\n",
      "test_loss: 0.024, test_accuracy: 99.27\n",
      "Epoch 00061: reducing learning rate of group 0 to 9.1553e-05.\n",
      "[11,   200] train_loss: 0.026\n",
      "test_loss: 0.023, test_accuracy: 99.29\n",
      "[11,   300] train_loss: 0.029\n",
      "test_loss: 0.023, test_accuracy: 99.29\n",
      "[11,   400] train_loss: 0.032\n",
      "test_loss: 0.025, test_accuracy: 99.24\n",
      "Epoch 00064: reducing learning rate of group 0 to 4.5776e-05.\n",
      "[11,   500] train_loss: 0.026\n",
      "test_loss: 0.028, test_accuracy: 99.14\n",
      "[11,   600] train_loss: 0.025\n",
      "test_loss: 0.027, test_accuracy: 99.21\n",
      "[12,   100] train_loss: 0.027\n",
      "test_loss: 0.026, test_accuracy: 99.22\n",
      "[12,   200] train_loss: 0.031\n",
      "test_loss: 0.026, test_accuracy: 99.25\n",
      "[12,   300] train_loss: 0.031\n",
      "test_loss: 0.026, test_accuracy: 99.23\n",
      "Epoch 00069: reducing learning rate of group 0 to 2.2888e-05.\n",
      "[12,   400] train_loss: 0.030\n",
      "test_loss: 0.024, test_accuracy: 99.26\n",
      "[12,   500] train_loss: 0.032\n",
      "test_loss: 0.022, test_accuracy: 99.3\n",
      "[12,   600] train_loss: 0.035\n",
      "test_loss: 0.025, test_accuracy: 99.25\n",
      "Epoch 00072: reducing learning rate of group 0 to 1.1444e-05.\n",
      "[13,   100] train_loss: 0.029\n",
      "test_loss: 0.025, test_accuracy: 99.26\n",
      "[13,   200] train_loss: 0.026\n",
      "test_loss: 0.024, test_accuracy: 99.25\n",
      "[13,   300] train_loss: 0.032\n",
      "test_loss: 0.027, test_accuracy: 99.19\n",
      "Epoch 00075: reducing learning rate of group 0 to 5.7220e-06.\n",
      "[13,   400] train_loss: 0.034\n",
      "test_loss: 0.024, test_accuracy: 99.25\n",
      "[13,   500] train_loss: 0.030\n",
      "test_loss: 0.024, test_accuracy: 99.26\n",
      "[13,   600] train_loss: 0.031\n",
      "test_loss: 0.023, test_accuracy: 99.26\n",
      "Epoch 00078: reducing learning rate of group 0 to 2.8610e-06.\n",
      "[14,   100] train_loss: 0.031\n",
      "test_loss: 0.023, test_accuracy: 99.29\n",
      "[14,   200] train_loss: 0.032\n",
      "test_loss: 0.025, test_accuracy: 99.27\n",
      "[14,   300] train_loss: 0.029\n",
      "test_loss: 0.023, test_accuracy: 99.26\n",
      "Epoch 00081: reducing learning rate of group 0 to 1.4305e-06.\n",
      "[14,   400] train_loss: 0.031\n",
      "test_loss: 0.025, test_accuracy: 99.25\n",
      "[14,   500] train_loss: 0.032\n",
      "test_loss: 0.025, test_accuracy: 99.23\n",
      "[14,   600] train_loss: 0.030\n",
      "test_loss: 0.031, test_accuracy: 99.05\n",
      "Epoch 00084: reducing learning rate of group 0 to 7.1526e-07.\n",
      "[15,   100] train_loss: 0.028\n",
      "test_loss: 0.023, test_accuracy: 99.28\n",
      "[15,   200] train_loss: 0.036\n",
      "test_loss: 0.029, test_accuracy: 99.11\n",
      "[15,   300] train_loss: 0.033\n",
      "test_loss: 0.024, test_accuracy: 99.28\n",
      "Epoch 00087: reducing learning rate of group 0 to 3.5763e-07.\n",
      "[15,   400] train_loss: 0.031\n",
      "test_loss: 0.023, test_accuracy: 99.26\n",
      "[15,   500] train_loss: 0.030\n",
      "test_loss: 0.023, test_accuracy: 99.28\n",
      "[15,   600] train_loss: 0.040\n",
      "test_loss: 0.031, test_accuracy: 99.05\n",
      "Epoch 00090: reducing learning rate of group 0 to 1.7881e-07.\n"
     ]
    }
   ],
   "source": [
    "criterion = CrossEntropyLoss()\n",
    "epochs = 15\n",
    "\n",
    "train_NN(LeNN, criterion, train_dataloader, test_dataloader, epochs=epochs, batches_to_test=100,\n",
    "        patience=2, device=device, print_test=True, verbose=True, p_randomTransform=parameters[\"p_randomTransform\"])"
   ]
  },
  {
   "cell_type": "code",
   "execution_count": 7,
   "metadata": {},
   "outputs": [],
   "source": [
    "torch.save(LeNN, \"./models/LeNet/LeNet.pth\")"
   ]
  },
  {
   "cell_type": "code",
   "execution_count": 4,
   "metadata": {},
   "outputs": [],
   "source": [
    "LeNN = torch.load(\"./models/LeNet/LeNet.pth\")"
   ]
  },
  {
   "cell_type": "code",
   "execution_count": 5,
   "metadata": {},
   "outputs": [
    {
     "data": {
      "image/png": "[encoded data removed]",
      "text/plain": [
       "<Figure size 600x400 with 1 Axes>"
      ]
     },
     "metadata": {
      "needs_background": "light"
     },
     "output_type": "display_data"
    },
    {
     "data": {
      "image/png": "[encoded data removed]",
      "text/plain": [
       "<Figure size 600x400 with 1 Axes>"
      ]
     },
     "metadata": {
      "needs_background": "light"
     },
     "output_type": "display_data"
    }
   ],
   "source": [
    "plot_loss(LeNN, y_lim=(0,1))\n",
    "plot_acc(LeNN, y_lim=(90, 100))"
   ]
  },
  {
   "cell_type": "code",
   "execution_count": 5,
   "metadata": {},
   "outputs": [
    {
     "name": "stdout",
     "output_type": "stream",
     "text": [
      "Training time (s):\n",
      "mean: 0.703\n",
      "std: 0.138\n"
     ]
    }
   ],
   "source": [
    "print(\"Training time (s):\")\n",
    "print(f\"mean: {round(np.mean(LeNN.train_time), 3)}\")\n",
    "print(f\"std: {round(np.std(LeNN.train_time), 3)}\")"
   ]
  },
  {
   "cell_type": "code",
   "execution_count": 13,
   "metadata": {},
   "outputs": [
    {
     "name": "stdout",
     "output_type": "stream",
     "text": [
      "Inference time GPU (ms):\n",
      "3.195e-01\n",
      "4.5e-02\n"
     ]
    }
   ],
   "source": [
    "inference_times = inference_time(LeNN, input_shape=(1, 1, 28, 28), repetitions=10000, device=\"cuda\")\n",
    "print(\"Inference time GPU (ms):\")\n",
    "print(format(np.mean(inference_times), \".3e\"))\n",
    "print(format(np.std(inference_times), \".1e\"))"
   ]
  },
  {
   "cell_type": "code",
   "execution_count": 14,
   "metadata": {},
   "outputs": [
    {
     "name": "stdout",
     "output_type": "stream",
     "text": [
      "Inference time CPU (ms):\n",
      "3.224e-01\n",
      "4.6e-02\n"
     ]
    }
   ],
   "source": [
    "inference_times = inference_time(LeNN, input_shape=(1, 1, 28, 28), repetitions=10000, device=\"cpu\")\n",
    "print(\"Inference time CPU (ms):\")\n",
    "print(format(np.mean(inference_times), \".3e\"))\n",
    "print(format(np.std(inference_times), \".1e\"))"
   ]
  },
  {
   "cell_type": "code",
   "execution_count": 15,
   "metadata": {},
   "outputs": [
    {
     "name": "stdout",
     "output_type": "stream",
     "text": [
      "Inference time GPU (ms):\n",
      "1.967e+00\n",
      "3.7e-02\n"
     ]
    }
   ],
   "source": [
    "inference_times = inference_time(LeNN, input_shape=(100, 1, 28, 28), repetitions=10000, device=\"cuda\")\n",
    "print(\"Inference time GPU (ms):\")\n",
    "print(format(np.mean(inference_times), \".3e\"))\n",
    "print(format(np.std(inference_times), \".1e\"))"
   ]
  },
  {
   "cell_type": "code",
   "execution_count": 16,
   "metadata": {},
   "outputs": [
    {
     "name": "stdout",
     "output_type": "stream",
     "text": [
      "Inference time CPU (ms):\n",
      "2.198e+00\n",
      "6.7e-01\n"
     ]
    }
   ],
   "source": [
    "inference_times = inference_time(LeNN, input_shape=(100, 1, 28, 28), repetitions=10000, device=\"cpu\")\n",
    "print(\"Inference time CPU (ms):\")\n",
    "print(format(np.mean(inference_times), \".3e\"))\n",
    "print(format(np.std(inference_times), \".1e\"))"
   ]
  },
  {
   "cell_type": "markdown",
   "metadata": {},
   "source": [
    "## MNIST LeASLNet"
   ]
  },
  {
   "cell_type": "code",
   "execution_count": 7,
   "metadata": {},
   "outputs": [
    {
     "name": "stdout",
     "output_type": "stream",
     "text": [
      "[{'acc': 99.64666666666666, 'lr': 0.4318430270465593, 'momentum': 0.5504980468750001, 'p_randomTransform': 0.00041015625000001554}, {'acc': 99.52166666666666, 'lr': 0.47607421875, 'momentum': 0.51025390625, 'p_randomTransform': 0.0224609375}, {'acc': 99.27666666666667, 'lr': 0.031142578125000014, 'momentum': 0.9078222656249999, 'p_randomTransform': 0.5410533338955021}]\n"
     ]
    }
   ],
   "source": [
    "# mock train_function of Optimizer to load the optimizer\n",
    "ASL_train_function = None\n",
    "\n",
    "with open('models/LeNet/LeASLNet_optimizer.pkl', 'rb') as file:\n",
    "    LeASLNet_optim = pickle.load(file)\n",
    "\n",
    "best_parameters = LeASLNet_optim.get_best_parameters(3)\n",
    "print(best_parameters)\n",
    "parameters = best_parameters[2]"
   ]
  },
  {
   "cell_type": "code",
   "execution_count": 8,
   "metadata": {},
   "outputs": [
    {
     "data": {
      "text/plain": [
       "==========================================================================================\n",
       "Layer (type:depth-idx)                   Output Shape              Param #\n",
       "==========================================================================================\n",
       "LeASLNet                                 [100, 10]                 --\n",
       "├─Sequential: 1-1                        --                        --\n",
       "│    └─Conv2d: 2-1                       [100, 6, 28, 28]          156\n",
       "│    └─BatchNorm2d: 2-2                  [100, 6, 28, 28]          12\n",
       "│    └─Tanh: 2-3                         [100, 6, 28, 28]          --\n",
       "│    └─AvgPool2d: 2-4                    [100, 6, 14, 14]          --\n",
       "│    └─CSC_block: 2-5                    [100, 16, 14, 14]         --\n",
       "│    │    └─Sequential: 3-1              --                        108\n",
       "│    │    └─Conv2d: 3-2                  [100, 16, 14, 14]         112\n",
       "│    └─Tanh: 2-6                         [100, 16, 14, 14]         --\n",
       "│    └─AvgPool2d: 2-7                    [100, 16, 7, 7]           --\n",
       "│    └─Flatten: 2-8                      [100, 784]                --\n",
       "│    └─Linear: 2-9                       [100, 120]                94,200\n",
       "│    └─Tanh: 2-10                        [100, 120]                --\n",
       "│    └─Linear: 2-11                      [100, 84]                 10,164\n",
       "│    └─Tanh: 2-12                        [100, 84]                 --\n",
       "│    └─Linear: 2-13                      [100, 10]                 850\n",
       "==========================================================================================\n",
       "Total params: 105,602\n",
       "Trainable params: 105,602\n",
       "Non-trainable params: 0\n",
       "Total mult-adds (M): 26.60\n",
       "==========================================================================================\n",
       "Input size (MB): 0.31\n",
       "Forward/backward pass size (MB): 13.97\n",
       "Params size (MB): 0.42\n",
       "Estimated Total Size (MB): 14.71\n",
       "=========================================================================================="
      ]
     },
     "execution_count": 8,
     "metadata": {},
     "output_type": "execute_result"
    }
   ],
   "source": [
    "from Models import LeASLNet\n",
    "\n",
    "LeASLNN = LeASLNet(input_shape, num_labels, initial_lr=parameters[\"lr\"], momentum=parameters[\"momentum\"], weight_decay=0, device=device, expansion_rate=1)\n",
    "\n",
    "summary(LeASLNN, input_shape)"
   ]
  },
  {
   "cell_type": "code",
   "execution_count": 16,
   "metadata": {},
   "outputs": [],
   "source": [
    "PATH = \"models/LeNet/LeASLNet.pth\"\n",
    "\n",
    "if exists(PATH):\n",
    "    LeASLNN = torch.load(PATH)\n",
    "    LeASLNN.eval()"
   ]
  },
  {
   "cell_type": "code",
   "execution_count": 9,
   "metadata": {},
   "outputs": [
    {
     "name": "stdout",
     "output_type": "stream",
     "text": [
      "[1,   100] train_loss: 1.314\n",
      "test_loss: 0.823, test_accuracy: 73.87\n",
      "[1,   200] train_loss: 0.626\n",
      "test_loss: 0.402, test_accuracy: 87.24\n",
      "[1,   300] train_loss: 0.393\n",
      "test_loss: 0.227, test_accuracy: 93.23\n",
      "[1,   400] train_loss: 0.302\n",
      "test_loss: 0.161, test_accuracy: 95.15\n",
      "[1,   500] train_loss: 0.228\n",
      "test_loss: 0.125, test_accuracy: 96.05\n",
      "[1,   600] train_loss: 0.244\n",
      "test_loss: 0.112, test_accuracy: 96.57\n",
      "[2,   100] train_loss: 0.159\n",
      "test_loss: 0.107, test_accuracy: 96.77\n",
      "[2,   200] train_loss: 0.157\n",
      "test_loss: 0.090, test_accuracy: 96.97\n",
      "[2,   300] train_loss: 0.173\n",
      "test_loss: 0.091, test_accuracy: 97.24\n",
      "[2,   400] train_loss: 0.131\n",
      "test_loss: 0.084, test_accuracy: 97.28\n",
      "[2,   500] train_loss: 0.113\n",
      "test_loss: 0.068, test_accuracy: 98.05\n",
      "[2,   600] train_loss: 0.123\n",
      "test_loss: 0.068, test_accuracy: 97.75\n",
      "[3,   100] train_loss: 0.125\n",
      "test_loss: 0.089, test_accuracy: 97.08\n",
      "[3,   200] train_loss: 0.108\n",
      "test_loss: 0.062, test_accuracy: 98.04\n",
      "[3,   300] train_loss: 0.094\n",
      "test_loss: 0.060, test_accuracy: 98.11\n",
      "[3,   400] train_loss: 0.102\n",
      "test_loss: 0.056, test_accuracy: 98.14\n",
      "[3,   500] train_loss: 0.097\n",
      "test_loss: 0.109, test_accuracy: 96.58\n",
      "[3,   600] train_loss: 0.110\n",
      "test_loss: 0.062, test_accuracy: 97.94\n",
      "Epoch 00018: reducing learning rate of group 0 to 1.5571e-02.\n",
      "[4,   100] train_loss: 0.081\n",
      "test_loss: 0.050, test_accuracy: 98.36\n",
      "[4,   200] train_loss: 0.072\n",
      "test_loss: 0.045, test_accuracy: 98.52\n",
      "[4,   300] train_loss: 0.063\n",
      "test_loss: 0.042, test_accuracy: 98.59\n",
      "[4,   400] train_loss: 0.069\n",
      "test_loss: 0.042, test_accuracy: 98.69\n",
      "[4,   500] train_loss: 0.069\n",
      "test_loss: 0.041, test_accuracy: 98.63\n",
      "[4,   600] train_loss: 0.069\n",
      "test_loss: 0.042, test_accuracy: 98.72\n",
      "Epoch 00024: reducing learning rate of group 0 to 7.7856e-03.\n",
      "[5,   100] train_loss: 0.064\n",
      "test_loss: 0.038, test_accuracy: 98.7\n",
      "[5,   200] train_loss: 0.061\n",
      "test_loss: 0.041, test_accuracy: 98.61\n",
      "[5,   300] train_loss: 0.055\n",
      "test_loss: 0.037, test_accuracy: 98.78\n",
      "[5,   400] train_loss: 0.059\n",
      "test_loss: 0.038, test_accuracy: 98.78\n",
      "[5,   500] train_loss: 0.055\n",
      "test_loss: 0.037, test_accuracy: 98.74\n",
      "[5,   600] train_loss: 0.059\n",
      "test_loss: 0.038, test_accuracy: 98.79\n",
      "Epoch 00030: reducing learning rate of group 0 to 3.8928e-03.\n",
      "[6,   100] train_loss: 0.052\n",
      "test_loss: 0.036, test_accuracy: 98.79\n",
      "[6,   200] train_loss: 0.049\n",
      "test_loss: 0.036, test_accuracy: 98.8\n",
      "[6,   300] train_loss: 0.055\n",
      "test_loss: 0.035, test_accuracy: 98.82\n",
      "[6,   400] train_loss: 0.055\n",
      "test_loss: 0.035, test_accuracy: 98.82\n",
      "[6,   500] train_loss: 0.058\n",
      "test_loss: 0.037, test_accuracy: 98.77\n",
      "Epoch 00035: reducing learning rate of group 0 to 1.9464e-03.\n",
      "[6,   600] train_loss: 0.048\n",
      "test_loss: 0.035, test_accuracy: 98.8\n",
      "[7,   100] train_loss: 0.052\n",
      "test_loss: 0.035, test_accuracy: 98.81\n",
      "[7,   200] train_loss: 0.054\n",
      "test_loss: 0.036, test_accuracy: 98.79\n",
      "[7,   300] train_loss: 0.050\n",
      "test_loss: 0.035, test_accuracy: 98.78\n",
      "Epoch 00039: reducing learning rate of group 0 to 9.7321e-04.\n",
      "[7,   400] train_loss: 0.051\n",
      "test_loss: 0.035, test_accuracy: 98.82\n",
      "[7,   500] train_loss: 0.050\n",
      "test_loss: 0.035, test_accuracy: 98.86\n",
      "[7,   600] train_loss: 0.056\n",
      "test_loss: 0.035, test_accuracy: 98.8\n",
      "Epoch 00042: reducing learning rate of group 0 to 4.8660e-04.\n",
      "[8,   100] train_loss: 0.049\n",
      "test_loss: 0.035, test_accuracy: 98.79\n",
      "[8,   200] train_loss: 0.052\n",
      "test_loss: 0.035, test_accuracy: 98.8\n",
      "[8,   300] train_loss: 0.050\n",
      "test_loss: 0.035, test_accuracy: 98.81\n",
      "Epoch 00045: reducing learning rate of group 0 to 2.4330e-04.\n",
      "[8,   400] train_loss: 0.053\n",
      "test_loss: 0.035, test_accuracy: 98.79\n",
      "[8,   500] train_loss: 0.052\n",
      "test_loss: 0.035, test_accuracy: 98.77\n",
      "[8,   600] train_loss: 0.047\n",
      "test_loss: 0.035, test_accuracy: 98.79\n",
      "[9,   100] train_loss: 0.050\n",
      "test_loss: 0.034, test_accuracy: 98.82\n",
      "[9,   200] train_loss: 0.049\n",
      "test_loss: 0.034, test_accuracy: 98.82\n",
      "[9,   300] train_loss: 0.053\n",
      "test_loss: 0.035, test_accuracy: 98.83\n",
      "Epoch 00051: reducing learning rate of group 0 to 1.2165e-04.\n",
      "[9,   400] train_loss: 0.050\n",
      "test_loss: 0.035, test_accuracy: 98.77\n",
      "[9,   500] train_loss: 0.051\n",
      "test_loss: 0.035, test_accuracy: 98.79\n",
      "[9,   600] train_loss: 0.046\n",
      "test_loss: 0.035, test_accuracy: 98.85\n",
      "[10,   100] train_loss: 0.048\n",
      "test_loss: 0.035, test_accuracy: 98.82\n",
      "[10,   200] train_loss: 0.050\n",
      "test_loss: 0.034, test_accuracy: 98.8\n",
      "[10,   300] train_loss: 0.050\n",
      "test_loss: 0.034, test_accuracy: 98.8\n",
      "Epoch 00057: reducing learning rate of group 0 to 6.0825e-05.\n",
      "[10,   400] train_loss: 0.047\n",
      "test_loss: 0.034, test_accuracy: 98.8\n",
      "[10,   500] train_loss: 0.053\n",
      "test_loss: 0.035, test_accuracy: 98.77\n",
      "[10,   600] train_loss: 0.053\n",
      "test_loss: 0.034, test_accuracy: 98.82\n",
      "Epoch 00060: reducing learning rate of group 0 to 3.0413e-05.\n",
      "[11,   100] train_loss: 0.053\n",
      "test_loss: 0.034, test_accuracy: 98.79\n",
      "[11,   200] train_loss: 0.046\n",
      "test_loss: 0.034, test_accuracy: 98.77\n",
      "[11,   300] train_loss: 0.052\n",
      "test_loss: 0.034, test_accuracy: 98.81\n",
      "[11,   400] train_loss: 0.049\n",
      "test_loss: 0.035, test_accuracy: 98.83\n",
      "[11,   500] train_loss: 0.051\n",
      "test_loss: 0.034, test_accuracy: 98.78\n",
      "Epoch 00065: reducing learning rate of group 0 to 1.5206e-05.\n",
      "[11,   600] train_loss: 0.052\n",
      "test_loss: 0.035, test_accuracy: 98.78\n",
      "[12,   100] train_loss: 0.051\n",
      "test_loss: 0.034, test_accuracy: 98.81\n",
      "[12,   200] train_loss: 0.048\n",
      "test_loss: 0.035, test_accuracy: 98.81\n",
      "Epoch 00068: reducing learning rate of group 0 to 7.6032e-06.\n",
      "[12,   300] train_loss: 0.048\n",
      "test_loss: 0.035, test_accuracy: 98.79\n",
      "[12,   400] train_loss: 0.051\n",
      "test_loss: 0.034, test_accuracy: 98.82\n",
      "[12,   500] train_loss: 0.044\n",
      "test_loss: 0.035, test_accuracy: 98.84\n",
      "[12,   600] train_loss: 0.055\n",
      "test_loss: 0.035, test_accuracy: 98.79\n",
      "[13,   100] train_loss: 0.052\n",
      "test_loss: 0.034, test_accuracy: 98.8\n",
      "[13,   200] train_loss: 0.048\n",
      "test_loss: 0.035, test_accuracy: 98.83\n",
      "Epoch 00074: reducing learning rate of group 0 to 3.8016e-06.\n",
      "[13,   300] train_loss: 0.043\n",
      "test_loss: 0.035, test_accuracy: 98.79\n",
      "[13,   400] train_loss: 0.052\n",
      "test_loss: 0.034, test_accuracy: 98.84\n",
      "[13,   500] train_loss: 0.052\n",
      "test_loss: 0.034, test_accuracy: 98.8\n",
      "[13,   600] train_loss: 0.054\n",
      "test_loss: 0.034, test_accuracy: 98.81\n",
      "Epoch 00078: reducing learning rate of group 0 to 1.9008e-06.\n",
      "[14,   100] train_loss: 0.053\n",
      "test_loss: 0.035, test_accuracy: 98.8\n",
      "[14,   200] train_loss: 0.053\n",
      "test_loss: 0.034, test_accuracy: 98.84\n",
      "[14,   300] train_loss: 0.046\n",
      "test_loss: 0.034, test_accuracy: 98.83\n",
      "Epoch 00081: reducing learning rate of group 0 to 9.5040e-07.\n",
      "[14,   400] train_loss: 0.048\n",
      "test_loss: 0.035, test_accuracy: 98.85\n",
      "[14,   500] train_loss: 0.051\n",
      "test_loss: 0.035, test_accuracy: 98.8\n",
      "[14,   600] train_loss: 0.048\n",
      "test_loss: 0.035, test_accuracy: 98.77\n",
      "Epoch 00084: reducing learning rate of group 0 to 4.7520e-07.\n",
      "[15,   100] train_loss: 0.048\n",
      "test_loss: 0.034, test_accuracy: 98.81\n",
      "[15,   200] train_loss: 0.056\n",
      "test_loss: 0.034, test_accuracy: 98.8\n",
      "[15,   300] train_loss: 0.047\n",
      "test_loss: 0.034, test_accuracy: 98.84\n",
      "Epoch 00087: reducing learning rate of group 0 to 2.3760e-07.\n",
      "[15,   400] train_loss: 0.048\n",
      "test_loss: 0.034, test_accuracy: 98.79\n",
      "[15,   500] train_loss: 0.051\n",
      "test_loss: 0.034, test_accuracy: 98.8\n",
      "[15,   600] train_loss: 0.045\n",
      "test_loss: 0.035, test_accuracy: 98.78\n",
      "Epoch 00090: reducing learning rate of group 0 to 1.1880e-07.\n"
     ]
    }
   ],
   "source": [
    "criterion = CrossEntropyLoss()\n",
    "epochs = 15\n",
    "\n",
    "train_NN(LeASLNN, criterion, train_dataloader, test_dataloader, epochs=epochs, batches_to_test=100,\n",
    "        patience=2,device=device, print_test=True, verbose=True, p_randomTransform=parameters[\"p_randomTransform\"])"
   ]
  },
  {
   "cell_type": "code",
   "execution_count": 10,
   "metadata": {},
   "outputs": [],
   "source": [
    "torch.save(LeASLNN, \"./models/LeNet/LeASLNet.pth\")"
   ]
  },
  {
   "cell_type": "code",
   "execution_count": 11,
   "metadata": {},
   "outputs": [],
   "source": [
    "LeASLNN = torch.load(\"./models/LeNet/LeASLNet.pth\")"
   ]
  },
  {
   "cell_type": "code",
   "execution_count": 5,
   "metadata": {},
   "outputs": [
    {
     "data": {
      "image/png": "[encoded data removed]",
      "text/plain": [
       "<Figure size 600x400 with 1 Axes>"
      ]
     },
     "metadata": {
      "needs_background": "light"
     },
     "output_type": "display_data"
    },
    {
     "data": {
      "image/png": "[encoded data removed]",
      "text/plain": [
       "<Figure size 600x400 with 1 Axes>"
      ]
     },
     "metadata": {
      "needs_background": "light"
     },
     "output_type": "display_data"
    }
   ],
   "source": [
    "plot_loss(LeASLNN, y_lim=(0,1))\n",
    "plot_acc(LeASLNN, y_lim=(90,100))"
   ]
  },
  {
   "cell_type": "code",
   "execution_count": 5,
   "metadata": {},
   "outputs": [
    {
     "name": "stdout",
     "output_type": "stream",
     "text": [
      "Training time (s):\n",
      "mean: 0.661\n",
      "std: 0.128\n"
     ]
    }
   ],
   "source": [
    "print(\"Training time (s):\")\n",
    "print(f\"mean: {round(np.mean(LeASLNN.train_time), 3)}\")\n",
    "print(f\"std: {round(np.std(LeASLNN.train_time), 3)}\")"
   ]
  },
  {
   "cell_type": "code",
   "execution_count": 23,
   "metadata": {},
   "outputs": [
    {
     "name": "stdout",
     "output_type": "stream",
     "text": [
      "Inference time GPU (ms):\n",
      "1.175e+00\n",
      "1.7e-01\n"
     ]
    }
   ],
   "source": [
    "inference_times = inference_time(LeASLNN, input_shape=(1, 1, 28, 28), repetitions=10000, device=\"cuda\")\n",
    "print(\"Inference time GPU (ms):\")\n",
    "print(format(np.mean(inference_times), \".3e\"))\n",
    "print(format(np.std(inference_times), \".1e\"))"
   ]
  },
  {
   "cell_type": "code",
   "execution_count": 24,
   "metadata": {},
   "outputs": [
    {
     "name": "stdout",
     "output_type": "stream",
     "text": [
      "Inference time CPU (ms):\n",
      "6.789e-01\n",
      "1.6e-01\n"
     ]
    }
   ],
   "source": [
    "inference_times = inference_time(LeASLNN, input_shape=(1, 1, 28, 28), repetitions=10000, device=\"cpu\")\n",
    "print(\"Inference time CPU (ms):\")\n",
    "print(format(np.mean(inference_times), \".3e\"))\n",
    "print(format(np.std(inference_times), \".1e\"))"
   ]
  },
  {
   "cell_type": "code",
   "execution_count": 21,
   "metadata": {},
   "outputs": [
    {
     "name": "stdout",
     "output_type": "stream",
     "text": [
      "Inference time GPU (ms):\n",
      "1.909e+00\n",
      "7.8e-02\n"
     ]
    }
   ],
   "source": [
    "inference_times = inference_time(LeASLNN, input_shape=(100, 1, 28, 28), repetitions=10000, device=\"cuda\")\n",
    "print(\"Inference time GPU (ms):\")\n",
    "print(format(np.mean(inference_times), \".3e\"))\n",
    "print(format(np.std(inference_times), \".1e\"))"
   ]
  },
  {
   "cell_type": "code",
   "execution_count": 22,
   "metadata": {},
   "outputs": [
    {
     "name": "stdout",
     "output_type": "stream",
     "text": [
      "Inference time CPU (ms):\n",
      "3.076e+00\n",
      "5.7e-01\n"
     ]
    }
   ],
   "source": [
    "inference_times = inference_time(LeASLNN, input_shape=(100, 1, 28, 28), repetitions=10000, device=\"cpu\")\n",
    "print(\"Inference time CPU (ms):\")\n",
    "print(format(np.mean(inference_times), \".3e\"))\n",
    "print(format(np.std(inference_times), \".1e\"))"
   ]
  },
  {
   "cell_type": "code",
   "execution_count": 7,
   "metadata": {},
   "outputs": [
    {
     "data": {
      "image/png": "[encoded data removed]",
      "text/plain": [
       "<Figure size 600x400 with 1 Axes>"
      ]
     },
     "metadata": {
      "needs_background": "light"
     },
     "output_type": "display_data"
    },
    {
     "data": {
      "image/png": "[encoded data removed]",
      "text/plain": [
       "<Figure size 600x400 with 1 Axes>"
      ]
     },
     "metadata": {
      "needs_background": "light"
     },
     "output_type": "display_data"
    }
   ],
   "source": [
    "plot_shifts(LeASLNN)"
   ]
  },
  {
   "cell_type": "markdown",
   "metadata": {},
   "source": [
    "## MNIST LeASLNet expansion-rate 3"
   ]
  },
  {
   "cell_type": "code",
   "execution_count": 11,
   "metadata": {},
   "outputs": [
    {
     "name": "stdout",
     "output_type": "stream",
     "text": [
      "[{'acc': 99.64666666666666, 'lr': 0.4318430270465593, 'momentum': 0.5504980468750001, 'p_randomTransform': 0.00041015625000001554}, {'acc': 99.52166666666666, 'lr': 0.47607421875, 'momentum': 0.51025390625, 'p_randomTransform': 0.0224609375}, {'acc': 99.27666666666667, 'lr': 0.031142578125000014, 'momentum': 0.9078222656249999, 'p_randomTransform': 0.5410533338955021}]\n"
     ]
    }
   ],
   "source": [
    "# mock train_function of Optimizer to load the optimizer\n",
    "ASL_train_function = None\n",
    "\n",
    "with open('models/LeNet/LeASLNet_optimizer.pkl', 'rb') as file:\n",
    "    LeASLNet_optim = pickle.load(file)\n",
    "\n",
    "best_parameters = LeASLNet_optim.get_best_parameters(3)\n",
    "print(best_parameters)\n",
    "parameters = best_parameters[2]"
   ]
  },
  {
   "cell_type": "code",
   "execution_count": 12,
   "metadata": {},
   "outputs": [
    {
     "data": {
      "text/plain": [
       "==========================================================================================\n",
       "Layer (type:depth-idx)                   Output Shape              Param #\n",
       "==========================================================================================\n",
       "LeASLNet                                 [100, 10]                 --\n",
       "├─Sequential: 1-1                        --                        --\n",
       "│    └─Conv2d: 2-1                       [100, 6, 28, 28]          156\n",
       "│    └─BatchNorm2d: 2-2                  [100, 6, 28, 28]          12\n",
       "│    └─Tanh: 2-3                         [100, 6, 28, 28]          --\n",
       "│    └─AvgPool2d: 2-4                    [100, 6, 14, 14]          --\n",
       "│    └─CSC_block: 2-5                    [100, 16, 14, 14]         --\n",
       "│    │    └─Sequential: 3-1              --                        312\n",
       "│    │    └─Conv2d: 3-2                  [100, 16, 14, 14]         112\n",
       "│    └─Tanh: 2-6                         [100, 16, 14, 14]         --\n",
       "│    └─AvgPool2d: 2-7                    [100, 16, 7, 7]           --\n",
       "│    └─Flatten: 2-8                      [100, 784]                --\n",
       "│    └─Linear: 2-9                       [100, 120]                94,200\n",
       "│    └─Tanh: 2-10                        [100, 120]                --\n",
       "│    └─Linear: 2-11                      [100, 84]                 10,164\n",
       "│    └─Tanh: 2-12                        [100, 84]                 --\n",
       "│    └─Linear: 2-13                      [100, 10]                 850\n",
       "==========================================================================================\n",
       "Total params: 105,806\n",
       "Trainable params: 105,806\n",
       "Non-trainable params: 0\n",
       "Total mult-adds (M): 29.66\n",
       "==========================================================================================\n",
       "Input size (MB): 0.31\n",
       "Forward/backward pass size (MB): 19.61\n",
       "Params size (MB): 0.42\n",
       "Estimated Total Size (MB): 20.35\n",
       "=========================================================================================="
      ]
     },
     "execution_count": 12,
     "metadata": {},
     "output_type": "execute_result"
    }
   ],
   "source": [
    "from Models import LeASLNet\n",
    "\n",
    "LeASLNN_exp3 = LeASLNet(input_shape, num_labels, initial_lr=parameters[\"lr\"], momentum=parameters[\"momentum\"], weight_decay=0, device=device, expansion_rate=3)\n",
    "\n",
    "summary(LeASLNN_exp3, input_shape)"
   ]
  },
  {
   "cell_type": "code",
   "execution_count": 13,
   "metadata": {},
   "outputs": [],
   "source": [
    "PATH = \"models/LeNet/LeASLNet_exp3.pth\"\n",
    "\n",
    "if exists(PATH):\n",
    "    LeASLNN_exp3 = torch.load(PATH)\n",
    "    LeASLNN_exp3.eval()"
   ]
  },
  {
   "cell_type": "code",
   "execution_count": 14,
   "metadata": {},
   "outputs": [
    {
     "name": "stdout",
     "output_type": "stream",
     "text": [
      "[1,   100] train_loss: 1.257\n",
      "test_loss: 0.734, test_accuracy: 73.8\n",
      "[1,   200] train_loss: 0.412\n",
      "test_loss: 0.196, test_accuracy: 94.07\n",
      "[1,   300] train_loss: 0.257\n",
      "test_loss: 0.160, test_accuracy: 95.04\n",
      "[1,   400] train_loss: 0.184\n",
      "test_loss: 0.098, test_accuracy: 96.95\n",
      "[1,   500] train_loss: 0.157\n",
      "test_loss: 0.096, test_accuracy: 96.96\n",
      "[1,   600] train_loss: 0.139\n",
      "test_loss: 0.096, test_accuracy: 96.96\n",
      "[2,   100] train_loss: 0.130\n",
      "test_loss: 0.089, test_accuracy: 97.08\n",
      "[2,   200] train_loss: 0.112\n",
      "test_loss: 0.072, test_accuracy: 97.76\n",
      "[2,   300] train_loss: 0.120\n",
      "test_loss: 0.071, test_accuracy: 97.79\n",
      "[2,   400] train_loss: 0.113\n",
      "test_loss: 0.068, test_accuracy: 97.86\n",
      "[2,   500] train_loss: 0.099\n",
      "test_loss: 0.064, test_accuracy: 98.0\n",
      "[2,   600] train_loss: 0.129\n",
      "test_loss: 0.067, test_accuracy: 97.81\n",
      "[3,   100] train_loss: 0.088\n",
      "test_loss: 0.065, test_accuracy: 97.97\n",
      "[3,   200] train_loss: 0.097\n",
      "test_loss: 0.068, test_accuracy: 97.77\n",
      "[3,   300] train_loss: 0.081\n",
      "test_loss: 0.062, test_accuracy: 98.0\n",
      "[3,   400] train_loss: 0.081\n",
      "test_loss: 0.054, test_accuracy: 98.3\n",
      "[3,   500] train_loss: 0.084\n",
      "test_loss: 0.060, test_accuracy: 97.97\n",
      "[3,   600] train_loss: 0.095\n",
      "test_loss: 0.067, test_accuracy: 97.72\n",
      "[4,   100] train_loss: 0.071\n",
      "test_loss: 0.055, test_accuracy: 98.3\n",
      "[4,   200] train_loss: 0.080\n",
      "test_loss: 0.049, test_accuracy: 98.44\n",
      "[4,   300] train_loss: 0.069\n",
      "test_loss: 0.040, test_accuracy: 98.66\n",
      "[4,   400] train_loss: 0.076\n",
      "test_loss: 0.045, test_accuracy: 98.59\n",
      "[4,   500] train_loss: 0.071\n",
      "test_loss: 0.038, test_accuracy: 98.8\n",
      "[4,   600] train_loss: 0.063\n",
      "test_loss: 0.037, test_accuracy: 98.78\n",
      "[5,   100] train_loss: 0.064\n",
      "test_loss: 0.038, test_accuracy: 98.76\n",
      "[5,   200] train_loss: 0.064\n",
      "test_loss: 0.039, test_accuracy: 98.69\n",
      "[5,   300] train_loss: 0.067\n",
      "test_loss: 0.043, test_accuracy: 98.54\n",
      "Epoch 00027: reducing learning rate of group 0 to 1.5571e-02.\n",
      "[5,   400] train_loss: 0.057\n",
      "test_loss: 0.038, test_accuracy: 98.8\n",
      "[5,   500] train_loss: 0.054\n",
      "test_loss: 0.036, test_accuracy: 98.84\n",
      "[5,   600] train_loss: 0.048\n",
      "test_loss: 0.039, test_accuracy: 98.72\n",
      "[6,   100] train_loss: 0.048\n",
      "test_loss: 0.033, test_accuracy: 98.91\n",
      "[6,   200] train_loss: 0.048\n",
      "test_loss: 0.034, test_accuracy: 98.87\n",
      "[6,   300] train_loss: 0.044\n",
      "test_loss: 0.036, test_accuracy: 98.85\n",
      "[6,   400] train_loss: 0.040\n",
      "test_loss: 0.033, test_accuracy: 99.01\n",
      "[6,   500] train_loss: 0.046\n",
      "test_loss: 0.034, test_accuracy: 98.83\n",
      "[6,   600] train_loss: 0.053\n",
      "test_loss: 0.038, test_accuracy: 98.78\n",
      "[7,   100] train_loss: 0.047\n",
      "test_loss: 0.030, test_accuracy: 99.11\n",
      "Epoch 00037: reducing learning rate of group 0 to 7.7856e-03.\n",
      "[7,   200] train_loss: 0.043\n",
      "test_loss: 0.029, test_accuracy: 99.11\n",
      "[7,   300] train_loss: 0.042\n",
      "test_loss: 0.031, test_accuracy: 99.03\n",
      "[7,   400] train_loss: 0.039\n",
      "test_loss: 0.029, test_accuracy: 99.06\n",
      "[7,   500] train_loss: 0.044\n",
      "test_loss: 0.031, test_accuracy: 99.04\n",
      "[7,   600] train_loss: 0.039\n",
      "test_loss: 0.029, test_accuracy: 99.0\n",
      "[8,   100] train_loss: 0.035\n",
      "test_loss: 0.032, test_accuracy: 98.91\n",
      "[8,   200] train_loss: 0.043\n",
      "test_loss: 0.028, test_accuracy: 99.06\n",
      "[8,   300] train_loss: 0.040\n",
      "test_loss: 0.027, test_accuracy: 99.11\n",
      "[8,   400] train_loss: 0.036\n",
      "test_loss: 0.027, test_accuracy: 99.12\n",
      "Epoch 00046: reducing learning rate of group 0 to 3.8928e-03.\n",
      "[8,   500] train_loss: 0.036\n",
      "test_loss: 0.028, test_accuracy: 99.14\n",
      "[8,   600] train_loss: 0.033\n",
      "test_loss: 0.031, test_accuracy: 99.01\n",
      "[9,   100] train_loss: 0.035\n",
      "test_loss: 0.026, test_accuracy: 99.12\n",
      "[9,   200] train_loss: 0.038\n",
      "test_loss: 0.028, test_accuracy: 99.11\n",
      "[9,   300] train_loss: 0.032\n",
      "test_loss: 0.026, test_accuracy: 99.11\n",
      "[9,   400] train_loss: 0.037\n",
      "test_loss: 0.026, test_accuracy: 99.16\n",
      "[9,   500] train_loss: 0.026\n",
      "test_loss: 0.028, test_accuracy: 99.09\n",
      "[9,   600] train_loss: 0.035\n",
      "test_loss: 0.026, test_accuracy: 99.17\n",
      "[10,   100] train_loss: 0.036\n",
      "test_loss: 0.028, test_accuracy: 99.11\n",
      "[10,   200] train_loss: 0.036\n",
      "test_loss: 0.026, test_accuracy: 99.2\n",
      "Epoch 00056: reducing learning rate of group 0 to 1.9464e-03.\n",
      "[10,   300] train_loss: 0.033\n",
      "test_loss: 0.028, test_accuracy: 99.07\n",
      "[10,   400] train_loss: 0.031\n",
      "test_loss: 0.026, test_accuracy: 99.18\n",
      "[10,   500] train_loss: 0.033\n",
      "test_loss: 0.029, test_accuracy: 99.08\n",
      "Epoch 00059: reducing learning rate of group 0 to 9.7321e-04.\n",
      "[10,   600] train_loss: 0.039\n",
      "test_loss: 0.026, test_accuracy: 99.16\n",
      "[11,   100] train_loss: 0.030\n",
      "test_loss: 0.028, test_accuracy: 99.11\n",
      "[11,   200] train_loss: 0.032\n",
      "test_loss: 0.026, test_accuracy: 99.16\n",
      "Epoch 00062: reducing learning rate of group 0 to 4.8660e-04.\n",
      "[11,   300] train_loss: 0.032\n",
      "test_loss: 0.027, test_accuracy: 99.11\n",
      "[11,   400] train_loss: 0.035\n",
      "test_loss: 0.026, test_accuracy: 99.16\n",
      "[11,   500] train_loss: 0.033\n",
      "test_loss: 0.026, test_accuracy: 99.17\n",
      "Epoch 00065: reducing learning rate of group 0 to 2.4330e-04.\n",
      "[11,   600] train_loss: 0.032\n",
      "test_loss: 0.028, test_accuracy: 99.08\n",
      "[12,   100] train_loss: 0.028\n",
      "test_loss: 0.026, test_accuracy: 99.13\n",
      "[12,   200] train_loss: 0.035\n",
      "test_loss: 0.024, test_accuracy: 99.22\n",
      "Epoch 00068: reducing learning rate of group 0 to 1.2165e-04.\n",
      "[12,   300] train_loss: 0.034\n",
      "test_loss: 0.026, test_accuracy: 99.13\n",
      "[12,   400] train_loss: 0.034\n",
      "test_loss: 0.026, test_accuracy: 99.15\n",
      "[12,   500] train_loss: 0.034\n",
      "test_loss: 0.029, test_accuracy: 99.06\n",
      "Epoch 00071: reducing learning rate of group 0 to 6.0825e-05.\n",
      "[12,   600] train_loss: 0.030\n",
      "test_loss: 0.027, test_accuracy: 99.12\n",
      "[13,   100] train_loss: 0.032\n",
      "test_loss: 0.027, test_accuracy: 99.12\n",
      "[13,   200] train_loss: 0.028\n",
      "test_loss: 0.027, test_accuracy: 99.11\n",
      "Epoch 00074: reducing learning rate of group 0 to 3.0413e-05.\n",
      "[13,   300] train_loss: 0.032\n",
      "test_loss: 0.026, test_accuracy: 99.16\n",
      "[13,   400] train_loss: 0.034\n",
      "test_loss: 0.027, test_accuracy: 99.11\n",
      "[13,   500] train_loss: 0.031\n",
      "test_loss: 0.025, test_accuracy: 99.21\n",
      "Epoch 00077: reducing learning rate of group 0 to 1.5206e-05.\n",
      "[13,   600] train_loss: 0.033\n",
      "test_loss: 0.028, test_accuracy: 99.08\n",
      "[14,   100] train_loss: 0.032\n",
      "test_loss: 0.026, test_accuracy: 99.16\n",
      "[14,   200] train_loss: 0.031\n",
      "test_loss: 0.029, test_accuracy: 99.04\n",
      "Epoch 00080: reducing learning rate of group 0 to 7.6032e-06.\n",
      "[14,   300] train_loss: 0.032\n",
      "test_loss: 0.026, test_accuracy: 99.15\n",
      "[14,   400] train_loss: 0.035\n",
      "test_loss: 0.027, test_accuracy: 99.09\n",
      "[14,   500] train_loss: 0.035\n",
      "test_loss: 0.028, test_accuracy: 99.07\n",
      "Epoch 00083: reducing learning rate of group 0 to 3.8016e-06.\n",
      "[14,   600] train_loss: 0.032\n",
      "test_loss: 0.027, test_accuracy: 99.12\n",
      "[15,   100] train_loss: 0.032\n",
      "test_loss: 0.025, test_accuracy: 99.19\n",
      "[15,   200] train_loss: 0.029\n",
      "test_loss: 0.024, test_accuracy: 99.25\n",
      "Epoch 00086: reducing learning rate of group 0 to 1.9008e-06.\n",
      "[15,   300] train_loss: 0.033\n",
      "test_loss: 0.028, test_accuracy: 99.09\n",
      "[15,   400] train_loss: 0.030\n",
      "test_loss: 0.028, test_accuracy: 99.1\n",
      "[15,   500] train_loss: 0.034\n",
      "test_loss: 0.027, test_accuracy: 99.12\n",
      "Epoch 00089: reducing learning rate of group 0 to 9.5040e-07.\n",
      "[15,   600] train_loss: 0.032\n",
      "test_loss: 0.025, test_accuracy: 99.23\n"
     ]
    }
   ],
   "source": [
    "criterion = CrossEntropyLoss()\n",
    "epochs = 15\n",
    "\n",
    "train_NN(LeASLNN_exp3, criterion, train_dataloader, test_dataloader, epochs=epochs, batches_to_test=100,\n",
    "        patience=2,device=device, print_test=True, verbose=True, p_randomTransform=parameters[\"p_randomTransform\"])"
   ]
  },
  {
   "cell_type": "code",
   "execution_count": 15,
   "metadata": {},
   "outputs": [],
   "source": [
    "torch.save(LeASLNN_exp3, \"./models/LeNet/LeASLNet_exp3.pth\")"
   ]
  },
  {
   "cell_type": "code",
   "execution_count": 4,
   "metadata": {},
   "outputs": [],
   "source": [
    "LeASLNN_exp3 = torch.load(\"./models/LeNet/LeASLNet_exp3.pth\")"
   ]
  },
  {
   "cell_type": "code",
   "execution_count": 13,
   "metadata": {},
   "outputs": [
    {
     "data": {
      "image/png": "[encoded data removed]",
      "text/plain": [
       "<Figure size 600x400 with 1 Axes>"
      ]
     },
     "metadata": {
      "needs_background": "light"
     },
     "output_type": "display_data"
    },
    {
     "data": {
      "image/png": "[encoded data removed]",
      "text/plain": [
       "<Figure size 600x400 with 1 Axes>"
      ]
     },
     "metadata": {
      "needs_background": "light"
     },
     "output_type": "display_data"
    }
   ],
   "source": [
    "ASL_plot_loss(LeASLNN, LeASLNN_exp3, y_lim=(0,1))\n",
    "ASL_plot_acc(LeASLNN, LeASLNN_exp3, y_lim=(90, 100))"
   ]
  },
  {
   "cell_type": "code",
   "execution_count": 6,
   "metadata": {},
   "outputs": [
    {
     "name": "stdout",
     "output_type": "stream",
     "text": [
      "Training time (s):\n",
      "mean: 0.791\n",
      "std: 0.144\n"
     ]
    }
   ],
   "source": [
    "print(\"Training time (s):\")\n",
    "print(f\"mean: {round(np.mean(LeASLNN_exp3.train_time), 3)}\")\n",
    "print(f\"std: {round(np.std(LeASLNN_exp3.train_time), 3)}\")"
   ]
  },
  {
   "cell_type": "code",
   "execution_count": 7,
   "metadata": {},
   "outputs": [
    {
     "name": "stdout",
     "output_type": "stream",
     "text": [
      "Inference time GPU (ms):\n",
      "1.132e+00\n",
      "9.5e-02\n"
     ]
    }
   ],
   "source": [
    "inference_times = inference_time(LeASLNN_exp3, input_shape=(1, 1, 28, 28), repetitions=10000, device=\"cuda\")\n",
    "print(\"Inference time GPU (ms):\")\n",
    "print(format(np.mean(inference_times), \".3e\"))\n",
    "print(format(np.std(inference_times), \".1e\"))"
   ]
  },
  {
   "cell_type": "code",
   "execution_count": 8,
   "metadata": {},
   "outputs": [
    {
     "name": "stdout",
     "output_type": "stream",
     "text": [
      "Inference time CPU (ms):\n",
      "6.852e-01\n",
      "2.9e-01\n"
     ]
    }
   ],
   "source": [
    "inference_times = inference_time(LeASLNN_exp3, input_shape=(1, 1, 28, 28), repetitions=10000, device=\"cpu\")\n",
    "print(\"Inference time CPU (ms):\")\n",
    "print(format(np.mean(inference_times), \".3e\"))\n",
    "print(format(np.std(inference_times), \".1e\"))"
   ]
  },
  {
   "cell_type": "code",
   "execution_count": 9,
   "metadata": {},
   "outputs": [
    {
     "name": "stdout",
     "output_type": "stream",
     "text": [
      "Inference time GPU (ms):\n",
      "2.259e+00\n",
      "5.2e-02\n"
     ]
    }
   ],
   "source": [
    "inference_times = inference_time(LeASLNN_exp3, input_shape=(100, 1, 28, 28), repetitions=10000, device=\"cuda\")\n",
    "print(\"Inference time GPU (ms):\")\n",
    "print(format(np.mean(inference_times), \".3e\"))\n",
    "print(format(np.std(inference_times), \".1e\"))"
   ]
  },
  {
   "cell_type": "code",
   "execution_count": 10,
   "metadata": {},
   "outputs": [
    {
     "name": "stdout",
     "output_type": "stream",
     "text": [
      "Inference time CPU (ms):\n",
      "4.255e+00\n",
      "6.0e-01\n"
     ]
    }
   ],
   "source": [
    "inference_times = inference_time(LeASLNN_exp3, input_shape=(100, 1, 28, 28), repetitions=10000, device=\"cpu\")\n",
    "print(\"Inference time CPU (ms):\")\n",
    "print(format(np.mean(inference_times), \".3e\"))\n",
    "print(format(np.std(inference_times), \".1e\"))"
   ]
  },
  {
   "cell_type": "markdown",
   "metadata": {},
   "source": [
    "## MNIST LeDepthNet"
   ]
  },
  {
   "cell_type": "code",
   "execution_count": 20,
   "metadata": {},
   "outputs": [
    {
     "name": "stdout",
     "output_type": "stream",
     "text": [
      "[{'acc': 99.40833333333333, 'lr': 0.385712890625, 'momentum': 0.5377679553024513, 'p_randomTransform': 0.017723451102000187}, {'acc': 99.36833333333334, 'lr': 0.3125, 'momentum': 0.5625, 'p_randomTransform': 0.375}, {'acc': 99.35666666666667, 'lr': 0.09375, 'momentum': 0.65625, 'p_randomTransform': 0.3125}]\n"
     ]
    }
   ],
   "source": [
    "# mock train_function of Optimizer to load the optimizer\n",
    "train_function = None\n",
    "\n",
    "with open('models/LeNet/LeDepthNet_optimizer.pkl', 'rb') as file:\n",
    "    LeDepthNet_optim = pickle.load(file)\n",
    "\n",
    "best_parameters = LeDepthNet_optim.get_best_parameters(3)\n",
    "print(best_parameters)\n",
    "parameters = best_parameters[0]"
   ]
  },
  {
   "cell_type": "code",
   "execution_count": 21,
   "metadata": {},
   "outputs": [
    {
     "data": {
      "text/plain": [
       "==========================================================================================\n",
       "Layer (type:depth-idx)                   Output Shape              Param #\n",
       "==========================================================================================\n",
       "LeDepthNet                               [100, 10]                 --\n",
       "├─Sequential: 1-1                        --                        --\n",
       "│    └─Conv2d: 2-1                       [100, 6, 28, 28]          156\n",
       "│    └─BatchNorm2d: 2-2                  [100, 6, 28, 28]          12\n",
       "│    └─Tanh: 2-3                         [100, 6, 28, 28]          --\n",
       "│    └─AvgPool2d: 2-4                    [100, 6, 14, 14]          --\n",
       "│    └─Depth_wise_block: 2-5             [100, 16, 14, 14]         --\n",
       "│    │    └─Sequential: 3-1              --                        226\n",
       "│    └─Tanh: 2-6                         [100, 16, 14, 14]         --\n",
       "│    └─AvgPool2d: 2-7                    [100, 16, 7, 7]           --\n",
       "│    └─Flatten: 2-8                      [100, 784]                --\n",
       "│    └─Linear: 2-9                       [100, 120]                94,200\n",
       "│    └─Tanh: 2-10                        [100, 120]                --\n",
       "│    └─Linear: 2-11                      [100, 84]                 10,164\n",
       "│    └─Tanh: 2-12                        [100, 84]                 --\n",
       "│    └─Linear: 2-13                      [100, 10]                 850\n",
       "==========================================================================================\n",
       "Total params: 105,608\n",
       "Trainable params: 105,608\n",
       "Non-trainable params: 0\n",
       "Total mult-adds (M): 26.95\n",
       "==========================================================================================\n",
       "Input size (MB): 0.31\n",
       "Forward/backward pass size (MB): 13.03\n",
       "Params size (MB): 0.42\n",
       "Estimated Total Size (MB): 13.76\n",
       "=========================================================================================="
      ]
     },
     "execution_count": 21,
     "metadata": {},
     "output_type": "execute_result"
    }
   ],
   "source": [
    "from Models import LeDepthNet\n",
    "\n",
    "LeDepthNN = LeDepthNet(input_shape, num_labels, initial_lr=parameters[\"lr\"], momentum=parameters[\"momentum\"], weight_decay=0)\n",
    "\n",
    "summary(LeDepthNN, input_shape)"
   ]
  },
  {
   "cell_type": "code",
   "execution_count": 7,
   "metadata": {},
   "outputs": [],
   "source": [
    "PATH = \"models/LeNet/LeDepthNet.pth\"\n",
    "\n",
    "if exists(PATH):\n",
    "    LeDepthNN = torch.load(PATH)\n",
    "    LeDepthNN.eval()"
   ]
  },
  {
   "cell_type": "code",
   "execution_count": 8,
   "metadata": {},
   "outputs": [
    {
     "name": "stdout",
     "output_type": "stream",
     "text": [
      "[1,   100] train_loss: 0.675\n",
      "test_loss: 0.294, test_accuracy: 90.35\n",
      "[1,   200] train_loss: 0.232\n",
      "test_loss: 0.150, test_accuracy: 95.23\n",
      "[1,   300] train_loss: 0.214\n",
      "test_loss: 0.149, test_accuracy: 95.28\n",
      "[1,   400] train_loss: 0.156\n",
      "test_loss: 0.172, test_accuracy: 94.45\n",
      "[1,   500] train_loss: 0.196\n",
      "test_loss: 0.254, test_accuracy: 91.96\n",
      "[1,   600] train_loss: 0.192\n",
      "test_loss: 0.184, test_accuracy: 94.35\n",
      "[2,   100] train_loss: 0.186\n",
      "test_loss: 0.149, test_accuracy: 95.44\n",
      "Epoch 00007: reducing learning rate of group 0 to 1.9286e-01.\n",
      "[2,   200] train_loss: 0.167\n",
      "test_loss: 0.108, test_accuracy: 96.85\n",
      "[2,   300] train_loss: 0.107\n",
      "test_loss: 0.084, test_accuracy: 97.48\n",
      "[2,   400] train_loss: 0.092\n",
      "test_loss: 0.109, test_accuracy: 96.67\n",
      "[2,   500] train_loss: 0.108\n",
      "test_loss: 0.099, test_accuracy: 96.98\n",
      "[2,   600] train_loss: 0.078\n",
      "test_loss: 0.065, test_accuracy: 98.05\n",
      "[3,   100] train_loss: 0.109\n",
      "test_loss: 0.070, test_accuracy: 97.95\n",
      "[3,   200] train_loss: 0.060\n",
      "test_loss: 0.062, test_accuracy: 98.21\n",
      "[3,   300] train_loss: 0.092\n",
      "test_loss: 0.068, test_accuracy: 97.99\n",
      "[3,   400] train_loss: 0.059\n",
      "test_loss: 0.063, test_accuracy: 98.06\n",
      "[3,   500] train_loss: 0.061\n",
      "test_loss: 0.058, test_accuracy: 98.28\n",
      "[3,   600] train_loss: 0.070\n",
      "test_loss: 0.068, test_accuracy: 98.02\n",
      "[4,   100] train_loss: 0.082\n",
      "test_loss: 0.074, test_accuracy: 97.65\n",
      "Epoch 00019: reducing learning rate of group 0 to 9.6428e-02.\n",
      "[4,   200] train_loss: 0.046\n",
      "test_loss: 0.054, test_accuracy: 98.46\n",
      "[4,   300] train_loss: 0.042\n",
      "test_loss: 0.052, test_accuracy: 98.4\n",
      "[4,   400] train_loss: 0.046\n",
      "test_loss: 0.063, test_accuracy: 98.2\n",
      "[4,   500] train_loss: 0.046\n",
      "test_loss: 0.051, test_accuracy: 98.38\n",
      "[4,   600] train_loss: 0.048\n",
      "test_loss: 0.050, test_accuracy: 98.46\n",
      "Epoch 00024: reducing learning rate of group 0 to 4.8214e-02.\n",
      "[5,   100] train_loss: 0.040\n",
      "test_loss: 0.049, test_accuracy: 98.48\n",
      "[5,   200] train_loss: 0.032\n",
      "test_loss: 0.049, test_accuracy: 98.57\n",
      "[5,   300] train_loss: 0.036\n",
      "test_loss: 0.049, test_accuracy: 98.45\n",
      "[5,   400] train_loss: 0.037\n",
      "test_loss: 0.050, test_accuracy: 98.41\n",
      "[5,   500] train_loss: 0.031\n",
      "test_loss: 0.048, test_accuracy: 98.49\n",
      "[5,   600] train_loss: 0.039\n",
      "test_loss: 0.049, test_accuracy: 98.48\n",
      "[6,   100] train_loss: 0.030\n",
      "test_loss: 0.047, test_accuracy: 98.54\n",
      "[6,   200] train_loss: 0.029\n",
      "test_loss: 0.047, test_accuracy: 98.57\n",
      "[6,   300] train_loss: 0.031\n",
      "test_loss: 0.047, test_accuracy: 98.5\n",
      "[6,   400] train_loss: 0.039\n",
      "test_loss: 0.047, test_accuracy: 98.49\n",
      "[6,   500] train_loss: 0.032\n",
      "test_loss: 0.047, test_accuracy: 98.55\n",
      "Epoch 00035: reducing learning rate of group 0 to 2.4107e-02.\n",
      "[6,   600] train_loss: 0.051\n",
      "test_loss: 0.046, test_accuracy: 98.54\n",
      "[7,   100] train_loss: 0.025\n",
      "test_loss: 0.046, test_accuracy: 98.59\n",
      "[7,   200] train_loss: 0.030\n",
      "test_loss: 0.046, test_accuracy: 98.61\n",
      "[7,   300] train_loss: 0.028\n",
      "test_loss: 0.046, test_accuracy: 98.57\n",
      "[7,   400] train_loss: 0.028\n",
      "test_loss: 0.046, test_accuracy: 98.53\n",
      "Epoch 00040: reducing learning rate of group 0 to 1.2054e-02.\n",
      "[7,   500] train_loss: 0.030\n",
      "test_loss: 0.046, test_accuracy: 98.59\n",
      "[7,   600] train_loss: 0.023\n",
      "test_loss: 0.045, test_accuracy: 98.59\n",
      "[8,   100] train_loss: 0.024\n",
      "test_loss: 0.046, test_accuracy: 98.56\n",
      "[8,   200] train_loss: 0.023\n",
      "test_loss: 0.046, test_accuracy: 98.58\n",
      "[8,   300] train_loss: 0.028\n",
      "test_loss: 0.046, test_accuracy: 98.55\n",
      "Epoch 00045: reducing learning rate of group 0 to 6.0268e-03.\n",
      "[8,   400] train_loss: 0.022\n",
      "test_loss: 0.046, test_accuracy: 98.56\n",
      "[8,   500] train_loss: 0.031\n",
      "test_loss: 0.045, test_accuracy: 98.57\n",
      "[8,   600] train_loss: 0.036\n",
      "test_loss: 0.045, test_accuracy: 98.61\n",
      "[9,   100] train_loss: 0.028\n",
      "test_loss: 0.045, test_accuracy: 98.59\n",
      "Epoch 00049: reducing learning rate of group 0 to 3.0134e-03.\n",
      "[9,   200] train_loss: 0.027\n",
      "test_loss: 0.045, test_accuracy: 98.57\n",
      "[9,   300] train_loss: 0.028\n",
      "test_loss: 0.045, test_accuracy: 98.58\n",
      "[9,   400] train_loss: 0.027\n",
      "test_loss: 0.045, test_accuracy: 98.59\n",
      "Epoch 00052: reducing learning rate of group 0 to 1.5067e-03.\n",
      "[9,   500] train_loss: 0.025\n",
      "test_loss: 0.045, test_accuracy: 98.59\n",
      "[9,   600] train_loss: 0.023\n",
      "test_loss: 0.045, test_accuracy: 98.59\n",
      "[10,   100] train_loss: 0.027\n",
      "test_loss: 0.045, test_accuracy: 98.58\n",
      "Epoch 00055: reducing learning rate of group 0 to 7.5335e-04.\n",
      "[10,   200] train_loss: 0.023\n",
      "test_loss: 0.045, test_accuracy: 98.57\n",
      "[10,   300] train_loss: 0.029\n",
      "test_loss: 0.045, test_accuracy: 98.57\n",
      "[10,   400] train_loss: 0.022\n",
      "test_loss: 0.045, test_accuracy: 98.57\n",
      "[10,   500] train_loss: 0.026\n",
      "test_loss: 0.045, test_accuracy: 98.57\n",
      "[10,   600] train_loss: 0.032\n",
      "test_loss: 0.045, test_accuracy: 98.57\n",
      "[11,   100] train_loss: 0.028\n",
      "test_loss: 0.045, test_accuracy: 98.58\n",
      "Epoch 00061: reducing learning rate of group 0 to 3.7667e-04.\n",
      "[11,   200] train_loss: 0.023\n",
      "test_loss: 0.045, test_accuracy: 98.57\n",
      "[11,   300] train_loss: 0.027\n",
      "test_loss: 0.045, test_accuracy: 98.58\n",
      "[11,   400] train_loss: 0.029\n",
      "test_loss: 0.045, test_accuracy: 98.57\n",
      "Epoch 00064: reducing learning rate of group 0 to 1.8834e-04.\n",
      "[11,   500] train_loss: 0.027\n",
      "test_loss: 0.045, test_accuracy: 98.58\n",
      "[11,   600] train_loss: 0.028\n",
      "test_loss: 0.045, test_accuracy: 98.56\n",
      "[12,   100] train_loss: 0.024\n",
      "test_loss: 0.045, test_accuracy: 98.6\n",
      "Epoch 00067: reducing learning rate of group 0 to 9.4168e-05.\n",
      "[12,   200] train_loss: 0.026\n",
      "test_loss: 0.045, test_accuracy: 98.57\n",
      "[12,   300] train_loss: 0.032\n",
      "test_loss: 0.045, test_accuracy: 98.58\n",
      "[12,   400] train_loss: 0.027\n",
      "test_loss: 0.045, test_accuracy: 98.58\n",
      "Epoch 00070: reducing learning rate of group 0 to 4.7084e-05.\n",
      "[12,   500] train_loss: 0.027\n",
      "test_loss: 0.045, test_accuracy: 98.57\n",
      "[12,   600] train_loss: 0.029\n",
      "test_loss: 0.045, test_accuracy: 98.59\n",
      "[13,   100] train_loss: 0.027\n",
      "test_loss: 0.045, test_accuracy: 98.58\n",
      "Epoch 00073: reducing learning rate of group 0 to 2.3542e-05.\n",
      "[13,   200] train_loss: 0.028\n",
      "test_loss: 0.045, test_accuracy: 98.58\n",
      "[13,   300] train_loss: 0.031\n",
      "test_loss: 0.045, test_accuracy: 98.59\n",
      "[13,   400] train_loss: 0.038\n",
      "test_loss: 0.045, test_accuracy: 98.6\n",
      "Epoch 00076: reducing learning rate of group 0 to 1.1771e-05.\n",
      "[13,   500] train_loss: 0.025\n",
      "test_loss: 0.045, test_accuracy: 98.56\n",
      "[13,   600] train_loss: 0.023\n",
      "test_loss: 0.045, test_accuracy: 98.58\n",
      "[14,   100] train_loss: 0.029\n",
      "test_loss: 0.045, test_accuracy: 98.57\n",
      "Epoch 00079: reducing learning rate of group 0 to 5.8855e-06.\n",
      "[14,   200] train_loss: 0.028\n",
      "test_loss: 0.045, test_accuracy: 98.57\n",
      "[14,   300] train_loss: 0.025\n",
      "test_loss: 0.045, test_accuracy: 98.57\n",
      "[14,   400] train_loss: 0.025\n",
      "test_loss: 0.045, test_accuracy: 98.58\n",
      "Epoch 00082: reducing learning rate of group 0 to 2.9428e-06.\n",
      "[14,   500] train_loss: 0.026\n",
      "test_loss: 0.045, test_accuracy: 98.59\n",
      "[14,   600] train_loss: 0.027\n",
      "test_loss: 0.045, test_accuracy: 98.57\n",
      "[15,   100] train_loss: 0.022\n",
      "test_loss: 0.045, test_accuracy: 98.57\n",
      "Epoch 00085: reducing learning rate of group 0 to 1.4714e-06.\n",
      "[15,   200] train_loss: 0.025\n",
      "test_loss: 0.045, test_accuracy: 98.58\n",
      "[15,   300] train_loss: 0.028\n",
      "test_loss: 0.045, test_accuracy: 98.57\n",
      "[15,   400] train_loss: 0.020\n",
      "test_loss: 0.045, test_accuracy: 98.57\n",
      "[15,   500] train_loss: 0.031\n",
      "test_loss: 0.045, test_accuracy: 98.57\n",
      "[15,   600] train_loss: 0.025\n",
      "test_loss: 0.045, test_accuracy: 98.56\n"
     ]
    }
   ],
   "source": [
    "criterion = CrossEntropyLoss()\n",
    "epochs = 15\n",
    "\n",
    "train_NN(LeDepthNN, criterion, train_dataloader, test_dataloader, epochs=epochs, batches_to_test=100,\n",
    "        patience=2,device=device, print_test=True, verbose=True, p_randomTransform=parameters[\"p_randomTransform\"])"
   ]
  },
  {
   "cell_type": "code",
   "execution_count": 12,
   "metadata": {},
   "outputs": [],
   "source": [
    "torch.save(LeDepthNN, \"./models/LeNet/LeDepthNet.pth\")"
   ]
  },
  {
   "cell_type": "code",
   "execution_count": 7,
   "metadata": {},
   "outputs": [],
   "source": [
    "LeDepthNN = torch.load(\"./models/LeNet/LeDepthNet.pth\")"
   ]
  },
  {
   "cell_type": "code",
   "execution_count": 9,
   "metadata": {},
   "outputs": [
    {
     "data": {
      "image/png": "[encoded data removed]",
      "text/plain": [
       "<Figure size 600x400 with 1 Axes>"
      ]
     },
     "metadata": {
      "needs_background": "light"
     },
     "output_type": "display_data"
    },
    {
     "data": {
      "image/png": "[encoded data removed]",
      "text/plain": [
       "<Figure size 600x400 with 1 Axes>"
      ]
     },
     "metadata": {
      "needs_background": "light"
     },
     "output_type": "display_data"
    }
   ],
   "source": [
    "plot_loss(LeDepthNN, y_lim=(0,1))\n",
    "plot_acc(LeDepthNN, y_lim=(90,100))"
   ]
  },
  {
   "cell_type": "code",
   "execution_count": 23,
   "metadata": {},
   "outputs": [
    {
     "name": "stdout",
     "output_type": "stream",
     "text": [
      "Training time (s):\n",
      "mean: 0.557\n",
      "std: 0.123\n"
     ]
    }
   ],
   "source": [
    "print(\"Training time (s):\")\n",
    "print(f\"mean: {round(np.mean(LeDepthNN.train_time), 3)}\")\n",
    "print(f\"std: {round(np.std(LeDepthNN.train_time), 3)}\")"
   ]
  },
  {
   "cell_type": "code",
   "execution_count": 26,
   "metadata": {},
   "outputs": [
    {
     "name": "stdout",
     "output_type": "stream",
     "text": [
      "Inference time GPU (ms):\n",
      "4.341e-01\n",
      "8.1e-02\n"
     ]
    }
   ],
   "source": [
    "inference_times = inference_time(LeDepthNN, input_shape=(1, 1, 28, 28), repetitions=10000, device=\"cuda\")\n",
    "print(\"Inference time GPU (ms):\")\n",
    "print(format(np.mean(inference_times), \".3e\"))\n",
    "print(format(np.std(inference_times), \".1e\"))"
   ]
  },
  {
   "cell_type": "code",
   "execution_count": 27,
   "metadata": {},
   "outputs": [
    {
     "name": "stdout",
     "output_type": "stream",
     "text": [
      "Inference time CPU (ms):\n",
      "4.208e-01\n",
      "8.0e-02\n"
     ]
    }
   ],
   "source": [
    "inference_times = inference_time(LeDepthNN, input_shape=(1, 1, 28, 28), repetitions=10000, device=\"cpu\")\n",
    "print(\"Inference time CPU (ms):\")\n",
    "print(format(np.mean(inference_times), \".3e\"))\n",
    "print(format(np.std(inference_times), \".1e\"))"
   ]
  },
  {
   "cell_type": "code",
   "execution_count": 28,
   "metadata": {},
   "outputs": [
    {
     "name": "stdout",
     "output_type": "stream",
     "text": [
      "Inference time GPU (ms):\n",
      "1.331e+00\n",
      "1.2e-01\n"
     ]
    }
   ],
   "source": [
    "inference_times = inference_time(LeDepthNN, input_shape=(100, 1, 28, 28), repetitions=10000, device=\"cuda\")\n",
    "print(\"Inference time GPU (ms):\")\n",
    "print(format(np.mean(inference_times), \".3e\"))\n",
    "print(format(np.std(inference_times), \".1e\"))"
   ]
  },
  {
   "cell_type": "code",
   "execution_count": 29,
   "metadata": {},
   "outputs": [
    {
     "name": "stdout",
     "output_type": "stream",
     "text": [
      "Inference time CPU (ms):\n",
      "2.037e+00\n",
      "5.4e-01\n"
     ]
    }
   ],
   "source": [
    "inference_times = inference_time(LeDepthNN, input_shape=(100, 1, 28, 28), repetitions=10000, device=\"cpu\")\n",
    "print(\"Inference time CPU (ms):\")\n",
    "print(format(np.mean(inference_times), \".3e\"))\n",
    "print(format(np.std(inference_times), \".1e\"))"
   ]
  }
 ],
 "metadata": {
  "kernelspec": {
   "display_name": "Python 3.8.8 ('base')",
   "language": "python",
   "name": "python3"
  },
  "language_info": {
   "codemirror_mode": {
    "name": "ipython",
    "version": 3
   },
   "file_extension": ".py",
   "mimetype": "text/x-python",
   "name": "python",
   "nbconvert_exporter": "python",
   "pygments_lexer": "ipython3",
   "version": "3.8.8"
  },
  "orig_nbformat": 4,
  "vscode": {
   "interpreter": {
    "hash": "2b5850efbbab6f342097c97db2dac05ad70ca6a924e3beae5b3fd144137f4509"
   }
  }
 },
 "nbformat": 4,
 "nbformat_minor": 2
}
