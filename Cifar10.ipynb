{
 "cells": [
  {
   "cell_type": "code",
   "execution_count": 1,
   "metadata": {},
   "outputs": [],
   "source": [
    "import numpy as np\n",
    "import matplotlib.pyplot as plt\n",
    "import json\n",
    "\n",
    "import torch\n",
    "from torch.nn import CrossEntropyLoss, NLLLoss\n",
    "import torch.optim as optim\n",
    "\n",
    "import torchvision\n",
    "import torchvision.transforms as transforms\n",
    "\n",
    "from torchinfo import summary\n",
    "\n",
    "from os.path import exists\n",
    "\n",
    "from util import test_loss, train_NN"
   ]
  },
  {
   "cell_type": "code",
   "execution_count": 2,
   "metadata": {},
   "outputs": [
    {
     "name": "stdout",
     "output_type": "stream",
     "text": [
      "cuda\n"
     ]
    }
   ],
   "source": [
    "if torch.cuda.is_available():\n",
    "    device = 'cuda'\n",
    "else:\n",
    "    device = 'cpu'\n",
    "print(device)"
   ]
  },
  {
   "cell_type": "code",
   "execution_count": 3,
   "metadata": {},
   "outputs": [
    {
     "name": "stdout",
     "output_type": "stream",
     "text": [
      "Files already downloaded and verified\n",
      "Files already downloaded and verified\n"
     ]
    }
   ],
   "source": [
    "batch_size = 100\n",
    "\n",
    "transform = transforms.Compose(\n",
    "    [transforms.ToTensor(),\n",
    "     transforms.Normalize((0.5, 0.5, 0.5), (0.5, 0.5, 0.5))])\n",
    "\n",
    "train_dataset = torchvision.datasets.CIFAR10(root='./data/CIFAR10', train=True,\n",
    "                                        download=True, transform=transform)\n",
    "train_dataloader = torch.utils.data.DataLoader(train_dataset, batch_size=batch_size,\n",
    "                                          shuffle=True, num_workers=2)\n",
    "\n",
    "test_dataset = torchvision.datasets.CIFAR10(root='./data/CIFAR10', train=False,\n",
    "                                       download=True, transform=transform)\n",
    "test_dataloader = torch.utils.data.DataLoader(test_dataset, batch_size=batch_size,\n",
    "                                         shuffle=False, num_workers=2)\n",
    "\n",
    "classes = ('plane', 'car', 'bird', 'cat',\n",
    "           'deer', 'dog', 'frog', 'horse', 'ship', 'truck')\n",
    "\n",
    "input_shape = (batch_size, 3, 32, 32)\n",
    "num_labels = 10"
   ]
  },
  {
   "cell_type": "code",
   "execution_count": 4,
   "metadata": {},
   "outputs": [
    {
     "data": {
      "text/plain": [
       "==========================================================================================\n",
       "Layer (type:depth-idx)                   Output Shape              Param #\n",
       "==========================================================================================\n",
       "VGGNet                                   [100, 10]                 --\n",
       "├─Sequential: 1-1                        --                        --\n",
       "│    └─Conv2d: 2-1                       [100, 32, 32, 32]         896\n",
       "│    └─ReLU: 2-2                         [100, 32, 32, 32]         --\n",
       "│    └─Conv2d: 2-3                       [100, 32, 32, 32]         9,248\n",
       "│    └─ReLU: 2-4                         [100, 32, 32, 32]         --\n",
       "│    └─MaxPool2d: 2-5                    [100, 32, 16, 16]         --\n",
       "│    └─Conv2d: 2-6                       [100, 64, 16, 16]         18,496\n",
       "│    └─ReLU: 2-7                         [100, 64, 16, 16]         --\n",
       "│    └─Conv2d: 2-8                       [100, 64, 16, 16]         36,928\n",
       "│    └─ReLU: 2-9                         [100, 64, 16, 16]         --\n",
       "│    └─MaxPool2d: 2-10                   [100, 64, 8, 8]           --\n",
       "│    └─Conv2d: 2-11                      [100, 128, 8, 8]          73,856\n",
       "│    └─ReLU: 2-12                        [100, 128, 8, 8]          --\n",
       "│    └─Conv2d: 2-13                      [100, 128, 8, 8]          147,584\n",
       "│    └─ReLU: 2-14                        [100, 128, 8, 8]          --\n",
       "│    └─MaxPool2d: 2-15                   [100, 128, 4, 4]          --\n",
       "│    └─Flatten: 2-16                     [100, 2048]               --\n",
       "│    └─Linear: 2-17                      [100, 128]                262,272\n",
       "│    └─ReLU: 2-18                        [100, 128]                --\n",
       "│    └─Linear: 2-19                      [100, 10]                 1,290\n",
       "==========================================================================================\n",
       "Total params: 550,570\n",
       "Trainable params: 550,570\n",
       "Non-trainable params: 0\n",
       "Total mult-adds (G): 3.90\n",
       "==========================================================================================\n",
       "Input size (MB): 1.23\n",
       "Forward/backward pass size (MB): 91.86\n",
       "Params size (MB): 2.20\n",
       "Estimated Total Size (MB): 95.29\n",
       "=========================================================================================="
      ]
     },
     "execution_count": 4,
     "metadata": {},
     "output_type": "execute_result"
    }
   ],
   "source": [
    "from Models import VGGNet\n",
    "\n",
    "VGGNN = VGGNet(input_shape, num_labels, device)\n",
    "\n",
    "summary(VGGNN, input_shape)"
   ]
  },
  {
   "cell_type": "code",
   "execution_count": 5,
   "metadata": {},
   "outputs": [],
   "source": [
    "criterion = CrossEntropyLoss()\n",
    "optimizer = optim.SGD(VGGNN.parameters(), lr=0.01, momentum=0.9)\n",
    "scheduler = optim.lr_scheduler.ExponentialLR(optimizer, gamma=0.9)"
   ]
  },
  {
   "cell_type": "code",
   "execution_count": 6,
   "metadata": {},
   "outputs": [
    {
     "name": "stdout",
     "output_type": "stream",
     "text": [
      "[1,   200] train_loss: 2.303\n",
      "test_loss: 2.302, test_accuracy: 10.0\n",
      "[1,   400] train_loss: 2.296\n",
      "test_loss: 2.233, test_accuracy: 19.89\n",
      "[2,   200] train_loss: 1.866\n",
      "test_loss: 1.723, test_accuracy: 35.62\n",
      "[2,   400] train_loss: 1.676\n",
      "test_loss: 1.582, test_accuracy: 40.28\n",
      "[3,   200] train_loss: 1.483\n",
      "test_loss: 1.431, test_accuracy: 47.31\n",
      "[3,   400] train_loss: 1.369\n",
      "test_loss: 1.350, test_accuracy: 50.27\n",
      "[4,   200] train_loss: 1.207\n",
      "test_loss: 1.214, test_accuracy: 56.24\n",
      "[4,   400] train_loss: 1.126\n",
      "test_loss: 1.089, test_accuracy: 60.68\n",
      "[5,   200] train_loss: 1.003\n",
      "test_loss: 1.031, test_accuracy: 63.48\n",
      "[5,   400] train_loss: 0.972\n",
      "test_loss: 0.980, test_accuracy: 65.5\n",
      "[6,   200] train_loss: 0.875\n",
      "test_loss: 0.905, test_accuracy: 68.56\n",
      "[6,   400] train_loss: 0.861\n",
      "test_loss: 0.929, test_accuracy: 67.78\n",
      "[7,   200] train_loss: 0.778\n",
      "test_loss: 0.864, test_accuracy: 70.41\n",
      "[7,   400] train_loss: 0.751\n",
      "test_loss: 0.820, test_accuracy: 71.95\n",
      "[8,   200] train_loss: 0.674\n",
      "test_loss: 0.830, test_accuracy: 71.49\n",
      "[8,   400] train_loss: 0.674\n",
      "test_loss: 0.793, test_accuracy: 72.5\n",
      "[9,   200] train_loss: 0.591\n",
      "test_loss: 0.779, test_accuracy: 73.5\n",
      "[9,   400] train_loss: 0.603\n",
      "test_loss: 0.750, test_accuracy: 74.27\n",
      "[10,   200] train_loss: 0.511\n",
      "test_loss: 0.761, test_accuracy: 74.31\n",
      "[10,   400] train_loss: 0.530\n",
      "test_loss: 0.808, test_accuracy: 72.96\n",
      "[11,   200] train_loss: 0.450\n",
      "test_loss: 0.752, test_accuracy: 75.17\n",
      "[11,   400] train_loss: 0.455\n",
      "test_loss: 0.757, test_accuracy: 75.63\n",
      "[12,   200] train_loss: 0.378\n",
      "test_loss: 0.769, test_accuracy: 75.62\n",
      "[12,   400] train_loss: 0.395\n",
      "test_loss: 0.770, test_accuracy: 75.65\n",
      "[13,   200] train_loss: 0.312\n",
      "test_loss: 0.777, test_accuracy: 76.51\n",
      "[13,   400] train_loss: 0.339\n",
      "test_loss: 0.786, test_accuracy: 76.49\n",
      "[14,   200] train_loss: 0.259\n",
      "test_loss: 0.839, test_accuracy: 76.19\n",
      "[14,   400] train_loss: 0.273\n",
      "test_loss: 0.840, test_accuracy: 75.62\n",
      "[15,   200] train_loss: 0.206\n",
      "test_loss: 0.884, test_accuracy: 76.09\n",
      "[15,   400] train_loss: 0.222\n",
      "test_loss: 0.902, test_accuracy: 75.86\n",
      "[16,   200] train_loss: 0.147\n",
      "test_loss: 1.004, test_accuracy: 76.16\n",
      "[16,   400] train_loss: 0.171\n",
      "test_loss: 0.957, test_accuracy: 76.28\n",
      "[17,   200] train_loss: 0.108\n",
      "test_loss: 1.093, test_accuracy: 76.27\n",
      "[17,   400] train_loss: 0.118\n",
      "test_loss: 1.089, test_accuracy: 76.26\n",
      "[18,   200] train_loss: 0.074\n",
      "test_loss: 1.178, test_accuracy: 76.48\n",
      "[18,   400] train_loss: 0.079\n",
      "test_loss: 1.222, test_accuracy: 76.3\n",
      "[19,   200] train_loss: 0.047\n",
      "test_loss: 1.309, test_accuracy: 76.5\n",
      "[19,   400] train_loss: 0.047\n",
      "test_loss: 1.358, test_accuracy: 76.18\n",
      "[20,   200] train_loss: 0.028\n",
      "test_loss: 1.443, test_accuracy: 76.76\n",
      "[20,   400] train_loss: 0.025\n",
      "test_loss: 1.468, test_accuracy: 76.46\n"
     ]
    }
   ],
   "source": [
    "stats = train_NN(VGGNN, train_dataloader,\n",
    "        test_dataloader, epochs=20, optimizer=optimizer, criterion=criterion,\n",
    "        scheduler=scheduler, device=device, steps_to_test=200, print_test=True)"
   ]
  },
  {
   "cell_type": "code",
   "execution_count": 7,
   "metadata": {},
   "outputs": [
    {
     "data": {
      "image/png": "[encoded data removed]",
      "text/plain": [
       "<Figure size 432x288 with 1 Axes>"
      ]
     },
     "metadata": {
      "needs_background": "light"
     },
     "output_type": "display_data"
    },
    {
     "data": {
      "image/png": "[encoded data removed]",
      "text/plain": [
       "<Figure size 432x288 with 1 Axes>"
      ]
     },
     "metadata": {
      "needs_background": "light"
     },
     "output_type": "display_data"
    },
    {
     "data": {
      "image/png": "[encoded data removed]",
      "text/plain": [
       "<Figure size 432x288 with 1 Axes>"
      ]
     },
     "metadata": {
      "needs_background": "light"
     },
     "output_type": "display_data"
    }
   ],
   "source": [
    "plt.plot(stats[0], label=\"train_loss\")\n",
    "#plt.show()\n",
    "plt.plot(stats[1], label=\"test_loss\")\n",
    "plt.legend()\n",
    "plt.show()\n",
    "plt.plot(stats[2])\n",
    "plt.show()\n",
    "plt.plot(stats[3])\n",
    "plt.show()"
   ]
  },
  {
   "cell_type": "code",
   "execution_count": 9,
   "metadata": {},
   "outputs": [],
   "source": [
    "torch.save(VGGNN.state_dict(), \"./models/Cifar/VGGNN_1.pth\")"
   ]
  },
  {
   "cell_type": "code",
   "execution_count": 11,
   "metadata": {},
   "outputs": [],
   "source": [
    "train_error_json = json.dumps(stats[0])\n",
    "test_error_json = json.dumps(stats[1])\n",
    "accuracy_json = json.dumps(stats[2])\n",
    "times_json = json.dumps(stats[3])\n",
    "\n",
    "stats_dict = {\"train_error\": train_error_json, \"test_error\": test_error_json, \"accuracy\": accuracy_json, \"time\": times_json}"
   ]
  },
  {
   "cell_type": "code",
   "execution_count": null,
   "metadata": {},
   "outputs": [],
   "source": [
    "with open('./models/Cifar/VGGNN_1.json', 'w', encoding='utf-8') as f:\n",
    "    json.dump(stats_dict, f, ensure_ascii=False, indent=4)"
   ]
  },
  {
   "cell_type": "code",
   "execution_count": 4,
   "metadata": {},
   "outputs": [
    {
     "data": {
      "text/plain": [
       "==========================================================================================\n",
       "Layer (type:depth-idx)                   Output Shape              Param #\n",
       "==========================================================================================\n",
       "VGGNet2                                  [100, 10]                 --\n",
       "├─Sequential: 1-1                        --                        --\n",
       "│    └─Conv2d: 2-1                       [100, 32, 32, 32]         896\n",
       "│    └─ReLU: 2-2                         [100, 32, 32, 32]         --\n",
       "│    └─Conv2d: 2-3                       [100, 32, 32, 32]         9,248\n",
       "│    └─ReLU: 2-4                         [100, 32, 32, 32]         --\n",
       "│    └─MaxPool2d: 2-5                    [100, 32, 16, 16]         --\n",
       "│    └─Dropout2d: 2-6                    [100, 32, 16, 16]         --\n",
       "│    └─Conv2d: 2-7                       [100, 64, 16, 16]         18,496\n",
       "│    └─ReLU: 2-8                         [100, 64, 16, 16]         --\n",
       "│    └─Conv2d: 2-9                       [100, 64, 16, 16]         36,928\n",
       "│    └─ReLU: 2-10                        [100, 64, 16, 16]         --\n",
       "│    └─MaxPool2d: 2-11                   [100, 64, 8, 8]           --\n",
       "│    └─Dropout2d: 2-12                   [100, 64, 8, 8]           --\n",
       "│    └─Conv2d: 2-13                      [100, 128, 8, 8]          73,856\n",
       "│    └─ReLU: 2-14                        [100, 128, 8, 8]          --\n",
       "│    └─Conv2d: 2-15                      [100, 128, 8, 8]          147,584\n",
       "│    └─ReLU: 2-16                        [100, 128, 8, 8]          --\n",
       "│    └─MaxPool2d: 2-17                   [100, 128, 4, 4]          --\n",
       "│    └─Dropout2d: 2-18                   [100, 128, 4, 4]          --\n",
       "│    └─Flatten: 2-19                     [100, 2048]               --\n",
       "│    └─Linear: 2-20                      [100, 128]                262,272\n",
       "│    └─ReLU: 2-21                        [100, 128]                --\n",
       "│    └─Dropout: 2-22                     [100, 128]                --\n",
       "│    └─Linear: 2-23                      [100, 10]                 1,290\n",
       "==========================================================================================\n",
       "Total params: 550,570\n",
       "Trainable params: 550,570\n",
       "Non-trainable params: 0\n",
       "Total mult-adds (G): 3.90\n",
       "==========================================================================================\n",
       "Input size (MB): 1.23\n",
       "Forward/backward pass size (MB): 91.86\n",
       "Params size (MB): 2.20\n",
       "Estimated Total Size (MB): 95.29\n",
       "=========================================================================================="
      ]
     },
     "execution_count": 4,
     "metadata": {},
     "output_type": "execute_result"
    }
   ],
   "source": [
    "from Models import VGGNet2\n",
    "\n",
    "VGGNN2 = VGGNet2(input_shape, num_labels, device)\n",
    "\n",
    "summary(VGGNN2, input_shape)"
   ]
  },
  {
   "cell_type": "code",
   "execution_count": 5,
   "metadata": {},
   "outputs": [],
   "source": [
    "criterion = CrossEntropyLoss()\n",
    "optimizer = optim.SGD(VGGNN2.parameters(), lr=0.01, momentum=0.9)\n",
    "scheduler = optim.lr_scheduler.ExponentialLR(optimizer, gamma=0.9)"
   ]
  },
  {
   "cell_type": "code",
   "execution_count": 6,
   "metadata": {},
   "outputs": [
    {
     "name": "stdout",
     "output_type": "stream",
     "text": [
      "[1,   200] train_loss: 2.303\n",
      "test_loss: 2.302, test_accuracy: 10.06\n",
      "[1,   400] train_loss: 2.302\n",
      "test_loss: 2.298, test_accuracy: 12.94\n",
      "[2,   200] train_loss: 2.054\n",
      "test_loss: 1.972, test_accuracy: 28.01\n",
      "[2,   400] train_loss: 1.870\n",
      "test_loss: 1.762, test_accuracy: 35.34\n",
      "[3,   200] train_loss: 1.664\n",
      "test_loss: 1.643, test_accuracy: 40.07\n",
      "[3,   400] train_loss: 1.573\n",
      "test_loss: 1.575, test_accuracy: 42.4\n",
      "[4,   200] train_loss: 1.458\n",
      "test_loss: 1.438, test_accuracy: 46.77\n",
      "[4,   400] train_loss: 1.400\n",
      "test_loss: 1.367, test_accuracy: 50.39\n",
      "[5,   200] train_loss: 1.301\n",
      "test_loss: 1.336, test_accuracy: 51.99\n",
      "[5,   400] train_loss: 1.246\n",
      "test_loss: 1.263, test_accuracy: 55.01\n",
      "[6,   200] train_loss: 1.192\n",
      "test_loss: 1.196, test_accuracy: 57.76\n",
      "[6,   400] train_loss: 1.148\n",
      "test_loss: 1.182, test_accuracy: 57.38\n",
      "[7,   200] train_loss: 1.096\n",
      "test_loss: 1.136, test_accuracy: 59.67\n",
      "[7,   400] train_loss: 1.087\n",
      "test_loss: 1.123, test_accuracy: 59.74\n",
      "[8,   200] train_loss: 1.034\n",
      "test_loss: 1.082, test_accuracy: 61.85\n",
      "[8,   400] train_loss: 1.027\n",
      "test_loss: 1.061, test_accuracy: 62.3\n",
      "[9,   200] train_loss: 0.976\n",
      "test_loss: 1.065, test_accuracy: 62.13\n",
      "[9,   400] train_loss: 0.975\n",
      "test_loss: 1.044, test_accuracy: 64.11\n",
      "[10,   200] train_loss: 0.929\n",
      "test_loss: 1.013, test_accuracy: 64.55\n",
      "[10,   400] train_loss: 0.927\n",
      "test_loss: 0.998, test_accuracy: 64.85\n",
      "[11,   200] train_loss: 0.889\n",
      "test_loss: 0.995, test_accuracy: 65.68\n",
      "[11,   400] train_loss: 0.897\n",
      "test_loss: 0.976, test_accuracy: 66.25\n",
      "[12,   200] train_loss: 0.851\n",
      "test_loss: 0.960, test_accuracy: 66.43\n",
      "[12,   400] train_loss: 0.854\n",
      "test_loss: 0.949, test_accuracy: 67.03\n",
      "[13,   200] train_loss: 0.811\n",
      "test_loss: 0.951, test_accuracy: 67.4\n",
      "[13,   400] train_loss: 0.823\n",
      "test_loss: 0.932, test_accuracy: 67.39\n",
      "[14,   200] train_loss: 0.788\n",
      "test_loss: 0.916, test_accuracy: 68.31\n",
      "[14,   400] train_loss: 0.793\n",
      "test_loss: 0.921, test_accuracy: 67.94\n",
      "[15,   200] train_loss: 0.773\n",
      "test_loss: 0.927, test_accuracy: 68.17\n",
      "[15,   400] train_loss: 0.771\n",
      "test_loss: 0.902, test_accuracy: 68.93\n",
      "[16,   200] train_loss: 0.740\n",
      "test_loss: 0.910, test_accuracy: 68.54\n",
      "[16,   400] train_loss: 0.747\n",
      "test_loss: 0.908, test_accuracy: 68.89\n",
      "[17,   200] train_loss: 0.729\n",
      "test_loss: 0.900, test_accuracy: 68.92\n",
      "[17,   400] train_loss: 0.721\n",
      "test_loss: 0.898, test_accuracy: 69.55\n",
      "[18,   200] train_loss: 0.698\n",
      "test_loss: 0.890, test_accuracy: 69.31\n",
      "[18,   400] train_loss: 0.705\n",
      "test_loss: 0.890, test_accuracy: 69.56\n",
      "[19,   200] train_loss: 0.684\n",
      "test_loss: 0.898, test_accuracy: 69.79\n",
      "[19,   400] train_loss: 0.685\n",
      "test_loss: 0.887, test_accuracy: 69.4\n",
      "[20,   200] train_loss: 0.660\n",
      "test_loss: 0.883, test_accuracy: 69.63\n",
      "[20,   400] train_loss: 0.676\n",
      "test_loss: 0.862, test_accuracy: 70.47\n"
     ]
    }
   ],
   "source": [
    "stats = train_NN(VGGNN2, train_dataloader,\n",
    "        test_dataloader, epochs=20, optimizer=optimizer, criterion=criterion,\n",
    "        scheduler=scheduler, device=device, steps_to_test=200, print_test=True)"
   ]
  },
  {
   "cell_type": "code",
   "execution_count": 7,
   "metadata": {},
   "outputs": [
    {
     "data": {
      "image/png": "[encoded data removed]",
      "text/plain": [
       "<Figure size 432x288 with 1 Axes>"
      ]
     },
     "metadata": {
      "needs_background": "light"
     },
     "output_type": "display_data"
    },
    {
     "data": {
      "image/png": "[encoded data removed]",
      "text/plain": [
       "<Figure size 432x288 with 1 Axes>"
      ]
     },
     "metadata": {
      "needs_background": "light"
     },
     "output_type": "display_data"
    },
    {
     "data": {
      "image/png": "[encoded data removed]",
      "text/plain": [
       "<Figure size 432x288 with 1 Axes>"
      ]
     },
     "metadata": {
      "needs_background": "light"
     },
     "output_type": "display_data"
    }
   ],
   "source": [
    "plt.plot(stats[0], label=\"train_loss\")\n",
    "#plt.show()\n",
    "plt.plot(stats[1], label=\"test_loss\")\n",
    "plt.legend()\n",
    "plt.show()\n",
    "plt.plot(stats[2])\n",
    "plt.show()\n",
    "plt.plot(stats[3])\n",
    "plt.show()"
   ]
  },
  {
   "cell_type": "code",
   "execution_count": null,
   "metadata": {},
   "outputs": [],
   "source": [
    "torch.save(VGGNN2.state_dict(), \"./models/Cifar/VGGNN_2.pth\")"
   ]
  },
  {
   "cell_type": "code",
   "execution_count": null,
   "metadata": {},
   "outputs": [],
   "source": [
    "train_error_json = json.dumps(stats[0])\n",
    "test_error_json = json.dumps(stats[1])\n",
    "accuracy_json = json.dumps(stats[2])\n",
    "times_json = json.dumps(stats[3])\n",
    "\n",
    "stats_dict = {\"train_error\": train_error_json, \"test_error\": test_error_json, \"accuracy\": accuracy_json, \"time\": times_json}"
   ]
  },
  {
   "cell_type": "code",
   "execution_count": null,
   "metadata": {},
   "outputs": [],
   "source": [
    "with open('./models/Cifar/VGGNN_2.json', 'w', encoding='utf-8') as f:\n",
    "    json.dump(stats_dict, f, ensure_ascii=False, indent=4)"
   ]
  },
  {
   "cell_type": "code",
   "execution_count": 4,
   "metadata": {},
   "outputs": [
    {
     "data": {
      "text/plain": [
       "==========================================================================================\n",
       "Layer (type:depth-idx)                   Output Shape              Param #\n",
       "==========================================================================================\n",
       "Cifar10_Conv_Net                         [100, 10]                 --\n",
       "├─Sequential: 1-1                        --                        --\n",
       "│    └─Conv2d: 2-1                       [100, 6, 32, 32]          456\n",
       "│    └─BatchNorm2d: 2-2                  [100, 6, 32, 32]          12\n",
       "│    └─Tanh: 2-3                         [100, 6, 32, 32]          --\n",
       "│    └─AvgPool2d: 2-4                    [100, 6, 16, 16]          --\n",
       "│    └─Conv2d: 2-5                       [100, 16, 16, 16]         2,416\n",
       "│    └─BatchNorm2d: 2-6                  [100, 16, 16, 16]         32\n",
       "│    └─Tanh: 2-7                         [100, 16, 16, 16]         --\n",
       "│    └─AvgPool2d: 2-8                    [100, 16, 8, 8]           --\n",
       "│    └─Conv2d: 2-9                       [100, 32, 8, 8]           4,640\n",
       "│    └─BatchNorm2d: 2-10                 [100, 32, 8, 8]           64\n",
       "│    └─Tanh: 2-11                        [100, 32, 8, 8]           --\n",
       "│    └─Flatten: 2-12                     [100, 2048]               --\n",
       "│    └─Linear: 2-13                      [100, 240]                491,760\n",
       "│    └─Tanh: 2-14                        [100, 240]                --\n",
       "│    └─Linear: 2-15                      [100, 120]                28,920\n",
       "│    └─Tanh: 2-16                        [100, 120]                --\n",
       "│    └─Linear: 2-17                      [100, 84]                 10,164\n",
       "│    └─Tanh: 2-18                        [100, 84]                 --\n",
       "│    └─Linear: 2-19                      [100, 10]                 850\n",
       "==========================================================================================\n",
       "Total params: 539,314\n",
       "Trainable params: 539,314\n",
       "Non-trainable params: 0\n",
       "Total mult-adds (M): 191.42\n",
       "==========================================================================================\n",
       "Input size (MB): 1.23\n",
       "Forward/backward pass size (MB): 20.02\n",
       "Params size (MB): 2.16\n",
       "Estimated Total Size (MB): 23.41\n",
       "=========================================================================================="
      ]
     },
     "execution_count": 4,
     "metadata": {},
     "output_type": "execute_result"
    }
   ],
   "source": [
    "from Models import Cifar10_Conv_Net\n",
    "\n",
    "Cifar10_Conv_NN = Cifar10_Conv_Net(input_shape, num_labels, device=device)\n",
    "\n",
    "summary(Cifar10_Conv_NN, input_shape)"
   ]
  },
  {
   "cell_type": "code",
   "execution_count": 6,
   "metadata": {},
   "outputs": [],
   "source": [
    "criterion = CrossEntropyLoss()\n",
    "optimizer = optim.SGD(Cifar10_Conv_NN.parameters(), lr=0.1, momentum=0.9)\n",
    "scheduler = optim.lr_scheduler.ExponentialLR(optimizer, gamma=0.8)"
   ]
  },
  {
   "cell_type": "code",
   "execution_count": 11,
   "metadata": {},
   "outputs": [
    {
     "name": "stdout",
     "output_type": "stream",
     "text": [
      "[1,   200] train_loss: 0.777\n",
      "test_loss: 1.125, test_accuracy: 61.79\n",
      "[1,   400] train_loss: 0.782\n",
      "test_loss: 1.126, test_accuracy: 61.79\n",
      "[2,   200] train_loss: 0.775\n",
      "test_loss: 1.126, test_accuracy: 61.85\n",
      "[2,   400] train_loss: 0.777\n",
      "test_loss: 1.127, test_accuracy: 61.96\n",
      "[3,   200] train_loss: 0.772\n",
      "test_loss: 1.127, test_accuracy: 61.85\n",
      "[3,   400] train_loss: 0.778\n",
      "test_loss: 1.127, test_accuracy: 61.9\n",
      "[4,   200] train_loss: 0.768\n",
      "test_loss: 1.127, test_accuracy: 61.91\n",
      "[4,   400] train_loss: 0.771\n",
      "test_loss: 1.127, test_accuracy: 61.83\n"
     ]
    }
   ],
   "source": [
    "leDepthStats = train_NN(Cifar10_Conv_NN, train_dataloader,\n",
    "        test_dataloader, epochs=4, optimizer=optimizer, criterion=criterion,\n",
    "        scheduler=scheduler, device=device, steps_to_test=200, print_test=True)"
   ]
  },
  {
   "cell_type": "code",
   "execution_count": 9,
   "metadata": {},
   "outputs": [
    {
     "data": {
      "image/png": "[encoded data removed]",
      "text/plain": [
       "<Figure size 432x288 with 1 Axes>"
      ]
     },
     "metadata": {
      "needs_background": "light"
     },
     "output_type": "display_data"
    },
    {
     "data": {
      "image/png": "[encoded data removed]",
      "text/plain": [
       "<Figure size 432x288 with 1 Axes>"
      ]
     },
     "metadata": {
      "needs_background": "light"
     },
     "output_type": "display_data"
    },
    {
     "data": {
      "image/png": "[encoded data removed]",
      "text/plain": [
       "<Figure size 432x288 with 1 Axes>"
      ]
     },
     "metadata": {
      "needs_background": "light"
     },
     "output_type": "display_data"
    },
    {
     "data": {
      "image/png": "[encoded data removed]",
      "text/plain": [
       "<Figure size 432x288 with 1 Axes>"
      ]
     },
     "metadata": {
      "needs_background": "light"
     },
     "output_type": "display_data"
    }
   ],
   "source": [
    "plt.plot(leDepthStats[0])\n",
    "plt.show()\n",
    "plt.plot(leDepthStats[1])\n",
    "plt.show()\n",
    "plt.plot(leDepthStats[2])\n",
    "plt.show()\n",
    "plt.plot(leDepthStats[3])\n",
    "plt.show()"
   ]
  },
  {
   "cell_type": "code",
   "execution_count": 8,
   "metadata": {},
   "outputs": [],
   "source": [
    "torch.save(Cifar10_Conv_NN.state_dict(), \"./models/Cifar/Cifar10_Conv_NN.pth\")"
   ]
  },
  {
   "cell_type": "code",
   "execution_count": 20,
   "metadata": {},
   "outputs": [
    {
     "data": {
      "text/plain": [
       "==========================================================================================\n",
       "Layer (type:depth-idx)                   Output Shape              Param #\n",
       "==========================================================================================\n",
       "Cifar10_ASL_Net                          [100, 10]                 --\n",
       "├─Sequential: 1-1                        --                        --\n",
       "│    └─Conv2d: 2-1                       [100, 6, 32, 32]          456\n",
       "│    └─BatchNorm2d: 2-2                  [100, 6, 32, 32]          12\n",
       "│    └─Tanh: 2-3                         [100, 6, 32, 32]          --\n",
       "│    └─AvgPool2d: 2-4                    [100, 6, 16, 16]          --\n",
       "│    └─CSC_block: 2-5                    [100, 16, 16, 16]         --\n",
       "│    │    └─Sequential: 3-1              --                        502\n",
       "│    └─Tanh: 2-6                         [100, 16, 16, 16]         --\n",
       "│    └─AvgPool2d: 2-7                    [100, 16, 8, 8]           --\n",
       "│    └─CSC_block: 2-8                    [100, 32, 8, 8]           --\n",
       "│    │    └─Sequential: 3-2              --                        2,576\n",
       "│    └─Tanh: 2-9                         [100, 32, 8, 8]           --\n",
       "│    └─Flatten: 2-10                     [100, 2048]               --\n",
       "│    └─Linear: 2-11                      [100, 240]                491,760\n",
       "│    └─Tanh: 2-12                        [100, 240]                --\n",
       "│    └─Linear: 2-13                      [100, 120]                28,920\n",
       "│    └─Tanh: 2-14                        [100, 120]                --\n",
       "│    └─Linear: 2-15                      [100, 84]                 10,164\n",
       "│    └─Tanh: 2-16                        [100, 84]                 --\n",
       "│    └─Linear: 2-17                      [100, 10]                 850\n",
       "==========================================================================================\n",
       "Total params: 535,240\n",
       "Trainable params: 535,240\n",
       "Non-trainable params: 0\n",
       "Total mult-adds (M): 126.14\n",
       "==========================================================================================\n",
       "Input size (MB): 1.23\n",
       "Forward/backward pass size (MB): 33.54\n",
       "Params size (MB): 2.14\n",
       "Estimated Total Size (MB): 36.91\n",
       "=========================================================================================="
      ]
     },
     "execution_count": 20,
     "metadata": {},
     "output_type": "execute_result"
    }
   ],
   "source": [
    "from Models import Cifar10_ASL_Net\n",
    "\n",
    "expansion_rate = 3\n",
    "\n",
    "Cifar10_ASL_NN = Cifar10_ASL_Net(input_shape, num_labels, expansion_rate, device)\n",
    "\n",
    "summary(Cifar10_ASL_NN, input_shape)"
   ]
  },
  {
   "cell_type": "code",
   "execution_count": 21,
   "metadata": {},
   "outputs": [],
   "source": [
    "criterion = CrossEntropyLoss()\n",
    "Cifar10_ASL_NN_optimizer = optim.SGD(Cifar10_ASL_NN.parameters(), lr=0.1, momentum=0.9)\n",
    "scheduler_Cifar = optim.lr_scheduler.ExponentialLR(Cifar10_ASL_NN_optimizer, gamma=0.8)"
   ]
  },
  {
   "cell_type": "code",
   "execution_count": 23,
   "metadata": {},
   "outputs": [
    {
     "name": "stdout",
     "output_type": "stream",
     "text": [
      "[1,   200] train_loss: 0.707\n",
      "test_loss: 1.035, test_accuracy: 64.55\n",
      "[1,   400] train_loss: 0.715\n",
      "test_loss: 1.038, test_accuracy: 64.73\n",
      "[2,   200] train_loss: 0.687\n",
      "test_loss: 1.037, test_accuracy: 65.08\n",
      "[2,   400] train_loss: 0.683\n",
      "test_loss: 1.037, test_accuracy: 65.0\n",
      "[3,   200] train_loss: 0.681\n",
      "test_loss: 1.037, test_accuracy: 65.11\n",
      "[3,   400] train_loss: 0.666\n",
      "test_loss: 1.038, test_accuracy: 65.04\n",
      "[4,   200] train_loss: 0.672\n",
      "test_loss: 1.038, test_accuracy: 65.02\n"
     ]
    },
    {
     "ename": "KeyboardInterrupt",
     "evalue": "",
     "output_type": "error",
     "traceback": [
      "\u001b[1;31m---------------------------------------------------------------------------\u001b[0m",
      "\u001b[1;31mKeyboardInterrupt\u001b[0m                         Traceback (most recent call last)",
      "\u001b[1;32mC:\\Users\\MAXHEI~1\\AppData\\Local\\Temp/ipykernel_16472/3143793416.py\u001b[0m in \u001b[0;36m<module>\u001b[1;34m\u001b[0m\n\u001b[1;32m----> 1\u001b[1;33m leASLStats = train_NN(Cifar10_ASL_NN, train_dataloader,\n\u001b[0m\u001b[0;32m      2\u001b[0m         \u001b[0mtest_dataloader\u001b[0m\u001b[1;33m,\u001b[0m \u001b[0mepochs\u001b[0m\u001b[1;33m=\u001b[0m\u001b[1;36m6\u001b[0m\u001b[1;33m,\u001b[0m \u001b[0moptimizer\u001b[0m\u001b[1;33m=\u001b[0m\u001b[0mCifar10_ASL_NN_optimizer\u001b[0m\u001b[1;33m,\u001b[0m \u001b[0mcriterion\u001b[0m\u001b[1;33m=\u001b[0m\u001b[0mcriterion\u001b[0m\u001b[1;33m,\u001b[0m\u001b[1;33m\u001b[0m\u001b[1;33m\u001b[0m\u001b[0m\n\u001b[0;32m      3\u001b[0m         scheduler=scheduler_Cifar, device=device, steps_to_test=200, print_test=True)\n",
      "\u001b[1;32mc:\\Users\\Max Heise\\Documents\\Uni\\Veranstaltungen\\AML\\Abschlussprojekt\\ASL\\util.py\u001b[0m in \u001b[0;36mtrain_NN\u001b[1;34m(NN, train_dataloader, test_dataloader, epochs, optimizer, criterion, scheduler, device, steps_to_test, print_test)\u001b[0m\n\u001b[0;32m     47\u001b[0m             \u001b[0moutputs\u001b[0m \u001b[1;33m=\u001b[0m \u001b[0mNN\u001b[0m\u001b[1;33m(\u001b[0m\u001b[0minputs\u001b[0m\u001b[1;33m)\u001b[0m\u001b[1;33m\u001b[0m\u001b[1;33m\u001b[0m\u001b[0m\n\u001b[0;32m     48\u001b[0m             \u001b[0mloss\u001b[0m \u001b[1;33m=\u001b[0m \u001b[0mcriterion\u001b[0m\u001b[1;33m(\u001b[0m\u001b[0moutputs\u001b[0m\u001b[1;33m,\u001b[0m \u001b[0mlabels\u001b[0m\u001b[1;33m)\u001b[0m\u001b[1;33m\u001b[0m\u001b[1;33m\u001b[0m\u001b[0m\n\u001b[1;32m---> 49\u001b[1;33m             \u001b[0mloss\u001b[0m\u001b[1;33m.\u001b[0m\u001b[0mbackward\u001b[0m\u001b[1;33m(\u001b[0m\u001b[1;33m)\u001b[0m\u001b[1;33m\u001b[0m\u001b[1;33m\u001b[0m\u001b[0m\n\u001b[0m\u001b[0;32m     50\u001b[0m             \u001b[0moptimizer\u001b[0m\u001b[1;33m.\u001b[0m\u001b[0mstep\u001b[0m\u001b[1;33m(\u001b[0m\u001b[1;33m)\u001b[0m\u001b[1;33m\u001b[0m\u001b[1;33m\u001b[0m\u001b[0m\n\u001b[0;32m     51\u001b[0m \u001b[1;33m\u001b[0m\u001b[0m\n",
      "\u001b[1;32mc:\\ProgramData\\Anaconda3\\lib\\site-packages\\torch\\_tensor.py\u001b[0m in \u001b[0;36mbackward\u001b[1;34m(self, gradient, retain_graph, create_graph, inputs)\u001b[0m\n\u001b[0;32m    394\u001b[0m                 \u001b[0mcreate_graph\u001b[0m\u001b[1;33m=\u001b[0m\u001b[0mcreate_graph\u001b[0m\u001b[1;33m,\u001b[0m\u001b[1;33m\u001b[0m\u001b[1;33m\u001b[0m\u001b[0m\n\u001b[0;32m    395\u001b[0m                 inputs=inputs)\n\u001b[1;32m--> 396\u001b[1;33m         \u001b[0mtorch\u001b[0m\u001b[1;33m.\u001b[0m\u001b[0mautograd\u001b[0m\u001b[1;33m.\u001b[0m\u001b[0mbackward\u001b[0m\u001b[1;33m(\u001b[0m\u001b[0mself\u001b[0m\u001b[1;33m,\u001b[0m \u001b[0mgradient\u001b[0m\u001b[1;33m,\u001b[0m \u001b[0mretain_graph\u001b[0m\u001b[1;33m,\u001b[0m \u001b[0mcreate_graph\u001b[0m\u001b[1;33m,\u001b[0m \u001b[0minputs\u001b[0m\u001b[1;33m=\u001b[0m\u001b[0minputs\u001b[0m\u001b[1;33m)\u001b[0m\u001b[1;33m\u001b[0m\u001b[1;33m\u001b[0m\u001b[0m\n\u001b[0m\u001b[0;32m    397\u001b[0m \u001b[1;33m\u001b[0m\u001b[0m\n\u001b[0;32m    398\u001b[0m     \u001b[1;32mdef\u001b[0m \u001b[0mregister_hook\u001b[0m\u001b[1;33m(\u001b[0m\u001b[0mself\u001b[0m\u001b[1;33m,\u001b[0m \u001b[0mhook\u001b[0m\u001b[1;33m)\u001b[0m\u001b[1;33m:\u001b[0m\u001b[1;33m\u001b[0m\u001b[1;33m\u001b[0m\u001b[0m\n",
      "\u001b[1;32mc:\\ProgramData\\Anaconda3\\lib\\site-packages\\torch\\autograd\\__init__.py\u001b[0m in \u001b[0;36mbackward\u001b[1;34m(tensors, grad_tensors, retain_graph, create_graph, grad_variables, inputs)\u001b[0m\n\u001b[0;32m    171\u001b[0m     \u001b[1;31m# some Python versions print out the first line of a multi-line function\u001b[0m\u001b[1;33m\u001b[0m\u001b[1;33m\u001b[0m\u001b[0m\n\u001b[0;32m    172\u001b[0m     \u001b[1;31m# calls in the traceback and some print out the last line\u001b[0m\u001b[1;33m\u001b[0m\u001b[1;33m\u001b[0m\u001b[0m\n\u001b[1;32m--> 173\u001b[1;33m     Variable._execution_engine.run_backward(  # Calls into the C++ engine to run the backward pass\n\u001b[0m\u001b[0;32m    174\u001b[0m         \u001b[0mtensors\u001b[0m\u001b[1;33m,\u001b[0m \u001b[0mgrad_tensors_\u001b[0m\u001b[1;33m,\u001b[0m \u001b[0mretain_graph\u001b[0m\u001b[1;33m,\u001b[0m \u001b[0mcreate_graph\u001b[0m\u001b[1;33m,\u001b[0m \u001b[0minputs\u001b[0m\u001b[1;33m,\u001b[0m\u001b[1;33m\u001b[0m\u001b[1;33m\u001b[0m\u001b[0m\n\u001b[0;32m    175\u001b[0m         allow_unreachable=True, accumulate_grad=True)  # Calls into the C++ engine to run the backward pass\n",
      "\u001b[1;31mKeyboardInterrupt\u001b[0m: "
     ]
    }
   ],
   "source": [
    "leASLStats = train_NN(Cifar10_ASL_NN, train_dataloader,\n",
    "        test_dataloader, epochs=6, optimizer=Cifar10_ASL_NN_optimizer, criterion=criterion,\n",
    "        scheduler=scheduler_Cifar, device=device, steps_to_test=200, print_test=True)"
   ]
  },
  {
   "cell_type": "code",
   "execution_count": null,
   "metadata": {},
   "outputs": [],
   "source": [
    "torch.save(Cifar10_ASL_Net.state_dict(), \"./models/Cifar/Cifar10_ALS_NN.pth\")"
   ]
  },
  {
   "cell_type": "code",
   "execution_count": 6,
   "metadata": {},
   "outputs": [],
   "source": [
    "PATH = \"models/Cifar/Cifar10.pth\"\n",
    "\n",
    "if exists(PATH):\n",
    "    NN_cif.load_state_dict(torch.load(PATH))\n",
    "    NN_cif.eval()"
   ]
  },
  {
   "cell_type": "code",
   "execution_count": 9,
   "metadata": {},
   "outputs": [
    {
     "name": "stdout",
     "output_type": "stream",
     "text": [
      "[1,   244] train_loss: 4.071\n",
      "(1.4727221763134002, 47.23)\n"
     ]
    }
   ],
   "source": [
    "%%timeit\n",
    "for epoch in range(1):  # loop over the dataset multiple times\n",
    "\n",
    "    running_loss = 0.0\n",
    "    for i, data in enumerate(train_dataloader, 0):\n",
    "        # get the inputs; data is a list of [inputs, labels]\n",
    "        inputs, labels = data\n",
    "        inputs = inputs.to(device)\n",
    "        labels = labels.to(device)\n",
    "\n",
    "        # zero the parameter gradients\n",
    "        optimizer_Cifar.zero_grad()\n",
    "\n",
    "        # forward + backward + optimize\n",
    "        outputs = NN_cif(inputs)\n",
    "        loss = criterion(outputs, labels)\n",
    "        loss.backward()\n",
    "        optimizer_Cifar.step()\n",
    "\n",
    "        # print statistics\n",
    "        running_loss += loss.item()\n",
    "        if i % 250 == 249:    # print every 100 mini-batches\n",
    "            print(f'[{epoch + 1}, {i + 1:5d}] train_loss: {running_loss / 100:.3f}')\n",
    "            running_loss = 0.0\n",
    "            print(test_loss(NN_cif, test_dataloader, criterion, device))\n",
    "\n",
    "    scheduler_Cifar.step()"
   ]
  },
  {
   "cell_type": "code",
   "execution_count": 10,
   "metadata": {},
   "outputs": [],
   "source": [
    "torch.save(NN_cif.state_dict(), \"./models/Cifar/Cifar10.pth\")"
   ]
  },
  {
   "cell_type": "code",
   "execution_count": 8,
   "metadata": {},
   "outputs": [
    {
     "name": "stdout",
     "output_type": "stream",
     "text": [
      "(1.413678903579712, 49.93)\n"
     ]
    }
   ],
   "source": [
    "from Models import Cifar10_Net\n",
    "\n",
    "criterion = CrossEntropyLoss()\n",
    "\n",
    "\n",
    "input_shape = (100, 3, 32, 32)\n",
    "num_labels = 10\n",
    "expansion_rate = 3\n",
    "\n",
    "NN2_cif = Cifar10_Net(input_shape, num_labels, expansion_rate)\n",
    "\n",
    "\n",
    "PATH = \"models/Cifar/Cifar10.pth\"\n",
    "\n",
    "if exists(PATH):\n",
    "    NN2_cif.load_state_dict(torch.load(PATH))\n",
    "    NN2_cif.eval()\n",
    "\n",
    "print(test_loss(NN2_cif, test_dataloader, criterion))"
   ]
  },
  {
   "cell_type": "code",
   "execution_count": null,
   "metadata": {},
   "outputs": [],
   "source": []
  }
 ],
 "metadata": {
  "kernelspec": {
   "display_name": "Python 3.8.8 ('base')",
   "language": "python",
   "name": "python3"
  },
  "language_info": {
   "codemirror_mode": {
    "name": "ipython",
    "version": 3
   },
   "file_extension": ".py",
   "mimetype": "text/x-python",
   "name": "python",
   "nbconvert_exporter": "python",
   "pygments_lexer": "ipython3",
   "version": "3.8.8"
  },
  "orig_nbformat": 4,
  "vscode": {
   "interpreter": {
    "hash": "2b5850efbbab6f342097c97db2dac05ad70ca6a924e3beae5b3fd144137f4509"
   }
  }
 },
 "nbformat": 4,
 "nbformat_minor": 2
}
