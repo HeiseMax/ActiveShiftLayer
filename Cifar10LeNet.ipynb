{
 "cells": [
  {
   "cell_type": "code",
   "execution_count": 14,
   "metadata": {},
   "outputs": [],
   "source": [
    "import numpy as np\n",
    "import matplotlib.pyplot as plt\n",
    "\n",
    "import torch\n",
    "from torch.nn import CrossEntropyLoss\n",
    "import torch.optim as optim\n",
    "\n",
    "import torchvision\n",
    "import torchvision.transforms as transforms\n",
    "\n",
    "from torchinfo import summary\n",
    "\n",
    "from os.path import exists\n",
    "\n",
    "from util import test_loss, train_NN"
   ]
  },
  {
   "cell_type": "code",
   "execution_count": 15,
   "metadata": {},
   "outputs": [
    {
     "name": "stdout",
     "output_type": "stream",
     "text": [
      "cuda\n"
     ]
    }
   ],
   "source": [
    "if torch.cuda.is_available():\n",
    "    device = 'cuda'\n",
    "else:\n",
    "    device = 'cpu'\n",
    "print(device)"
   ]
  },
  {
   "cell_type": "code",
   "execution_count": 16,
   "metadata": {},
   "outputs": [
    {
     "name": "stdout",
     "output_type": "stream",
     "text": [
      "Files already downloaded and verified\n",
      "Files already downloaded and verified\n"
     ]
    }
   ],
   "source": [
    "batch_size = 100\n",
    "\n",
    "transform = transforms.Compose(\n",
    "    [transforms.ToTensor(),\n",
    "     transforms.Normalize((0.5, 0.5, 0.5), (0.5, 0.5, 0.5))])\n",
    "\n",
    "train_dataset = torchvision.datasets.CIFAR10(root='./data/CIFAR10', train=True,\n",
    "                                        download=True, transform=transform)\n",
    "train_dataloader = torch.utils.data.DataLoader(train_dataset, batch_size=batch_size,\n",
    "                                          shuffle=True, num_workers=2)\n",
    "\n",
    "test_dataset = torchvision.datasets.CIFAR10(root='./data/CIFAR10', train=False,\n",
    "                                       download=True, transform=transform)\n",
    "test_dataloader = torch.utils.data.DataLoader(test_dataset, batch_size=batch_size,\n",
    "                                         shuffle=False, num_workers=2)\n",
    "\n",
    "classes = ('plane', 'car', 'bird', 'cat',\n",
    "           'deer', 'dog', 'frog', 'horse', 'ship', 'truck')\n",
    "\n",
    "input_shape = (batch_size, 3, 32, 32)\n",
    "num_labels = 10"
   ]
  },
  {
   "cell_type": "code",
   "execution_count": 17,
   "metadata": {},
   "outputs": [
    {
     "data": {
      "text/plain": [
       "==========================================================================================\n",
       "Layer (type:depth-idx)                   Output Shape              Param #\n",
       "==========================================================================================\n",
       "LeNet                                    [100, 10]                 --\n",
       "├─Sequential: 1-1                        --                        --\n",
       "│    └─Conv2d: 2-1                       [100, 6, 32, 32]          456\n",
       "│    └─BatchNorm2d: 2-2                  [100, 6, 32, 32]          12\n",
       "│    └─Tanh: 2-3                         [100, 6, 32, 32]          --\n",
       "│    └─AvgPool2d: 2-4                    [100, 6, 16, 16]          --\n",
       "│    └─Conv2d: 2-5                       [100, 16, 16, 16]         2,416\n",
       "│    └─BatchNorm2d: 2-6                  [100, 16, 16, 16]         32\n",
       "│    └─Tanh: 2-7                         [100, 16, 16, 16]         --\n",
       "│    └─AvgPool2d: 2-8                    [100, 16, 8, 8]           --\n",
       "│    └─Flatten: 2-9                      [100, 1024]               --\n",
       "│    └─Linear: 2-10                      [100, 120]                123,000\n",
       "│    └─Tanh: 2-11                        [100, 120]                --\n",
       "│    └─Linear: 2-12                      [100, 84]                 10,164\n",
       "│    └─Tanh: 2-13                        [100, 84]                 --\n",
       "│    └─Linear: 2-14                      [100, 10]                 850\n",
       "==========================================================================================\n",
       "Total params: 136,930\n",
       "Trainable params: 136,930\n",
       "Non-trainable params: 0\n",
       "Total mult-adds (M): 121.95\n",
       "==========================================================================================\n",
       "Input size (MB): 1.23\n",
       "Forward/backward pass size (MB): 16.56\n",
       "Params size (MB): 0.55\n",
       "Estimated Total Size (MB): 18.33\n",
       "=========================================================================================="
      ]
     },
     "execution_count": 17,
     "metadata": {},
     "output_type": "execute_result"
    }
   ],
   "source": [
    "from Models import LeNet\n",
    "\n",
    "input_shape = (batch_size, 3, 32, 32)\n",
    "num_labels = 10 \n",
    "\n",
    "LeNN = LeNet(input_shape, num_labels, initial_lr=0.01, momentum=0.99, weight_decay=0)\n",
    "\n",
    "summary(LeNN, input_shape)"
   ]
  },
  {
   "cell_type": "code",
   "execution_count": 18,
   "metadata": {},
   "outputs": [
    {
     "name": "stdout",
     "output_type": "stream",
     "text": [
      "[1,   100] train_loss: 1.988\n",
      "test_loss: 1.867, test_accuracy: 34.22\n",
      "[1,   200] train_loss: 1.795\n",
      "test_loss: 1.744, test_accuracy: 37.23\n",
      "[1,   300] train_loss: 1.712\n",
      "test_loss: 1.658, test_accuracy: 40.24\n",
      "[1,   400] train_loss: 1.659\n",
      "test_loss: 1.611, test_accuracy: 42.41\n",
      "[1,   500] train_loss: 1.616\n",
      "test_loss: 1.542, test_accuracy: 44.45\n",
      "[2,   100] train_loss: 1.546\n",
      "test_loss: 1.545, test_accuracy: 44.96\n",
      "[2,   200] train_loss: 1.535\n",
      "test_loss: 1.542, test_accuracy: 45.71\n",
      "[2,   300] train_loss: 1.515\n",
      "test_loss: 1.469, test_accuracy: 47.37\n",
      "[2,   400] train_loss: 1.469\n",
      "test_loss: 1.491, test_accuracy: 47.04\n",
      "[2,   500] train_loss: 1.450\n",
      "test_loss: 1.463, test_accuracy: 47.95\n",
      "[3,   100] train_loss: 1.392\n",
      "test_loss: 1.445, test_accuracy: 48.95\n",
      "[3,   200] train_loss: 1.416\n",
      "test_loss: 1.441, test_accuracy: 49.2\n",
      "[3,   300] train_loss: 1.421\n",
      "test_loss: 1.402, test_accuracy: 49.64\n",
      "[3,   400] train_loss: 1.371\n",
      "test_loss: 1.402, test_accuracy: 50.78\n",
      "[3,   500] train_loss: 1.387\n",
      "test_loss: 1.381, test_accuracy: 51.17\n",
      "[4,   100] train_loss: 1.355\n",
      "test_loss: 1.374, test_accuracy: 51.04\n",
      "[4,   200] train_loss: 1.337\n",
      "test_loss: 1.360, test_accuracy: 51.44\n",
      "[4,   300] train_loss: 1.344\n",
      "test_loss: 1.449, test_accuracy: 50.46\n",
      "[4,   400] train_loss: 1.343\n",
      "test_loss: 1.392, test_accuracy: 51.26\n",
      "[4,   500] train_loss: 1.323\n",
      "test_loss: 1.345, test_accuracy: 51.75\n"
     ]
    }
   ],
   "source": [
    "criterion = CrossEntropyLoss()\n",
    "\n",
    "train_NN(LeNN, criterion, train_dataloader,\n",
    "        test_dataloader, epochs=4, batches_to_test=100,patience=2,device=device, print_test=True, verbose=True)"
   ]
  },
  {
   "cell_type": "code",
   "execution_count": 11,
   "metadata": {},
   "outputs": [
    {
     "data": {
      "image/png": "[encoded data removed]",
      "text/plain": [
       "<Figure size 432x288 with 1 Axes>"
      ]
     },
     "metadata": {
      "needs_background": "light"
     },
     "output_type": "display_data"
    },
    {
     "data": {
      "image/png": "[encoded data removed]",
      "text/plain": [
       "<Figure size 432x288 with 1 Axes>"
      ]
     },
     "metadata": {
      "needs_background": "light"
     },
     "output_type": "display_data"
    },
    {
     "data": {
      "image/png": "[encoded data removed]",
      "text/plain": [
       "<Figure size 432x288 with 1 Axes>"
      ]
     },
     "metadata": {
      "needs_background": "light"
     },
     "output_type": "display_data"
    },
    {
     "data": {
      "image/png": "[encoded data removed]",
      "text/plain": [
       "<Figure size 432x288 with 1 Axes>"
      ]
     },
     "metadata": {
      "needs_background": "light"
     },
     "output_type": "display_data"
    }
   ],
   "source": [
    "plt.plot(leStats[0])\n",
    "plt.show()\n",
    "plt.plot(leStats[1])\n",
    "plt.show()\n",
    "plt.plot(leStats[2])\n",
    "plt.show()\n",
    "plt.plot(leStats[3])\n",
    "plt.show()"
   ]
  },
  {
   "cell_type": "code",
   "execution_count": 19,
   "metadata": {},
   "outputs": [
    {
     "ename": "TypeError",
     "evalue": "LeASLNet.__init__() missing 3 required positional arguments: 'momentum', 'weight_decay', and 'device'",
     "output_type": "error",
     "traceback": [
      "\u001b[0;31m---------------------------------------------------------------------------\u001b[0m",
      "\u001b[0;31mTypeError\u001b[0m                                 Traceback (most recent call last)",
      "\u001b[1;32m/home/max/Documents/Uni/Veranstaltungen/AML/Abschlussprojekt/ActiveShiftLayer/Cifar10LeNet.ipynb Cell 7\u001b[0m in \u001b[0;36m<cell line: 5>\u001b[0;34m()\u001b[0m\n\u001b[1;32m      <a href='vscode-notebook-cell:/home/max/Documents/Uni/Veranstaltungen/AML/Abschlussprojekt/ActiveShiftLayer/Cifar10LeNet.ipynb#W6sZmlsZQ%3D%3D?line=0'>1</a>\u001b[0m \u001b[39mfrom\u001b[39;00m \u001b[39mModels\u001b[39;00m \u001b[39mimport\u001b[39;00m LeASLNet\n\u001b[1;32m      <a href='vscode-notebook-cell:/home/max/Documents/Uni/Veranstaltungen/AML/Abschlussprojekt/ActiveShiftLayer/Cifar10LeNet.ipynb#W6sZmlsZQ%3D%3D?line=2'>3</a>\u001b[0m input_shape \u001b[39m=\u001b[39m (batch_size, \u001b[39m3\u001b[39m, \u001b[39m32\u001b[39m, \u001b[39m32\u001b[39m)\n\u001b[0;32m----> <a href='vscode-notebook-cell:/home/max/Documents/Uni/Veranstaltungen/AML/Abschlussprojekt/ActiveShiftLayer/Cifar10LeNet.ipynb#W6sZmlsZQ%3D%3D?line=4'>5</a>\u001b[0m LeASLNN \u001b[39m=\u001b[39m LeASLNet(input_shape, \u001b[39m10\u001b[39;49m, device, expansion_rate\u001b[39m=\u001b[39;49m\u001b[39m1\u001b[39;49m)\n\u001b[1;32m      <a href='vscode-notebook-cell:/home/max/Documents/Uni/Veranstaltungen/AML/Abschlussprojekt/ActiveShiftLayer/Cifar10LeNet.ipynb#W6sZmlsZQ%3D%3D?line=6'>7</a>\u001b[0m summary(LeASLNN, input_shape)\n",
      "\u001b[0;31mTypeError\u001b[0m: LeASLNet.__init__() missing 3 required positional arguments: 'momentum', 'weight_decay', and 'device'"
     ]
    }
   ],
   "source": [
    "from Models import LeASLNet\n",
    "\n",
    "input_shape = (batch_size, 3, 32, 32)\n",
    "\n",
    "LeASLNN = LeASLNet(input_shape, 10, device, expansion_rate=1)\n",
    "\n",
    "summary(LeASLNN, input_shape)"
   ]
  },
  {
   "cell_type": "code",
   "execution_count": 13,
   "metadata": {},
   "outputs": [],
   "source": [
    "criterion = CrossEntropyLoss()\n",
    "optimizer = optim.SGD(LeASLNN.parameters(), lr=0.1, momentum=0.9)\n",
    "scheduler = optim.lr_scheduler.ExponentialLR(optimizer, gamma=0.5)"
   ]
  },
  {
   "cell_type": "code",
   "execution_count": 14,
   "metadata": {},
   "outputs": [
    {
     "name": "stdout",
     "output_type": "stream",
     "text": [
      "[1,   200] train_loss: 1.803\n",
      "test_loss: 1.566, test_accuracy: 42.71\n",
      "[1,   400] train_loss: 1.564\n",
      "test_loss: 1.474, test_accuracy: 46.63\n",
      "[2,   200] train_loss: 1.337\n",
      "test_loss: 1.348, test_accuracy: 51.24\n",
      "[2,   400] train_loss: 1.323\n",
      "test_loss: 1.323, test_accuracy: 52.03\n",
      "[3,   200] train_loss: 1.193\n",
      "test_loss: 1.256, test_accuracy: 55.11\n",
      "[3,   400] train_loss: 1.192\n",
      "test_loss: 1.245, test_accuracy: 56.04\n",
      "[4,   200] train_loss: 1.096\n",
      "test_loss: 1.207, test_accuracy: 57.21\n",
      "[4,   400] train_loss: 1.086\n",
      "test_loss: 1.212, test_accuracy: 57.32\n",
      "[5,   200] train_loss: 1.020\n",
      "test_loss: 1.192, test_accuracy: 58.23\n",
      "[5,   400] train_loss: 1.024\n",
      "test_loss: 1.182, test_accuracy: 58.32\n",
      "[6,   200] train_loss: 0.993\n",
      "test_loss: 1.173, test_accuracy: 58.55\n",
      "[6,   400] train_loss: 0.985\n",
      "test_loss: 1.175, test_accuracy: 58.58\n"
     ]
    }
   ],
   "source": [
    "leASLStats = train_NN(LeASLNN, train_dataloader,\n",
    "        test_dataloader, epochs=6, optimizer=optimizer, criterion=criterion,\n",
    "        scheduler=scheduler, device=device, steps_to_test=200, print_test=True)"
   ]
  },
  {
   "cell_type": "code",
   "execution_count": 19,
   "metadata": {},
   "outputs": [
    {
     "data": {
      "image/png": "[encoded data removed]",
      "text/plain": [
       "<Figure size 432x288 with 1 Axes>"
      ]
     },
     "metadata": {
      "needs_background": "light"
     },
     "output_type": "display_data"
    },
    {
     "data": {
      "image/png": "[encoded data removed]",
      "text/plain": [
       "<Figure size 432x288 with 1 Axes>"
      ]
     },
     "metadata": {
      "needs_background": "light"
     },
     "output_type": "display_data"
    }
   ],
   "source": [
    "points = LeASLNN.NN[4].NN[3].shifts.detach().to(\"cpu\").numpy()\n",
    "initial_points = LeASLNN.NN[4].NN[3].initial.detach().to(\"cpu\").numpy()\n",
    "plt.scatter(initial_points[:, 0], initial_points[:,1])\n",
    "plt.show()\n",
    "plt.scatter(points[:, 0], points[:,1])\n",
    "plt.show()"
   ]
  },
  {
   "cell_type": "code",
   "execution_count": 24,
   "metadata": {},
   "outputs": [
    {
     "data": {
      "text/plain": [
       "==========================================================================================\n",
       "Layer (type:depth-idx)                   Output Shape              Param #\n",
       "==========================================================================================\n",
       "LeDepthNet                               [100, 10]                 --\n",
       "├─Sequential: 1-1                        --                        --\n",
       "│    └─Conv2d: 2-1                       [100, 6, 32, 32]          456\n",
       "│    └─BatchNorm2d: 2-2                  [100, 6, 32, 32]          12\n",
       "│    └─Tanh: 2-3                         [100, 6, 32, 32]          --\n",
       "│    └─AvgPool2d: 2-4                    [100, 6, 16, 16]          --\n",
       "│    └─Depth_wise_block: 2-5             [100, 16, 16, 16]         --\n",
       "│    │    └─Sequential: 3-1              --                        226\n",
       "│    └─Tanh: 2-6                         [100, 16, 16, 16]         --\n",
       "│    └─AvgPool2d: 2-7                    [100, 16, 8, 8]           --\n",
       "│    └─Flatten: 2-8                      [100, 1024]               --\n",
       "│    └─Linear: 2-9                       [100, 120]                123,000\n",
       "│    └─Tanh: 2-10                        [100, 120]                --\n",
       "│    └─Linear: 2-11                      [100, 84]                 10,164\n",
       "│    └─Tanh: 2-12                        [100, 84]                 --\n",
       "│    └─Linear: 2-13                      [100, 10]                 850\n",
       "==========================================================================================\n",
       "Total params: 134,708\n",
       "Trainable params: 134,708\n",
       "Non-trainable params: 0\n",
       "Total mult-adds (M): 65.58\n",
       "==========================================================================================\n",
       "Input size (MB): 1.23\n",
       "Forward/backward pass size (MB): 16.96\n",
       "Params size (MB): 0.54\n",
       "Estimated Total Size (MB): 18.73\n",
       "=========================================================================================="
      ]
     },
     "execution_count": 24,
     "metadata": {},
     "output_type": "execute_result"
    }
   ],
   "source": [
    "from Models import LeDepthNet\n",
    "\n",
    "LeDepthNN = LeDepthNet(input_shape, 10, device)\n",
    "\n",
    "summary(LeDepthNN, input_shape)"
   ]
  },
  {
   "cell_type": "code",
   "execution_count": 25,
   "metadata": {},
   "outputs": [],
   "source": [
    "criterion = CrossEntropyLoss()\n",
    "optimizer = optim.SGD(LeDepthNN.parameters(), lr=0.1, momentum=0.9)\n",
    "scheduler = optim.lr_scheduler.ExponentialLR(optimizer, gamma=0.5)"
   ]
  },
  {
   "cell_type": "code",
   "execution_count": 26,
   "metadata": {},
   "outputs": [
    {
     "name": "stdout",
     "output_type": "stream",
     "text": [
      "[1,   200] train_loss: 1.885\n",
      "test_loss: 1.736, test_accuracy: 38.15\n",
      "[1,   400] train_loss: 1.607\n",
      "test_loss: 1.587, test_accuracy: 42.83\n",
      "[2,   200] train_loss: 1.369\n",
      "test_loss: 1.370, test_accuracy: 51.55\n",
      "[2,   400] train_loss: 1.347\n",
      "test_loss: 1.311, test_accuracy: 53.34\n",
      "[3,   200] train_loss: 1.194\n",
      "test_loss: 1.258, test_accuracy: 55.7\n",
      "[3,   400] train_loss: 1.176\n",
      "test_loss: 1.268, test_accuracy: 55.73\n",
      "[4,   200] train_loss: 1.095\n",
      "test_loss: 1.225, test_accuracy: 56.83\n",
      "[4,   400] train_loss: 1.081\n",
      "test_loss: 1.210, test_accuracy: 57.73\n",
      "[5,   200] train_loss: 1.020\n",
      "test_loss: 1.202, test_accuracy: 58.11\n",
      "[5,   400] train_loss: 1.022\n",
      "test_loss: 1.198, test_accuracy: 58.19\n",
      "[6,   200] train_loss: 0.977\n",
      "test_loss: 1.193, test_accuracy: 58.23\n",
      "[6,   400] train_loss: 0.977\n",
      "test_loss: 1.196, test_accuracy: 58.3\n"
     ]
    }
   ],
   "source": [
    "leDepthStats = train_NN(LeDepthNN, train_dataloader,\n",
    "        test_dataloader, epochs=6, optimizer=optimizer, criterion=criterion,\n",
    "        scheduler=scheduler, device=device, steps_to_test=200, print_test=True)"
   ]
  },
  {
   "cell_type": "code",
   "execution_count": 27,
   "metadata": {},
   "outputs": [
    {
     "data": {
      "image/png": "[encoded data removed]",
      "text/plain": [
       "<Figure size 432x288 with 1 Axes>"
      ]
     },
     "metadata": {
      "needs_background": "light"
     },
     "output_type": "display_data"
    },
    {
     "data": {
      "image/png": "[encoded data removed]",
      "text/plain": [
       "<Figure size 432x288 with 1 Axes>"
      ]
     },
     "metadata": {
      "needs_background": "light"
     },
     "output_type": "display_data"
    },
    {
     "data": {
      "image/png": "[encoded data removed]",
      "text/plain": [
       "<Figure size 432x288 with 1 Axes>"
      ]
     },
     "metadata": {
      "needs_background": "light"
     },
     "output_type": "display_data"
    },
    {
     "data": {
      "image/png": "[encoded data removed]",
      "text/plain": [
       "<Figure size 432x288 with 1 Axes>"
      ]
     },
     "metadata": {
      "needs_background": "light"
     },
     "output_type": "display_data"
    }
   ],
   "source": [
    "plt.plot(leDepthStats[0])\n",
    "plt.show()\n",
    "plt.plot(leDepthStats[1])\n",
    "plt.show()\n",
    "plt.plot(leDepthStats[2])\n",
    "plt.show()\n",
    "plt.plot(leDepthStats[3])\n",
    "plt.show()"
   ]
  },
  {
   "cell_type": "code",
   "execution_count": 1,
   "metadata": {},
   "outputs": [
    {
     "ename": "NameError",
     "evalue": "name 'train_dataloader' is not defined",
     "output_type": "error",
     "traceback": [
      "\u001b[1;31m---------------------------------------------------------------------------\u001b[0m",
      "\u001b[1;31mNameError\u001b[0m                                 Traceback (most recent call last)",
      "\u001b[1;32mC:\\Users\\MAXHEI~1\\AppData\\Local\\Temp/ipykernel_8628/2840073313.py\u001b[0m in \u001b[0;36m<module>\u001b[1;34m\u001b[0m\n\u001b[0;32m      7\u001b[0m \u001b[1;33m\u001b[0m\u001b[0m\n\u001b[0;32m      8\u001b[0m \u001b[1;31m# get some random training images\u001b[0m\u001b[1;33m\u001b[0m\u001b[1;33m\u001b[0m\u001b[0m\n\u001b[1;32m----> 9\u001b[1;33m \u001b[0mdataiter\u001b[0m \u001b[1;33m=\u001b[0m \u001b[0miter\u001b[0m\u001b[1;33m(\u001b[0m\u001b[0mtrain_dataloader\u001b[0m\u001b[1;33m)\u001b[0m\u001b[1;33m\u001b[0m\u001b[1;33m\u001b[0m\u001b[0m\n\u001b[0m\u001b[0;32m     10\u001b[0m \u001b[0mimages\u001b[0m\u001b[1;33m,\u001b[0m \u001b[0mlabels\u001b[0m \u001b[1;33m=\u001b[0m \u001b[0mdataiter\u001b[0m\u001b[1;33m.\u001b[0m\u001b[0mnext\u001b[0m\u001b[1;33m(\u001b[0m\u001b[1;33m)\u001b[0m\u001b[1;33m\u001b[0m\u001b[1;33m\u001b[0m\u001b[0m\n\u001b[0;32m     11\u001b[0m \u001b[1;33m\u001b[0m\u001b[0m\n",
      "\u001b[1;31mNameError\u001b[0m: name 'train_dataloader' is not defined"
     ]
    }
   ],
   "source": [
    "def imshow(img):\n",
    "    img = img / 2 + 0.5     # unnormalize\n",
    "    npimg = img.numpy()\n",
    "    plt.imshow(np.transpose(npimg, (1, 2, 0)))\n",
    "    plt.show()\n",
    "\n",
    "\n",
    "# get some random training images\n",
    "dataiter = iter(train_dataloader)\n",
    "images, labels = dataiter.next()\n",
    "\n",
    "# show images\n",
    "imshow(torchvision.utils.make_grid(images))\n",
    "# print labels\n",
    "print(' '.join(f'{classes[labels[j]]:5s}' for j in range(batch_size)))"
   ]
  },
  {
   "cell_type": "code",
   "execution_count": 5,
   "metadata": {},
   "outputs": [
    {
     "data": {
      "text/plain": [
       "==========================================================================================\n",
       "Layer (type:depth-idx)                   Output Shape              Param #\n",
       "==========================================================================================\n",
       "Cifar10_Net                              [100, 10]                 --\n",
       "├─Sequential: 1-1                        --                        --\n",
       "│    └─Conv2d: 2-1                       [100, 32, 26, 26]         4,736\n",
       "│    └─CSC_block: 2-2                    [100, 64, 26, 26]         --\n",
       "│    │    └─Sequential: 3-1              --                        19,520\n",
       "│    └─CSC_block: 2-3                    [100, 128, 26, 26]        --\n",
       "│    │    └─Sequential: 3-2              --                        75,904\n",
       "│    └─AvgPool2d: 2-4                    [100, 128, 3, 3]          --\n",
       "│    └─Flatten: 2-5                      [100, 1152]               --\n",
       "│    └─Linear: 2-6                       [100, 64]                 73,792\n",
       "│    └─ReLU: 2-7                         [100, 64]                 --\n",
       "│    └─Linear: 2-8                       [100, 10]                 650\n",
       "==========================================================================================\n",
       "Total params: 174,602\n",
       "Trainable params: 174,602\n",
       "Non-trainable params: 0\n",
       "Total mult-adds (G): 6.61\n",
       "==========================================================================================\n",
       "Input size (MB): 1.23\n",
       "Forward/backward pass size (MB): 1107.62\n",
       "Params size (MB): 0.70\n",
       "Estimated Total Size (MB): 1109.54\n",
       "=========================================================================================="
      ]
     },
     "execution_count": 5,
     "metadata": {},
     "output_type": "execute_result"
    }
   ],
   "source": [
    "from Models import Cifar10_Net\n",
    "\n",
    "input_shape = (100, 3, 32, 32)\n",
    "num_labels = 10\n",
    "expansion_rate = 3\n",
    "\n",
    "NN_cif = Cifar10_Net(input_shape, num_labels, expansion_rate, device)\n",
    "\n",
    "summary(NN_cif, input_shape)"
   ]
  },
  {
   "cell_type": "code",
   "execution_count": 6,
   "metadata": {},
   "outputs": [],
   "source": [
    "PATH = \"models/Cifar/Cifar10.pth\"\n",
    "\n",
    "if exists(PATH):\n",
    "    NN_cif.load_state_dict(torch.load(PATH))\n",
    "    NN_cif.eval()"
   ]
  },
  {
   "cell_type": "code",
   "execution_count": 7,
   "metadata": {},
   "outputs": [],
   "source": [
    "criterion = CrossEntropyLoss()\n",
    "optimizer_Cifar = optim.SGD(NN_cif.parameters(), lr=0.05, momentum=0.9)\n",
    "scheduler_Cifar = optim.lr_scheduler.ExponentialLR(optimizer_Cifar, gamma=0.9)"
   ]
  },
  {
   "cell_type": "code",
   "execution_count": 9,
   "metadata": {},
   "outputs": [
    {
     "name": "stdout",
     "output_type": "stream",
     "text": [
      "[1,   244] train_loss: 4.071\n",
      "(1.4727221763134002, 47.23)\n"
     ]
    }
   ],
   "source": [
    "%%timeit\n",
    "for epoch in range(1):  # loop over the dataset multiple times\n",
    "\n",
    "    running_loss = 0.0\n",
    "    for i, data in enumerate(train_dataloader, 0):\n",
    "        # get the inputs; data is a list of [inputs, labels]\n",
    "        inputs, labels = data\n",
    "        inputs = inputs.to(device)\n",
    "        labels = labels.to(device)\n",
    "\n",
    "        # zero the parameter gradients\n",
    "        optimizer_Cifar.zero_grad()\n",
    "\n",
    "        # forward + backward + optimize\n",
    "        outputs = NN_cif(inputs)\n",
    "        loss = criterion(outputs, labels)\n",
    "        loss.backward()\n",
    "        optimizer_Cifar.step()\n",
    "\n",
    "        # print statistics\n",
    "        running_loss += loss.item()\n",
    "        if i % 250 == 249:    # print every 100 mini-batches\n",
    "            print(f'[{epoch + 1}, {i + 1:5d}] train_loss: {running_loss / 100:.3f}')\n",
    "            running_loss = 0.0\n",
    "            print(test_loss(NN_cif, test_dataloader, criterion, device))\n",
    "\n",
    "    scheduler_Cifar.step()"
   ]
  },
  {
   "cell_type": "code",
   "execution_count": 10,
   "metadata": {},
   "outputs": [],
   "source": [
    "torch.save(NN_cif.state_dict(), \"./models/Cifar/Cifar10.pth\")"
   ]
  },
  {
   "cell_type": "code",
   "execution_count": 8,
   "metadata": {},
   "outputs": [
    {
     "name": "stdout",
     "output_type": "stream",
     "text": [
      "(1.413678903579712, 49.93)\n"
     ]
    }
   ],
   "source": [
    "from Models import Cifar10_Net\n",
    "\n",
    "criterion = CrossEntropyLoss()\n",
    "\n",
    "\n",
    "input_shape = (100, 3, 32, 32)\n",
    "num_labels = 10\n",
    "expansion_rate = 3\n",
    "\n",
    "NN2_cif = Cifar10_Net(input_shape, num_labels, expansion_rate)\n",
    "\n",
    "\n",
    "PATH = \"models/Cifar/Cifar10.pth\"\n",
    "\n",
    "if exists(PATH):\n",
    "    NN2_cif.load_state_dict(torch.load(PATH))\n",
    "    NN2_cif.eval()\n",
    "\n",
    "print(test_loss(NN2_cif, test_dataloader, criterion))"
   ]
  },
  {
   "cell_type": "code",
   "execution_count": null,
   "metadata": {},
   "outputs": [],
   "source": []
  }
 ],
 "metadata": {
  "kernelspec": {
   "display_name": "Python 3.10.4 64-bit",
   "language": "python",
   "name": "python3"
  },
  "language_info": {
   "codemirror_mode": {
    "name": "ipython",
    "version": 3
   },
   "file_extension": ".py",
   "mimetype": "text/x-python",
   "name": "python",
   "nbconvert_exporter": "python",
   "pygments_lexer": "ipython3",
   "version": "3.10.4"
  },
  "orig_nbformat": 4,
  "vscode": {
   "interpreter": {
    "hash": "916dbcbb3f70747c44a77c7bcd40155683ae19c65e1c03b4aa3499c5328201f1"
   }
  }
 },
 "nbformat": 4,
 "nbformat_minor": 2
}
