{
 "cells": [
  {
   "cell_type": "code",
   "execution_count": 1,
   "metadata": {},
   "outputs": [],
   "source": [
    "import numpy as np\n",
    "import matplotlib.pyplot as plt\n",
    "import pickle\n",
    "\n",
    "import torch\n",
    "from torch.nn import CrossEntropyLoss\n",
    "import torch.optim as optim\n",
    "\n",
    "import torchvision\n",
    "import torchvision.transforms as transforms\n",
    "\n",
    "from torchinfo import summary\n",
    "\n",
    "from os.path import exists\n",
    "\n",
    "from util import test_loss, train_NN, loadCIFAR10, plot_loss, plot_acc, plot_shifts, inference_time, ASL_plot_acc, ASL_plot_loss\n",
    "\n",
    "plt.rcParams['figure.dpi'] = 100"
   ]
  },
  {
   "cell_type": "code",
   "execution_count": 2,
   "metadata": {},
   "outputs": [
    {
     "name": "stdout",
     "output_type": "stream",
     "text": [
      "cuda\n"
     ]
    }
   ],
   "source": [
    "if torch.cuda.is_available():\n",
    "    device = 'cuda'\n",
    "else:\n",
    "    device = 'cpu'\n",
    "print(device)"
   ]
  },
  {
   "cell_type": "code",
   "execution_count": 3,
   "metadata": {},
   "outputs": [
    {
     "name": "stdout",
     "output_type": "stream",
     "text": [
      "Files already downloaded and verified\n",
      "Files already downloaded and verified\n"
     ]
    }
   ],
   "source": [
    "batch_size = 100\n",
    "input_shape = (batch_size, 3, 32, 32)\n",
    "num_labels = 10\n",
    "\n",
    "train_dataset, train_dataloader, test_dataset, test_dataloader, classes = loadCIFAR10(batch_size)"
   ]
  },
  {
   "cell_type": "markdown",
   "metadata": {},
   "source": [
    "## CIFAR10 LeNet"
   ]
  },
  {
   "cell_type": "code",
   "execution_count": 4,
   "metadata": {},
   "outputs": [
    {
     "name": "stdout",
     "output_type": "stream",
     "text": [
      "[{'acc': 69.994, 'lr': 0.09375, 'momentum': 0.65625, 'p_randomTransform': 0.3125}, {'acc': 69.69, 'lr': 0.046875, 'momentum': 0.734375, 'p_randomTransform': 0.84375}, {'acc': 69.654, 'lr': 0.12307617187499999, 'momentum': 0.6230761718750002, 'p_randomTransform': 0.5936914062499999}]\n"
     ]
    }
   ],
   "source": [
    "# mock train_function of Optimizer to load the optimizer\n",
    "train_function = None\n",
    "\n",
    "with open('models/LeNet_Cifar/LeNet_optimizer.pkl', 'rb') as file:\n",
    "    LeNet_optim = pickle.load(file)\n",
    "\n",
    "best_parameters = LeNet_optim.get_best_parameters(3)\n",
    "print(best_parameters)\n",
    "parameters = best_parameters[0]"
   ]
  },
  {
   "cell_type": "code",
   "execution_count": 5,
   "metadata": {},
   "outputs": [
    {
     "data": {
      "text/plain": [
       "==========================================================================================\n",
       "Layer (type:depth-idx)                   Output Shape              Param #\n",
       "==========================================================================================\n",
       "LeNet                                    [100, 10]                 --\n",
       "├─Sequential: 1-1                        --                        --\n",
       "│    └─Conv2d: 2-1                       [100, 6, 32, 32]          456\n",
       "│    └─BatchNorm2d: 2-2                  [100, 6, 32, 32]          12\n",
       "│    └─Tanh: 2-3                         [100, 6, 32, 32]          --\n",
       "│    └─AvgPool2d: 2-4                    [100, 6, 16, 16]          --\n",
       "│    └─Conv2d: 2-5                       [100, 16, 16, 16]         2,416\n",
       "│    └─BatchNorm2d: 2-6                  [100, 16, 16, 16]         32\n",
       "│    └─Tanh: 2-7                         [100, 16, 16, 16]         --\n",
       "│    └─AvgPool2d: 2-8                    [100, 16, 8, 8]           --\n",
       "│    └─Flatten: 2-9                      [100, 1024]               --\n",
       "│    └─Linear: 2-10                      [100, 120]                123,000\n",
       "│    └─Tanh: 2-11                        [100, 120]                --\n",
       "│    └─Linear: 2-12                      [100, 84]                 10,164\n",
       "│    └─Tanh: 2-13                        [100, 84]                 --\n",
       "│    └─Linear: 2-14                      [100, 10]                 850\n",
       "==========================================================================================\n",
       "Total params: 136,930\n",
       "Trainable params: 136,930\n",
       "Non-trainable params: 0\n",
       "Total mult-adds (M): 121.95\n",
       "==========================================================================================\n",
       "Input size (MB): 1.23\n",
       "Forward/backward pass size (MB): 16.56\n",
       "Params size (MB): 0.55\n",
       "Estimated Total Size (MB): 18.33\n",
       "=========================================================================================="
      ]
     },
     "execution_count": 5,
     "metadata": {},
     "output_type": "execute_result"
    }
   ],
   "source": [
    "from Models import LeNet\n",
    "\n",
    "LeNN = LeNet(input_shape, num_labels, initial_lr=parameters[\"lr\"], momentum=parameters[\"momentum\"], weight_decay=0)\n",
    "\n",
    "summary(LeNN, input_shape)"
   ]
  },
  {
   "cell_type": "code",
   "execution_count": 6,
   "metadata": {},
   "outputs": [],
   "source": [
    "PATH = \"models/LeNet_Cifar/LeNet.pth\"\n",
    "\n",
    "if exists(PATH):\n",
    "    LeNN = torch.load(PATH)\n",
    "    LeNN.eval()"
   ]
  },
  {
   "cell_type": "code",
   "execution_count": 7,
   "metadata": {},
   "outputs": [
    {
     "name": "stdout",
     "output_type": "stream",
     "text": [
      "[1,   100] train_loss: 1.928\n",
      "test_loss: 1.805, test_accuracy: 35.54\n",
      "[1,   200] train_loss: 1.745\n",
      "test_loss: 1.651, test_accuracy: 41.89\n",
      "[1,   300] train_loss: 1.648\n",
      "test_loss: 1.617, test_accuracy: 42.73\n",
      "[1,   400] train_loss: 1.549\n",
      "test_loss: 1.467, test_accuracy: 47.14\n",
      "[1,   500] train_loss: 1.517\n",
      "test_loss: 1.430, test_accuracy: 48.32\n",
      "[2,   100] train_loss: 1.428\n",
      "test_loss: 1.393, test_accuracy: 49.71\n",
      "[2,   200] train_loss: 1.415\n",
      "test_loss: 1.367, test_accuracy: 50.85\n",
      "[2,   300] train_loss: 1.385\n",
      "test_loss: 1.351, test_accuracy: 51.79\n",
      "[2,   400] train_loss: 1.365\n",
      "test_loss: 1.354, test_accuracy: 51.53\n",
      "[2,   500] train_loss: 1.328\n",
      "test_loss: 1.351, test_accuracy: 51.95\n",
      "[3,   100] train_loss: 1.270\n",
      "test_loss: 1.275, test_accuracy: 54.29\n",
      "[3,   200] train_loss: 1.280\n",
      "test_loss: 1.265, test_accuracy: 54.57\n",
      "[3,   300] train_loss: 1.258\n",
      "test_loss: 1.240, test_accuracy: 55.51\n",
      "[3,   400] train_loss: 1.253\n",
      "test_loss: 1.231, test_accuracy: 55.91\n",
      "[3,   500] train_loss: 1.243\n",
      "test_loss: 1.214, test_accuracy: 56.49\n",
      "[4,   100] train_loss: 1.163\n",
      "test_loss: 1.185, test_accuracy: 57.5\n",
      "[4,   200] train_loss: 1.160\n",
      "test_loss: 1.192, test_accuracy: 57.94\n",
      "[4,   300] train_loss: 1.172\n",
      "test_loss: 1.191, test_accuracy: 57.78\n",
      "[4,   400] train_loss: 1.191\n",
      "test_loss: 1.184, test_accuracy: 57.57\n",
      "[4,   500] train_loss: 1.188\n",
      "test_loss: 1.226, test_accuracy: 56.85\n",
      "Epoch 00020: reducing learning rate of group 0 to 4.6875e-02.\n",
      "[5,   100] train_loss: 1.076\n",
      "test_loss: 1.109, test_accuracy: 60.56\n",
      "[5,   200] train_loss: 1.056\n",
      "test_loss: 1.105, test_accuracy: 60.73\n",
      "[5,   300] train_loss: 1.058\n",
      "test_loss: 1.103, test_accuracy: 60.78\n",
      "[5,   400] train_loss: 1.046\n",
      "test_loss: 1.125, test_accuracy: 60.21\n",
      "[5,   500] train_loss: 1.045\n",
      "test_loss: 1.132, test_accuracy: 60.71\n",
      "[6,   100] train_loss: 0.994\n",
      "test_loss: 1.083, test_accuracy: 61.14\n",
      "[6,   200] train_loss: 1.024\n",
      "test_loss: 1.092, test_accuracy: 61.54\n",
      "[6,   300] train_loss: 1.005\n",
      "test_loss: 1.086, test_accuracy: 61.78\n",
      "[6,   400] train_loss: 1.009\n",
      "test_loss: 1.080, test_accuracy: 61.73\n",
      "Epoch 00029: reducing learning rate of group 0 to 2.3438e-02.\n",
      "[6,   500] train_loss: 1.013\n",
      "test_loss: 1.042, test_accuracy: 63.0\n",
      "[7,   100] train_loss: 0.948\n",
      "test_loss: 1.050, test_accuracy: 62.91\n",
      "[7,   200] train_loss: 0.938\n",
      "test_loss: 1.065, test_accuracy: 62.56\n",
      "[7,   300] train_loss: 0.947\n",
      "test_loss: 1.036, test_accuracy: 63.7\n",
      "[7,   400] train_loss: 0.944\n",
      "test_loss: 1.036, test_accuracy: 63.46\n",
      "[7,   500] train_loss: 0.927\n",
      "test_loss: 1.042, test_accuracy: 63.71\n",
      "[8,   100] train_loss: 0.920\n",
      "test_loss: 1.056, test_accuracy: 62.79\n",
      "[8,   200] train_loss: 0.918\n",
      "test_loss: 1.035, test_accuracy: 63.6\n",
      "[8,   300] train_loss: 0.929\n",
      "test_loss: 1.043, test_accuracy: 63.65\n",
      "[8,   400] train_loss: 0.905\n",
      "test_loss: 1.031, test_accuracy: 63.58\n",
      "[8,   500] train_loss: 0.924\n",
      "test_loss: 1.036, test_accuracy: 63.52\n",
      "[9,   100] train_loss: 0.903\n",
      "test_loss: 1.054, test_accuracy: 62.85\n",
      "[9,   200] train_loss: 0.892\n",
      "test_loss: 1.034, test_accuracy: 63.37\n",
      "[9,   300] train_loss: 0.904\n",
      "test_loss: 1.034, test_accuracy: 63.85\n",
      "[9,   400] train_loss: 0.904\n",
      "test_loss: 1.033, test_accuracy: 63.94\n",
      "[9,   500] train_loss: 0.895\n",
      "test_loss: 1.037, test_accuracy: 63.83\n",
      "Epoch 00045: reducing learning rate of group 0 to 1.1719e-02.\n",
      "[10,   100] train_loss: 0.886\n",
      "test_loss: 1.021, test_accuracy: 64.37\n",
      "[10,   200] train_loss: 0.863\n",
      "test_loss: 1.033, test_accuracy: 63.99\n",
      "[10,   300] train_loss: 0.860\n",
      "test_loss: 1.015, test_accuracy: 64.58\n",
      "[10,   400] train_loss: 0.857\n",
      "test_loss: 1.018, test_accuracy: 64.33\n",
      "[10,   500] train_loss: 0.849\n",
      "test_loss: 1.018, test_accuracy: 64.48\n",
      "[11,   100] train_loss: 0.852\n",
      "test_loss: 1.031, test_accuracy: 64.01\n",
      "[11,   200] train_loss: 0.844\n",
      "test_loss: 1.014, test_accuracy: 64.62\n",
      "[11,   300] train_loss: 0.826\n",
      "test_loss: 1.012, test_accuracy: 64.74\n",
      "[11,   400] train_loss: 0.860\n",
      "test_loss: 1.020, test_accuracy: 64.44\n",
      "[11,   500] train_loss: 0.868\n",
      "test_loss: 1.022, test_accuracy: 64.09\n",
      "[12,   100] train_loss: 0.824\n",
      "test_loss: 1.015, test_accuracy: 64.66\n",
      "[12,   200] train_loss: 0.814\n",
      "test_loss: 1.023, test_accuracy: 64.36\n",
      "[12,   300] train_loss: 0.824\n",
      "test_loss: 1.017, test_accuracy: 64.49\n",
      "[12,   400] train_loss: 0.843\n",
      "test_loss: 1.016, test_accuracy: 64.22\n",
      "[12,   500] train_loss: 0.857\n",
      "test_loss: 1.017, test_accuracy: 64.37\n",
      "Epoch 00060: reducing learning rate of group 0 to 5.8594e-03.\n",
      "[13,   100] train_loss: 0.786\n",
      "test_loss: 1.016, test_accuracy: 64.48\n",
      "[13,   200] train_loss: 0.824\n",
      "test_loss: 1.015, test_accuracy: 64.72\n",
      "[13,   300] train_loss: 0.798\n",
      "test_loss: 1.004, test_accuracy: 65.05\n",
      "[13,   400] train_loss: 0.816\n",
      "test_loss: 1.008, test_accuracy: 64.75\n",
      "Epoch 00064: reducing learning rate of group 0 to 2.9297e-03.\n",
      "[13,   500] train_loss: 0.796\n",
      "test_loss: 1.002, test_accuracy: 64.83\n",
      "[14,   100] train_loss: 0.799\n",
      "test_loss: 1.003, test_accuracy: 64.86\n",
      "[14,   200] train_loss: 0.789\n",
      "test_loss: 1.005, test_accuracy: 64.84\n",
      "Epoch 00067: reducing learning rate of group 0 to 1.4648e-03.\n",
      "[14,   300] train_loss: 0.771\n",
      "test_loss: 1.003, test_accuracy: 64.87\n",
      "[14,   400] train_loss: 0.788\n",
      "test_loss: 1.003, test_accuracy: 65.03\n",
      "[14,   500] train_loss: 0.816\n",
      "test_loss: 1.002, test_accuracy: 65.1\n",
      "[15,   100] train_loss: 0.769\n",
      "test_loss: 1.002, test_accuracy: 65.01\n",
      "[15,   200] train_loss: 0.777\n",
      "test_loss: 1.003, test_accuracy: 64.88\n",
      "[15,   300] train_loss: 0.772\n",
      "test_loss: 1.002, test_accuracy: 65.16\n",
      "[15,   400] train_loss: 0.771\n",
      "test_loss: 1.000, test_accuracy: 64.98\n",
      "Epoch 00074: reducing learning rate of group 0 to 7.3242e-04.\n",
      "[15,   500] train_loss: 0.797\n",
      "test_loss: 1.000, test_accuracy: 64.85\n",
      "[16,   100] train_loss: 0.764\n",
      "test_loss: 1.002, test_accuracy: 65.14\n",
      "[16,   200] train_loss: 0.788\n",
      "test_loss: 1.002, test_accuracy: 64.93\n",
      "[16,   300] train_loss: 0.805\n",
      "test_loss: 1.002, test_accuracy: 65.03\n",
      "[16,   400] train_loss: 0.791\n",
      "test_loss: 1.002, test_accuracy: 65.1\n",
      "Epoch 00079: reducing learning rate of group 0 to 3.6621e-04.\n",
      "[16,   500] train_loss: 0.786\n",
      "test_loss: 1.000, test_accuracy: 65.02\n",
      "[17,   100] train_loss: 0.768\n",
      "test_loss: 1.001, test_accuracy: 65.28\n",
      "[17,   200] train_loss: 0.764\n",
      "test_loss: 1.001, test_accuracy: 65.16\n",
      "[17,   300] train_loss: 0.790\n",
      "test_loss: 1.001, test_accuracy: 65.06\n",
      "[17,   400] train_loss: 0.776\n",
      "test_loss: 1.004, test_accuracy: 65.0\n",
      "[17,   500] train_loss: 0.799\n",
      "test_loss: 1.001, test_accuracy: 65.04\n",
      "Epoch 00085: reducing learning rate of group 0 to 1.8311e-04.\n",
      "[18,   100] train_loss: 0.769\n",
      "test_loss: 1.000, test_accuracy: 65.12\n",
      "[18,   200] train_loss: 0.766\n",
      "test_loss: 1.001, test_accuracy: 65.22\n",
      "[18,   300] train_loss: 0.753\n",
      "test_loss: 1.001, test_accuracy: 65.28\n",
      "[18,   400] train_loss: 0.792\n",
      "test_loss: 1.001, test_accuracy: 65.14\n",
      "[18,   500] train_loss: 0.755\n",
      "test_loss: 1.002, test_accuracy: 65.22\n",
      "[19,   100] train_loss: 0.761\n",
      "test_loss: 1.002, test_accuracy: 65.23\n",
      "Epoch 00091: reducing learning rate of group 0 to 9.1553e-05.\n",
      "[19,   200] train_loss: 0.801\n",
      "test_loss: 1.003, test_accuracy: 65.16\n",
      "[19,   300] train_loss: 0.752\n",
      "test_loss: 0.999, test_accuracy: 65.09\n",
      "[19,   400] train_loss: 0.792\n",
      "test_loss: 1.003, test_accuracy: 65.01\n",
      "[19,   500] train_loss: 0.775\n",
      "test_loss: 1.001, test_accuracy: 65.32\n",
      "[20,   100] train_loss: 0.781\n",
      "test_loss: 1.001, test_accuracy: 65.1\n",
      "Epoch 00096: reducing learning rate of group 0 to 4.5776e-05.\n",
      "[20,   200] train_loss: 0.777\n",
      "test_loss: 1.000, test_accuracy: 65.09\n",
      "[20,   300] train_loss: 0.774\n",
      "test_loss: 1.001, test_accuracy: 65.01\n",
      "[20,   400] train_loss: 0.756\n",
      "test_loss: 1.003, test_accuracy: 65.23\n",
      "Epoch 00099: reducing learning rate of group 0 to 2.2888e-05.\n",
      "[20,   500] train_loss: 0.786\n",
      "test_loss: 1.002, test_accuracy: 65.15\n"
     ]
    }
   ],
   "source": [
    "criterion = CrossEntropyLoss()\n",
    "epochs = 20\n",
    "\n",
    "train_NN(LeNN, criterion, train_dataloader, test_dataloader, epochs=epochs, batches_to_test=100,\n",
    "        patience=2,device=device, print_test=True, verbose=True, p_randomTransform=parameters[\"p_randomTransform\"])"
   ]
  },
  {
   "cell_type": "code",
   "execution_count": 8,
   "metadata": {},
   "outputs": [],
   "source": [
    "torch.save(LeNN, \"./models/LeNet_Cifar/LeNet.pth\")"
   ]
  },
  {
   "cell_type": "code",
   "execution_count": 5,
   "metadata": {},
   "outputs": [],
   "source": [
    "LeNN = torch.load(\"./models/LeNet_Cifar/LeNet.pth\")"
   ]
  },
  {
   "cell_type": "code",
   "execution_count": 44,
   "metadata": {},
   "outputs": [
    {
     "data": {
      "image/png": "[encoded data removed]",
      "text/plain": [
       "<Figure size 600x400 with 1 Axes>"
      ]
     },
     "metadata": {
      "needs_background": "light"
     },
     "output_type": "display_data"
    },
    {
     "data": {
      "image/png": "[encoded data removed]",
      "text/plain": [
       "<Figure size 600x400 with 1 Axes>"
      ]
     },
     "metadata": {
      "needs_background": "light"
     },
     "output_type": "display_data"
    }
   ],
   "source": [
    "plot_loss(LeNN, y_lim=(0.7,2))\n",
    "plot_acc(LeNN, y_lim=(40, 67))"
   ]
  },
  {
   "cell_type": "code",
   "execution_count": 5,
   "metadata": {},
   "outputs": [
    {
     "name": "stdout",
     "output_type": "stream",
     "text": [
      "Training time (s):\n",
      "mean: 1.007\n",
      "std: 0.172\n"
     ]
    }
   ],
   "source": [
    "print(\"Training time (s):\")\n",
    "print(f\"mean: {round(np.mean(LeNN.train_time), 3)}\")\n",
    "print(f\"std: {round(np.std(LeNN.train_time), 3)}\")"
   ]
  },
  {
   "cell_type": "code",
   "execution_count": 25,
   "metadata": {},
   "outputs": [
    {
     "name": "stdout",
     "output_type": "stream",
     "text": [
      "Inference time GPU (ms):\n",
      "3.294e-01\n",
      "4.3e-02\n"
     ]
    }
   ],
   "source": [
    "inference_times = inference_time(LeNN, input_shape=(1, 3, 32, 32), repetitions=10000, device=\"cuda\")\n",
    "print(\"Inference time GPU (ms):\")\n",
    "print(format(np.mean(inference_times), \".3e\"))\n",
    "print(format(np.std(inference_times), \".1e\"))"
   ]
  },
  {
   "cell_type": "code",
   "execution_count": 26,
   "metadata": {},
   "outputs": [
    {
     "name": "stdout",
     "output_type": "stream",
     "text": [
      "Inference time CPU (ms):\n",
      "3.452e-01\n",
      "1.0e-01\n"
     ]
    }
   ],
   "source": [
    "inference_times = inference_time(LeNN, input_shape=(1, 3, 32, 32), repetitions=10000, device=\"cpu\")\n",
    "print(\"Inference time CPU (ms):\")\n",
    "print(format(np.mean(inference_times), \".3e\"))\n",
    "print(format(np.std(inference_times), \".1e\"))"
   ]
  },
  {
   "cell_type": "code",
   "execution_count": 27,
   "metadata": {},
   "outputs": [
    {
     "name": "stdout",
     "output_type": "stream",
     "text": [
      "Inference time GPU (ms):\n",
      "2.009e+00\n",
      "3.9e-02\n"
     ]
    }
   ],
   "source": [
    "inference_times = inference_time(LeNN, input_shape=(100, 3, 32, 32), repetitions=10000, device=\"cuda\")\n",
    "print(\"Inference time GPU (ms):\")\n",
    "print(format(np.mean(inference_times), \".3e\"))\n",
    "print(format(np.std(inference_times), \".1e\"))"
   ]
  },
  {
   "cell_type": "code",
   "execution_count": 28,
   "metadata": {},
   "outputs": [
    {
     "name": "stdout",
     "output_type": "stream",
     "text": [
      "Inference time CPU (ms):\n",
      "3.055e+00\n",
      "8.8e-01\n"
     ]
    }
   ],
   "source": [
    "inference_times = inference_time(LeNN, input_shape=(100, 3, 32, 32), repetitions=10000, device=\"cpu\")\n",
    "print(\"Inference time CPU (ms):\")\n",
    "print(format(np.mean(inference_times), \".3e\"))\n",
    "print(format(np.std(inference_times), \".1e\"))"
   ]
  },
  {
   "cell_type": "markdown",
   "metadata": {},
   "source": [
    "## CIFAR10 LeASLNet"
   ]
  },
  {
   "cell_type": "code",
   "execution_count": 17,
   "metadata": {},
   "outputs": [
    {
     "name": "stdout",
     "output_type": "stream",
     "text": [
      "[{'acc': 70.484, 'lr': 0.026123046875, 'momentum': 0.928466796875, 'p_randomTransform': 0.00634765625}, {'acc': 69.916, 'lr': 0.09375, 'momentum': 0.65625, 'p_randomTransform': 0.3125}, {'acc': 67.734, 'lr': 0.08906396834655647, 'momentum': 0.5747879624008334, 'p_randomTransform': 0.6465142614354319}]\n"
     ]
    }
   ],
   "source": [
    "# mock train_function of Optimizer to load the optimizer\n",
    "ASL_train_function = None\n",
    "\n",
    "with open('models/LeNet_Cifar/LeASLNet_optimizer.pkl', 'rb') as file:\n",
    "    LeASLNet_optim = pickle.load(file)\n",
    "\n",
    "best_parameters = LeASLNet_optim.get_best_parameters(3)\n",
    "print(best_parameters)\n",
    "parameters = best_parameters[2]"
   ]
  },
  {
   "cell_type": "code",
   "execution_count": 18,
   "metadata": {},
   "outputs": [
    {
     "data": {
      "text/plain": [
       "==========================================================================================\n",
       "Layer (type:depth-idx)                   Output Shape              Param #\n",
       "==========================================================================================\n",
       "LeASLNet                                 [100, 10]                 --\n",
       "├─Sequential: 1-1                        --                        --\n",
       "│    └─Conv2d: 2-1                       [100, 6, 32, 32]          456\n",
       "│    └─BatchNorm2d: 2-2                  [100, 6, 32, 32]          12\n",
       "│    └─Tanh: 2-3                         [100, 6, 32, 32]          --\n",
       "│    └─AvgPool2d: 2-4                    [100, 6, 16, 16]          --\n",
       "│    └─CSC_block: 2-5                    [100, 16, 16, 16]         --\n",
       "│    │    └─Sequential: 3-1              --                        108\n",
       "│    │    └─Conv2d: 3-2                  [100, 16, 16, 16]         112\n",
       "│    └─Tanh: 2-6                         [100, 16, 16, 16]         --\n",
       "│    └─AvgPool2d: 2-7                    [100, 16, 8, 8]           --\n",
       "│    └─Flatten: 2-8                      [100, 1024]               --\n",
       "│    └─Linear: 2-9                       [100, 120]                123,000\n",
       "│    └─Tanh: 2-10                        [100, 120]                --\n",
       "│    └─Linear: 2-11                      [100, 84]                 10,164\n",
       "│    └─Tanh: 2-12                        [100, 84]                 --\n",
       "│    └─Linear: 2-13                      [100, 10]                 850\n",
       "==========================================================================================\n",
       "Total params: 134,702\n",
       "Trainable params: 134,702\n",
       "Non-trainable params: 0\n",
       "Total mult-adds (M): 65.12\n",
       "==========================================================================================\n",
       "Input size (MB): 1.23\n",
       "Forward/backward pass size (MB): 18.19\n",
       "Params size (MB): 0.54\n",
       "Estimated Total Size (MB): 19.96\n",
       "=========================================================================================="
      ]
     },
     "execution_count": 18,
     "metadata": {},
     "output_type": "execute_result"
    }
   ],
   "source": [
    "from Models import LeASLNet\n",
    "\n",
    "LeASLNN = LeASLNet(input_shape, num_labels, initial_lr=parameters[\"lr\"], momentum=parameters[\"momentum\"], weight_decay=0, device=device, expansion_rate=1)\n",
    "\n",
    "summary(LeASLNN, input_shape)"
   ]
  },
  {
   "cell_type": "code",
   "execution_count": 6,
   "metadata": {},
   "outputs": [],
   "source": [
    "PATH = \"models/LeNet_Cifar/LeASLNet.pth\"\n",
    "\n",
    "if exists(PATH):\n",
    "    LeASLNN = torch.load(PATH)\n",
    "    LeASLNN.eval()"
   ]
  },
  {
   "cell_type": "code",
   "execution_count": 19,
   "metadata": {},
   "outputs": [
    {
     "name": "stdout",
     "output_type": "stream",
     "text": [
      "[1,   100] train_loss: 1.981\n",
      "test_loss: 1.846, test_accuracy: 33.11\n",
      "[1,   200] train_loss: 1.752\n",
      "test_loss: 1.665, test_accuracy: 38.73\n",
      "[1,   300] train_loss: 1.645\n",
      "test_loss: 1.600, test_accuracy: 42.94\n",
      "[1,   400] train_loss: 1.596\n",
      "test_loss: 1.713, test_accuracy: 39.68\n",
      "[1,   500] train_loss: 1.526\n",
      "test_loss: 1.504, test_accuracy: 45.55\n",
      "[2,   100] train_loss: 1.490\n",
      "test_loss: 1.458, test_accuracy: 46.69\n",
      "[2,   200] train_loss: 1.454\n",
      "test_loss: 1.427, test_accuracy: 48.52\n",
      "[2,   300] train_loss: 1.418\n",
      "test_loss: 1.374, test_accuracy: 50.3\n",
      "[2,   400] train_loss: 1.431\n",
      "test_loss: 1.433, test_accuracy: 48.86\n",
      "[2,   500] train_loss: 1.399\n",
      "test_loss: 1.329, test_accuracy: 52.01\n",
      "[3,   100] train_loss: 1.372\n",
      "test_loss: 1.303, test_accuracy: 53.27\n",
      "[3,   200] train_loss: 1.372\n",
      "test_loss: 1.319, test_accuracy: 52.7\n",
      "[3,   300] train_loss: 1.334\n",
      "test_loss: 1.326, test_accuracy: 52.38\n",
      "[3,   400] train_loss: 1.317\n",
      "test_loss: 1.275, test_accuracy: 53.9\n",
      "[3,   500] train_loss: 1.338\n",
      "test_loss: 1.300, test_accuracy: 53.62\n",
      "[4,   100] train_loss: 1.315\n",
      "test_loss: 1.262, test_accuracy: 54.43\n",
      "[4,   200] train_loss: 1.306\n",
      "test_loss: 1.299, test_accuracy: 53.95\n",
      "[4,   300] train_loss: 1.286\n",
      "test_loss: 1.267, test_accuracy: 54.97\n",
      "[4,   400] train_loss: 1.303\n",
      "test_loss: 1.261, test_accuracy: 55.06\n",
      "[4,   500] train_loss: 1.256\n",
      "test_loss: 1.256, test_accuracy: 55.34\n",
      "[5,   100] train_loss: 1.240\n",
      "test_loss: 1.236, test_accuracy: 55.62\n",
      "[5,   200] train_loss: 1.234\n",
      "test_loss: 1.292, test_accuracy: 54.04\n",
      "[5,   300] train_loss: 1.244\n",
      "test_loss: 1.215, test_accuracy: 56.52\n",
      "[5,   400] train_loss: 1.245\n",
      "test_loss: 1.219, test_accuracy: 56.67\n",
      "[5,   500] train_loss: 1.241\n",
      "test_loss: 1.214, test_accuracy: 57.05\n",
      "Epoch 00025: reducing learning rate of group 0 to 4.4532e-02.\n",
      "[6,   100] train_loss: 1.166\n",
      "test_loss: 1.157, test_accuracy: 58.9\n",
      "[6,   200] train_loss: 1.168\n",
      "test_loss: 1.161, test_accuracy: 58.52\n",
      "[6,   300] train_loss: 1.147\n",
      "test_loss: 1.169, test_accuracy: 58.19\n",
      "[6,   400] train_loss: 1.142\n",
      "test_loss: 1.158, test_accuracy: 58.5\n",
      "[6,   500] train_loss: 1.157\n",
      "test_loss: 1.158, test_accuracy: 58.86\n",
      "[7,   100] train_loss: 1.122\n",
      "test_loss: 1.165, test_accuracy: 58.39\n",
      "[7,   200] train_loss: 1.129\n",
      "test_loss: 1.168, test_accuracy: 58.04\n",
      "[7,   300] train_loss: 1.145\n",
      "test_loss: 1.152, test_accuracy: 58.69\n",
      "[7,   400] train_loss: 1.121\n",
      "test_loss: 1.143, test_accuracy: 58.76\n",
      "[7,   500] train_loss: 1.104\n",
      "test_loss: 1.130, test_accuracy: 59.25\n",
      "[8,   100] train_loss: 1.097\n",
      "test_loss: 1.140, test_accuracy: 59.29\n",
      "[8,   200] train_loss: 1.115\n",
      "test_loss: 1.135, test_accuracy: 59.06\n",
      "[8,   300] train_loss: 1.078\n",
      "test_loss: 1.140, test_accuracy: 59.06\n",
      "[8,   400] train_loss: 1.098\n",
      "test_loss: 1.115, test_accuracy: 60.17\n",
      "[8,   500] train_loss: 1.094\n",
      "test_loss: 1.113, test_accuracy: 60.38\n",
      "[9,   100] train_loss: 1.070\n",
      "test_loss: 1.140, test_accuracy: 59.68\n",
      "[9,   200] train_loss: 1.082\n",
      "test_loss: 1.158, test_accuracy: 59.28\n",
      "[9,   300] train_loss: 1.082\n",
      "test_loss: 1.125, test_accuracy: 59.6\n",
      "[9,   400] train_loss: 1.081\n",
      "test_loss: 1.111, test_accuracy: 60.46\n",
      "Epoch 00044: reducing learning rate of group 0 to 2.2266e-02.\n",
      "[9,   500] train_loss: 1.015\n",
      "test_loss: 1.085, test_accuracy: 61.61\n",
      "[10,   100] train_loss: 1.008\n",
      "test_loss: 1.079, test_accuracy: 61.56\n",
      "[10,   200] train_loss: 1.021\n",
      "test_loss: 1.088, test_accuracy: 61.61\n",
      "[10,   300] train_loss: 0.994\n",
      "test_loss: 1.098, test_accuracy: 61.27\n",
      "[10,   400] train_loss: 1.028\n",
      "test_loss: 1.092, test_accuracy: 61.16\n",
      "[10,   500] train_loss: 1.032\n",
      "test_loss: 1.081, test_accuracy: 61.43\n",
      "[11,   100] train_loss: 0.996\n",
      "test_loss: 1.080, test_accuracy: 61.91\n",
      "Epoch 00051: reducing learning rate of group 0 to 1.1133e-02.\n",
      "[11,   200] train_loss: 0.992\n",
      "test_loss: 1.073, test_accuracy: 62.03\n",
      "[11,   300] train_loss: 0.995\n",
      "test_loss: 1.064, test_accuracy: 62.44\n",
      "[11,   400] train_loss: 0.992\n",
      "test_loss: 1.069, test_accuracy: 62.51\n",
      "[11,   500] train_loss: 0.994\n",
      "test_loss: 1.062, test_accuracy: 62.45\n",
      "[12,   100] train_loss: 0.958\n",
      "test_loss: 1.066, test_accuracy: 62.53\n",
      "[12,   200] train_loss: 0.967\n",
      "test_loss: 1.071, test_accuracy: 61.99\n",
      "[12,   300] train_loss: 0.993\n",
      "test_loss: 1.059, test_accuracy: 62.3\n",
      "[12,   400] train_loss: 0.965\n",
      "test_loss: 1.062, test_accuracy: 62.34\n",
      "Epoch 00059: reducing learning rate of group 0 to 5.5665e-03.\n",
      "[12,   500] train_loss: 0.960\n",
      "test_loss: 1.046, test_accuracy: 62.86\n",
      "[13,   100] train_loss: 0.957\n",
      "test_loss: 1.048, test_accuracy: 63.04\n",
      "[13,   200] train_loss: 0.932\n",
      "test_loss: 1.050, test_accuracy: 62.72\n",
      "[13,   300] train_loss: 0.930\n",
      "test_loss: 1.057, test_accuracy: 62.56\n",
      "[13,   400] train_loss: 0.941\n",
      "test_loss: 1.044, test_accuracy: 63.26\n",
      "[13,   500] train_loss: 0.962\n",
      "test_loss: 1.045, test_accuracy: 63.17\n",
      "[14,   100] train_loss: 0.961\n",
      "test_loss: 1.047, test_accuracy: 62.9\n",
      "Epoch 00066: reducing learning rate of group 0 to 2.7832e-03.\n",
      "[14,   200] train_loss: 0.957\n",
      "test_loss: 1.046, test_accuracy: 63.24\n",
      "[14,   300] train_loss: 0.924\n",
      "test_loss: 1.043, test_accuracy: 63.4\n",
      "[14,   400] train_loss: 0.925\n",
      "test_loss: 1.040, test_accuracy: 63.32\n",
      "[14,   500] train_loss: 0.934\n",
      "test_loss: 1.042, test_accuracy: 63.13\n",
      "[15,   100] train_loss: 0.933\n",
      "test_loss: 1.042, test_accuracy: 63.54\n",
      "Epoch 00071: reducing learning rate of group 0 to 1.3916e-03.\n",
      "[15,   200] train_loss: 0.938\n",
      "test_loss: 1.046, test_accuracy: 63.2\n",
      "[15,   300] train_loss: 0.930\n",
      "test_loss: 1.042, test_accuracy: 63.41\n",
      "[15,   400] train_loss: 0.932\n",
      "test_loss: 1.040, test_accuracy: 63.43\n",
      "Epoch 00074: reducing learning rate of group 0 to 6.9581e-04.\n",
      "[15,   500] train_loss: 0.941\n",
      "test_loss: 1.042, test_accuracy: 63.45\n",
      "[16,   100] train_loss: 0.915\n",
      "test_loss: 1.038, test_accuracy: 63.51\n",
      "[16,   200] train_loss: 0.936\n",
      "test_loss: 1.039, test_accuracy: 63.45\n",
      "[16,   300] train_loss: 0.927\n",
      "test_loss: 1.039, test_accuracy: 63.51\n",
      "[16,   400] train_loss: 0.933\n",
      "test_loss: 1.038, test_accuracy: 63.73\n",
      "Epoch 00079: reducing learning rate of group 0 to 3.4791e-04.\n",
      "[16,   500] train_loss: 0.952\n",
      "test_loss: 1.044, test_accuracy: 63.41\n",
      "[17,   100] train_loss: 0.925\n",
      "test_loss: 1.039, test_accuracy: 63.46\n",
      "[17,   200] train_loss: 0.937\n",
      "test_loss: 1.042, test_accuracy: 63.31\n",
      "Epoch 00082: reducing learning rate of group 0 to 1.7395e-04.\n",
      "[17,   300] train_loss: 0.932\n",
      "test_loss: 1.041, test_accuracy: 63.25\n",
      "[17,   400] train_loss: 0.930\n",
      "test_loss: 1.043, test_accuracy: 63.44\n",
      "[17,   500] train_loss: 0.959\n",
      "test_loss: 1.042, test_accuracy: 63.45\n",
      "Epoch 00085: reducing learning rate of group 0 to 8.6977e-05.\n",
      "[18,   100] train_loss: 0.922\n",
      "test_loss: 1.040, test_accuracy: 63.5\n",
      "[18,   200] train_loss: 0.928\n",
      "test_loss: 1.040, test_accuracy: 63.47\n",
      "[18,   300] train_loss: 0.934\n",
      "test_loss: 1.041, test_accuracy: 63.5\n",
      "Epoch 00088: reducing learning rate of group 0 to 4.3488e-05.\n",
      "[18,   400] train_loss: 0.947\n",
      "test_loss: 1.041, test_accuracy: 63.34\n",
      "[18,   500] train_loss: 0.937\n",
      "test_loss: 1.041, test_accuracy: 63.35\n",
      "[19,   100] train_loss: 0.938\n",
      "test_loss: 1.040, test_accuracy: 63.43\n",
      "Epoch 00091: reducing learning rate of group 0 to 2.1744e-05.\n",
      "[19,   200] train_loss: 0.930\n",
      "test_loss: 1.040, test_accuracy: 63.46\n",
      "[19,   300] train_loss: 0.937\n",
      "test_loss: 1.041, test_accuracy: 63.27\n",
      "[19,   400] train_loss: 0.925\n",
      "test_loss: 1.043, test_accuracy: 63.23\n",
      "Epoch 00094: reducing learning rate of group 0 to 1.0872e-05.\n",
      "[19,   500] train_loss: 0.948\n",
      "test_loss: 1.041, test_accuracy: 63.51\n",
      "[20,   100] train_loss: 0.928\n",
      "test_loss: 1.040, test_accuracy: 63.56\n",
      "[20,   200] train_loss: 0.930\n",
      "test_loss: 1.042, test_accuracy: 63.44\n",
      "Epoch 00097: reducing learning rate of group 0 to 5.4360e-06.\n",
      "[20,   300] train_loss: 0.917\n",
      "test_loss: 1.038, test_accuracy: 63.54\n",
      "[20,   400] train_loss: 0.947\n",
      "test_loss: 1.043, test_accuracy: 63.34\n",
      "[20,   500] train_loss: 0.945\n",
      "test_loss: 1.043, test_accuracy: 63.31\n",
      "Epoch 00100: reducing learning rate of group 0 to 2.7180e-06.\n"
     ]
    }
   ],
   "source": [
    "criterion = CrossEntropyLoss()\n",
    "epochs = 20\n",
    "\n",
    "train_NN(LeASLNN, criterion, train_dataloader, test_dataloader, epochs=epochs, batches_to_test=100,\n",
    "        patience=2,device=device, print_test=True, verbose=True, p_randomTransform=parameters[\"p_randomTransform\"])"
   ]
  },
  {
   "cell_type": "code",
   "execution_count": 20,
   "metadata": {},
   "outputs": [],
   "source": [
    "torch.save(LeASLNN, \"./models/LeNet_Cifar/LeASLNet.pth\")"
   ]
  },
  {
   "cell_type": "code",
   "execution_count": 21,
   "metadata": {},
   "outputs": [],
   "source": [
    "LeASLNN = torch.load(\"./models/LeNet_Cifar/LeASLNet.pth\")"
   ]
  },
  {
   "cell_type": "code",
   "execution_count": 22,
   "metadata": {},
   "outputs": [
    {
     "data": {
      "image/png": "[encoded data removed]",
      "text/plain": [
       "<Figure size 600x400 with 1 Axes>"
      ]
     },
     "metadata": {
      "needs_background": "light"
     },
     "output_type": "display_data"
    },
    {
     "data": {
      "image/png": "[encoded data removed]",
      "text/plain": [
       "<Figure size 600x400 with 1 Axes>"
      ]
     },
     "metadata": {
      "needs_background": "light"
     },
     "output_type": "display_data"
    }
   ],
   "source": [
    "plot_loss(LeASLNN, y_lim=(0.7, 2))\n",
    "plot_acc(LeASLNN, y_lim=(40, 67))"
   ]
  },
  {
   "cell_type": "code",
   "execution_count": 6,
   "metadata": {},
   "outputs": [
    {
     "name": "stdout",
     "output_type": "stream",
     "text": [
      "Training time (s):\n",
      "mean: 1.024\n",
      "std: 0.178\n"
     ]
    }
   ],
   "source": [
    "print(\"Training time (s):\")\n",
    "print(f\"mean: {round(np.mean(LeASLNN.train_time), 3)}\")\n",
    "print(f\"std: {round(np.std(LeASLNN.train_time), 3)}\")"
   ]
  },
  {
   "cell_type": "code",
   "execution_count": 30,
   "metadata": {},
   "outputs": [
    {
     "name": "stdout",
     "output_type": "stream",
     "text": [
      "Inference time GPU (ms):\n",
      "1.196e+00\n",
      "1.9e-01\n"
     ]
    }
   ],
   "source": [
    "inference_times = inference_time(LeASLNN, input_shape=(1, 3, 32, 32), repetitions=10000, device=\"cuda\")\n",
    "print(\"Inference time GPU (ms):\")\n",
    "print(format(np.mean(inference_times), \".3e\"))\n",
    "print(format(np.std(inference_times), \".1e\"))"
   ]
  },
  {
   "cell_type": "code",
   "execution_count": 31,
   "metadata": {},
   "outputs": [
    {
     "name": "stdout",
     "output_type": "stream",
     "text": [
      "Inference time CPU (ms):\n",
      "7.426e-01\n",
      "2.4e-01\n"
     ]
    }
   ],
   "source": [
    "inference_times = inference_time(LeASLNN, input_shape=(1, 3, 32, 32), repetitions=10000, device=\"cpu\")\n",
    "print(\"Inference time CPU (ms):\")\n",
    "print(format(np.mean(inference_times), \".3e\"))\n",
    "print(format(np.std(inference_times), \".1e\"))"
   ]
  },
  {
   "cell_type": "code",
   "execution_count": 32,
   "metadata": {},
   "outputs": [
    {
     "name": "stdout",
     "output_type": "stream",
     "text": [
      "Inference time GPU (ms):\n",
      "2.706e+00\n",
      "2.2e-01\n"
     ]
    }
   ],
   "source": [
    "inference_times = inference_time(LeASLNN, input_shape=(100, 3, 32, 32), repetitions=10000, device=\"cuda\")\n",
    "print(\"Inference time GPU (ms):\")\n",
    "print(format(np.mean(inference_times), \".3e\"))\n",
    "print(format(np.std(inference_times), \".1e\"))"
   ]
  },
  {
   "cell_type": "code",
   "execution_count": 40,
   "metadata": {},
   "outputs": [
    {
     "name": "stdout",
     "output_type": "stream",
     "text": [
      "Inference time CPU (ms):\n",
      "3.890e+00\n",
      "7.0e-01\n"
     ]
    }
   ],
   "source": [
    "inference_times = inference_time(LeASLNN, input_shape=(100, 3, 32, 32), repetitions=10000, device=\"cpu\")\n",
    "print(\"Inference time CPU (ms):\")\n",
    "print(format(np.mean(inference_times), \".3e\"))\n",
    "print(format(np.std(inference_times), \".1e\"))"
   ]
  },
  {
   "cell_type": "code",
   "execution_count": 20,
   "metadata": {},
   "outputs": [
    {
     "data": {
      "image/png": "[encoded data removed]",
      "text/plain": [
       "<Figure size 600x400 with 1 Axes>"
      ]
     },
     "metadata": {
      "needs_background": "light"
     },
     "output_type": "display_data"
    },
    {
     "data": {
      "image/png": "[encoded data removed]",
      "text/plain": [
       "<Figure size 600x400 with 1 Axes>"
      ]
     },
     "metadata": {
      "needs_background": "light"
     },
     "output_type": "display_data"
    }
   ],
   "source": [
    "plot_shifts(LeASLNN)"
   ]
  },
  {
   "cell_type": "markdown",
   "metadata": {},
   "source": [
    "## MNIST LeASLNet expansion-rate 3"
   ]
  },
  {
   "cell_type": "code",
   "execution_count": 4,
   "metadata": {},
   "outputs": [
    {
     "name": "stdout",
     "output_type": "stream",
     "text": [
      "[{'acc': 70.484, 'lr': 0.026123046875, 'momentum': 0.928466796875, 'p_randomTransform': 0.00634765625}, {'acc': 69.916, 'lr': 0.09375, 'momentum': 0.65625, 'p_randomTransform': 0.3125}, {'acc': 67.734, 'lr': 0.08906396834655647, 'momentum': 0.5747879624008334, 'p_randomTransform': 0.6465142614354319}]\n"
     ]
    }
   ],
   "source": [
    "# mock train_function of Optimizer to load the optimizer\n",
    "ASL_train_function = None\n",
    "\n",
    "with open('models/LeNet_Cifar/LeASLNet_optimizer.pkl', 'rb') as file:\n",
    "    LeASLNet_optim = pickle.load(file)\n",
    "\n",
    "best_parameters = LeASLNet_optim.get_best_parameters(3)\n",
    "print(best_parameters)\n",
    "parameters = best_parameters[2]"
   ]
  },
  {
   "cell_type": "code",
   "execution_count": 5,
   "metadata": {},
   "outputs": [
    {
     "data": {
      "text/plain": [
       "==========================================================================================\n",
       "Layer (type:depth-idx)                   Output Shape              Param #\n",
       "==========================================================================================\n",
       "LeASLNet                                 [100, 10]                 --\n",
       "├─Sequential: 1-1                        --                        --\n",
       "│    └─Conv2d: 2-1                       [100, 6, 32, 32]          456\n",
       "│    └─BatchNorm2d: 2-2                  [100, 6, 32, 32]          12\n",
       "│    └─Tanh: 2-3                         [100, 6, 32, 32]          --\n",
       "│    └─AvgPool2d: 2-4                    [100, 6, 16, 16]          --\n",
       "│    └─CSC_block: 2-5                    [100, 16, 16, 16]         --\n",
       "│    │    └─Sequential: 3-1              --                        312\n",
       "│    │    └─Conv2d: 3-2                  [100, 16, 16, 16]         112\n",
       "│    └─Tanh: 2-6                         [100, 16, 16, 16]         --\n",
       "│    └─AvgPool2d: 2-7                    [100, 16, 8, 8]           --\n",
       "│    └─Flatten: 2-8                      [100, 1024]               --\n",
       "│    └─Linear: 2-9                       [100, 120]                123,000\n",
       "│    └─Tanh: 2-10                        [100, 120]                --\n",
       "│    └─Linear: 2-11                      [100, 84]                 10,164\n",
       "│    └─Tanh: 2-12                        [100, 84]                 --\n",
       "│    └─Linear: 2-13                      [100, 10]                 850\n",
       "==========================================================================================\n",
       "Total params: 134,906\n",
       "Trainable params: 134,906\n",
       "Non-trainable params: 0\n",
       "Total mult-adds (M): 69.11\n",
       "==========================================================================================\n",
       "Input size (MB): 1.23\n",
       "Forward/backward pass size (MB): 25.57\n",
       "Params size (MB): 0.54\n",
       "Estimated Total Size (MB): 27.33\n",
       "=========================================================================================="
      ]
     },
     "execution_count": 5,
     "metadata": {},
     "output_type": "execute_result"
    }
   ],
   "source": [
    "from Models import LeASLNet\n",
    "\n",
    "LeASLNN_exp3 = LeASLNet(input_shape, num_labels, initial_lr=parameters[\"lr\"], momentum=parameters[\"momentum\"], weight_decay=0, device=device, expansion_rate=3)\n",
    "\n",
    "summary(LeASLNN_exp3, input_shape)"
   ]
  },
  {
   "cell_type": "code",
   "execution_count": 6,
   "metadata": {},
   "outputs": [],
   "source": [
    "PATH = \"models/LeNet_Cifar/LeASLNet_exp3.pth\"\n",
    "\n",
    "if exists(PATH):\n",
    "    LeASLNN_exp3 = torch.load(PATH)\n",
    "    LeASLNN_exp3.eval()"
   ]
  },
  {
   "cell_type": "code",
   "execution_count": 7,
   "metadata": {},
   "outputs": [
    {
     "name": "stdout",
     "output_type": "stream",
     "text": [
      "[1,   100] train_loss: 1.972\n",
      "test_loss: 1.772, test_accuracy: 36.75\n",
      "[1,   200] train_loss: 1.765\n",
      "test_loss: 1.692, test_accuracy: 38.82\n",
      "[1,   300] train_loss: 1.654\n",
      "test_loss: 1.572, test_accuracy: 43.16\n",
      "[1,   400] train_loss: 1.577\n",
      "test_loss: 1.542, test_accuracy: 44.14\n",
      "[1,   500] train_loss: 1.524\n",
      "test_loss: 1.525, test_accuracy: 45.48\n",
      "[2,   100] train_loss: 1.484\n",
      "test_loss: 1.415, test_accuracy: 49.43\n",
      "[2,   200] train_loss: 1.443\n",
      "test_loss: 1.494, test_accuracy: 47.36\n",
      "[2,   300] train_loss: 1.402\n",
      "test_loss: 1.339, test_accuracy: 51.53\n",
      "[2,   400] train_loss: 1.378\n",
      "test_loss: 1.388, test_accuracy: 49.89\n",
      "[2,   500] train_loss: 1.376\n",
      "test_loss: 1.312, test_accuracy: 52.35\n",
      "[3,   100] train_loss: 1.332\n",
      "test_loss: 1.317, test_accuracy: 51.84\n",
      "[3,   200] train_loss: 1.316\n",
      "test_loss: 1.383, test_accuracy: 50.86\n",
      "[3,   300] train_loss: 1.316\n",
      "test_loss: 1.260, test_accuracy: 54.55\n",
      "[3,   400] train_loss: 1.324\n",
      "test_loss: 1.247, test_accuracy: 55.39\n",
      "[3,   500] train_loss: 1.302\n",
      "test_loss: 1.252, test_accuracy: 54.66\n",
      "[4,   100] train_loss: 1.244\n",
      "test_loss: 1.226, test_accuracy: 56.21\n",
      "[4,   200] train_loss: 1.254\n",
      "test_loss: 1.251, test_accuracy: 54.93\n",
      "[4,   300] train_loss: 1.258\n",
      "test_loss: 1.247, test_accuracy: 55.37\n",
      "[4,   400] train_loss: 1.256\n",
      "test_loss: 1.265, test_accuracy: 54.35\n",
      "Epoch 00019: reducing learning rate of group 0 to 4.4532e-02.\n",
      "[4,   500] train_loss: 1.201\n",
      "test_loss: 1.187, test_accuracy: 57.73\n",
      "[5,   100] train_loss: 1.142\n",
      "test_loss: 1.162, test_accuracy: 58.55\n",
      "[5,   200] train_loss: 1.140\n",
      "test_loss: 1.142, test_accuracy: 58.83\n",
      "[5,   300] train_loss: 1.132\n",
      "test_loss: 1.147, test_accuracy: 59.6\n",
      "[5,   400] train_loss: 1.157\n",
      "test_loss: 1.166, test_accuracy: 59.04\n",
      "[5,   500] train_loss: 1.167\n",
      "test_loss: 1.129, test_accuracy: 60.05\n",
      "[6,   100] train_loss: 1.121\n",
      "test_loss: 1.150, test_accuracy: 59.18\n",
      "[6,   200] train_loss: 1.114\n",
      "test_loss: 1.129, test_accuracy: 60.4\n",
      "[6,   300] train_loss: 1.118\n",
      "test_loss: 1.118, test_accuracy: 60.07\n",
      "[6,   400] train_loss: 1.115\n",
      "test_loss: 1.132, test_accuracy: 59.8\n",
      "[6,   500] train_loss: 1.103\n",
      "test_loss: 1.115, test_accuracy: 60.32\n",
      "[7,   100] train_loss: 1.096\n",
      "test_loss: 1.127, test_accuracy: 59.83\n",
      "[7,   200] train_loss: 1.061\n",
      "test_loss: 1.110, test_accuracy: 61.1\n",
      "[7,   300] train_loss: 1.090\n",
      "test_loss: 1.102, test_accuracy: 61.08\n",
      "[7,   400] train_loss: 1.110\n",
      "test_loss: 1.121, test_accuracy: 60.37\n",
      "[7,   500] train_loss: 1.070\n",
      "test_loss: 1.141, test_accuracy: 59.72\n",
      "Epoch 00035: reducing learning rate of group 0 to 2.2266e-02.\n",
      "[8,   100] train_loss: 1.030\n",
      "test_loss: 1.100, test_accuracy: 61.32\n",
      "[8,   200] train_loss: 1.032\n",
      "test_loss: 1.090, test_accuracy: 61.54\n",
      "[8,   300] train_loss: 1.015\n",
      "test_loss: 1.065, test_accuracy: 62.5\n",
      "[8,   400] train_loss: 1.036\n",
      "test_loss: 1.081, test_accuracy: 61.98\n",
      "[8,   500] train_loss: 1.037\n",
      "test_loss: 1.082, test_accuracy: 61.75\n",
      "[9,   100] train_loss: 0.989\n",
      "test_loss: 1.085, test_accuracy: 62.19\n",
      "[9,   200] train_loss: 1.016\n",
      "test_loss: 1.098, test_accuracy: 61.49\n",
      "[9,   300] train_loss: 1.024\n",
      "test_loss: 1.082, test_accuracy: 61.84\n",
      "[9,   400] train_loss: 1.010\n",
      "test_loss: 1.080, test_accuracy: 62.06\n",
      "Epoch 00044: reducing learning rate of group 0 to 1.1133e-02.\n",
      "[9,   500] train_loss: 1.001\n",
      "test_loss: 1.062, test_accuracy: 62.8\n",
      "[10,   100] train_loss: 0.981\n",
      "test_loss: 1.069, test_accuracy: 62.32\n",
      "[10,   200] train_loss: 0.963\n",
      "test_loss: 1.058, test_accuracy: 62.96\n",
      "[10,   300] train_loss: 0.983\n",
      "test_loss: 1.059, test_accuracy: 62.64\n",
      "[10,   400] train_loss: 0.972\n",
      "test_loss: 1.051, test_accuracy: 63.22\n",
      "[10,   500] train_loss: 0.984\n",
      "test_loss: 1.052, test_accuracy: 63.28\n",
      "Epoch 00050: reducing learning rate of group 0 to 5.5665e-03.\n",
      "[11,   100] train_loss: 0.958\n",
      "test_loss: 1.058, test_accuracy: 63.1\n",
      "[11,   200] train_loss: 0.954\n",
      "test_loss: 1.052, test_accuracy: 63.02\n",
      "[11,   300] train_loss: 0.970\n",
      "test_loss: 1.051, test_accuracy: 63.24\n",
      "[11,   400] train_loss: 0.954\n",
      "test_loss: 1.050, test_accuracy: 63.27\n",
      "[11,   500] train_loss: 0.976\n",
      "test_loss: 1.054, test_accuracy: 63.3\n",
      "Epoch 00055: reducing learning rate of group 0 to 2.7832e-03.\n",
      "[12,   100] train_loss: 0.938\n",
      "test_loss: 1.048, test_accuracy: 63.07\n",
      "[12,   200] train_loss: 0.952\n",
      "test_loss: 1.046, test_accuracy: 63.33\n",
      "[12,   300] train_loss: 0.929\n",
      "test_loss: 1.049, test_accuracy: 63.49\n",
      "[12,   400] train_loss: 0.937\n",
      "test_loss: 1.045, test_accuracy: 63.49\n",
      "[12,   500] train_loss: 0.944\n",
      "test_loss: 1.049, test_accuracy: 63.47\n",
      "[13,   100] train_loss: 0.958\n",
      "test_loss: 1.047, test_accuracy: 63.4\n",
      "Epoch 00061: reducing learning rate of group 0 to 1.3916e-03.\n",
      "[13,   200] train_loss: 0.932\n",
      "test_loss: 1.044, test_accuracy: 63.46\n",
      "[13,   300] train_loss: 0.951\n",
      "test_loss: 1.049, test_accuracy: 63.34\n",
      "[13,   400] train_loss: 0.959\n",
      "test_loss: 1.048, test_accuracy: 63.25\n",
      "Epoch 00064: reducing learning rate of group 0 to 6.9581e-04.\n",
      "[13,   500] train_loss: 0.944\n",
      "test_loss: 1.043, test_accuracy: 63.42\n",
      "[14,   100] train_loss: 0.947\n",
      "test_loss: 1.043, test_accuracy: 63.6\n",
      "[14,   200] train_loss: 0.947\n",
      "test_loss: 1.045, test_accuracy: 63.44\n",
      "Epoch 00067: reducing learning rate of group 0 to 3.4791e-04.\n",
      "[14,   300] train_loss: 0.925\n",
      "test_loss: 1.044, test_accuracy: 63.41\n",
      "[14,   400] train_loss: 0.952\n",
      "test_loss: 1.045, test_accuracy: 63.51\n",
      "[14,   500] train_loss: 0.938\n",
      "test_loss: 1.048, test_accuracy: 63.47\n",
      "[15,   100] train_loss: 0.934\n",
      "test_loss: 1.047, test_accuracy: 63.43\n",
      "Epoch 00071: reducing learning rate of group 0 to 1.7395e-04.\n",
      "[15,   200] train_loss: 0.936\n",
      "test_loss: 1.043, test_accuracy: 63.5\n",
      "[15,   300] train_loss: 0.963\n",
      "test_loss: 1.049, test_accuracy: 63.48\n",
      "[15,   400] train_loss: 0.932\n",
      "test_loss: 1.043, test_accuracy: 63.55\n",
      "Epoch 00074: reducing learning rate of group 0 to 8.6977e-05.\n",
      "[15,   500] train_loss: 0.938\n",
      "test_loss: 1.045, test_accuracy: 63.44\n",
      "[16,   100] train_loss: 0.941\n",
      "test_loss: 1.046, test_accuracy: 63.47\n",
      "[16,   200] train_loss: 0.925\n",
      "test_loss: 1.044, test_accuracy: 63.55\n",
      "Epoch 00077: reducing learning rate of group 0 to 4.3488e-05.\n",
      "[16,   300] train_loss: 0.933\n",
      "test_loss: 1.044, test_accuracy: 63.34\n",
      "[16,   400] train_loss: 0.950\n",
      "test_loss: 1.045, test_accuracy: 63.44\n",
      "[16,   500] train_loss: 0.933\n",
      "test_loss: 1.046, test_accuracy: 63.47\n",
      "Epoch 00080: reducing learning rate of group 0 to 2.1744e-05.\n",
      "[17,   100] train_loss: 0.935\n",
      "test_loss: 1.045, test_accuracy: 63.38\n",
      "[17,   200] train_loss: 0.941\n",
      "test_loss: 1.044, test_accuracy: 63.4\n",
      "[17,   300] train_loss: 0.928\n",
      "test_loss: 1.047, test_accuracy: 63.25\n",
      "Epoch 00083: reducing learning rate of group 0 to 1.0872e-05.\n",
      "[17,   400] train_loss: 0.940\n",
      "test_loss: 1.045, test_accuracy: 63.53\n",
      "[17,   500] train_loss: 0.938\n",
      "test_loss: 1.042, test_accuracy: 63.63\n",
      "[18,   100] train_loss: 0.938\n",
      "test_loss: 1.044, test_accuracy: 63.62\n",
      "Epoch 00086: reducing learning rate of group 0 to 5.4360e-06.\n",
      "[18,   200] train_loss: 0.934\n",
      "test_loss: 1.046, test_accuracy: 63.22\n",
      "[18,   300] train_loss: 0.924\n",
      "test_loss: 1.045, test_accuracy: 63.36\n",
      "[18,   400] train_loss: 0.952\n",
      "test_loss: 1.046, test_accuracy: 63.49\n",
      "[18,   500] train_loss: 0.940\n",
      "test_loss: 1.047, test_accuracy: 63.56\n",
      "[19,   100] train_loss: 0.936\n",
      "test_loss: 1.051, test_accuracy: 63.38\n",
      "Epoch 00091: reducing learning rate of group 0 to 2.7180e-06.\n",
      "[19,   200] train_loss: 0.949\n",
      "test_loss: 1.051, test_accuracy: 63.46\n",
      "[19,   300] train_loss: 0.920\n",
      "test_loss: 1.042, test_accuracy: 63.5\n",
      "[19,   400] train_loss: 0.917\n",
      "test_loss: 1.044, test_accuracy: 63.46\n",
      "[19,   500] train_loss: 0.926\n",
      "test_loss: 1.043, test_accuracy: 63.48\n",
      "[20,   100] train_loss: 0.926\n",
      "test_loss: 1.044, test_accuracy: 63.57\n",
      "[20,   200] train_loss: 0.927\n",
      "test_loss: 1.048, test_accuracy: 63.32\n",
      "Epoch 00097: reducing learning rate of group 0 to 1.3590e-06.\n",
      "[20,   300] train_loss: 0.954\n",
      "test_loss: 1.043, test_accuracy: 63.57\n",
      "[20,   400] train_loss: 0.920\n",
      "test_loss: 1.046, test_accuracy: 63.48\n",
      "[20,   500] train_loss: 0.951\n",
      "test_loss: 1.044, test_accuracy: 63.64\n",
      "Epoch 00100: reducing learning rate of group 0 to 6.7950e-07.\n"
     ]
    }
   ],
   "source": [
    "criterion = CrossEntropyLoss()\n",
    "epochs = 20\n",
    "\n",
    "train_NN(LeASLNN_exp3, criterion, train_dataloader, test_dataloader, epochs=epochs, batches_to_test=100,\n",
    "        patience=2,device=device, print_test=True, verbose=True, p_randomTransform=parameters[\"p_randomTransform\"])"
   ]
  },
  {
   "cell_type": "code",
   "execution_count": 8,
   "metadata": {},
   "outputs": [],
   "source": [
    "torch.save(LeASLNN_exp3, \"./models/LeNet_Cifar/LeASLNet_exp3.pth\")"
   ]
  },
  {
   "cell_type": "code",
   "execution_count": 23,
   "metadata": {},
   "outputs": [],
   "source": [
    "LeASLNN_exp3 = torch.load(\"./models/LeNet_Cifar/LeASLNet_exp3.pth\")"
   ]
  },
  {
   "cell_type": "code",
   "execution_count": 43,
   "metadata": {},
   "outputs": [
    {
     "data": {
      "image/png": "[encoded data removed]",
      "text/plain": [
       "<Figure size 600x400 with 1 Axes>"
      ]
     },
     "metadata": {
      "needs_background": "light"
     },
     "output_type": "display_data"
    },
    {
     "data": {
      "image/png": "[encoded data removed]",
      "text/plain": [
       "<Figure size 600x400 with 1 Axes>"
      ]
     },
     "metadata": {
      "needs_background": "light"
     },
     "output_type": "display_data"
    }
   ],
   "source": [
    "ASL_plot_loss(LeASLNN, LeASLNN_exp3, y_lim=(0.7, 2))\n",
    "ASL_plot_acc(LeASLNN, LeASLNN_exp3, y_lim=(40, 67))"
   ]
  },
  {
   "cell_type": "code",
   "execution_count": 11,
   "metadata": {},
   "outputs": [
    {
     "name": "stdout",
     "output_type": "stream",
     "text": [
      "Training time (s):\n",
      "mean: 1.178\n",
      "std: 0.195\n"
     ]
    }
   ],
   "source": [
    "print(\"Training time (s):\")\n",
    "print(f\"mean: {round(np.mean(LeASLNN_exp3.train_time), 3)}\")\n",
    "print(f\"std: {round(np.std(LeASLNN_exp3.train_time), 3)}\")"
   ]
  },
  {
   "cell_type": "code",
   "execution_count": 27,
   "metadata": {},
   "outputs": [
    {
     "name": "stdout",
     "output_type": "stream",
     "text": [
      "Inference time GPU (ms):\n",
      "1.260e+00\n",
      "2.1e-01\n"
     ]
    }
   ],
   "source": [
    "inference_times = inference_time(LeASLNN_exp3, input_shape=(1, 3, 32, 32), repetitions=10000, device=\"cuda\")\n",
    "print(\"Inference time GPU (ms):\")\n",
    "print(format(np.mean(inference_times), \".3e\"))\n",
    "print(format(np.std(inference_times), \".1e\"))"
   ]
  },
  {
   "cell_type": "code",
   "execution_count": 28,
   "metadata": {},
   "outputs": [
    {
     "name": "stdout",
     "output_type": "stream",
     "text": [
      "Inference time CPU (ms):\n",
      "7.382e-01\n",
      "3.0e-01\n"
     ]
    }
   ],
   "source": [
    "inference_times = inference_time(LeASLNN_exp3, input_shape=(1, 3, 32, 32), repetitions=10000, device=\"cpu\")\n",
    "print(\"Inference time CPU (ms):\")\n",
    "print(format(np.mean(inference_times), \".3e\"))\n",
    "print(format(np.std(inference_times), \".1e\"))"
   ]
  },
  {
   "cell_type": "code",
   "execution_count": 29,
   "metadata": {},
   "outputs": [
    {
     "name": "stdout",
     "output_type": "stream",
     "text": [
      "Inference time GPU (ms):\n",
      "3.051e+00\n",
      "1.3e-01\n"
     ]
    }
   ],
   "source": [
    "inference_times = inference_time(LeASLNN_exp3, input_shape=(100, 3, 32, 32), repetitions=10000, device=\"cuda\")\n",
    "print(\"Inference time GPU (ms):\")\n",
    "print(format(np.mean(inference_times), \".3e\"))\n",
    "print(format(np.std(inference_times), \".1e\"))"
   ]
  },
  {
   "cell_type": "code",
   "execution_count": 30,
   "metadata": {},
   "outputs": [
    {
     "name": "stdout",
     "output_type": "stream",
     "text": [
      "Inference time CPU (ms):\n",
      "6.638e+00\n",
      "1.3e+00\n"
     ]
    }
   ],
   "source": [
    "inference_times = inference_time(LeASLNN_exp3, input_shape=(100, 3, 32, 32), repetitions=10000, device=\"cpu\")\n",
    "print(\"Inference time CPU (ms):\")\n",
    "print(format(np.mean(inference_times), \".3e\"))\n",
    "print(format(np.std(inference_times), \".1e\"))"
   ]
  },
  {
   "cell_type": "markdown",
   "metadata": {},
   "source": [
    "## CIFAR10 LeDepthNet"
   ]
  },
  {
   "cell_type": "code",
   "execution_count": 36,
   "metadata": {},
   "outputs": [
    {
     "name": "stdout",
     "output_type": "stream",
     "text": [
      "[{'acc': 76.096, 'lr': 0.03690704896414862, 'momentum': 0.7947779805241895, 'p_randomTransform': 0.00388878111128646}, {'acc': 69.042, 'lr': 0.09375, 'momentum': 0.65625, 'p_randomTransform': 0.3125}, {'acc': 68.756, 'lr': 0.08206054687499999, 'momentum': 0.6094042968750002, 'p_randomTransform': 0.70697265625}]\n"
     ]
    }
   ],
   "source": [
    "# mock train_function of Optimizer to load the optimizer\n",
    "train_function = None\n",
    "\n",
    "with open('models/LeNet_Cifar/LeDepthNet_optimizer.pkl', 'rb') as file:\n",
    "    LeDepthNet_optim = pickle.load(file)\n",
    "\n",
    "best_parameters = LeDepthNet_optim.get_best_parameters(3)\n",
    "print(best_parameters)\n",
    "parameters = best_parameters[2]"
   ]
  },
  {
   "cell_type": "code",
   "execution_count": 37,
   "metadata": {},
   "outputs": [
    {
     "data": {
      "text/plain": [
       "==========================================================================================\n",
       "Layer (type:depth-idx)                   Output Shape              Param #\n",
       "==========================================================================================\n",
       "LeDepthNet                               [100, 10]                 --\n",
       "├─Sequential: 1-1                        --                        --\n",
       "│    └─Conv2d: 2-1                       [100, 6, 32, 32]          456\n",
       "│    └─BatchNorm2d: 2-2                  [100, 6, 32, 32]          12\n",
       "│    └─Tanh: 2-3                         [100, 6, 32, 32]          --\n",
       "│    └─AvgPool2d: 2-4                    [100, 6, 16, 16]          --\n",
       "│    └─Depth_wise_block: 2-5             [100, 16, 16, 16]         --\n",
       "│    │    └─Sequential: 3-1              --                        226\n",
       "│    └─Tanh: 2-6                         [100, 16, 16, 16]         --\n",
       "│    └─AvgPool2d: 2-7                    [100, 16, 8, 8]           --\n",
       "│    └─Flatten: 2-8                      [100, 1024]               --\n",
       "│    └─Linear: 2-9                       [100, 120]                123,000\n",
       "│    └─Tanh: 2-10                        [100, 120]                --\n",
       "│    └─Linear: 2-11                      [100, 84]                 10,164\n",
       "│    └─Tanh: 2-12                        [100, 84]                 --\n",
       "│    └─Linear: 2-13                      [100, 10]                 850\n",
       "==========================================================================================\n",
       "Total params: 134,708\n",
       "Trainable params: 134,708\n",
       "Non-trainable params: 0\n",
       "Total mult-adds (M): 65.58\n",
       "==========================================================================================\n",
       "Input size (MB): 1.23\n",
       "Forward/backward pass size (MB): 16.96\n",
       "Params size (MB): 0.54\n",
       "Estimated Total Size (MB): 18.73\n",
       "=========================================================================================="
      ]
     },
     "execution_count": 37,
     "metadata": {},
     "output_type": "execute_result"
    }
   ],
   "source": [
    "from Models import LeDepthNet\n",
    "\n",
    "LeDepthNN = LeDepthNet(input_shape, num_labels, initial_lr=parameters[\"lr\"], momentum=parameters[\"momentum\"], weight_decay=0)\n",
    "\n",
    "summary(LeDepthNN, input_shape)"
   ]
  },
  {
   "cell_type": "code",
   "execution_count": 35,
   "metadata": {},
   "outputs": [],
   "source": [
    "PATH = \"models/LeNet_Cifar/LeDepthNet.pth\"\n",
    "\n",
    "if exists(PATH):\n",
    "    LeDepthNN = torch.load(PATH)\n",
    "    LeDepthNN.eval()"
   ]
  },
  {
   "cell_type": "code",
   "execution_count": 38,
   "metadata": {},
   "outputs": [
    {
     "name": "stdout",
     "output_type": "stream",
     "text": [
      "[1,   100] train_loss: 2.024\n",
      "test_loss: 1.814, test_accuracy: 35.7\n",
      "[1,   200] train_loss: 1.755\n",
      "test_loss: 1.635, test_accuracy: 41.06\n",
      "[1,   300] train_loss: 1.626\n",
      "test_loss: 1.580, test_accuracy: 42.77\n",
      "[1,   400] train_loss: 1.552\n",
      "test_loss: 1.490, test_accuracy: 46.02\n",
      "[1,   500] train_loss: 1.496\n",
      "test_loss: 1.455, test_accuracy: 48.34\n",
      "[2,   100] train_loss: 1.465\n",
      "test_loss: 1.399, test_accuracy: 49.33\n",
      "[2,   200] train_loss: 1.426\n",
      "test_loss: 1.407, test_accuracy: 49.56\n",
      "[2,   300] train_loss: 1.406\n",
      "test_loss: 1.341, test_accuracy: 51.78\n",
      "[2,   400] train_loss: 1.413\n",
      "test_loss: 1.327, test_accuracy: 52.34\n",
      "[2,   500] train_loss: 1.359\n",
      "test_loss: 1.359, test_accuracy: 51.34\n",
      "[3,   100] train_loss: 1.353\n",
      "test_loss: 1.298, test_accuracy: 53.47\n",
      "[3,   200] train_loss: 1.342\n",
      "test_loss: 1.313, test_accuracy: 52.7\n",
      "[3,   300] train_loss: 1.317\n",
      "test_loss: 1.315, test_accuracy: 53.07\n",
      "[3,   400] train_loss: 1.320\n",
      "test_loss: 1.283, test_accuracy: 54.14\n",
      "[3,   500] train_loss: 1.314\n",
      "test_loss: 1.323, test_accuracy: 53.29\n",
      "[4,   100] train_loss: 1.286\n",
      "test_loss: 1.253, test_accuracy: 55.69\n",
      "[4,   200] train_loss: 1.273\n",
      "test_loss: 1.351, test_accuracy: 51.79\n",
      "[4,   300] train_loss: 1.261\n",
      "test_loss: 1.287, test_accuracy: 54.16\n",
      "[4,   400] train_loss: 1.258\n",
      "test_loss: 1.227, test_accuracy: 56.2\n",
      "[4,   500] train_loss: 1.250\n",
      "test_loss: 1.206, test_accuracy: 57.66\n",
      "[5,   100] train_loss: 1.225\n",
      "test_loss: 1.242, test_accuracy: 55.95\n",
      "[5,   200] train_loss: 1.231\n",
      "test_loss: 1.281, test_accuracy: 54.81\n",
      "[5,   300] train_loss: 1.203\n",
      "test_loss: 1.204, test_accuracy: 57.03\n",
      "[5,   400] train_loss: 1.212\n",
      "test_loss: 1.224, test_accuracy: 57.11\n",
      "[5,   500] train_loss: 1.205\n",
      "test_loss: 1.170, test_accuracy: 58.37\n",
      "[6,   100] train_loss: 1.157\n",
      "test_loss: 1.190, test_accuracy: 57.81\n",
      "[6,   200] train_loss: 1.183\n",
      "test_loss: 1.214, test_accuracy: 57.4\n",
      "[6,   300] train_loss: 1.182\n",
      "test_loss: 1.248, test_accuracy: 55.98\n",
      "[6,   400] train_loss: 1.171\n",
      "test_loss: 1.188, test_accuracy: 57.7\n",
      "Epoch 00029: reducing learning rate of group 0 to 4.1030e-02.\n",
      "[6,   500] train_loss: 1.134\n",
      "test_loss: 1.151, test_accuracy: 59.18\n",
      "[7,   100] train_loss: 1.094\n",
      "test_loss: 1.125, test_accuracy: 60.65\n",
      "[7,   200] train_loss: 1.092\n",
      "test_loss: 1.135, test_accuracy: 59.98\n",
      "[7,   300] train_loss: 1.087\n",
      "test_loss: 1.131, test_accuracy: 60.34\n",
      "[7,   400] train_loss: 1.094\n",
      "test_loss: 1.121, test_accuracy: 60.22\n",
      "[7,   500] train_loss: 1.075\n",
      "test_loss: 1.109, test_accuracy: 60.97\n",
      "[8,   100] train_loss: 1.052\n",
      "test_loss: 1.120, test_accuracy: 61.01\n",
      "[8,   200] train_loss: 1.066\n",
      "test_loss: 1.108, test_accuracy: 61.11\n",
      "[8,   300] train_loss: 1.071\n",
      "test_loss: 1.109, test_accuracy: 60.88\n",
      "[8,   400] train_loss: 1.071\n",
      "test_loss: 1.107, test_accuracy: 61.44\n",
      "Epoch 00039: reducing learning rate of group 0 to 2.0515e-02.\n",
      "[8,   500] train_loss: 1.049\n",
      "test_loss: 1.097, test_accuracy: 61.63\n",
      "[9,   100] train_loss: 1.006\n",
      "test_loss: 1.080, test_accuracy: 62.0\n",
      "[9,   200] train_loss: 1.012\n",
      "test_loss: 1.076, test_accuracy: 62.32\n",
      "[9,   300] train_loss: 1.012\n",
      "test_loss: 1.069, test_accuracy: 62.75\n",
      "[9,   400] train_loss: 0.997\n",
      "test_loss: 1.076, test_accuracy: 62.39\n",
      "[9,   500] train_loss: 1.029\n",
      "test_loss: 1.093, test_accuracy: 61.98\n",
      "[10,   100] train_loss: 0.985\n",
      "test_loss: 1.074, test_accuracy: 62.41\n",
      "[10,   200] train_loss: 0.990\n",
      "test_loss: 1.074, test_accuracy: 62.12\n",
      "[10,   300] train_loss: 1.006\n",
      "test_loss: 1.090, test_accuracy: 61.71\n",
      "[10,   400] train_loss: 1.015\n",
      "test_loss: 1.080, test_accuracy: 62.11\n",
      "Epoch 00049: reducing learning rate of group 0 to 1.0258e-02.\n",
      "[10,   500] train_loss: 0.998\n",
      "test_loss: 1.060, test_accuracy: 63.1\n",
      "[11,   100] train_loss: 0.967\n",
      "test_loss: 1.056, test_accuracy: 63.12\n",
      "[11,   200] train_loss: 0.978\n",
      "test_loss: 1.065, test_accuracy: 62.72\n",
      "[11,   300] train_loss: 0.953\n",
      "test_loss: 1.051, test_accuracy: 63.58\n",
      "[11,   400] train_loss: 0.979\n",
      "test_loss: 1.068, test_accuracy: 62.83\n",
      "[11,   500] train_loss: 0.958\n",
      "test_loss: 1.059, test_accuracy: 63.1\n",
      "[12,   100] train_loss: 0.950\n",
      "test_loss: 1.056, test_accuracy: 63.55\n",
      "[12,   200] train_loss: 0.965\n",
      "test_loss: 1.056, test_accuracy: 63.41\n",
      "[12,   300] train_loss: 0.963\n",
      "test_loss: 1.064, test_accuracy: 63.23\n",
      "[12,   400] train_loss: 0.961\n",
      "test_loss: 1.056, test_accuracy: 63.32\n",
      "Epoch 00059: reducing learning rate of group 0 to 5.1288e-03.\n",
      "[12,   500] train_loss: 0.961\n",
      "test_loss: 1.051, test_accuracy: 63.78\n",
      "[13,   100] train_loss: 0.918\n",
      "test_loss: 1.046, test_accuracy: 63.7\n",
      "[13,   200] train_loss: 0.940\n",
      "test_loss: 1.044, test_accuracy: 63.83\n",
      "[13,   300] train_loss: 0.949\n",
      "test_loss: 1.048, test_accuracy: 63.38\n",
      "[13,   400] train_loss: 0.936\n",
      "test_loss: 1.043, test_accuracy: 63.95\n",
      "Epoch 00064: reducing learning rate of group 0 to 2.5644e-03.\n",
      "[13,   500] train_loss: 0.934\n",
      "test_loss: 1.040, test_accuracy: 63.96\n",
      "[14,   100] train_loss: 0.937\n",
      "test_loss: 1.041, test_accuracy: 64.09\n",
      "[14,   200] train_loss: 0.915\n",
      "test_loss: 1.047, test_accuracy: 63.81\n",
      "[14,   300] train_loss: 0.943\n",
      "test_loss: 1.043, test_accuracy: 63.93\n",
      "[14,   400] train_loss: 0.923\n",
      "test_loss: 1.044, test_accuracy: 64.07\n",
      "[14,   500] train_loss: 0.932\n",
      "test_loss: 1.041, test_accuracy: 64.06\n",
      "Epoch 00070: reducing learning rate of group 0 to 1.2822e-03.\n",
      "[15,   100] train_loss: 0.904\n",
      "test_loss: 1.042, test_accuracy: 64.14\n",
      "[15,   200] train_loss: 0.938\n",
      "test_loss: 1.042, test_accuracy: 64.02\n",
      "[15,   300] train_loss: 0.921\n",
      "test_loss: 1.044, test_accuracy: 64.11\n",
      "[15,   400] train_loss: 0.937\n",
      "test_loss: 1.042, test_accuracy: 64.23\n",
      "Epoch 00074: reducing learning rate of group 0 to 6.4110e-04.\n",
      "[15,   500] train_loss: 0.936\n",
      "test_loss: 1.041, test_accuracy: 64.1\n",
      "[16,   100] train_loss: 0.944\n",
      "test_loss: 1.042, test_accuracy: 64.04\n",
      "[16,   200] train_loss: 0.925\n",
      "test_loss: 1.037, test_accuracy: 64.23\n",
      "Epoch 00077: reducing learning rate of group 0 to 3.2055e-04.\n",
      "[16,   300] train_loss: 0.925\n",
      "test_loss: 1.041, test_accuracy: 64.12\n",
      "[16,   400] train_loss: 0.929\n",
      "test_loss: 1.042, test_accuracy: 64.04\n",
      "[16,   500] train_loss: 0.918\n",
      "test_loss: 1.043, test_accuracy: 64.03\n",
      "Epoch 00080: reducing learning rate of group 0 to 1.6027e-04.\n",
      "[17,   100] train_loss: 0.923\n",
      "test_loss: 1.039, test_accuracy: 64.14\n",
      "[17,   200] train_loss: 0.938\n",
      "test_loss: 1.038, test_accuracy: 64.37\n",
      "[17,   300] train_loss: 0.917\n",
      "test_loss: 1.039, test_accuracy: 64.22\n",
      "Epoch 00083: reducing learning rate of group 0 to 8.0137e-05.\n",
      "[17,   400] train_loss: 0.937\n",
      "test_loss: 1.039, test_accuracy: 64.3\n",
      "[17,   500] train_loss: 0.919\n",
      "test_loss: 1.042, test_accuracy: 64.17\n",
      "[18,   100] train_loss: 0.909\n",
      "test_loss: 1.037, test_accuracy: 64.23\n",
      "Epoch 00086: reducing learning rate of group 0 to 4.0069e-05.\n",
      "[18,   200] train_loss: 0.927\n",
      "test_loss: 1.043, test_accuracy: 64.05\n",
      "[18,   300] train_loss: 0.918\n",
      "test_loss: 1.041, test_accuracy: 64.18\n",
      "[18,   400] train_loss: 0.935\n",
      "test_loss: 1.039, test_accuracy: 64.31\n",
      "Epoch 00089: reducing learning rate of group 0 to 2.0034e-05.\n",
      "[18,   500] train_loss: 0.915\n",
      "test_loss: 1.039, test_accuracy: 64.23\n",
      "[19,   100] train_loss: 0.912\n",
      "test_loss: 1.041, test_accuracy: 64.06\n",
      "[19,   200] train_loss: 0.927\n",
      "test_loss: 1.040, test_accuracy: 64.07\n",
      "Epoch 00092: reducing learning rate of group 0 to 1.0017e-05.\n",
      "[19,   300] train_loss: 0.920\n",
      "test_loss: 1.043, test_accuracy: 63.96\n",
      "[19,   400] train_loss: 0.932\n",
      "test_loss: 1.042, test_accuracy: 64.14\n",
      "[19,   500] train_loss: 0.936\n",
      "test_loss: 1.038, test_accuracy: 64.12\n",
      "Epoch 00095: reducing learning rate of group 0 to 5.0086e-06.\n",
      "[20,   100] train_loss: 0.910\n",
      "test_loss: 1.040, test_accuracy: 64.11\n",
      "[20,   200] train_loss: 0.913\n",
      "test_loss: 1.037, test_accuracy: 64.22\n",
      "[20,   300] train_loss: 0.922\n",
      "test_loss: 1.040, test_accuracy: 64.14\n",
      "Epoch 00098: reducing learning rate of group 0 to 2.5043e-06.\n",
      "[20,   400] train_loss: 0.923\n",
      "test_loss: 1.039, test_accuracy: 64.22\n",
      "[20,   500] train_loss: 0.914\n",
      "test_loss: 1.042, test_accuracy: 63.97\n"
     ]
    }
   ],
   "source": [
    "criterion = CrossEntropyLoss()\n",
    "epochs = 20\n",
    "\n",
    "train_NN(LeDepthNN, criterion, train_dataloader, test_dataloader, epochs=epochs, batches_to_test=100,\n",
    "        patience=2,device=device, print_test=True, verbose=True, p_randomTransform=parameters[\"p_randomTransform\"])"
   ]
  },
  {
   "cell_type": "code",
   "execution_count": 39,
   "metadata": {},
   "outputs": [],
   "source": [
    "torch.save(LeDepthNN, \"./models/LeNet_Cifar/LeDepthNet.pth\")"
   ]
  },
  {
   "cell_type": "code",
   "execution_count": 40,
   "metadata": {},
   "outputs": [],
   "source": [
    "LeDepthNN = torch.load(\"./models/LeNet_Cifar/LeDepthNet.pth\")"
   ]
  },
  {
   "cell_type": "code",
   "execution_count": 41,
   "metadata": {},
   "outputs": [
    {
     "data": {
      "image/png": "[encoded data removed]",
      "text/plain": [
       "<Figure size 600x400 with 1 Axes>"
      ]
     },
     "metadata": {
      "needs_background": "light"
     },
     "output_type": "display_data"
    },
    {
     "data": {
      "image/png": "[encoded data removed]",
      "text/plain": [
       "<Figure size 600x400 with 1 Axes>"
      ]
     },
     "metadata": {
      "needs_background": "light"
     },
     "output_type": "display_data"
    }
   ],
   "source": [
    "plot_loss(LeDepthNN, y_lim=(0.7, 2))\n",
    "plot_acc(LeDepthNN, y_lim=(40, 67))"
   ]
  },
  {
   "cell_type": "code",
   "execution_count": 35,
   "metadata": {},
   "outputs": [
    {
     "name": "stdout",
     "output_type": "stream",
     "text": [
      "Training time (s):\n",
      "mean: 0.82\n",
      "std: 0.145\n"
     ]
    }
   ],
   "source": [
    "print(\"Training time (s):\")\n",
    "print(f\"mean: {round(np.mean(LeDepthNN.train_time), 3)}\")\n",
    "print(f\"std: {round(np.std(LeDepthNN.train_time), 3)}\")"
   ]
  },
  {
   "cell_type": "code",
   "execution_count": 36,
   "metadata": {},
   "outputs": [
    {
     "name": "stdout",
     "output_type": "stream",
     "text": [
      "Inference time GPU (ms):\n",
      "4.245e-01\n",
      "4.6e-02\n"
     ]
    }
   ],
   "source": [
    "inference_times = inference_time(LeDepthNN, input_shape=(1, 3, 32, 32), repetitions=10000, device=\"cuda\")\n",
    "print(\"Inference time GPU (ms):\")\n",
    "print(format(np.mean(inference_times), \".3e\"))\n",
    "print(format(np.std(inference_times), \".1e\"))"
   ]
  },
  {
   "cell_type": "code",
   "execution_count": 37,
   "metadata": {},
   "outputs": [
    {
     "name": "stdout",
     "output_type": "stream",
     "text": [
      "Inference time CPU (ms):\n",
      "4.454e-01\n",
      "2.2e-01\n"
     ]
    }
   ],
   "source": [
    "inference_times = inference_time(LeDepthNN, input_shape=(1, 3, 32, 32), repetitions=10000, device=\"cpu\")\n",
    "print(\"Inference time CPU (ms):\")\n",
    "print(format(np.mean(inference_times), \".3e\"))\n",
    "print(format(np.std(inference_times), \".1e\"))"
   ]
  },
  {
   "cell_type": "code",
   "execution_count": 38,
   "metadata": {},
   "outputs": [
    {
     "name": "stdout",
     "output_type": "stream",
     "text": [
      "Inference time GPU (ms):\n",
      "1.952e+00\n",
      "4.9e-02\n"
     ]
    }
   ],
   "source": [
    "inference_times = inference_time(LeDepthNN, input_shape=(100, 3, 32, 32), repetitions=10000, device=\"cuda\")\n",
    "print(\"Inference time GPU (ms):\")\n",
    "print(format(np.mean(inference_times), \".3e\"))\n",
    "print(format(np.std(inference_times), \".1e\"))"
   ]
  },
  {
   "cell_type": "code",
   "execution_count": 39,
   "metadata": {},
   "outputs": [
    {
     "name": "stdout",
     "output_type": "stream",
     "text": [
      "Inference time CPU (ms):\n",
      "2.925e+00\n",
      "6.8e-01\n"
     ]
    }
   ],
   "source": [
    "inference_times = inference_time(LeDepthNN, input_shape=(100, 3, 32, 32), repetitions=10000, device=\"cpu\")\n",
    "print(\"Inference time CPU (ms):\")\n",
    "print(format(np.mean(inference_times), \".3e\"))\n",
    "print(format(np.std(inference_times), \".1e\"))"
   ]
  }
 ],
 "metadata": {
  "kernelspec": {
   "display_name": "Python 3.9.12 ('base')",
   "language": "python",
   "name": "python3"
  },
  "language_info": {
   "codemirror_mode": {
    "name": "ipython",
    "version": 3
   },
   "file_extension": ".py",
   "mimetype": "text/x-python",
   "name": "python",
   "nbconvert_exporter": "python",
   "pygments_lexer": "ipython3",
   "version": "3.9.12"
  },
  "orig_nbformat": 4,
  "vscode": {
   "interpreter": {
    "hash": "4632010a9e13d22e5db6181f606bb74cee322bdf2be96a9f982ade689500be32"
   }
  }
 },
 "nbformat": 4,
 "nbformat_minor": 2
}
