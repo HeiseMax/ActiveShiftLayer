{
 "cells": [
  {
   "cell_type": "code",
   "execution_count": 1,
   "metadata": {},
   "outputs": [],
   "source": [
    "import numpy as np\n",
    "import matplotlib.pyplot as plt\n",
    "import pickle\n",
    "\n",
    "import torch\n",
    "from torch.nn import CrossEntropyLoss\n",
    "import torch.optim as optim\n",
    "\n",
    "import torchvision\n",
    "import torchvision.transforms as transforms\n",
    "\n",
    "from torchinfo import summary\n",
    "\n",
    "from os.path import exists\n",
    "\n",
    "from util import test_loss, train_NN, loadCIFAR10, plot_loss, plot_acc, plot_shifts"
   ]
  },
  {
   "cell_type": "code",
   "execution_count": 2,
   "metadata": {},
   "outputs": [
    {
     "name": "stdout",
     "output_type": "stream",
     "text": [
      "cuda\n"
     ]
    }
   ],
   "source": [
    "if torch.cuda.is_available():\n",
    "    device = 'cuda'\n",
    "else:\n",
    "    device = 'cpu'\n",
    "print(device)"
   ]
  },
  {
   "cell_type": "code",
   "execution_count": 3,
   "metadata": {},
   "outputs": [
    {
     "name": "stdout",
     "output_type": "stream",
     "text": [
      "Files already downloaded and verified\n",
      "Files already downloaded and verified\n"
     ]
    }
   ],
   "source": [
    "batch_size = 100\n",
    "input_shape = (batch_size, 3, 32, 32)\n",
    "num_labels = 10\n",
    "\n",
    "train_dataset, train_dataloader, test_dataset, test_dataloader, classes = loadCIFAR10(batch_size)"
   ]
  },
  {
   "cell_type": "markdown",
   "metadata": {},
   "source": [
    "## CIFAR10 LeNet"
   ]
  },
  {
   "cell_type": "code",
   "execution_count": 4,
   "metadata": {},
   "outputs": [
    {
     "name": "stdout",
     "output_type": "stream",
     "text": [
      "{'lr': 0.09375, 'momentum': 0.65625, 'p_randomTransform': 0.3125} 69.994\n"
     ]
    }
   ],
   "source": [
    "# mock train_function of Optimizer to load the optimizer\n",
    "train_function = None\n",
    "\n",
    "with open('models/LeNet_Cifar/LeNet_optimizer.pkl', 'rb') as file:\n",
    "    LeNet_optim = pickle.load(file)\n",
    "\n",
    "best_parameters = LeNet_optim.get_best_parameters(3)\n",
    "print(best_parameters)\n",
    "parameters = best_parameters[0]"
   ]
  },
  {
   "cell_type": "code",
   "execution_count": 5,
   "metadata": {},
   "outputs": [
    {
     "data": {
      "text/plain": [
       "==========================================================================================\n",
       "Layer (type:depth-idx)                   Output Shape              Param #\n",
       "==========================================================================================\n",
       "LeNet                                    [100, 10]                 --\n",
       "├─Sequential: 1-1                        --                        --\n",
       "│    └─Conv2d: 2-1                       [100, 6, 32, 32]          456\n",
       "│    └─BatchNorm2d: 2-2                  [100, 6, 32, 32]          12\n",
       "│    └─Tanh: 2-3                         [100, 6, 32, 32]          --\n",
       "│    └─AvgPool2d: 2-4                    [100, 6, 16, 16]          --\n",
       "│    └─Conv2d: 2-5                       [100, 16, 16, 16]         2,416\n",
       "│    └─BatchNorm2d: 2-6                  [100, 16, 16, 16]         32\n",
       "│    └─Tanh: 2-7                         [100, 16, 16, 16]         --\n",
       "│    └─AvgPool2d: 2-8                    [100, 16, 8, 8]           --\n",
       "│    └─Flatten: 2-9                      [100, 1024]               --\n",
       "│    └─Linear: 2-10                      [100, 120]                123,000\n",
       "│    └─Tanh: 2-11                        [100, 120]                --\n",
       "│    └─Linear: 2-12                      [100, 84]                 10,164\n",
       "│    └─Tanh: 2-13                        [100, 84]                 --\n",
       "│    └─Linear: 2-14                      [100, 10]                 850\n",
       "==========================================================================================\n",
       "Total params: 136,930\n",
       "Trainable params: 136,930\n",
       "Non-trainable params: 0\n",
       "Total mult-adds (M): 121.95\n",
       "==========================================================================================\n",
       "Input size (MB): 1.23\n",
       "Forward/backward pass size (MB): 16.56\n",
       "Params size (MB): 0.55\n",
       "Estimated Total Size (MB): 18.33\n",
       "=========================================================================================="
      ]
     },
     "execution_count": 5,
     "metadata": {},
     "output_type": "execute_result"
    }
   ],
   "source": [
    "from Models import LeNet\n",
    "\n",
    "LeNN = LeNet(input_shape, num_labels, initial_lr=parameters[\"lr\"], momentum=parameters[\"momentum\"], weight_decay=0)\n",
    "\n",
    "summary(LeNN, input_shape)"
   ]
  },
  {
   "cell_type": "code",
   "execution_count": 6,
   "metadata": {},
   "outputs": [],
   "source": [
    "PATH = \"models/LeNet_Cifar/LeNet.pth\"\n",
    "\n",
    "if exists(PATH):\n",
    "    LeNN = torch.load(PATH)\n",
    "    LeNN.eval()"
   ]
  },
  {
   "cell_type": "code",
   "execution_count": 7,
   "metadata": {},
   "outputs": [
    {
     "name": "stdout",
     "output_type": "stream",
     "text": [
      "[1,   100] train_loss: 1.928\n",
      "test_loss: 1.805, test_accuracy: 35.54\n",
      "[1,   200] train_loss: 1.745\n",
      "test_loss: 1.651, test_accuracy: 41.89\n",
      "[1,   300] train_loss: 1.648\n",
      "test_loss: 1.617, test_accuracy: 42.73\n",
      "[1,   400] train_loss: 1.549\n",
      "test_loss: 1.467, test_accuracy: 47.14\n",
      "[1,   500] train_loss: 1.517\n",
      "test_loss: 1.430, test_accuracy: 48.32\n",
      "[2,   100] train_loss: 1.428\n",
      "test_loss: 1.393, test_accuracy: 49.71\n",
      "[2,   200] train_loss: 1.415\n",
      "test_loss: 1.367, test_accuracy: 50.85\n",
      "[2,   300] train_loss: 1.385\n",
      "test_loss: 1.351, test_accuracy: 51.79\n",
      "[2,   400] train_loss: 1.365\n",
      "test_loss: 1.354, test_accuracy: 51.53\n",
      "[2,   500] train_loss: 1.328\n",
      "test_loss: 1.351, test_accuracy: 51.95\n",
      "[3,   100] train_loss: 1.270\n",
      "test_loss: 1.275, test_accuracy: 54.29\n",
      "[3,   200] train_loss: 1.280\n",
      "test_loss: 1.265, test_accuracy: 54.57\n",
      "[3,   300] train_loss: 1.258\n",
      "test_loss: 1.240, test_accuracy: 55.51\n",
      "[3,   400] train_loss: 1.253\n",
      "test_loss: 1.231, test_accuracy: 55.91\n",
      "[3,   500] train_loss: 1.243\n",
      "test_loss: 1.214, test_accuracy: 56.49\n",
      "[4,   100] train_loss: 1.163\n",
      "test_loss: 1.185, test_accuracy: 57.5\n",
      "[4,   200] train_loss: 1.160\n",
      "test_loss: 1.192, test_accuracy: 57.94\n",
      "[4,   300] train_loss: 1.172\n",
      "test_loss: 1.191, test_accuracy: 57.78\n",
      "[4,   400] train_loss: 1.191\n",
      "test_loss: 1.184, test_accuracy: 57.57\n",
      "[4,   500] train_loss: 1.188\n",
      "test_loss: 1.226, test_accuracy: 56.85\n",
      "Epoch 00020: reducing learning rate of group 0 to 4.6875e-02.\n",
      "[5,   100] train_loss: 1.076\n",
      "test_loss: 1.109, test_accuracy: 60.56\n",
      "[5,   200] train_loss: 1.056\n",
      "test_loss: 1.105, test_accuracy: 60.73\n",
      "[5,   300] train_loss: 1.058\n",
      "test_loss: 1.103, test_accuracy: 60.78\n",
      "[5,   400] train_loss: 1.046\n",
      "test_loss: 1.125, test_accuracy: 60.21\n",
      "[5,   500] train_loss: 1.045\n",
      "test_loss: 1.132, test_accuracy: 60.71\n",
      "[6,   100] train_loss: 0.994\n",
      "test_loss: 1.083, test_accuracy: 61.14\n",
      "[6,   200] train_loss: 1.024\n",
      "test_loss: 1.092, test_accuracy: 61.54\n",
      "[6,   300] train_loss: 1.005\n",
      "test_loss: 1.086, test_accuracy: 61.78\n",
      "[6,   400] train_loss: 1.009\n",
      "test_loss: 1.080, test_accuracy: 61.73\n",
      "Epoch 00029: reducing learning rate of group 0 to 2.3438e-02.\n",
      "[6,   500] train_loss: 1.013\n",
      "test_loss: 1.042, test_accuracy: 63.0\n",
      "[7,   100] train_loss: 0.948\n",
      "test_loss: 1.050, test_accuracy: 62.91\n",
      "[7,   200] train_loss: 0.938\n",
      "test_loss: 1.065, test_accuracy: 62.56\n",
      "[7,   300] train_loss: 0.947\n",
      "test_loss: 1.036, test_accuracy: 63.7\n",
      "[7,   400] train_loss: 0.944\n",
      "test_loss: 1.036, test_accuracy: 63.46\n",
      "[7,   500] train_loss: 0.927\n",
      "test_loss: 1.042, test_accuracy: 63.71\n",
      "[8,   100] train_loss: 0.920\n",
      "test_loss: 1.056, test_accuracy: 62.79\n",
      "[8,   200] train_loss: 0.918\n",
      "test_loss: 1.035, test_accuracy: 63.6\n",
      "[8,   300] train_loss: 0.929\n",
      "test_loss: 1.043, test_accuracy: 63.65\n",
      "[8,   400] train_loss: 0.905\n",
      "test_loss: 1.031, test_accuracy: 63.58\n",
      "[8,   500] train_loss: 0.924\n",
      "test_loss: 1.036, test_accuracy: 63.52\n",
      "[9,   100] train_loss: 0.903\n",
      "test_loss: 1.054, test_accuracy: 62.85\n",
      "[9,   200] train_loss: 0.892\n",
      "test_loss: 1.034, test_accuracy: 63.37\n",
      "[9,   300] train_loss: 0.904\n",
      "test_loss: 1.034, test_accuracy: 63.85\n",
      "[9,   400] train_loss: 0.904\n",
      "test_loss: 1.033, test_accuracy: 63.94\n",
      "[9,   500] train_loss: 0.895\n",
      "test_loss: 1.037, test_accuracy: 63.83\n",
      "Epoch 00045: reducing learning rate of group 0 to 1.1719e-02.\n",
      "[10,   100] train_loss: 0.886\n",
      "test_loss: 1.021, test_accuracy: 64.37\n",
      "[10,   200] train_loss: 0.863\n",
      "test_loss: 1.033, test_accuracy: 63.99\n",
      "[10,   300] train_loss: 0.860\n",
      "test_loss: 1.015, test_accuracy: 64.58\n",
      "[10,   400] train_loss: 0.857\n",
      "test_loss: 1.018, test_accuracy: 64.33\n",
      "[10,   500] train_loss: 0.849\n",
      "test_loss: 1.018, test_accuracy: 64.48\n",
      "[11,   100] train_loss: 0.852\n",
      "test_loss: 1.031, test_accuracy: 64.01\n",
      "[11,   200] train_loss: 0.844\n",
      "test_loss: 1.014, test_accuracy: 64.62\n",
      "[11,   300] train_loss: 0.826\n",
      "test_loss: 1.012, test_accuracy: 64.74\n",
      "[11,   400] train_loss: 0.860\n",
      "test_loss: 1.020, test_accuracy: 64.44\n",
      "[11,   500] train_loss: 0.868\n",
      "test_loss: 1.022, test_accuracy: 64.09\n",
      "[12,   100] train_loss: 0.824\n",
      "test_loss: 1.015, test_accuracy: 64.66\n",
      "[12,   200] train_loss: 0.814\n",
      "test_loss: 1.023, test_accuracy: 64.36\n",
      "[12,   300] train_loss: 0.824\n",
      "test_loss: 1.017, test_accuracy: 64.49\n",
      "[12,   400] train_loss: 0.843\n",
      "test_loss: 1.016, test_accuracy: 64.22\n",
      "[12,   500] train_loss: 0.857\n",
      "test_loss: 1.017, test_accuracy: 64.37\n",
      "Epoch 00060: reducing learning rate of group 0 to 5.8594e-03.\n",
      "[13,   100] train_loss: 0.786\n",
      "test_loss: 1.016, test_accuracy: 64.48\n",
      "[13,   200] train_loss: 0.824\n",
      "test_loss: 1.015, test_accuracy: 64.72\n",
      "[13,   300] train_loss: 0.798\n",
      "test_loss: 1.004, test_accuracy: 65.05\n",
      "[13,   400] train_loss: 0.816\n",
      "test_loss: 1.008, test_accuracy: 64.75\n",
      "Epoch 00064: reducing learning rate of group 0 to 2.9297e-03.\n",
      "[13,   500] train_loss: 0.796\n",
      "test_loss: 1.002, test_accuracy: 64.83\n",
      "[14,   100] train_loss: 0.799\n",
      "test_loss: 1.003, test_accuracy: 64.86\n",
      "[14,   200] train_loss: 0.789\n",
      "test_loss: 1.005, test_accuracy: 64.84\n",
      "Epoch 00067: reducing learning rate of group 0 to 1.4648e-03.\n",
      "[14,   300] train_loss: 0.771\n",
      "test_loss: 1.003, test_accuracy: 64.87\n",
      "[14,   400] train_loss: 0.788\n",
      "test_loss: 1.003, test_accuracy: 65.03\n",
      "[14,   500] train_loss: 0.816\n",
      "test_loss: 1.002, test_accuracy: 65.1\n",
      "[15,   100] train_loss: 0.769\n",
      "test_loss: 1.002, test_accuracy: 65.01\n",
      "[15,   200] train_loss: 0.777\n",
      "test_loss: 1.003, test_accuracy: 64.88\n",
      "[15,   300] train_loss: 0.772\n",
      "test_loss: 1.002, test_accuracy: 65.16\n",
      "[15,   400] train_loss: 0.771\n",
      "test_loss: 1.000, test_accuracy: 64.98\n",
      "Epoch 00074: reducing learning rate of group 0 to 7.3242e-04.\n",
      "[15,   500] train_loss: 0.797\n",
      "test_loss: 1.000, test_accuracy: 64.85\n",
      "[16,   100] train_loss: 0.764\n",
      "test_loss: 1.002, test_accuracy: 65.14\n",
      "[16,   200] train_loss: 0.788\n",
      "test_loss: 1.002, test_accuracy: 64.93\n",
      "[16,   300] train_loss: 0.805\n",
      "test_loss: 1.002, test_accuracy: 65.03\n",
      "[16,   400] train_loss: 0.791\n",
      "test_loss: 1.002, test_accuracy: 65.1\n",
      "Epoch 00079: reducing learning rate of group 0 to 3.6621e-04.\n",
      "[16,   500] train_loss: 0.786\n",
      "test_loss: 1.000, test_accuracy: 65.02\n",
      "[17,   100] train_loss: 0.768\n",
      "test_loss: 1.001, test_accuracy: 65.28\n",
      "[17,   200] train_loss: 0.764\n",
      "test_loss: 1.001, test_accuracy: 65.16\n",
      "[17,   300] train_loss: 0.790\n",
      "test_loss: 1.001, test_accuracy: 65.06\n",
      "[17,   400] train_loss: 0.776\n",
      "test_loss: 1.004, test_accuracy: 65.0\n",
      "[17,   500] train_loss: 0.799\n",
      "test_loss: 1.001, test_accuracy: 65.04\n",
      "Epoch 00085: reducing learning rate of group 0 to 1.8311e-04.\n",
      "[18,   100] train_loss: 0.769\n",
      "test_loss: 1.000, test_accuracy: 65.12\n",
      "[18,   200] train_loss: 0.766\n",
      "test_loss: 1.001, test_accuracy: 65.22\n",
      "[18,   300] train_loss: 0.753\n",
      "test_loss: 1.001, test_accuracy: 65.28\n",
      "[18,   400] train_loss: 0.792\n",
      "test_loss: 1.001, test_accuracy: 65.14\n",
      "[18,   500] train_loss: 0.755\n",
      "test_loss: 1.002, test_accuracy: 65.22\n",
      "[19,   100] train_loss: 0.761\n",
      "test_loss: 1.002, test_accuracy: 65.23\n",
      "Epoch 00091: reducing learning rate of group 0 to 9.1553e-05.\n",
      "[19,   200] train_loss: 0.801\n",
      "test_loss: 1.003, test_accuracy: 65.16\n",
      "[19,   300] train_loss: 0.752\n",
      "test_loss: 0.999, test_accuracy: 65.09\n",
      "[19,   400] train_loss: 0.792\n",
      "test_loss: 1.003, test_accuracy: 65.01\n",
      "[19,   500] train_loss: 0.775\n",
      "test_loss: 1.001, test_accuracy: 65.32\n",
      "[20,   100] train_loss: 0.781\n",
      "test_loss: 1.001, test_accuracy: 65.1\n",
      "Epoch 00096: reducing learning rate of group 0 to 4.5776e-05.\n",
      "[20,   200] train_loss: 0.777\n",
      "test_loss: 1.000, test_accuracy: 65.09\n",
      "[20,   300] train_loss: 0.774\n",
      "test_loss: 1.001, test_accuracy: 65.01\n",
      "[20,   400] train_loss: 0.756\n",
      "test_loss: 1.003, test_accuracy: 65.23\n",
      "Epoch 00099: reducing learning rate of group 0 to 2.2888e-05.\n",
      "[20,   500] train_loss: 0.786\n",
      "test_loss: 1.002, test_accuracy: 65.15\n"
     ]
    }
   ],
   "source": [
    "criterion = CrossEntropyLoss()\n",
    "epochs = 20\n",
    "\n",
    "train_NN(LeNN, criterion, train_dataloader, test_dataloader, epochs=epochs, batches_to_test=100,\n",
    "        patience=2,device=device, print_test=True, verbose=True, p_randomTransform=parameters[\"p_randomTransform\"])"
   ]
  },
  {
   "cell_type": "code",
   "execution_count": 8,
   "metadata": {},
   "outputs": [],
   "source": [
    "torch.save(LeNN, \"./models/LeNet_Cifar/LeNet.pth\")"
   ]
  },
  {
   "cell_type": "code",
   "execution_count": 15,
   "metadata": {},
   "outputs": [],
   "source": [
    "LeNN = torch.load(\"./models/LeNet_Cifar/LeNet.pth\")"
   ]
  },
  {
   "cell_type": "code",
   "execution_count": 16,
   "metadata": {},
   "outputs": [
    {
     "data": {
      "image/png": "[encoded data removed]",
      "text/plain": [
       "<Figure size 432x288 with 1 Axes>"
      ]
     },
     "metadata": {
      "needs_background": "light"
     },
     "output_type": "display_data"
    },
    {
     "data": {
      "image/png": "[encoded data removed]",
      "text/plain": [
       "<Figure size 432x288 with 1 Axes>"
      ]
     },
     "metadata": {
      "needs_background": "light"
     },
     "output_type": "display_data"
    },
    {
     "data": {
      "image/png": "[encoded data removed]",
      "text/plain": [
       "<Figure size 432x288 with 1 Axes>"
      ]
     },
     "metadata": {
      "needs_background": "light"
     },
     "output_type": "display_data"
    },
    {
     "name": "stdout",
     "output_type": "stream",
     "text": [
      "1.00747308645\n"
     ]
    }
   ],
   "source": [
    "plot_loss(LeNN)\n",
    "plot_acc(LeNN)\n",
    "\n",
    "plt.plot(LeNN.train_time)\n",
    "plt.show()\n",
    "print(np.mean(LeNN.train_time))"
   ]
  },
  {
   "cell_type": "markdown",
   "metadata": {},
   "source": [
    "## CIFAR10 LeASLNet"
   ]
  },
  {
   "cell_type": "code",
   "execution_count": 4,
   "metadata": {},
   "outputs": [
    {
     "name": "stdout",
     "output_type": "stream",
     "text": [
      "{'lr': 0.026123046875, 'momentum': 0.928466796875, 'p_randomTransform': 0.00634765625} 70.484\n"
     ]
    }
   ],
   "source": [
    "# mock train_function of Optimizer to load the optimizer\n",
    "ASL_train_function = None\n",
    "\n",
    "with open('models/LeNet_Cifar/LeASLNet_optimizer.pkl', 'rb') as file:\n",
    "    LeASLNet_optim = pickle.load(file)\n",
    "\n",
    "best_parameters = LeASLNet_optim.get_best_parameters(3)\n",
    "print(best_parameters)\n",
    "parameters = best_parameters[0]"
   ]
  },
  {
   "cell_type": "code",
   "execution_count": 5,
   "metadata": {},
   "outputs": [
    {
     "data": {
      "text/plain": [
       "==========================================================================================\n",
       "Layer (type:depth-idx)                   Output Shape              Param #\n",
       "==========================================================================================\n",
       "LeASLNet                                 [100, 10]                 --\n",
       "├─Sequential: 1-1                        --                        --\n",
       "│    └─Conv2d: 2-1                       [100, 6, 32, 32]          456\n",
       "│    └─BatchNorm2d: 2-2                  [100, 6, 32, 32]          12\n",
       "│    └─Tanh: 2-3                         [100, 6, 32, 32]          --\n",
       "│    └─AvgPool2d: 2-4                    [100, 6, 16, 16]          --\n",
       "│    └─CSC_block: 2-5                    [100, 16, 16, 16]         --\n",
       "│    │    └─Sequential: 3-1              --                        108\n",
       "│    │    └─Conv2d: 3-2                  [100, 16, 16, 16]         112\n",
       "│    └─Tanh: 2-6                         [100, 16, 16, 16]         --\n",
       "│    └─AvgPool2d: 2-7                    [100, 16, 8, 8]           --\n",
       "│    └─Flatten: 2-8                      [100, 1024]               --\n",
       "│    └─Linear: 2-9                       [100, 120]                123,000\n",
       "│    └─Tanh: 2-10                        [100, 120]                --\n",
       "│    └─Linear: 2-11                      [100, 84]                 10,164\n",
       "│    └─Tanh: 2-12                        [100, 84]                 --\n",
       "│    └─Linear: 2-13                      [100, 10]                 850\n",
       "==========================================================================================\n",
       "Total params: 134,702\n",
       "Trainable params: 134,702\n",
       "Non-trainable params: 0\n",
       "Total mult-adds (M): 65.12\n",
       "==========================================================================================\n",
       "Input size (MB): 1.23\n",
       "Forward/backward pass size (MB): 18.19\n",
       "Params size (MB): 0.54\n",
       "Estimated Total Size (MB): 19.96\n",
       "=========================================================================================="
      ]
     },
     "execution_count": 5,
     "metadata": {},
     "output_type": "execute_result"
    }
   ],
   "source": [
    "from Models import LeASLNet\n",
    "\n",
    "LeASLNN = LeASLNet(input_shape, num_labels, initial_lr=parameters[\"lr\"], momentum=parameters[\"momentum\"], weight_decay=0, device=device, expansion_rate=1)\n",
    "\n",
    "summary(LeASLNN, input_shape)"
   ]
  },
  {
   "cell_type": "code",
   "execution_count": 6,
   "metadata": {},
   "outputs": [],
   "source": [
    "PATH = \"models/LeNet_Cifar/LeASLNet.pth\"\n",
    "\n",
    "if exists(PATH):\n",
    "    LeASLNN = torch.load(PATH)\n",
    "    LeASLNN.eval()"
   ]
  },
  {
   "cell_type": "code",
   "execution_count": 7,
   "metadata": {},
   "outputs": [
    {
     "name": "stdout",
     "output_type": "stream",
     "text": [
      "[1,   100] train_loss: 1.936\n",
      "test_loss: 1.715, test_accuracy: 38.6\n",
      "[1,   200] train_loss: 1.648\n",
      "test_loss: 1.531, test_accuracy: 44.56\n",
      "[1,   300] train_loss: 1.505\n",
      "test_loss: 1.469, test_accuracy: 47.09\n",
      "[1,   400] train_loss: 1.450\n",
      "test_loss: 1.427, test_accuracy: 48.01\n",
      "[1,   500] train_loss: 1.405\n",
      "test_loss: 1.371, test_accuracy: 50.54\n",
      "[2,   100] train_loss: 1.337\n",
      "test_loss: 1.341, test_accuracy: 51.12\n",
      "[2,   200] train_loss: 1.348\n",
      "test_loss: 1.346, test_accuracy: 51.16\n",
      "[2,   300] train_loss: 1.330\n",
      "test_loss: 1.346, test_accuracy: 52.32\n",
      "[2,   400] train_loss: 1.297\n",
      "test_loss: 1.275, test_accuracy: 54.07\n",
      "[2,   500] train_loss: 1.285\n",
      "test_loss: 1.273, test_accuracy: 54.93\n",
      "[3,   100] train_loss: 1.235\n",
      "test_loss: 1.278, test_accuracy: 54.44\n",
      "[3,   200] train_loss: 1.226\n",
      "test_loss: 1.298, test_accuracy: 53.75\n",
      "[3,   300] train_loss: 1.229\n",
      "test_loss: 1.307, test_accuracy: 52.8\n",
      "[3,   400] train_loss: 1.195\n",
      "test_loss: 1.227, test_accuracy: 56.09\n",
      "[3,   500] train_loss: 1.216\n",
      "test_loss: 1.226, test_accuracy: 56.03\n",
      "[4,   100] train_loss: 1.130\n",
      "test_loss: 1.202, test_accuracy: 57.41\n",
      "[4,   200] train_loss: 1.142\n",
      "test_loss: 1.269, test_accuracy: 54.88\n",
      "[4,   300] train_loss: 1.167\n",
      "test_loss: 1.199, test_accuracy: 57.32\n",
      "[4,   400] train_loss: 1.142\n",
      "test_loss: 1.217, test_accuracy: 56.76\n",
      "Epoch 00019: reducing learning rate of group 0 to 1.3062e-02.\n",
      "[4,   500] train_loss: 1.118\n",
      "test_loss: 1.158, test_accuracy: 58.79\n",
      "[5,   100] train_loss: 1.004\n",
      "test_loss: 1.165, test_accuracy: 58.69\n",
      "[5,   200] train_loss: 0.990\n",
      "test_loss: 1.161, test_accuracy: 59.38\n",
      "[5,   300] train_loss: 1.017\n",
      "test_loss: 1.157, test_accuracy: 58.83\n",
      "[5,   400] train_loss: 1.013\n",
      "test_loss: 1.166, test_accuracy: 59.18\n",
      "[5,   500] train_loss: 0.992\n",
      "test_loss: 1.155, test_accuracy: 59.28\n",
      "Epoch 00025: reducing learning rate of group 0 to 6.5308e-03.\n",
      "[6,   100] train_loss: 0.913\n",
      "test_loss: 1.125, test_accuracy: 60.43\n",
      "[6,   200] train_loss: 0.901\n",
      "test_loss: 1.124, test_accuracy: 60.49\n",
      "[6,   300] train_loss: 0.907\n",
      "test_loss: 1.127, test_accuracy: 60.48\n",
      "[6,   400] train_loss: 0.914\n",
      "test_loss: 1.129, test_accuracy: 60.47\n",
      "[6,   500] train_loss: 0.906\n",
      "test_loss: 1.113, test_accuracy: 60.93\n",
      "Epoch 00030: reducing learning rate of group 0 to 3.2654e-03.\n",
      "[7,   100] train_loss: 0.836\n",
      "test_loss: 1.112, test_accuracy: 61.17\n",
      "[7,   200] train_loss: 0.850\n",
      "test_loss: 1.108, test_accuracy: 61.57\n",
      "[7,   300] train_loss: 0.851\n",
      "test_loss: 1.113, test_accuracy: 61.34\n",
      "[7,   400] train_loss: 0.855\n",
      "test_loss: 1.105, test_accuracy: 61.76\n",
      "Epoch 00034: reducing learning rate of group 0 to 1.6327e-03.\n",
      "[7,   500] train_loss: 0.843\n",
      "test_loss: 1.101, test_accuracy: 61.75\n",
      "[8,   100] train_loss: 0.811\n",
      "test_loss: 1.106, test_accuracy: 61.73\n",
      "[8,   200] train_loss: 0.806\n",
      "test_loss: 1.107, test_accuracy: 61.25\n",
      "[8,   300] train_loss: 0.810\n",
      "test_loss: 1.108, test_accuracy: 61.43\n",
      "[8,   400] train_loss: 0.824\n",
      "test_loss: 1.107, test_accuracy: 61.84\n",
      "[8,   500] train_loss: 0.818\n",
      "test_loss: 1.111, test_accuracy: 61.49\n",
      "Epoch 00040: reducing learning rate of group 0 to 8.1635e-04.\n",
      "[9,   100] train_loss: 0.791\n",
      "test_loss: 1.107, test_accuracy: 61.68\n",
      "[9,   200] train_loss: 0.783\n",
      "test_loss: 1.106, test_accuracy: 61.89\n",
      "[9,   300] train_loss: 0.775\n",
      "test_loss: 1.109, test_accuracy: 61.66\n",
      "[9,   400] train_loss: 0.801\n",
      "test_loss: 1.110, test_accuracy: 61.83\n",
      "[9,   500] train_loss: 0.803\n",
      "test_loss: 1.111, test_accuracy: 61.75\n",
      "[10,   100] train_loss: 0.785\n",
      "test_loss: 1.110, test_accuracy: 61.77\n",
      "Epoch 00046: reducing learning rate of group 0 to 4.0817e-04.\n",
      "[10,   200] train_loss: 0.808\n",
      "test_loss: 1.108, test_accuracy: 61.94\n",
      "[10,   300] train_loss: 0.773\n",
      "test_loss: 1.107, test_accuracy: 61.84\n",
      "[10,   400] train_loss: 0.772\n",
      "test_loss: 1.108, test_accuracy: 61.85\n",
      "[10,   500] train_loss: 0.792\n",
      "test_loss: 1.108, test_accuracy: 61.93\n",
      "[11,   100] train_loss: 0.778\n",
      "test_loss: 1.109, test_accuracy: 61.9\n",
      "[11,   200] train_loss: 0.764\n",
      "test_loss: 1.110, test_accuracy: 61.81\n",
      "[11,   300] train_loss: 0.776\n",
      "test_loss: 1.110, test_accuracy: 61.82\n",
      "[11,   400] train_loss: 0.798\n",
      "test_loss: 1.111, test_accuracy: 61.73\n",
      "[11,   500] train_loss: 0.782\n",
      "test_loss: 1.109, test_accuracy: 61.92\n",
      "Epoch 00055: reducing learning rate of group 0 to 2.0409e-04.\n",
      "[12,   100] train_loss: 0.764\n",
      "test_loss: 1.109, test_accuracy: 61.83\n",
      "[12,   200] train_loss: 0.755\n",
      "test_loss: 1.109, test_accuracy: 61.89\n",
      "[12,   300] train_loss: 0.784\n",
      "test_loss: 1.109, test_accuracy: 61.87\n",
      "[12,   400] train_loss: 0.776\n",
      "test_loss: 1.109, test_accuracy: 61.83\n",
      "[12,   500] train_loss: 0.770\n",
      "test_loss: 1.110, test_accuracy: 61.88\n",
      "Epoch 00060: reducing learning rate of group 0 to 1.0204e-04.\n",
      "[13,   100] train_loss: 0.776\n",
      "test_loss: 1.109, test_accuracy: 61.95\n",
      "[13,   200] train_loss: 0.774\n",
      "test_loss: 1.110, test_accuracy: 61.93\n",
      "[13,   300] train_loss: 0.777\n",
      "test_loss: 1.110, test_accuracy: 61.79\n",
      "Epoch 00063: reducing learning rate of group 0 to 5.1022e-05.\n",
      "[13,   400] train_loss: 0.771\n",
      "test_loss: 1.110, test_accuracy: 61.88\n",
      "[13,   500] train_loss: 0.771\n",
      "test_loss: 1.110, test_accuracy: 61.83\n",
      "[14,   100] train_loss: 0.759\n",
      "test_loss: 1.109, test_accuracy: 61.9\n",
      "Epoch 00066: reducing learning rate of group 0 to 2.5511e-05.\n",
      "[14,   200] train_loss: 0.765\n",
      "test_loss: 1.110, test_accuracy: 61.99\n",
      "[14,   300] train_loss: 0.780\n",
      "test_loss: 1.109, test_accuracy: 61.9\n",
      "[14,   400] train_loss: 0.760\n",
      "test_loss: 1.109, test_accuracy: 61.79\n",
      "Epoch 00069: reducing learning rate of group 0 to 1.2755e-05.\n",
      "[14,   500] train_loss: 0.771\n",
      "test_loss: 1.110, test_accuracy: 61.95\n",
      "[15,   100] train_loss: 0.777\n",
      "test_loss: 1.110, test_accuracy: 61.73\n",
      "[15,   200] train_loss: 0.779\n",
      "test_loss: 1.110, test_accuracy: 61.86\n",
      "Epoch 00072: reducing learning rate of group 0 to 6.3777e-06.\n",
      "[15,   300] train_loss: 0.777\n",
      "test_loss: 1.110, test_accuracy: 61.86\n",
      "[15,   400] train_loss: 0.769\n",
      "test_loss: 1.110, test_accuracy: 61.83\n",
      "[15,   500] train_loss: 0.788\n",
      "test_loss: 1.110, test_accuracy: 61.93\n",
      "Epoch 00075: reducing learning rate of group 0 to 3.1888e-06.\n",
      "[16,   100] train_loss: 0.757\n",
      "test_loss: 1.110, test_accuracy: 61.83\n",
      "[16,   200] train_loss: 0.771\n",
      "test_loss: 1.110, test_accuracy: 61.95\n",
      "[16,   300] train_loss: 0.758\n",
      "test_loss: 1.110, test_accuracy: 61.84\n",
      "Epoch 00078: reducing learning rate of group 0 to 1.5944e-06.\n",
      "[16,   400] train_loss: 0.765\n",
      "test_loss: 1.110, test_accuracy: 61.95\n",
      "[16,   500] train_loss: 0.775\n",
      "test_loss: 1.110, test_accuracy: 61.9\n",
      "[17,   100] train_loss: 0.764\n",
      "test_loss: 1.110, test_accuracy: 61.86\n",
      "Epoch 00081: reducing learning rate of group 0 to 7.9721e-07.\n",
      "[17,   200] train_loss: 0.767\n",
      "test_loss: 1.110, test_accuracy: 61.89\n",
      "[17,   300] train_loss: 0.759\n",
      "test_loss: 1.110, test_accuracy: 61.74\n",
      "[17,   400] train_loss: 0.765\n",
      "test_loss: 1.110, test_accuracy: 61.89\n",
      "Epoch 00084: reducing learning rate of group 0 to 3.9861e-07.\n",
      "[17,   500] train_loss: 0.777\n",
      "test_loss: 1.110, test_accuracy: 61.92\n",
      "[18,   100] train_loss: 0.773\n",
      "test_loss: 1.110, test_accuracy: 61.87\n",
      "[18,   200] train_loss: 0.779\n",
      "test_loss: 1.110, test_accuracy: 61.95\n",
      "Epoch 00087: reducing learning rate of group 0 to 1.9930e-07.\n",
      "[18,   300] train_loss: 0.776\n",
      "test_loss: 1.110, test_accuracy: 61.8\n",
      "[18,   400] train_loss: 0.755\n",
      "test_loss: 1.110, test_accuracy: 61.86\n",
      "[18,   500] train_loss: 0.764\n",
      "test_loss: 1.110, test_accuracy: 61.94\n",
      "Epoch 00090: reducing learning rate of group 0 to 9.9652e-08.\n",
      "[19,   100] train_loss: 0.775\n",
      "test_loss: 1.110, test_accuracy: 61.88\n",
      "[19,   200] train_loss: 0.778\n",
      "test_loss: 1.110, test_accuracy: 61.87\n",
      "[19,   300] train_loss: 0.769\n",
      "test_loss: 1.110, test_accuracy: 61.98\n",
      "Epoch 00093: reducing learning rate of group 0 to 4.9826e-08.\n",
      "[19,   400] train_loss: 0.758\n",
      "test_loss: 1.110, test_accuracy: 61.9\n",
      "[19,   500] train_loss: 0.768\n",
      "test_loss: 1.110, test_accuracy: 61.93\n",
      "[20,   100] train_loss: 0.766\n",
      "test_loss: 1.110, test_accuracy: 61.92\n",
      "Epoch 00096: reducing learning rate of group 0 to 2.4913e-08.\n",
      "[20,   200] train_loss: 0.767\n",
      "test_loss: 1.110, test_accuracy: 61.91\n",
      "[20,   300] train_loss: 0.766\n",
      "test_loss: 1.111, test_accuracy: 61.79\n",
      "[20,   400] train_loss: 0.784\n",
      "test_loss: 1.110, test_accuracy: 61.91\n",
      "Epoch 00099: reducing learning rate of group 0 to 1.2456e-08.\n",
      "[20,   500] train_loss: 0.766\n",
      "test_loss: 1.110, test_accuracy: 61.93\n"
     ]
    }
   ],
   "source": [
    "criterion = CrossEntropyLoss()\n",
    "epochs = 20\n",
    "\n",
    "train_NN(LeASLNN, criterion, train_dataloader, test_dataloader, epochs=epochs, batches_to_test=100,\n",
    "        patience=2,device=device, print_test=True, verbose=True, p_randomTransform=parameters[\"p_randomTransform\"])"
   ]
  },
  {
   "cell_type": "code",
   "execution_count": 8,
   "metadata": {},
   "outputs": [],
   "source": [
    "torch.save(LeASLNN, \"./models/LeNet_Cifar/LeASLNet.pth\")"
   ]
  },
  {
   "cell_type": "code",
   "execution_count": 9,
   "metadata": {},
   "outputs": [],
   "source": [
    "LeASLNN = torch.load(\"./models/LeNet_Cifar/LeASLNet.pth\")"
   ]
  },
  {
   "cell_type": "code",
   "execution_count": 10,
   "metadata": {},
   "outputs": [
    {
     "data": {
      "image/png": "[encoded data removed]",
      "text/plain": [
       "<Figure size 432x288 with 1 Axes>"
      ]
     },
     "metadata": {
      "needs_background": "light"
     },
     "output_type": "display_data"
    },
    {
     "data": {
      "image/png": "[encoded data removed]",
      "text/plain": [
       "<Figure size 432x288 with 1 Axes>"
      ]
     },
     "metadata": {
      "needs_background": "light"
     },
     "output_type": "display_data"
    },
    {
     "data": {
      "image/png": "[encoded data removed]",
      "text/plain": [
       "<Figure size 432x288 with 1 Axes>"
      ]
     },
     "metadata": {
      "needs_background": "light"
     },
     "output_type": "display_data"
    },
    {
     "name": "stdout",
     "output_type": "stream",
     "text": [
      "1.0238783545800003\n"
     ]
    }
   ],
   "source": [
    "plot_loss(LeASLNN)\n",
    "plot_acc(LeASLNN)\n",
    "\n",
    "plt.plot(LeASLNN.train_time)\n",
    "plt.show()\n",
    "print(np.mean(LeASLNN.train_time))"
   ]
  },
  {
   "cell_type": "code",
   "execution_count": 23,
   "metadata": {},
   "outputs": [
    {
     "data": {
      "image/png": "[encoded data removed]",
      "text/plain": [
       "<Figure size 432x288 with 1 Axes>"
      ]
     },
     "metadata": {
      "needs_background": "light"
     },
     "output_type": "display_data"
    },
    {
     "data": {
      "image/png": "[encoded data removed]",
      "text/plain": [
       "<Figure size 432x288 with 1 Axes>"
      ]
     },
     "metadata": {
      "needs_background": "light"
     },
     "output_type": "display_data"
    }
   ],
   "source": [
    "plot_shifts(LeASLNN)"
   ]
  },
  {
   "cell_type": "markdown",
   "metadata": {},
   "source": [
    "## CIFAR10 LeDepthNet"
   ]
  },
  {
   "cell_type": "code",
   "execution_count": 8,
   "metadata": {},
   "outputs": [
    {
     "name": "stdout",
     "output_type": "stream",
     "text": [
      "[{'acc': 76.096, 'lr': 0.03690704896414862, 'momentum': 0.7947779805241895, 'p_randomTransform': 0.00388878111128646}, {'acc': 69.042, 'lr': 0.09375, 'momentum': 0.65625, 'p_randomTransform': 0.3125}, {'acc': 68.756, 'lr': 0.08206054687499999, 'momentum': 0.6094042968750002, 'p_randomTransform': 0.70697265625}]\n"
     ]
    }
   ],
   "source": [
    "# mock train_function of Optimizer to load the optimizer\n",
    "train_function = None\n",
    "\n",
    "with open('models/LeNet_Cifar/LeDepthNet_optimizer.pkl', 'rb') as file:\n",
    "    LeDepthNet_optim = pickle.load(file)\n",
    "\n",
    "best_parameters = LeDepthNet_optim.get_best_parameters(3)\n",
    "print(best_parameters)\n",
    "parameters = best_parameters[0]"
   ]
  },
  {
   "cell_type": "code",
   "execution_count": 9,
   "metadata": {},
   "outputs": [
    {
     "data": {
      "text/plain": [
       "==========================================================================================\n",
       "Layer (type:depth-idx)                   Output Shape              Param #\n",
       "==========================================================================================\n",
       "LeDepthNet                               [100, 10]                 --\n",
       "├─Sequential: 1-1                        --                        --\n",
       "│    └─Conv2d: 2-1                       [100, 6, 32, 32]          456\n",
       "│    └─BatchNorm2d: 2-2                  [100, 6, 32, 32]          12\n",
       "│    └─Tanh: 2-3                         [100, 6, 32, 32]          --\n",
       "│    └─AvgPool2d: 2-4                    [100, 6, 16, 16]          --\n",
       "│    └─Depth_wise_block: 2-5             [100, 16, 16, 16]         --\n",
       "│    │    └─Sequential: 3-1              --                        226\n",
       "│    └─Tanh: 2-6                         [100, 16, 16, 16]         --\n",
       "│    └─AvgPool2d: 2-7                    [100, 16, 8, 8]           --\n",
       "│    └─Flatten: 2-8                      [100, 1024]               --\n",
       "│    └─Linear: 2-9                       [100, 120]                123,000\n",
       "│    └─Tanh: 2-10                        [100, 120]                --\n",
       "│    └─Linear: 2-11                      [100, 84]                 10,164\n",
       "│    └─Tanh: 2-12                        [100, 84]                 --\n",
       "│    └─Linear: 2-13                      [100, 10]                 850\n",
       "==========================================================================================\n",
       "Total params: 134,708\n",
       "Trainable params: 134,708\n",
       "Non-trainable params: 0\n",
       "Total mult-adds (M): 65.58\n",
       "==========================================================================================\n",
       "Input size (MB): 1.23\n",
       "Forward/backward pass size (MB): 16.96\n",
       "Params size (MB): 0.54\n",
       "Estimated Total Size (MB): 18.73\n",
       "=========================================================================================="
      ]
     },
     "execution_count": 9,
     "metadata": {},
     "output_type": "execute_result"
    }
   ],
   "source": [
    "from Models import LeDepthNet\n",
    "\n",
    "LeDepthNN = LeDepthNet(input_shape, num_labels, initial_lr=parameters[\"lr\"], momentum=parameters[\"momentum\"], weight_decay=0)\n",
    "\n",
    "summary(LeDepthNN, input_shape)"
   ]
  },
  {
   "cell_type": "code",
   "execution_count": 10,
   "metadata": {},
   "outputs": [],
   "source": [
    "PATH = \"models/LeNet_Cifar/LeDepthNet.pth\"\n",
    "\n",
    "if exists(PATH):\n",
    "    LeDepthNN = torch.load(PATH)\n",
    "    LeDepthNN.eval()"
   ]
  },
  {
   "cell_type": "code",
   "execution_count": 11,
   "metadata": {},
   "outputs": [
    {
     "name": "stdout",
     "output_type": "stream",
     "text": [
      "[1,   100] train_loss: 2.032\n",
      "test_loss: 1.814, test_accuracy: 33.61\n",
      "[1,   200] train_loss: 1.720\n",
      "test_loss: 1.637, test_accuracy: 39.81\n",
      "[1,   300] train_loss: 1.582\n",
      "test_loss: 1.535, test_accuracy: 44.45\n",
      "[1,   400] train_loss: 1.497\n",
      "test_loss: 1.421, test_accuracy: 48.84\n",
      "[1,   500] train_loss: 1.422\n",
      "test_loss: 1.397, test_accuracy: 49.44\n",
      "[2,   100] train_loss: 1.370\n",
      "test_loss: 1.350, test_accuracy: 51.38\n",
      "[2,   200] train_loss: 1.349\n",
      "test_loss: 1.333, test_accuracy: 51.7\n",
      "[2,   300] train_loss: 1.344\n",
      "test_loss: 1.350, test_accuracy: 51.26\n",
      "[2,   400] train_loss: 1.329\n",
      "test_loss: 1.291, test_accuracy: 52.67\n",
      "[2,   500] train_loss: 1.305\n",
      "test_loss: 1.263, test_accuracy: 54.06\n",
      "[3,   100] train_loss: 1.259\n",
      "test_loss: 1.247, test_accuracy: 55.0\n",
      "[3,   200] train_loss: 1.249\n",
      "test_loss: 1.342, test_accuracy: 51.57\n",
      "[3,   300] train_loss: 1.218\n",
      "test_loss: 1.244, test_accuracy: 55.34\n",
      "[3,   400] train_loss: 1.221\n",
      "test_loss: 1.223, test_accuracy: 56.02\n",
      "[3,   500] train_loss: 1.222\n",
      "test_loss: 1.206, test_accuracy: 56.37\n",
      "[4,   100] train_loss: 1.164\n",
      "test_loss: 1.248, test_accuracy: 55.56\n",
      "[4,   200] train_loss: 1.132\n",
      "test_loss: 1.198, test_accuracy: 56.58\n",
      "[4,   300] train_loss: 1.159\n",
      "test_loss: 1.196, test_accuracy: 57.23\n",
      "[4,   400] train_loss: 1.143\n",
      "test_loss: 1.177, test_accuracy: 57.52\n",
      "[4,   500] train_loss: 1.140\n",
      "test_loss: 1.184, test_accuracy: 57.48\n",
      "Epoch 00020: reducing learning rate of group 0 to 1.8454e-02.\n",
      "[5,   100] train_loss: 1.032\n",
      "test_loss: 1.138, test_accuracy: 58.93\n",
      "[5,   200] train_loss: 1.042\n",
      "test_loss: 1.126, test_accuracy: 59.52\n",
      "[5,   300] train_loss: 1.018\n",
      "test_loss: 1.120, test_accuracy: 59.84\n",
      "[5,   400] train_loss: 1.021\n",
      "test_loss: 1.122, test_accuracy: 59.61\n",
      "[5,   500] train_loss: 1.003\n",
      "test_loss: 1.115, test_accuracy: 60.26\n",
      "[6,   100] train_loss: 0.986\n",
      "test_loss: 1.110, test_accuracy: 60.54\n",
      "[6,   200] train_loss: 0.972\n",
      "test_loss: 1.116, test_accuracy: 60.48\n",
      "[6,   300] train_loss: 0.980\n",
      "test_loss: 1.130, test_accuracy: 59.88\n",
      "[6,   400] train_loss: 0.974\n",
      "test_loss: 1.124, test_accuracy: 59.86\n",
      "[6,   500] train_loss: 0.987\n",
      "test_loss: 1.094, test_accuracy: 60.68\n",
      "Epoch 00030: reducing learning rate of group 0 to 9.2268e-03.\n",
      "[7,   100] train_loss: 0.888\n",
      "test_loss: 1.080, test_accuracy: 61.74\n",
      "[7,   200] train_loss: 0.882\n",
      "test_loss: 1.074, test_accuracy: 61.88\n",
      "[7,   300] train_loss: 0.911\n",
      "test_loss: 1.080, test_accuracy: 62.12\n",
      "[7,   400] train_loss: 0.917\n",
      "test_loss: 1.065, test_accuracy: 62.19\n",
      "[7,   500] train_loss: 0.897\n",
      "test_loss: 1.062, test_accuracy: 62.08\n",
      "Epoch 00035: reducing learning rate of group 0 to 4.6134e-03.\n",
      "[8,   100] train_loss: 0.839\n",
      "test_loss: 1.051, test_accuracy: 62.65\n",
      "[8,   200] train_loss: 0.843\n",
      "test_loss: 1.050, test_accuracy: 62.65\n",
      "[8,   300] train_loss: 0.859\n",
      "test_loss: 1.048, test_accuracy: 62.66\n",
      "[8,   400] train_loss: 0.844\n",
      "test_loss: 1.053, test_accuracy: 62.57\n",
      "Epoch 00039: reducing learning rate of group 0 to 2.3067e-03.\n",
      "[8,   500] train_loss: 0.857\n",
      "test_loss: 1.041, test_accuracy: 62.97\n",
      "[9,   100] train_loss: 0.831\n",
      "test_loss: 1.043, test_accuracy: 62.98\n",
      "[9,   200] train_loss: 0.819\n",
      "test_loss: 1.044, test_accuracy: 63.24\n",
      "[9,   300] train_loss: 0.806\n",
      "test_loss: 1.044, test_accuracy: 63.14\n",
      "[9,   400] train_loss: 0.829\n",
      "test_loss: 1.042, test_accuracy: 63.05\n",
      "[9,   500] train_loss: 0.830\n",
      "test_loss: 1.043, test_accuracy: 62.74\n",
      "[10,   100] train_loss: 0.827\n",
      "test_loss: 1.042, test_accuracy: 63.23\n",
      "Epoch 00046: reducing learning rate of group 0 to 1.1533e-03.\n",
      "[10,   200] train_loss: 0.809\n",
      "test_loss: 1.040, test_accuracy: 63.18\n",
      "[10,   300] train_loss: 0.812\n",
      "test_loss: 1.041, test_accuracy: 63.22\n",
      "[10,   400] train_loss: 0.800\n",
      "test_loss: 1.040, test_accuracy: 63.05\n",
      "[10,   500] train_loss: 0.808\n",
      "test_loss: 1.040, test_accuracy: 63.05\n",
      "[11,   100] train_loss: 0.806\n",
      "test_loss: 1.038, test_accuracy: 63.24\n",
      "[11,   200] train_loss: 0.823\n",
      "test_loss: 1.040, test_accuracy: 63.23\n",
      "Epoch 00052: reducing learning rate of group 0 to 5.7667e-04.\n",
      "[11,   300] train_loss: 0.798\n",
      "test_loss: 1.040, test_accuracy: 63.2\n",
      "[11,   400] train_loss: 0.795\n",
      "test_loss: 1.039, test_accuracy: 63.18\n",
      "[11,   500] train_loss: 0.805\n",
      "test_loss: 1.040, test_accuracy: 63.17\n",
      "[12,   100] train_loss: 0.786\n",
      "test_loss: 1.039, test_accuracy: 63.12\n",
      "[12,   200] train_loss: 0.793\n",
      "test_loss: 1.039, test_accuracy: 63.07\n",
      "[12,   300] train_loss: 0.786\n",
      "test_loss: 1.041, test_accuracy: 63.24\n",
      "[12,   400] train_loss: 0.796\n",
      "test_loss: 1.041, test_accuracy: 63.34\n",
      "Epoch 00059: reducing learning rate of group 0 to 2.8834e-04.\n",
      "[12,   500] train_loss: 0.811\n",
      "test_loss: 1.039, test_accuracy: 63.35\n",
      "[13,   100] train_loss: 0.795\n",
      "test_loss: 1.038, test_accuracy: 63.33\n",
      "[13,   200] train_loss: 0.789\n",
      "test_loss: 1.040, test_accuracy: 63.4\n",
      "Epoch 00062: reducing learning rate of group 0 to 1.4417e-04.\n",
      "[13,   300] train_loss: 0.790\n",
      "test_loss: 1.040, test_accuracy: 63.24\n",
      "[13,   400] train_loss: 0.792\n",
      "test_loss: 1.038, test_accuracy: 63.28\n",
      "[13,   500] train_loss: 0.810\n",
      "test_loss: 1.038, test_accuracy: 63.34\n",
      "Epoch 00065: reducing learning rate of group 0 to 7.2084e-05.\n",
      "[14,   100] train_loss: 0.786\n",
      "test_loss: 1.039, test_accuracy: 63.25\n",
      "[14,   200] train_loss: 0.800\n",
      "test_loss: 1.039, test_accuracy: 63.35\n",
      "[14,   300] train_loss: 0.798\n",
      "test_loss: 1.039, test_accuracy: 63.37\n",
      "Epoch 00068: reducing learning rate of group 0 to 3.6042e-05.\n",
      "[14,   400] train_loss: 0.777\n",
      "test_loss: 1.039, test_accuracy: 63.24\n",
      "[14,   500] train_loss: 0.785\n",
      "test_loss: 1.039, test_accuracy: 63.3\n",
      "[15,   100] train_loss: 0.792\n",
      "test_loss: 1.039, test_accuracy: 63.32\n",
      "[15,   200] train_loss: 0.782\n",
      "test_loss: 1.039, test_accuracy: 63.25\n",
      "Epoch 00072: reducing learning rate of group 0 to 1.8021e-05.\n",
      "[15,   300] train_loss: 0.791\n",
      "test_loss: 1.039, test_accuracy: 63.36\n",
      "[15,   400] train_loss: 0.790\n",
      "test_loss: 1.039, test_accuracy: 63.4\n",
      "[15,   500] train_loss: 0.790\n",
      "test_loss: 1.039, test_accuracy: 63.41\n",
      "Epoch 00075: reducing learning rate of group 0 to 9.0105e-06.\n",
      "[16,   100] train_loss: 0.793\n",
      "test_loss: 1.039, test_accuracy: 63.26\n",
      "[16,   200] train_loss: 0.797\n",
      "test_loss: 1.039, test_accuracy: 63.37\n",
      "[16,   300] train_loss: 0.800\n",
      "test_loss: 1.039, test_accuracy: 63.07\n",
      "Epoch 00078: reducing learning rate of group 0 to 4.5053e-06.\n",
      "[16,   400] train_loss: 0.805\n",
      "test_loss: 1.039, test_accuracy: 63.3\n",
      "[16,   500] train_loss: 0.774\n",
      "test_loss: 1.038, test_accuracy: 63.34\n",
      "[17,   100] train_loss: 0.789\n",
      "test_loss: 1.038, test_accuracy: 63.39\n",
      "[17,   200] train_loss: 0.773\n",
      "test_loss: 1.039, test_accuracy: 63.22\n",
      "[17,   300] train_loss: 0.798\n",
      "test_loss: 1.039, test_accuracy: 63.43\n",
      "[17,   400] train_loss: 0.799\n",
      "test_loss: 1.038, test_accuracy: 63.41\n",
      "[17,   500] train_loss: 0.794\n",
      "test_loss: 1.039, test_accuracy: 63.24\n",
      "Epoch 00085: reducing learning rate of group 0 to 2.2526e-06.\n",
      "[18,   100] train_loss: 0.790\n",
      "test_loss: 1.040, test_accuracy: 63.2\n",
      "[18,   200] train_loss: 0.796\n",
      "test_loss: 1.039, test_accuracy: 63.35\n",
      "[18,   300] train_loss: 0.786\n",
      "test_loss: 1.039, test_accuracy: 63.18\n",
      "Epoch 00088: reducing learning rate of group 0 to 1.1263e-06.\n",
      "[18,   400] train_loss: 0.782\n",
      "test_loss: 1.039, test_accuracy: 63.33\n",
      "[18,   500] train_loss: 0.799\n",
      "test_loss: 1.038, test_accuracy: 63.26\n",
      "[19,   100] train_loss: 0.783\n",
      "test_loss: 1.039, test_accuracy: 63.29\n",
      "Epoch 00091: reducing learning rate of group 0 to 5.6316e-07.\n",
      "[19,   200] train_loss: 0.791\n",
      "test_loss: 1.039, test_accuracy: 63.27\n",
      "[19,   300] train_loss: 0.791\n",
      "test_loss: 1.039, test_accuracy: 63.37\n",
      "[19,   400] train_loss: 0.798\n",
      "test_loss: 1.039, test_accuracy: 63.23\n",
      "Epoch 00094: reducing learning rate of group 0 to 2.8158e-07.\n",
      "[19,   500] train_loss: 0.787\n",
      "test_loss: 1.039, test_accuracy: 63.29\n",
      "[20,   100] train_loss: 0.792\n",
      "test_loss: 1.038, test_accuracy: 63.38\n",
      "[20,   200] train_loss: 0.793\n",
      "test_loss: 1.038, test_accuracy: 63.21\n",
      "Epoch 00097: reducing learning rate of group 0 to 1.4079e-07.\n",
      "[20,   300] train_loss: 0.781\n",
      "test_loss: 1.039, test_accuracy: 63.39\n",
      "[20,   400] train_loss: 0.793\n",
      "test_loss: 1.039, test_accuracy: 63.41\n",
      "[20,   500] train_loss: 0.780\n",
      "test_loss: 1.039, test_accuracy: 63.35\n",
      "Epoch 00100: reducing learning rate of group 0 to 7.0395e-08.\n"
     ]
    }
   ],
   "source": [
    "criterion = CrossEntropyLoss()\n",
    "epochs = 20\n",
    "\n",
    "train_NN(LeDepthNN, criterion, train_dataloader, test_dataloader, epochs=epochs, batches_to_test=100,\n",
    "        patience=2,device=device, print_test=True, verbose=True, p_randomTransform=parameters[\"p_randomTransform\"])"
   ]
  },
  {
   "cell_type": "code",
   "execution_count": 12,
   "metadata": {},
   "outputs": [],
   "source": [
    "torch.save(LeDepthNN, \"./models/LeNet_Cifar/LeDepthNet.pth\")"
   ]
  },
  {
   "cell_type": "code",
   "execution_count": 13,
   "metadata": {},
   "outputs": [],
   "source": [
    "LeDepthNN = torch.load(\"./models/LeNet_Cifar/LeDepthNet.pth\")"
   ]
  },
  {
   "cell_type": "code",
   "execution_count": 14,
   "metadata": {},
   "outputs": [
    {
     "data": {
      "image/png": "[encoded data removed]",
      "text/plain": [
       "<Figure size 432x288 with 1 Axes>"
      ]
     },
     "metadata": {
      "needs_background": "light"
     },
     "output_type": "display_data"
    },
    {
     "data": {
      "image/png": "[encoded data removed]",
      "text/plain": [
       "<Figure size 432x288 with 1 Axes>"
      ]
     },
     "metadata": {
      "needs_background": "light"
     },
     "output_type": "display_data"
    },
    {
     "data": {
      "image/png": "[encoded data removed]",
      "text/plain": [
       "<Figure size 432x288 with 1 Axes>"
      ]
     },
     "metadata": {
      "needs_background": "light"
     },
     "output_type": "display_data"
    },
    {
     "name": "stdout",
     "output_type": "stream",
     "text": [
      "0.8200660034700004\n"
     ]
    }
   ],
   "source": [
    "plot_loss(LeDepthNN)\n",
    "plot_acc(LeDepthNN)\n",
    "\n",
    "plt.plot(LeDepthNN.train_time)\n",
    "plt.show()\n",
    "print(np.mean(LeDepthNN.train_time))"
   ]
  },
  {
   "cell_type": "code",
   "execution_count": null,
   "metadata": {},
   "outputs": [],
   "source": []
  }
 ],
 "metadata": {
  "kernelspec": {
   "display_name": "Python 3.9.12 ('base')",
   "language": "python",
   "name": "python3"
  },
  "language_info": {
   "codemirror_mode": {
    "name": "ipython",
    "version": 3
   },
   "file_extension": ".py",
   "mimetype": "text/x-python",
   "name": "python",
   "nbconvert_exporter": "python",
   "pygments_lexer": "ipython3",
   "version": "3.9.12"
  },
  "orig_nbformat": 4,
  "vscode": {
   "interpreter": {
    "hash": "4632010a9e13d22e5db6181f606bb74cee322bdf2be96a9f982ade689500be32"
   }
  }
 },
 "nbformat": 4,
 "nbformat_minor": 2
}
