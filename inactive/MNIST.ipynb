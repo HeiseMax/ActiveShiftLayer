{
 "cells": [
  {
   "cell_type": "code",
   "execution_count": 1,
   "metadata": {},
   "outputs": [],
   "source": [
    "import time\n",
    "import numpy as np\n",
    "import matplotlib.pyplot as plt\n",
    "\n",
    "import torch\n",
    "import torch.optim as optim\n",
    "from torch.nn import CrossEntropyLoss\n",
    "from torch.utils.data import DataLoader\n",
    "\n",
    "import torchvision\n",
    "import torchvision.datasets as datasets\n",
    "import torchvision.transforms as transforms\n",
    "\n",
    "from torchinfo import summary\n",
    "\n",
    "from ActiveShiftLayer import ASL\n",
    "from util import test_loss, train_NN"
   ]
  },
  {
   "cell_type": "code",
   "execution_count": 2,
   "metadata": {},
   "outputs": [
    {
     "name": "stdout",
     "output_type": "stream",
     "text": [
      "11.6\n"
     ]
    },
    {
     "data": {
      "text/plain": [
       "1"
      ]
     },
     "execution_count": 2,
     "metadata": {},
     "output_type": "execute_result"
    }
   ],
   "source": [
    "print(torch.version.cuda)\n",
    "#print(torch.zeros(1).cuda())\n",
    "torch.cuda.device_count()"
   ]
  },
  {
   "cell_type": "code",
   "execution_count": 3,
   "metadata": {},
   "outputs": [
    {
     "name": "stdout",
     "output_type": "stream",
     "text": [
      "cuda\n"
     ]
    }
   ],
   "source": [
    "if torch.cuda.is_available():\n",
    "    device = 'cuda'\n",
    "else:\n",
    "    device = 'cpu'\n",
    "print(device)"
   ]
  },
  {
   "cell_type": "code",
   "execution_count": 4,
   "metadata": {},
   "outputs": [],
   "source": [
    "batch_size = 100\n",
    "\n",
    "#transform images into normalized tensors\n",
    "transform = transforms.Compose([\n",
    "    transforms.ToTensor(),\n",
    "    transforms.Normalize(mean=(0.5,), std=(0.5,))\n",
    "])\n",
    "\n",
    "train_dataset = datasets.MNIST(\n",
    "    \"./data/MNIST\",\n",
    "    download=True,\n",
    "    train=True,\n",
    "    transform=transform,\n",
    ")\n",
    "\n",
    "test_dataset = datasets.MNIST(\n",
    "    \"./data/MNIST\",\n",
    "    download=True,\n",
    "    train=False,\n",
    "    transform=transform,\n",
    ")\n",
    "\n",
    "train_dataloader = DataLoader(\n",
    "    dataset=train_dataset,\n",
    "    batch_size=batch_size,\n",
    "    shuffle=True,\n",
    "    num_workers=1,\n",
    "    pin_memory=True,\n",
    ")\n",
    "\n",
    "test_dataloader = DataLoader(\n",
    "    dataset=test_dataset,\n",
    "    batch_size=batch_size,\n",
    "    shuffle=False,\n",
    "    num_workers=1,\n",
    "    pin_memory=True,\n",
    ")"
   ]
  },
  {
   "cell_type": "code",
   "execution_count": 8,
   "metadata": {},
   "outputs": [
    {
     "ename": "RuntimeError",
     "evalue": "CUDA error: unknown error\nCUDA kernel errors might be asynchronously reported at some other API call,so the stacktrace below might be incorrect.\nFor debugging consider passing CUDA_LAUNCH_BLOCKING=1.",
     "output_type": "error",
     "traceback": [
      "\u001b[1;31m---------------------------------------------------------------------------\u001b[0m",
      "\u001b[1;31mRuntimeError\u001b[0m                              Traceback (most recent call last)",
      "\u001b[1;32mC:\\Users\\MAXHEI~1\\AppData\\Local\\Temp/ipykernel_2744/991690071.py\u001b[0m in \u001b[0;36m<module>\u001b[1;34m\u001b[0m\n\u001b[0;32m      5\u001b[0m \u001b[0mexpansion_rate\u001b[0m \u001b[1;33m=\u001b[0m \u001b[1;36m1\u001b[0m\u001b[1;33m\u001b[0m\u001b[1;33m\u001b[0m\u001b[0m\n\u001b[0;32m      6\u001b[0m \u001b[1;33m\u001b[0m\u001b[0m\n\u001b[1;32m----> 7\u001b[1;33m \u001b[0mNN\u001b[0m \u001b[1;33m=\u001b[0m \u001b[0mMNIST_Net\u001b[0m\u001b[1;33m(\u001b[0m\u001b[0minput_shape\u001b[0m\u001b[1;33m,\u001b[0m \u001b[1;36m10\u001b[0m\u001b[1;33m,\u001b[0m \u001b[0mexpansion_rate\u001b[0m\u001b[1;33m,\u001b[0m \u001b[0mdevice\u001b[0m\u001b[1;33m)\u001b[0m\u001b[1;33m\u001b[0m\u001b[1;33m\u001b[0m\u001b[0m\n\u001b[0m\u001b[0;32m      8\u001b[0m \u001b[1;33m\u001b[0m\u001b[0m\n\u001b[0;32m      9\u001b[0m \u001b[0msummary\u001b[0m\u001b[1;33m(\u001b[0m\u001b[0mNN\u001b[0m\u001b[1;33m,\u001b[0m \u001b[0minput_shape\u001b[0m\u001b[1;33m)\u001b[0m\u001b[1;33m\u001b[0m\u001b[1;33m\u001b[0m\u001b[0m\n",
      "\u001b[1;32mc:\\Users\\Max Heise\\Documents\\Uni\\Veranstaltungen\\AML\\Abschlussprojekt\\ASL\\Models.py\u001b[0m in \u001b[0;36m__init__\u001b[1;34m(self, input_shape, num_labels, expansion_rate, device)\u001b[0m\n\u001b[0;32m    101\u001b[0m \u001b[1;32mclass\u001b[0m \u001b[0mCifar10_Net\u001b[0m\u001b[1;33m(\u001b[0m\u001b[0mModule\u001b[0m\u001b[1;33m)\u001b[0m\u001b[1;33m:\u001b[0m\u001b[1;33m\u001b[0m\u001b[1;33m\u001b[0m\u001b[0m\n\u001b[0;32m    102\u001b[0m     \u001b[1;32mdef\u001b[0m \u001b[0m__init__\u001b[0m\u001b[1;33m(\u001b[0m\u001b[0mself\u001b[0m\u001b[1;33m,\u001b[0m \u001b[0minput_shape\u001b[0m\u001b[1;33m,\u001b[0m \u001b[0mnum_labels\u001b[0m\u001b[1;33m,\u001b[0m \u001b[0mexpansion_rate\u001b[0m\u001b[1;33m=\u001b[0m\u001b[1;36m3\u001b[0m\u001b[1;33m,\u001b[0m \u001b[0mdevice\u001b[0m\u001b[1;33m=\u001b[0m\u001b[1;34m\"cpu\"\u001b[0m\u001b[1;33m)\u001b[0m\u001b[1;33m:\u001b[0m\u001b[1;33m\u001b[0m\u001b[1;33m\u001b[0m\u001b[0m\n\u001b[1;32m--> 103\u001b[1;33m         \u001b[1;34m'''input_shape: tuple (batch_size, channels, x_pixels, y_pixels)'''\u001b[0m\u001b[1;33m\u001b[0m\u001b[1;33m\u001b[0m\u001b[0m\n\u001b[0m\u001b[0;32m    104\u001b[0m         \u001b[0msuper\u001b[0m\u001b[1;33m(\u001b[0m\u001b[1;33m)\u001b[0m\u001b[1;33m.\u001b[0m\u001b[0m__init__\u001b[0m\u001b[1;33m(\u001b[0m\u001b[1;33m)\u001b[0m\u001b[1;33m\u001b[0m\u001b[1;33m\u001b[0m\u001b[0m\n\u001b[0;32m    105\u001b[0m \u001b[1;33m\u001b[0m\u001b[0m\n",
      "\u001b[1;32mc:\\Users\\Max Heise\\Documents\\Uni\\Veranstaltungen\\AML\\Abschlussprojekt\\ASL\\Models.py\u001b[0m in \u001b[0;36m__init__\u001b[1;34m(self, input_size, expansion_rate, device)\u001b[0m\n\u001b[0;32m     67\u001b[0m             \u001b[0mBatchNorm2d\u001b[0m\u001b[1;33m(\u001b[0m\u001b[0mexpanded_size\u001b[0m\u001b[1;33m)\u001b[0m\u001b[1;33m,\u001b[0m\u001b[1;33m\u001b[0m\u001b[1;33m\u001b[0m\u001b[0m\n\u001b[0;32m     68\u001b[0m             \u001b[0mReLU\u001b[0m\u001b[1;33m(\u001b[0m\u001b[1;33m)\u001b[0m\u001b[1;33m,\u001b[0m\u001b[1;33m\u001b[0m\u001b[1;33m\u001b[0m\u001b[0m\n\u001b[1;32m---> 69\u001b[1;33m             \u001b[0mASL\u001b[0m\u001b[1;33m(\u001b[0m\u001b[0mexpanded_size\u001b[0m\u001b[1;33m,\u001b[0m \u001b[0mdevice\u001b[0m\u001b[1;33m)\u001b[0m\u001b[1;33m,\u001b[0m\u001b[1;33m\u001b[0m\u001b[1;33m\u001b[0m\u001b[0m\n\u001b[0m\u001b[0;32m     70\u001b[0m             \u001b[0mConv2d\u001b[0m\u001b[1;33m(\u001b[0m\u001b[0mexpanded_size\u001b[0m\u001b[1;33m,\u001b[0m \u001b[0moutput_size\u001b[0m\u001b[1;33m,\u001b[0m \u001b[1;36m1\u001b[0m\u001b[1;33m)\u001b[0m\u001b[1;33m\u001b[0m\u001b[1;33m\u001b[0m\u001b[0m\n\u001b[0;32m     71\u001b[0m         )\n",
      "\u001b[1;32mc:\\Users\\Max Heise\\Documents\\Uni\\Veranstaltungen\\AML\\Abschlussprojekt\\ASL\\ActiveShiftLayer.py\u001b[0m in \u001b[0;36m__init__\u001b[1;34m(self, size_in, device)\u001b[0m\n\u001b[0;32m     15\u001b[0m         self.initial = torch.rand(\n\u001b[0;32m     16\u001b[0m             (self.size_in, 2), requires_grad=True) * 2 - 1\n\u001b[1;32m---> 17\u001b[1;33m         \u001b[0mself\u001b[0m\u001b[1;33m.\u001b[0m\u001b[0mshifts\u001b[0m \u001b[1;33m=\u001b[0m \u001b[0mnn\u001b[0m\u001b[1;33m.\u001b[0m\u001b[0mParameter\u001b[0m\u001b[1;33m(\u001b[0m\u001b[0mself\u001b[0m\u001b[1;33m.\u001b[0m\u001b[0minitial\u001b[0m\u001b[1;33m.\u001b[0m\u001b[0mclone\u001b[0m\u001b[1;33m(\u001b[0m\u001b[1;33m)\u001b[0m\u001b[1;33m.\u001b[0m\u001b[0mto\u001b[0m\u001b[1;33m(\u001b[0m\u001b[0mdevice\u001b[0m\u001b[1;33m)\u001b[0m\u001b[1;33m)\u001b[0m\u001b[1;33m\u001b[0m\u001b[1;33m\u001b[0m\u001b[0m\n\u001b[0m\u001b[0;32m     18\u001b[0m \u001b[1;33m\u001b[0m\u001b[0m\n\u001b[0;32m     19\u001b[0m     \u001b[1;32mdef\u001b[0m \u001b[0mforward\u001b[0m\u001b[1;33m(\u001b[0m\u001b[0mself\u001b[0m\u001b[1;33m,\u001b[0m \u001b[0mx\u001b[0m\u001b[1;33m)\u001b[0m\u001b[1;33m:\u001b[0m\u001b[1;33m\u001b[0m\u001b[1;33m\u001b[0m\u001b[0m\n",
      "\u001b[1;31mRuntimeError\u001b[0m: CUDA error: unknown error\nCUDA kernel errors might be asynchronously reported at some other API call,so the stacktrace below might be incorrect.\nFor debugging consider passing CUDA_LAUNCH_BLOCKING=1."
     ]
    }
   ],
   "source": [
    "from Models import MNIST_Net\n",
    "\n",
    "p_drop = 0.05\n",
    "input_shape = (batch_size, 1, 28, 28)\n",
    "expansion_rate = 1\n",
    "\n",
    "NN = MNIST_Net(input_shape, 10, expansion_rate, device)\n",
    "\n",
    "summary(NN, input_shape)"
   ]
  },
  {
   "cell_type": "code",
   "execution_count": 21,
   "metadata": {},
   "outputs": [],
   "source": [
    "criterion = CrossEntropyLoss()\n",
    "optimizer = optim.SGD(NN.parameters(), lr=0.05, momentum=0.9)\n",
    "scheduler = optim.lr_scheduler.ExponentialLR(optimizer, gamma=0.9)"
   ]
  },
  {
   "cell_type": "code",
   "execution_count": 22,
   "metadata": {},
   "outputs": [
    {
     "name": "stdout",
     "output_type": "stream",
     "text": [
      "[1,   100] train_loss: 0.829\n",
      "test_loss: 0.304, test_accuracy: 90.83\n",
      "[1,   200] train_loss: 0.255\n",
      "test_loss: 0.175, test_accuracy: 94.98\n",
      "[1,   300] train_loss: 0.185\n",
      "test_loss: 0.127, test_accuracy: 96.01\n",
      "[1,   400] train_loss: 0.146\n",
      "test_loss: 0.121, test_accuracy: 96.39\n",
      "[1,   500] train_loss: 0.126\n",
      "test_loss: 0.111, test_accuracy: 96.53\n",
      "[1,   600] train_loss: 0.124\n",
      "test_loss: 0.094, test_accuracy: 97.02\n",
      "[2,   100] train_loss: 0.112\n",
      "test_loss: 0.090, test_accuracy: 97.0\n",
      "[2,   200] train_loss: 0.104\n",
      "test_loss: 0.082, test_accuracy: 97.28\n",
      "[2,   300] train_loss: 0.118\n",
      "test_loss: 0.082, test_accuracy: 97.48\n",
      "[2,   400] train_loss: 0.098\n",
      "test_loss: 0.077, test_accuracy: 97.44\n",
      "[2,   500] train_loss: 0.108\n",
      "test_loss: 0.121, test_accuracy: 95.9\n",
      "[2,   600] train_loss: 0.111\n",
      "test_loss: 0.084, test_accuracy: 97.24\n",
      "[3,   100] train_loss: 0.096\n",
      "test_loss: 0.077, test_accuracy: 97.61\n",
      "[3,   200] train_loss: 0.086\n",
      "test_loss: 0.072, test_accuracy: 97.69\n",
      "[3,   300] train_loss: 0.090\n",
      "test_loss: 0.069, test_accuracy: 97.68\n",
      "[3,   400] train_loss: 0.084\n",
      "test_loss: 0.069, test_accuracy: 97.8\n",
      "[3,   500] train_loss: 0.084\n",
      "test_loss: 0.071, test_accuracy: 97.64\n",
      "[3,   600] train_loss: 0.101\n",
      "test_loss: 0.077, test_accuracy: 97.5\n",
      "[4,   100] train_loss: 0.086\n",
      "test_loss: 0.073, test_accuracy: 97.62\n",
      "[4,   200] train_loss: 0.081\n",
      "test_loss: 0.068, test_accuracy: 97.77\n",
      "[4,   300] train_loss: 0.082\n",
      "test_loss: 0.070, test_accuracy: 97.72\n",
      "[4,   400] train_loss: 0.079\n",
      "test_loss: 0.060, test_accuracy: 98.09\n",
      "[4,   500] train_loss: 0.085\n",
      "test_loss: 0.068, test_accuracy: 97.85\n",
      "[4,   600] train_loss: 0.074\n",
      "test_loss: 0.063, test_accuracy: 97.94\n",
      "[5,   100] train_loss: 0.068\n",
      "test_loss: 0.068, test_accuracy: 97.67\n",
      "[5,   200] train_loss: 0.075\n",
      "test_loss: 0.065, test_accuracy: 97.85\n",
      "[5,   300] train_loss: 0.077\n",
      "test_loss: 0.061, test_accuracy: 98.03\n",
      "[5,   400] train_loss: 0.078\n",
      "test_loss: 0.069, test_accuracy: 97.74\n",
      "[5,   500] train_loss: 0.075\n",
      "test_loss: 0.062, test_accuracy: 97.87\n",
      "[5,   600] train_loss: 0.079\n",
      "test_loss: 0.058, test_accuracy: 98.18\n",
      "[6,   100] train_loss: 0.069\n",
      "test_loss: 0.062, test_accuracy: 97.96\n",
      "[6,   200] train_loss: 0.071\n",
      "test_loss: 0.058, test_accuracy: 98.19\n",
      "[6,   300] train_loss: 0.074\n",
      "test_loss: 0.056, test_accuracy: 98.1\n",
      "[6,   400] train_loss: 0.065\n",
      "test_loss: 0.062, test_accuracy: 97.99\n",
      "[6,   500] train_loss: 0.072\n",
      "test_loss: 0.060, test_accuracy: 98.0\n",
      "[6,   600] train_loss: 0.068\n",
      "test_loss: 0.058, test_accuracy: 98.17\n"
     ]
    }
   ],
   "source": [
    "stats = train_NN(NN, train_dataloader,\n",
    "        test_dataloader, epochs=6, optimizer=optimizer, criterion=criterion,\n",
    "        scheduler=scheduler, device=device, steps_to_test=100, print_test=True)"
   ]
  },
  {
   "cell_type": "code",
   "execution_count": 19,
   "metadata": {},
   "outputs": [],
   "source": [
    "stats2 = stats"
   ]
  },
  {
   "cell_type": "code",
   "execution_count": 23,
   "metadata": {},
   "outputs": [
    {
     "name": "stdout",
     "output_type": "stream",
     "text": [
      "([0.303780458830297, 0.17472058058716355, 0.12711384054739028, 0.12111695876810699, 0.11058818210149184, 0.09350341821555049, 0.08959300294169224, 0.08180023008375428, 0.08158241088269279, 0.07672821375075728, 0.12089886550791562, 0.08429738962557166, 0.07662617516121827, 0.07209429393871687, 0.06879797712666914, 0.06850464665330946, 0.07074262810754589, 0.07686103872139938, 0.07253541626268997, 0.06762086492264643, 0.0701869408035418, 0.06045387425809167, 0.06756354936864227, 0.06309828676865437, 0.06833307527704165, 0.06473079573828727, 0.06118089457799215, 0.06873418905190193, 0.06198346272693016, 0.05811614379868843, 0.06241421643819194, 0.05833364316727966, 0.0560427383496426, 0.06163111592642963, 0.05951772977015935, 0.05762471069465391], [0.8293359422683716, 0.25525489963591097, 0.18506581827998161, 0.14641657385975124, 0.12633395040407777, 0.12441986307501793, 0.11217363255098461, 0.10427631927654148, 0.11824932269752025, 0.09795638391748071, 0.10779900902882218, 0.11092202566564083, 0.09574869886040688, 0.08636514733545482, 0.08980148784816265, 0.08442434304393828, 0.08378027123399079, 0.10076517147012055, 0.08585464032366871, 0.08129675372503697, 0.08190438920632005, 0.07928951207548379, 0.08530279943719506, 0.07398755968548358, 0.06800576034002007, 0.07478771754540503, 0.07722902831621468, 0.07799326745793224, 0.07515117473434657, 0.07855380210559815, 0.068601997140795, 0.07058628532337025, 0.07409737779758871, 0.06468105401843786, 0.07179987864568829, 0.06828083846718074], [90.83, 94.98, 96.01, 96.39, 96.53, 97.02, 97.0, 97.28, 97.48, 97.44, 95.9, 97.24, 97.61, 97.69, 97.68, 97.8, 97.64, 97.5, 97.62, 97.77, 97.72, 98.09, 97.85, 97.94, 97.67, 97.85, 98.03, 97.74, 97.87, 98.18, 97.96, 98.19, 98.1, 97.99, 98.0, 98.17], [36.859375, 37.703125, 37.203125, 36.875, 37.0625, 39.4375])\n"
     ]
    }
   ],
   "source": [
    "print(stats)"
   ]
  },
  {
   "cell_type": "code",
   "execution_count": 24,
   "metadata": {},
   "outputs": [
    {
     "data": {
      "image/png": "[encoded data removed]",
      "text/plain": [
       "<Figure size 432x288 with 1 Axes>"
      ]
     },
     "metadata": {
      "needs_background": "light"
     },
     "output_type": "display_data"
    },
    {
     "data": {
      "image/png": "[encoded data removed]",
      "text/plain": [
       "<Figure size 432x288 with 1 Axes>"
      ]
     },
     "metadata": {
      "needs_background": "light"
     },
     "output_type": "display_data"
    },
    {
     "data": {
      "image/png": "[encoded data removed]",
      "text/plain": [
       "<Figure size 432x288 with 1 Axes>"
      ]
     },
     "metadata": {
      "needs_background": "light"
     },
     "output_type": "display_data"
    },
    {
     "data": {
      "image/png": "[encoded data removed]",
      "text/plain": [
       "<Figure size 432x288 with 1 Axes>"
      ]
     },
     "metadata": {
      "needs_background": "light"
     },
     "output_type": "display_data"
    }
   ],
   "source": [
    "plt.plot(stats[0])\n",
    "plt.show()\n",
    "plt.plot(stats[1])\n",
    "plt.show()\n",
    "plt.plot(stats[2])\n",
    "plt.show()\n",
    "plt.plot(stats[3])\n",
    "plt.show()"
   ]
  },
  {
   "cell_type": "code",
   "execution_count": 23,
   "metadata": {},
   "outputs": [
    {
     "name": "stdout",
     "output_type": "stream",
     "text": [
      "[1,   100] train_loss: 0.061\n",
      "(0.05311937771271914, 98.2)\n",
      "[1,   200] train_loss: 0.053\n",
      "(0.059031368843861856, 98.01)\n",
      "[1,   300] train_loss: 0.053\n",
      "(0.05353626917873044, 98.23)\n",
      "[1,   400] train_loss: 0.064\n",
      "(0.053250387821753974, 98.3)\n",
      "[1,   500] train_loss: 0.048\n",
      "(0.05527240294148214, 98.13)\n",
      "[1,   600] train_loss: 0.063\n",
      "(0.05131261435570195, 98.32)\n",
      "[2,   100] train_loss: 0.050\n",
      "(0.05090497891214909, 98.3)\n",
      "[2,   200] train_loss: 0.054\n",
      "(0.05194674534490332, 98.23)\n",
      "[2,   300] train_loss: 0.057\n",
      "(0.05115531984542031, 98.33)\n",
      "[2,   400] train_loss: 0.060\n",
      "(0.06059402960236184, 98.04)\n",
      "[2,   500] train_loss: 0.052\n",
      "(0.050910910094389694, 98.33)\n",
      "[2,   600] train_loss: 0.055\n",
      "(0.06105333242448978, 97.95)\n",
      "[3,   100] train_loss: 0.049\n",
      "(0.05134971106512239, 98.28)\n",
      "[3,   200] train_loss: 0.050\n",
      "(0.050152129139460155, 98.31)\n",
      "[3,   300] train_loss: 0.055\n",
      "(0.049587815105041955, 98.28)\n",
      "[3,   400] train_loss: 0.055\n",
      "(0.050915456654620356, 98.15)\n",
      "[3,   500] train_loss: 0.053\n",
      "(0.052116794208995995, 98.33)\n",
      "[3,   600] train_loss: 0.058\n",
      "(0.0508662471966818, 98.32)\n",
      "[4,   100] train_loss: 0.044\n",
      "(0.04985651667608181, 98.25)\n",
      "[4,   200] train_loss: 0.055\n",
      "(0.04803701606200775, 98.36)\n",
      "[4,   300] train_loss: 0.056\n",
      "(0.05345476313479594, 98.1)\n",
      "[4,   400] train_loss: 0.054\n",
      "(0.050420188232674266, 98.3)\n",
      "[4,   500] train_loss: 0.052\n",
      "(0.05940192152338568, 98.05)\n",
      "[4,   600] train_loss: 0.054\n",
      "(0.050277181120181924, 98.33)\n",
      "157.65625\n"
     ]
    }
   ],
   "source": [
    "start = time.process_time_ns()\n",
    "for epoch in range(4):  # loop over the dataset multiple times\n",
    "\n",
    "    running_loss = 0.0\n",
    "    for i, data in enumerate(train_dataloader, 0):\n",
    "        # get the inputs; data is a list of [inputs, labels]\n",
    "        inputs, labels = data\n",
    "        inputs = inputs.to(device)\n",
    "        labels = labels.to(device)\n",
    "\n",
    "        # zero the parameter gradients\n",
    "        optimizer.zero_grad()\n",
    "\n",
    "        # forward + backward + optimize\n",
    "        outputs = NN(inputs)\n",
    "        loss = criterion(outputs, labels)\n",
    "        loss.backward()\n",
    "        optimizer.step()\n",
    "\n",
    "        # print statistics\n",
    "        running_loss += loss.item()\n",
    "        if i % 100 == 99:    # print every 100 mini-batches\n",
    "            print(f'[{epoch + 1}, {i + 1:5d}] train_loss: {running_loss / 100:.3f}')\n",
    "            running_loss = 0.0\n",
    "            print(test_loss(NN, test_dataloader, criterion, device))\n",
    "    scheduler.step()\n",
    "end = time.process_time_ns()\n",
    "\n",
    "etime = (end - start) * 1e-9\n",
    "print(etime)"
   ]
  },
  {
   "cell_type": "code",
   "execution_count": 24,
   "metadata": {},
   "outputs": [
    {
     "data": {
      "image/png": "[encoded data removed]",
      "text/plain": [
       "<Figure size 432x288 with 1 Axes>"
      ]
     },
     "metadata": {
      "needs_background": "light"
     },
     "output_type": "display_data"
    },
    {
     "data": {
      "image/png": "[encoded data removed]",
      "text/plain": [
       "<Figure size 432x288 with 1 Axes>"
      ]
     },
     "metadata": {
      "needs_background": "light"
     },
     "output_type": "display_data"
    },
    {
     "name": "stdout",
     "output_type": "stream",
     "text": [
      "1.9767733\n"
     ]
    },
    {
     "data": {
      "image/png": "[encoded data removed]",
      "text/plain": [
       "<Figure size 432x288 with 1 Axes>"
      ]
     },
     "metadata": {
      "needs_background": "light"
     },
     "output_type": "display_data"
    },
    {
     "data": {
      "image/png": "[encoded data removed]",
      "text/plain": [
       "<Figure size 432x288 with 1 Axes>"
      ]
     },
     "metadata": {
      "needs_background": "light"
     },
     "output_type": "display_data"
    }
   ],
   "source": [
    "points = NN.NN[1].NN[3].shifts.detach().to(\"cpu\").numpy()\n",
    "initial_points = NN.NN[1].NN[3].initial.detach().to(\"cpu\").numpy()\n",
    "plt.scatter(initial_points[:, 0], initial_points[:,1])\n",
    "plt.show()\n",
    "plt.scatter(points[:, 0], points[:,1])\n",
    "plt.show()\n",
    "\n",
    "points = NN.NN[2].NN[3].shifts.detach().to(\"cpu\").numpy()\n",
    "initial_points = NN.NN[2].NN[3].initial.detach().to(\"cpu\").numpy()\n",
    "print(np.max(points))\n",
    "plt.scatter(initial_points[:, 0], initial_points[:,1])\n",
    "plt.show()\n",
    "plt.scatter(points[:, 0], points[:,1])\n",
    "plt.show()"
   ]
  },
  {
   "cell_type": "code",
   "execution_count": 23,
   "metadata": {},
   "outputs": [
    {
     "data": {
      "text/plain": [
       "==========================================================================================\n",
       "Layer (type:depth-idx)                   Output Shape              Param #\n",
       "==========================================================================================\n",
       "MNIST_conv_Net                           [100, 10]                 --\n",
       "├─Sequential: 1-1                        --                        --\n",
       "│    └─Conv2d: 2-1                       [100, 32, 28, 28]         64\n",
       "│    └─BatchNorm2d: 2-2                  [100, 32, 28, 28]         64\n",
       "│    └─ReLU: 2-3                         [100, 32, 28, 28]         --\n",
       "│    └─Conv2d: 2-4                       [100, 32, 28, 28]         9,248\n",
       "│    └─BatchNorm2d: 2-5                  [100, 32, 28, 28]         64\n",
       "│    └─ReLU: 2-6                         [100, 32, 28, 28]         --\n",
       "│    └─Conv2d: 2-7                       [100, 32, 28, 28]         25,632\n",
       "│    └─BatchNorm2d: 2-8                  [100, 32, 28, 28]         64\n",
       "│    └─ReLU: 2-9                         [100, 32, 28, 28]         --\n",
       "│    └─AvgPool2d: 2-10                   [100, 32, 4, 4]           --\n",
       "│    └─Flatten: 2-11                     [100, 512]                --\n",
       "│    └─Linear: 2-12                      [100, 10]                 5,130\n",
       "==========================================================================================\n",
       "Total params: 40,266\n",
       "Trainable params: 40,266\n",
       "Non-trainable params: 0\n",
       "Total mult-adds (G): 2.74\n",
       "==========================================================================================\n",
       "Input size (MB): 0.31\n",
       "Forward/backward pass size (MB): 120.43\n",
       "Params size (MB): 0.16\n",
       "Estimated Total Size (MB): 120.91\n",
       "=========================================================================================="
      ]
     },
     "execution_count": 23,
     "metadata": {},
     "output_type": "execute_result"
    }
   ],
   "source": [
    "from Models import MNIST_conv_Net\n",
    "\n",
    "p_drop = 0.05\n",
    "input_shape = (batch_size, 1, 28, 28)\n",
    "\n",
    "NN2 = MNIST_conv_Net(input_shape, 10)\n",
    "\n",
    "summary(NN2, input_shape)"
   ]
  },
  {
   "cell_type": "code",
   "execution_count": 24,
   "metadata": {},
   "outputs": [],
   "source": [
    "criterion = CrossEntropyLoss()\n",
    "optimizer = optim.SGD(NN2.parameters(), lr=0.05, momentum=0.9)\n",
    "scheduler = optim.lr_scheduler.ExponentialLR(optimizer, gamma=0.9)"
   ]
  },
  {
   "cell_type": "code",
   "execution_count": 25,
   "metadata": {},
   "outputs": [
    {
     "name": "stdout",
     "output_type": "stream",
     "text": [
      "[1,   100] train_loss: 0.461\n",
      "(0.121927930675447, 96.43)\n",
      "[1,   200] train_loss: 0.131\n",
      "(0.08365229741670191, 97.49)\n",
      "[1,   300] train_loss: 0.107\n",
      "(0.06615080372663215, 97.9)\n",
      "[1,   400] train_loss: 0.083\n",
      "(0.06283143160515464, 98.08)\n",
      "[1,   500] train_loss: 0.081\n",
      "(0.06338795224088244, 97.96)\n",
      "[1,   600] train_loss: 0.074\n",
      "(0.06811735047958792, 97.62)\n",
      "[2,   100] train_loss: 0.065\n",
      "(0.056236699686851355, 98.18)\n",
      "[2,   200] train_loss: 0.056\n",
      "(0.046598938982351686, 98.49)\n",
      "[2,   300] train_loss: 0.058\n",
      "(0.04778041346522514, 98.42)\n",
      "[2,   400] train_loss: 0.060\n",
      "(0.0473111592719215, 98.38)\n",
      "[2,   500] train_loss: 0.058\n",
      "(0.049529263663862365, 98.46)\n",
      "[2,   600] train_loss: 0.057\n",
      "(0.050539112215628845, 98.24)\n",
      "<module 'time' (built-in)>\n"
     ]
    }
   ],
   "source": [
    "start = time.process_time_ns()\n",
    "for epoch in range(2):  # loop over the dataset multiple times\n",
    "\n",
    "    running_loss = 0.0\n",
    "    for i, data in enumerate(train_dataloader, 0):\n",
    "        # get the inputs; data is a list of [inputs, labels]\n",
    "        inputs, labels = data\n",
    "        inputs = inputs.to(device)\n",
    "        labels = labels.to(device)\n",
    "\n",
    "        # zero the parameter gradients\n",
    "        optimizer.zero_grad()\n",
    "\n",
    "        # forward + backward + optimize\n",
    "        outputs = NN2(inputs)\n",
    "        loss = criterion(outputs, labels)\n",
    "        loss.backward()\n",
    "        optimizer.step()\n",
    "\n",
    "        # print statistics\n",
    "        running_loss += loss.item()\n",
    "        if i % 100 == 99:    # print every 100 mini-batches\n",
    "            print(f'[{epoch + 1}, {i + 1:5d}] train_loss: {running_loss / 100:.3f}')\n",
    "            running_loss = 0.0\n",
    "            print(test_loss(NN2, test_dataloader, criterion, device))\n",
    "    scheduler.step()\n",
    "\n",
    "end = time.process_time_ns()\n",
    "\n",
    "ex_time = (end - start) * 1e-9\n",
    "print(ex_time)\n"
   ]
  },
  {
   "cell_type": "code",
   "execution_count": 26,
   "metadata": {},
   "outputs": [
    {
     "name": "stdout",
     "output_type": "stream",
     "text": [
      "74.25\n"
     ]
    }
   ],
   "source": [
    "print(ex_time)"
   ]
  },
  {
   "cell_type": "code",
   "execution_count": 6,
   "metadata": {},
   "outputs": [
    {
     "data": {
      "text/plain": [
       "==========================================================================================\n",
       "Layer (type:depth-idx)                   Output Shape              Param #\n",
       "==========================================================================================\n",
       "MNIST_ownconv_Net                        [100, 10]                 --\n",
       "├─Sequential: 1-1                        --                        --\n",
       "│    └─Convolution: 2-1                  [100, 32, 28, 28]         64\n",
       "│    └─BatchNorm2d: 2-2                  [100, 32, 28, 28]         64\n",
       "│    └─ReLU: 2-3                         [100, 32, 28, 28]         --\n",
       "│    └─Convolution: 2-4                  [100, 32, 28, 28]         9,248\n",
       "│    └─BatchNorm2d: 2-5                  [100, 32, 28, 28]         64\n",
       "│    └─ReLU: 2-6                         [100, 32, 28, 28]         --\n",
       "│    └─Convolution: 2-7                  [100, 32, 28, 28]         25,632\n",
       "│    └─BatchNorm2d: 2-8                  [100, 32, 28, 28]         64\n",
       "│    └─ReLU: 2-9                         [100, 32, 28, 28]         --\n",
       "│    └─AvgPool2d: 2-10                   [100, 32, 4, 4]           --\n",
       "│    └─Flatten: 2-11                     [100, 512]                --\n",
       "│    └─Linear: 2-12                      [100, 10]                 5,130\n",
       "==========================================================================================\n",
       "Total params: 40,266\n",
       "Trainable params: 40,266\n",
       "Non-trainable params: 0\n",
       "Total mult-adds (M): 119.57\n",
       "==========================================================================================\n",
       "Input size (MB): 0.31\n",
       "Forward/backward pass size (MB): 120.43\n",
       "Params size (MB): 0.16\n",
       "Estimated Total Size (MB): 120.91\n",
       "=========================================================================================="
      ]
     },
     "execution_count": 6,
     "metadata": {},
     "output_type": "execute_result"
    }
   ],
   "source": [
    "from Models import MNIST_ownconv_Net\n",
    "\n",
    "p_drop = 0.05\n",
    "input_shape = (batch_size, 1, 28, 28)\n",
    "\n",
    "NN7 = MNIST_ownconv_Net(input_shape, 10)\n",
    "\n",
    "summary(NN7, input_shape)"
   ]
  },
  {
   "cell_type": "code",
   "execution_count": 7,
   "metadata": {},
   "outputs": [],
   "source": [
    "criterion = CrossEntropyLoss()\n",
    "optimizer = optim.SGD(NN7.parameters(), lr=0.05, momentum=0.9)\n",
    "scheduler = optim.lr_scheduler.ExponentialLR(optimizer, gamma=0.9)"
   ]
  },
  {
   "cell_type": "code",
   "execution_count": 8,
   "metadata": {},
   "outputs": [
    {
     "name": "stdout",
     "output_type": "stream",
     "text": [
      "[1,   100] train_loss: 0.443\n",
      "(0.14954133453778923, 95.65)\n",
      "[1,   200] train_loss: 0.142\n",
      "(0.11050664996728302, 96.8)\n",
      "[1,   300] train_loss: 0.113\n",
      "(0.08021390593145043, 97.49)\n",
      "[1,   400] train_loss: 0.091\n",
      "(0.07375362691702321, 97.68)\n",
      "[1,   500] train_loss: 0.075\n",
      "(0.07009124706848524, 97.74)\n",
      "[1,   600] train_loss: 0.073\n",
      "(0.05946745510678739, 98.15)\n",
      "[2,   100] train_loss: 0.068\n",
      "(0.04791582834965084, 98.52)\n",
      "[2,   200] train_loss: 0.065\n",
      "(0.05863465374568477, 97.94)\n",
      "[2,   300] train_loss: 0.061\n",
      "(0.05941478566732258, 98.03)\n",
      "[2,   400] train_loss: 0.064\n",
      "(0.045471809108857994, 98.55)\n",
      "[2,   500] train_loss: 0.061\n",
      "(0.04623834103695117, 98.41)\n",
      "[2,   600] train_loss: 0.051\n",
      "(0.04385421248618513, 98.55)\n",
      "<module 'time' (built-in)>\n"
     ]
    }
   ],
   "source": [
    "start = time.process_time_ns()\n",
    "for epoch in range(2):  # loop over the dataset multiple times\n",
    "\n",
    "    running_loss = 0.0\n",
    "    for i, data in enumerate(train_dataloader, 0):\n",
    "        # get the inputs; data is a list of [inputs, labels]\n",
    "        inputs, labels = data\n",
    "        inputs = inputs.to(device)\n",
    "        labels = labels.to(device)\n",
    "\n",
    "        # zero the parameter gradients\n",
    "        optimizer.zero_grad()\n",
    "\n",
    "        # forward + backward + optimize\n",
    "        outputs = NN7(inputs)\n",
    "        loss = criterion(outputs, labels)\n",
    "        loss.backward()\n",
    "        optimizer.step()\n",
    "\n",
    "        # print statistics\n",
    "        running_loss += loss.item()\n",
    "        if i % 100 == 99:    # print every 100 mini-batches\n",
    "            print(f'[{epoch + 1}, {i + 1:5d}] train_loss: {running_loss / 100:.3f}')\n",
    "            running_loss = 0.0\n",
    "            print(test_loss(NN7, test_dataloader, criterion, device))\n",
    "    scheduler.step()\n",
    "\n",
    "end = time.process_time_ns()\n",
    "\n",
    "ex_time = (end - start) * 1e-9\n",
    "print(ex_time)\n"
   ]
  },
  {
   "cell_type": "code",
   "execution_count": 9,
   "metadata": {},
   "outputs": [
    {
     "name": "stdout",
     "output_type": "stream",
     "text": [
      "75.90625\n"
     ]
    }
   ],
   "source": [
    "print(ex_time)"
   ]
  },
  {
   "cell_type": "code",
   "execution_count": 9,
   "metadata": {},
   "outputs": [
    {
     "data": {
      "text/plain": [
       "==========================================================================================\n",
       "Layer (type:depth-idx)                   Output Shape              Param #\n",
       "==========================================================================================\n",
       "MNIST_Net2                               [100, 10]                 --\n",
       "├─Sequential: 1-1                        --                        --\n",
       "│    └─Conv2d: 2-1                       [100, 32, 28, 28]         64\n",
       "│    └─CSC_block: 2-2                    [100, 32, 28, 28]         --\n",
       "│    │    └─Sequential: 3-1              --                        6,720\n",
       "│    └─CSC_block: 2-3                    [100, 32, 28, 28]         --\n",
       "│    │    └─Sequential: 3-2              --                        6,720\n",
       "│    └─CSC_block: 2-4                    [100, 32, 28, 28]         --\n",
       "│    │    └─Sequential: 3-3              --                        6,720\n",
       "│    └─AvgPool2d: 2-5                    [100, 32, 4, 4]           --\n",
       "│    └─Flatten: 2-6                      [100, 512]                --\n",
       "│    └─Linear: 2-7                       [100, 10]                 5,130\n",
       "==========================================================================================\n",
       "Total params: 25,354\n",
       "Trainable params: 25,354\n",
       "Non-trainable params: 0\n",
       "Total mult-adds (G): 1.48\n",
       "==========================================================================================\n",
       "Input size (MB): 0.31\n",
       "Forward/backward pass size (MB): 682.40\n",
       "Params size (MB): 0.10\n",
       "Estimated Total Size (MB): 682.82\n",
       "=========================================================================================="
      ]
     },
     "execution_count": 9,
     "metadata": {},
     "output_type": "execute_result"
    }
   ],
   "source": [
    "from Models import MNIST_Net2\n",
    "\n",
    "expansion_rate = 3\n",
    "input_shape = (batch_size, 1, 28, 28)\n",
    "\n",
    "NN3 = MNIST_Net2(input_shape, 10)\n",
    "\n",
    "summary(NN3, input_shape)"
   ]
  },
  {
   "cell_type": "code",
   "execution_count": 7,
   "metadata": {},
   "outputs": [],
   "source": [
    "criterion = CrossEntropyLoss()\n",
    "optimizer = optim.SGD(NN3.parameters(), lr=0.05, momentum=0.9)\n",
    "scheduler = optim.lr_scheduler.ExponentialLR(optimizer, gamma=0.9)"
   ]
  },
  {
   "cell_type": "code",
   "execution_count": 8,
   "metadata": {},
   "outputs": [
    {
     "name": "stdout",
     "output_type": "stream",
     "text": [
      "[1,   100] train_loss: 0.509\n",
      "(0.23171740879304706, 93.05)\n",
      "[1,   200] train_loss: 0.176\n",
      "(0.11580315442988649, 96.14)\n",
      "[1,   300] train_loss: 0.130\n",
      "(0.11617182110901922, 96.27)\n",
      "[1,   400] train_loss: 0.132\n",
      "(0.09387944596121088, 96.96)\n",
      "[1,   500] train_loss: 0.134\n",
      "(0.09338684955437201, 96.9)\n",
      "[1,   600] train_loss: 0.102\n",
      "(0.06715060683432966, 97.68)\n",
      "[2,   100] train_loss: 0.091\n",
      "(0.07073068731755484, 97.68)\n",
      "[2,   200] train_loss: 0.087\n",
      "(0.08192401613050607, 97.34)\n",
      "[2,   300] train_loss: 0.084\n",
      "(0.07734284515725448, 97.61)\n",
      "[2,   400] train_loss: 0.082\n",
      "(0.0925876001745928, 97.02)\n",
      "[2,   500] train_loss: 0.088\n",
      "(0.09988075721426867, 96.62)\n",
      "[2,   600] train_loss: 0.080\n",
      "(0.06303482159040869, 97.96)\n"
     ]
    }
   ],
   "source": [
    "for epoch in range(2):  # loop over the dataset multiple times\n",
    "\n",
    "    running_loss = 0.0\n",
    "    for i, data in enumerate(train_dataloader, 0):\n",
    "        # get the inputs; data is a list of [inputs, labels]\n",
    "        inputs, labels = data\n",
    "        inputs = inputs.to(device)\n",
    "        labels = labels.to(device)\n",
    "\n",
    "        # zero the parameter gradients\n",
    "        optimizer.zero_grad()\n",
    "\n",
    "        # forward + backward + optimize\n",
    "        outputs = NN3(inputs)\n",
    "        loss = criterion(outputs, labels)\n",
    "        loss.backward()\n",
    "        optimizer.step()\n",
    "\n",
    "        # print statistics\n",
    "        running_loss += loss.item()\n",
    "        if i % 100 == 99:    # print every 100 mini-batches\n",
    "            print(f'[{epoch + 1}, {i + 1:5d}] train_loss: {running_loss / 100:.3f}')\n",
    "            running_loss = 0.0\n",
    "            print(test_loss(NN3, test_dataloader, criterion, device))\n",
    "    scheduler.step()"
   ]
  },
  {
   "cell_type": "code",
   "execution_count": 10,
   "metadata": {},
   "outputs": [
    {
     "data": {
      "text/plain": [
       "==========================================================================================\n",
       "Layer (type:depth-idx)                   Output Shape              Param #\n",
       "==========================================================================================\n",
       "MNIST_Net2                               [100, 10]                 --\n",
       "├─Sequential: 1-1                        --                        --\n",
       "│    └─Conv2d: 2-1                       [100, 32, 28, 28]         64\n",
       "│    └─CSC_block: 2-2                    [100, 32, 28, 28]         --\n",
       "│    │    └─Sequential: 3-1              --                        2,304\n",
       "│    └─CSC_block: 2-3                    [100, 32, 28, 28]         --\n",
       "│    │    └─Sequential: 3-2              --                        2,304\n",
       "│    └─CSC_block: 2-4                    [100, 32, 28, 28]         --\n",
       "│    │    └─Sequential: 3-3              --                        2,304\n",
       "│    └─AvgPool2d: 2-5                    [100, 32, 4, 4]           --\n",
       "│    └─Flatten: 2-6                      [100, 512]                --\n",
       "│    └─Linear: 2-7                       [100, 10]                 5,130\n",
       "==========================================================================================\n",
       "Total params: 12,106\n",
       "Trainable params: 12,106\n",
       "Non-trainable params: 0\n",
       "Total mult-adds (M): 502.31\n",
       "==========================================================================================\n",
       "Input size (MB): 0.31\n",
       "Forward/backward pass size (MB): 321.13\n",
       "Params size (MB): 0.05\n",
       "Estimated Total Size (MB): 321.50\n",
       "=========================================================================================="
      ]
     },
     "execution_count": 10,
     "metadata": {},
     "output_type": "execute_result"
    }
   ],
   "source": [
    "expansion_rate = 1\n",
    "input_shape = (batch_size, 1, 28, 28)\n",
    "\n",
    "NN4 = MNIST_Net2(input_shape, 10, expansion_rate, device)\n",
    "\n",
    "summary(NN4, input_shape)"
   ]
  },
  {
   "cell_type": "code",
   "execution_count": 11,
   "metadata": {},
   "outputs": [],
   "source": [
    "criterion = CrossEntropyLoss()\n",
    "optimizer = optim.SGD(NN4.parameters(), lr=0.05, momentum=0.9)\n",
    "scheduler = optim.lr_scheduler.ExponentialLR(optimizer, gamma=0.9)"
   ]
  },
  {
   "cell_type": "code",
   "execution_count": 12,
   "metadata": {},
   "outputs": [
    {
     "name": "stdout",
     "output_type": "stream",
     "text": [
      "[1,   100] train_loss: 0.569\n",
      "(0.18625395480543375, 94.0)\n",
      "[1,   200] train_loss: 0.168\n",
      "(0.12762564175296576, 95.99)\n",
      "[1,   300] train_loss: 0.138\n",
      "(0.10866357750957832, 96.47)\n",
      "[1,   400] train_loss: 0.125\n",
      "(0.10119087643921375, 96.86)\n",
      "[1,   500] train_loss: 0.101\n",
      "(0.07436577038373798, 97.6)\n",
      "[1,   600] train_loss: 0.094\n",
      "(0.08836525014252401, 97.2)\n",
      "[2,   100] train_loss: 0.098\n",
      "(0.06228518116287887, 98.07)\n",
      "[2,   200] train_loss: 0.083\n",
      "(0.07463950763689355, 97.66)\n",
      "[2,   300] train_loss: 0.078\n",
      "(0.0749166457017418, 97.52)\n",
      "[2,   400] train_loss: 0.082\n",
      "(0.060831173137994486, 98.1)\n",
      "[2,   500] train_loss: 0.072\n",
      "(0.058170136823318896, 98.15)\n",
      "[2,   600] train_loss: 0.070\n",
      "(0.059499458849313666, 98.13)\n"
     ]
    }
   ],
   "source": [
    "for epoch in range(2):  # loop over the dataset multiple times\n",
    "\n",
    "    running_loss = 0.0\n",
    "    for i, data in enumerate(train_dataloader, 0):\n",
    "        # get the inputs; data is a list of [inputs, labels]\n",
    "        inputs, labels = data\n",
    "        inputs = inputs.to(device)\n",
    "        labels = labels.to(device)\n",
    "\n",
    "        # zero the parameter gradients\n",
    "        optimizer.zero_grad()\n",
    "\n",
    "        # forward + backward + optimize\n",
    "        outputs = NN4(inputs)\n",
    "        loss = criterion(outputs, labels)\n",
    "        loss.backward()\n",
    "        optimizer.step()\n",
    "\n",
    "        # print statistics\n",
    "        running_loss += loss.item()\n",
    "        if i % 100 == 99:    # print every 100 mini-batches\n",
    "            print(f'[{epoch + 1}, {i + 1:5d}] train_loss: {running_loss / 100:.3f}')\n",
    "            running_loss = 0.0\n",
    "            print(test_loss(NN4, test_dataloader, criterion, device))\n",
    "    scheduler.step()"
   ]
  },
  {
   "cell_type": "code",
   "execution_count": null,
   "metadata": {},
   "outputs": [],
   "source": []
  }
 ],
 "metadata": {
  "kernelspec": {
   "display_name": "Python 3.9.7 ('base')",
   "language": "python",
   "name": "python3"
  },
  "language_info": {
   "codemirror_mode": {
    "name": "ipython",
    "version": 3
   },
   "file_extension": ".py",
   "mimetype": "text/x-python",
   "name": "python",
   "nbconvert_exporter": "python",
   "pygments_lexer": "ipython3",
   "version": "3.9.7"
  },
  "orig_nbformat": 4,
  "vscode": {
   "interpreter": {
    "hash": "ad2bdc8ecc057115af97d19610ffacc2b4e99fae6737bb82f5d7fb13d2f2c186"
   }
  }
 },
 "nbformat": 4,
 "nbformat_minor": 2
}
